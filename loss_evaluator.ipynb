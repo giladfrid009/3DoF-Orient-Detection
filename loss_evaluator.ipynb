{
 "cells": [
  {
   "cell_type": "code",
   "execution_count": 1,
   "metadata": {},
   "outputs": [],
   "source": [
    "import numpy as np\n",
    "from view_sampler import ViewSampler, CameraConfig\n",
    "from manipulated_object import ObjectPosition\n",
    "from utils.orient import OrientUtils\n",
    "from evaluate.evaluator import Evaluator\n",
    "import loss_funcs\n",
    "import cv2 as cv\n",
    "\n",
    "from utils.image import ImageUtils\n",
    "from tqdm.auto import tqdm\n",
    "from collections import defaultdict "
   ]
  },
  {
   "cell_type": "code",
   "execution_count": 2,
   "metadata": {},
   "outputs": [],
   "source": [
    "INIT_LOCATION = (0, 1.3, 0.3)\n",
    "\n",
    "LOSS_FUNCTIONS = [\n",
    "    loss_funcs.IOU(),\n",
    "    loss_funcs.MSE(),\n",
    "    loss_funcs.RMSE(norm=\"euclidean\"),\n",
    "    loss_funcs.WeightedSum(loss_funcs.IOU(), loss_funcs.RMSE(norm=\"euclidean\")),\n",
    "    loss_funcs.NMI(bins=50),\n",
    "    loss_funcs.PSNR(),\n",
    "    loss_funcs.SSIM(),\n",
    "    loss_funcs.Hausdorff(),\n",
    "    loss_funcs.ARE(),\n",
    "    loss_funcs.VI(2),\n",
    "]\n",
    "\n",
    "\n",
    "OBJECTS = [\"airplane\", \"hammer\", \"hand\", \"headphones\", \"mouse\", \"mug\", \"stapler\", \"toothpaste\"]\n",
    "\n",
    "ZFAR = 5"
   ]
  },
  {
   "cell_type": "code",
   "execution_count": 3,
   "metadata": {},
   "outputs": [],
   "source": [
    "def create_viewer(obj_name: str, is_sim: bool = True) -> ViewSampler:\n",
    "    location = (INIT_LOCATION[0], INIT_LOCATION[2] - 1.3, INIT_LOCATION[2])\n",
    "    cam_config = CameraConfig(location, rotation=(np.pi / 2, 0, 0), fov=30, zfar=ZFAR)\n",
    "    if is_sim:\n",
    "        viewer = ViewSampler(f\"data/{obj_name}/world_sim.xml\", cam_config)\n",
    "    else:\n",
    "        viewer = ViewSampler(f\"data/{obj_name}/world.xml\", cam_config)\n",
    "    return viewer"
   ]
  },
  {
   "cell_type": "code",
   "execution_count": 4,
   "metadata": {},
   "outputs": [],
   "source": [
    "def generate_positions(count: int, ) -> list[ObjectPosition]:\n",
    "    orients = OrientUtils.generate_random(count)\n",
    "    positions = [ObjectPosition(orient, INIT_LOCATION) for orient in orients]\n",
    "    return positions"
   ]
  },
  {
   "cell_type": "code",
   "execution_count": 5,
   "metadata": {},
   "outputs": [],
   "source": [
    "def get_views(viewer: ViewSampler, pos1: ObjectPosition, pos2: ObjectPosition, depth: bool) -> tuple[np.ndarray, np.ndarray]:\n",
    "    img1, _ = viewer.get_view_cropped(pos1, depth=depth)\n",
    "    img2, _ = viewer.get_view_cropped(pos2, depth=depth)\n",
    "    return img1, img2"
   ]
  },
  {
   "cell_type": "code",
   "execution_count": 6,
   "metadata": {},
   "outputs": [],
   "source": [
    "def calc_penalty(num_samples):\n",
    "    positions1 = generate_positions(num_samples)\n",
    "    positions2 = generate_positions(num_samples)\n",
    "    dists = {}\n",
    "    for obj_name in tqdm(OBJECTS):\n",
    "        total = 0\n",
    "        count = 0\n",
    "        dists[obj_name] = []\n",
    "        with create_viewer(obj_name) as viewer:\n",
    "            for pos1, pos2 in tqdm(zip(positions1, positions2), total=num_samples):\n",
    "                img1, img2 = get_views(viewer, pos1, pos2, depth=True)\n",
    "                pad_shape = np.maximum(img1.shape, img2.shape)\n",
    "                img1 = ImageUtils.pad_to_shape(img1, pad_shape, pad_value=0)\n",
    "                img2 = ImageUtils.pad_to_shape(img2, pad_shape, pad_value=0)\n",
    "                both = (img1 > 0) & (img2 > 0)\n",
    "\n",
    "                dists[obj_name].append(np.sum(np.abs(img1[both] - img2[both])) / np.sum(both))\n",
    "                total += np.sum(np.abs(img1[both] - img2[both]))\n",
    "                count += np.sum(both)\n",
    "        print(f\"Penalty for {obj_name}: {total / count}\")\n",
    "    return dists"
   ]
  },
  {
   "cell_type": "code",
   "execution_count": 7,
   "metadata": {},
   "outputs": [
    {
     "data": {
      "application/vnd.jupyter.widget-view+json": {
       "model_id": "fd22fb0822684dc7ad6770626f6b5aa9",
       "version_major": 2,
       "version_minor": 0
      },
      "text/plain": [
       "  0%|          | 0/8 [00:00<?, ?it/s]"
      ]
     },
     "metadata": {},
     "output_type": "display_data"
    },
    {
     "name": "stderr",
     "output_type": "stream",
     "text": [
      "warning: queue 0x5650af750f40 destroyed while proxies still attached:\n",
      "  wl_display@1 still attached\n"
     ]
    },
    {
     "data": {
      "application/vnd.jupyter.widget-view+json": {
       "model_id": "1c38b61f81ff44008ce4e98233348ad3",
       "version_major": 2,
       "version_minor": 0
      },
      "text/plain": [
       "  0%|          | 0/1000 [00:00<?, ?it/s]"
      ]
     },
     "metadata": {},
     "output_type": "display_data"
    },
    {
     "name": "stdout",
     "output_type": "stream",
     "text": [
      "Penalty for airplane: 0.08371307143731442\n"
     ]
    },
    {
     "data": {
      "application/vnd.jupyter.widget-view+json": {
       "model_id": "0f54357a56fe406bbeece53ca3dcfbc7",
       "version_major": 2,
       "version_minor": 0
      },
      "text/plain": [
       "  0%|          | 0/1000 [00:00<?, ?it/s]"
      ]
     },
     "metadata": {},
     "output_type": "display_data"
    },
    {
     "name": "stdout",
     "output_type": "stream",
     "text": [
      "Penalty for hammer: 0.11549592017111893\n"
     ]
    },
    {
     "data": {
      "application/vnd.jupyter.widget-view+json": {
       "model_id": "d2f740133b0c4c34b89229bc246ab1e4",
       "version_major": 2,
       "version_minor": 0
      },
      "text/plain": [
       "  0%|          | 0/1000 [00:00<?, ?it/s]"
      ]
     },
     "metadata": {},
     "output_type": "display_data"
    },
    {
     "name": "stdout",
     "output_type": "stream",
     "text": [
      "Penalty for hand: 0.06389136254414483\n"
     ]
    },
    {
     "data": {
      "application/vnd.jupyter.widget-view+json": {
       "model_id": "41a54d92b3414bbda7967871f4a1081b",
       "version_major": 2,
       "version_minor": 0
      },
      "text/plain": [
       "  0%|          | 0/1000 [00:00<?, ?it/s]"
      ]
     },
     "metadata": {},
     "output_type": "display_data"
    },
    {
     "name": "stdout",
     "output_type": "stream",
     "text": [
      "Penalty for headphones: 0.11884894633185569\n"
     ]
    },
    {
     "data": {
      "application/vnd.jupyter.widget-view+json": {
       "model_id": "c277b6a9aa9d427bbfca1e3af72b0acc",
       "version_major": 2,
       "version_minor": 0
      },
      "text/plain": [
       "  0%|          | 0/1000 [00:00<?, ?it/s]"
      ]
     },
     "metadata": {},
     "output_type": "display_data"
    },
    {
     "name": "stdout",
     "output_type": "stream",
     "text": [
      "Penalty for mouse: 0.056065788329794836\n"
     ]
    },
    {
     "data": {
      "application/vnd.jupyter.widget-view+json": {
       "model_id": "d7b04f23ee8a4c20811f57ef491c0db3",
       "version_major": 2,
       "version_minor": 0
      },
      "text/plain": [
       "  0%|          | 0/1000 [00:00<?, ?it/s]"
      ]
     },
     "metadata": {},
     "output_type": "display_data"
    },
    {
     "name": "stdout",
     "output_type": "stream",
     "text": [
      "Penalty for mug: 0.061309574001217886\n"
     ]
    },
    {
     "data": {
      "application/vnd.jupyter.widget-view+json": {
       "model_id": "dea5651d3efa417886b84a6798f27cdc",
       "version_major": 2,
       "version_minor": 0
      },
      "text/plain": [
       "  0%|          | 0/1000 [00:00<?, ?it/s]"
      ]
     },
     "metadata": {},
     "output_type": "display_data"
    },
    {
     "name": "stdout",
     "output_type": "stream",
     "text": [
      "Penalty for stapler: 0.05465915885514451\n"
     ]
    },
    {
     "data": {
      "application/vnd.jupyter.widget-view+json": {
       "model_id": "6ec825fd90fc4e8f970d29caf347eace",
       "version_major": 2,
       "version_minor": 0
      },
      "text/plain": [
       "  0%|          | 0/1000 [00:00<?, ?it/s]"
      ]
     },
     "metadata": {},
     "output_type": "display_data"
    },
    {
     "name": "stdout",
     "output_type": "stream",
     "text": [
      "Penalty for toothpaste: 0.06267267381542696\n"
     ]
    }
   ],
   "source": [
    "dists = calc_penalty(1000)"
   ]
  },
  {
   "cell_type": "code",
   "execution_count": 8,
   "metadata": {},
   "outputs": [
    {
     "name": "stdout",
     "output_type": "stream",
     "text": [
      "=== airplane ===\n",
      "Mean: 0.09008206946788323\n",
      "Median: 0.08872800136725552\n",
      "Max: 0.17981163036879416\n",
      "Min: 0.008610435832630504\n",
      "=== hammer ===\n",
      "Mean: 0.10804841962307997\n",
      "Median: 0.08876417182248451\n",
      "Max: 0.4362645367391748\n",
      "Min: 0.004574906112801315\n",
      "=== hand ===\n",
      "Mean: 0.06575637444401596\n",
      "Median: 0.06432349598097596\n",
      "Max: 0.17778329505530527\n",
      "Min: 0.00499347182002864\n",
      "=== headphones ===\n",
      "Mean: 0.11586691320320582\n",
      "Median: 0.11094020331986562\n",
      "Max: 0.32051210806012326\n",
      "Min: 0.0072494344013493235\n",
      "=== mouse ===\n",
      "Mean: 0.05676901023898793\n",
      "Median: 0.05325378869254698\n",
      "Max: 0.12255982248717577\n",
      "Min: 0.003129792047081036\n",
      "=== mug ===\n",
      "Mean: 0.06110435591334744\n",
      "Median: 0.06346151176925592\n",
      "Max: 0.10174260105324247\n",
      "Min: 0.004036572676103002\n",
      "=== stapler ===\n",
      "Mean: 0.05563669491583458\n",
      "Median: 0.048100697307126454\n",
      "Max: 0.14243105363029487\n",
      "Min: 0.0015425243187899614\n",
      "=== toothpaste ===\n",
      "Mean: 0.06105364892988701\n",
      "Median: 0.04486693344920081\n",
      "Max: 0.2270594736797742\n",
      "Min: 0.004427595672423063\n"
     ]
    }
   ],
   "source": [
    "for obj, dist_list in dists.items():\n",
    "    print(f\"=== {obj} ===\")\n",
    "    # print(type(dist_list[0]))\n",
    "    # dist_list = np.asanyarray(dist_list)\n",
    "    print(f\"Mean: {np.mean(dist_list)}\")\n",
    "    print(f\"Median: {np.median(dist_list)}\")\n",
    "    print(f\"Max: {np.max(dist_list)}\")\n",
    "    print(f\"Min: {np.min(dist_list)}\")"
   ]
  },
  {
   "cell_type": "code",
   "execution_count": null,
   "metadata": {},
   "outputs": [],
   "source": [
    "import matplotlib.pyplot as plt\n",
    "import math\n",
    "%matplotlib qt\n",
    "\n",
    "def heatmap(data, row_labels, col_labels, ax=None,\n",
    "            cbar_kw=None, cbarlabel=\"\", **kwargs):\n",
    "    \"\"\"\n",
    "    Create a heatmap from a numpy array and two lists of labels.\n",
    "\n",
    "    Parameters\n",
    "    ----------\n",
    "    data\n",
    "        A 2D numpy array of shape (M, N).\n",
    "    row_labels\n",
    "        A list or array of length M with the labels for the rows.\n",
    "    col_labels\n",
    "        A list or array of length N with the labels for the columns.\n",
    "    ax\n",
    "        A `matplotlib.axes.Axes` instance to which the heatmap is plotted.  If\n",
    "        not provided, use current axes or create a new one.  Optional.\n",
    "    cbar_kw\n",
    "        A dictionary with arguments to `matplotlib.Figure.colorbar`.  Optional.\n",
    "    cbarlabel\n",
    "        The label for the colorbar.  Optional.\n",
    "    **kwargs\n",
    "        All other arguments are forwarded to `imshow`.\n",
    "    \"\"\"\n",
    "\n",
    "    if ax is None:\n",
    "        plt.figure()\n",
    "        ax = plt.gca()\n",
    "\n",
    "    if cbar_kw is None:\n",
    "        cbar_kw = {}\n",
    "\n",
    "    # Plot the heatmap\n",
    "    im = ax.imshow(data, **kwargs)\n",
    "\n",
    "    # Create colorbar\n",
    "    cbar = ax.figure.colorbar(im, ax=ax, **cbar_kw)\n",
    "    cbar.ax.set_ylabel(cbarlabel, rotation=-90, va=\"bottom\")\n",
    "\n",
    "    # Show all ticks and label them with the respective list entries.\n",
    "    ax.set_xticks(np.arange(data.shape[1]), labels=col_labels)\n",
    "    ax.set_yticks(np.arange(data.shape[0]), labels=row_labels)\n",
    "\n",
    "    # Let the horizontal axes labeling appear on top.\n",
    "    ax.tick_params(top=True, bottom=False,\n",
    "                   labeltop=True, labelbottom=False)\n",
    "\n",
    "    # Rotate the tick labels and set their alignment.\n",
    "    plt.setp(ax.get_xticklabels(), rotation=-30, ha=\"right\",\n",
    "             rotation_mode=\"anchor\")\n",
    "\n",
    "    # Turn spines off and create white grid.\n",
    "    ax.spines[:].set_visible(False)\n",
    "\n",
    "    ax.set_xticks(np.arange(data.shape[1]+1)-.5, minor=True)\n",
    "    ax.set_yticks(np.arange(data.shape[0]+1)-.5, minor=True)\n",
    "    ax.grid(which=\"minor\", color=\"w\", linestyle='-', linewidth=3)\n",
    "    ax.tick_params(which=\"minor\", bottom=False, left=False)\n",
    "\n",
    "    for i in range(len(col_labels)):\n",
    "        for j in range(len(row_labels)):\n",
    "            text = ax.text(j, i, round(data[i, j],2),\n",
    "                        ha=\"center\", va=\"center\", color=\"w\")\n",
    "            \n",
    "    return im, cbar\n"
   ]
  },
  {
   "cell_type": "code",
   "execution_count": null,
   "metadata": {},
   "outputs": [],
   "source": [
    "import numpy as np\n",
    "\n",
    "n = 24\n",
    "\n",
    "init_pos = np.array([0,0,0.3])\n",
    "uni_orients = [list(init_pos)]\n",
    "\n",
    "q = np.array([1, 0, 0])\n",
    "delta = np.linspace(0, np.pi/2, num=n+1)\n",
    "\n",
    "for i in range(n):\n",
    "    uni_orients.append(list(init_pos + delta[i+1]*q))\n",
    "\n",
    "uni_orients = OrientUtils.generate_random(20)\n",
    "uni_positions = [ObjectPosition(orient, INIT_LOCATION) for orient in uni_orients]\n",
    "len(uni_positions)"
   ]
  },
  {
   "cell_type": "code",
   "execution_count": null,
   "metadata": {},
   "outputs": [],
   "source": [
    "object_name = OBJECTS[1]\n",
    "viewer = create_viewer(object_name, False)\n"
   ]
  },
  {
   "cell_type": "code",
   "execution_count": null,
   "metadata": {},
   "outputs": [],
   "source": [
    "nrows, ncols = (4, 5)\n",
    "fig, axes = plt.subplots(nrows, ncols)\n",
    "for idx, pos in enumerate(uni_positions):\n",
    "    col = idx%ncols\n",
    "    row = math.floor(idx/ncols)\n",
    "    ax = axes[row, col]\n",
    "    ax.imshow(viewer.get_view_cropped(pos, depth=False)[0])\n",
    "    # print(pos)\n",
    "    ax.set_title(f\"{idx}::{np.round(pos.orientation, 4)}\")"
   ]
  },
  {
   "cell_type": "code",
   "execution_count": null,
   "metadata": {},
   "outputs": [],
   "source": [
    "# Evaluate XorDiff \n",
    "from evaluate import eval_funcs\n",
    "from itertools import product\n",
    "\n",
    "eval_func = eval_funcs.XorDiff(0.1)\n",
    "eval_results = []\n",
    "\n",
    "for pos1, pos2 in product(uni_positions, uni_positions):\n",
    "    img1, img2 = get_views(viewer, pos1, pos2, depth=True)\n",
    "    result = eval_func(img1, img2)\n",
    "    eval_results.append(result)\n",
    "results = np.array(eval_results).reshape(len(uni_positions), -1)"
   ]
  },
  {
   "cell_type": "code",
   "execution_count": null,
   "metadata": {},
   "outputs": [],
   "source": [
    "import seaborn as sns \n",
    "deltas = np.round(delta, 2)\n",
    "fig, axes = plt.subplots(figsize=(13,10))\n",
    "sns.heatmap(results, ax=axes, annot=True, fmt='.2f', xticklabels=(deltas),yticklabels=deltas)\n",
    "axes.set_title(f\"XorDiff as function of rotation\\n Initial orientation {init_pos}\")\n",
    "axes.set_xlabel(\"angel change (radians)\")\n",
    "axes.set_ylabel(\"angel change (radians)\")\n",
    "\n",
    "axes.tick_params(axis='x', rotation=90)\n",
    "axes.tick_params(axis='y', rotation=0)\n",
    "axes.autoscale()\n",
    "fig.tight_layout()"
   ]
  },
  {
   "cell_type": "code",
   "execution_count": null,
   "metadata": {},
   "outputs": [],
   "source": [
    "heatmap(results, range(len(uni_positions)), range(len(uni_positions)))"
   ]
  },
  {
   "cell_type": "code",
   "execution_count": null,
   "metadata": {},
   "outputs": [],
   "source": [
    "import seaborn as sns \n",
    "fig, ax = plt.subplots()\n",
    "sns.lineplot(x=delta, y=results[0])\n",
    "\n",
    "ax.set_title(\"XorDiff as function of rotation\")\n",
    "ax.set_xlabel(\"angel change (radians)\")\n",
    "ax.set_ylabel(\"XorDiff value\")"
   ]
  },
  {
   "cell_type": "code",
   "execution_count": 7,
   "metadata": {},
   "outputs": [],
   "source": [
    "N = 500\n",
    "positions1 = generate_positions(N)\n",
    "positions2 = generate_positions(N)"
   ]
  },
  {
   "cell_type": "code",
   "execution_count": 8,
   "metadata": {},
   "outputs": [
    {
     "data": {
      "application/vnd.jupyter.widget-view+json": {
       "model_id": "1f8e8d21fb9c4142bc998b60bb7ac353",
       "version_major": 2,
       "version_minor": 0
      },
      "text/plain": [
       "  0%|          | 0/8 [00:00<?, ?it/s]"
      ]
     },
     "metadata": {},
     "output_type": "display_data"
    },
    {
     "name": "stderr",
     "output_type": "stream",
     "text": [
      "warning: queue 0x555f239762f0 destroyed while proxies still attached:\n",
      "  wl_display@1 still attached\n"
     ]
    },
    {
     "data": {
      "application/vnd.jupyter.widget-view+json": {
       "model_id": "b101c1bceb404434ac7b34ba1144dbc5",
       "version_major": 2,
       "version_minor": 0
      },
      "text/plain": [
       "  0%|          | 0/500 [00:00<?, ?it/s]"
      ]
     },
     "metadata": {},
     "output_type": "display_data"
    },
    {
     "data": {
      "application/vnd.jupyter.widget-view+json": {
       "model_id": "12434717dace443c84e5063d7676e598",
       "version_major": 2,
       "version_minor": 0
      },
      "text/plain": [
       "  0%|          | 0/500 [00:00<?, ?it/s]"
      ]
     },
     "metadata": {},
     "output_type": "display_data"
    },
    {
     "data": {
      "application/vnd.jupyter.widget-view+json": {
       "model_id": "50acd423b7c34ffa89a3decc43318892",
       "version_major": 2,
       "version_minor": 0
      },
      "text/plain": [
       "  0%|          | 0/500 [00:00<?, ?it/s]"
      ]
     },
     "metadata": {},
     "output_type": "display_data"
    },
    {
     "data": {
      "application/vnd.jupyter.widget-view+json": {
       "model_id": "2812cf06b47d4e9caee4e88474c46237",
       "version_major": 2,
       "version_minor": 0
      },
      "text/plain": [
       "  0%|          | 0/500 [00:00<?, ?it/s]"
      ]
     },
     "metadata": {},
     "output_type": "display_data"
    },
    {
     "data": {
      "application/vnd.jupyter.widget-view+json": {
       "model_id": "b76f001000f944328f3e3eef2f033063",
       "version_major": 2,
       "version_minor": 0
      },
      "text/plain": [
       "  0%|          | 0/500 [00:00<?, ?it/s]"
      ]
     },
     "metadata": {},
     "output_type": "display_data"
    },
    {
     "data": {
      "application/vnd.jupyter.widget-view+json": {
       "model_id": "635218d99c4a4e39a6a4a5b76b387eee",
       "version_major": 2,
       "version_minor": 0
      },
      "text/plain": [
       "  0%|          | 0/500 [00:00<?, ?it/s]"
      ]
     },
     "metadata": {},
     "output_type": "display_data"
    },
    {
     "data": {
      "application/vnd.jupyter.widget-view+json": {
       "model_id": "885882dd1afb41dc948a740678ba8b68",
       "version_major": 2,
       "version_minor": 0
      },
      "text/plain": [
       "  0%|          | 0/500 [00:00<?, ?it/s]"
      ]
     },
     "metadata": {},
     "output_type": "display_data"
    },
    {
     "data": {
      "application/vnd.jupyter.widget-view+json": {
       "model_id": "89febbcf99ad4ee68bfc8df89c12d7db",
       "version_major": 2,
       "version_minor": 0
      },
      "text/plain": [
       "  0%|          | 0/500 [00:00<?, ?it/s]"
      ]
     },
     "metadata": {},
     "output_type": "display_data"
    }
   ],
   "source": [
    "from evaluate import eval_funcs\n",
    "\n",
    "eval_func = eval_funcs.XorDiff(0.1)\n",
    "eval_results = []\n",
    "\n",
    "for obj_name in tqdm(OBJECTS):\n",
    "    with create_viewer(obj_name) as sim_viewer:\n",
    "        for pos1, pos2 in tqdm(zip(positions1, positions2), total=N):\n",
    "            img1, img2 = get_views(sim_viewer, pos1, pos2, depth=True)\n",
    "            result = eval_func(img1, img2)\n",
    "            eval_results.append(result)"
   ]
  },
  {
   "cell_type": "code",
   "execution_count": 9,
   "metadata": {},
   "outputs": [
    {
     "data": {
      "application/vnd.jupyter.widget-view+json": {
       "model_id": "00d2644213ee43189ccb474c4398d790",
       "version_major": 2,
       "version_minor": 0
      },
      "text/plain": [
       "  0%|          | 0/8 [00:00<?, ?it/s]"
      ]
     },
     "metadata": {},
     "output_type": "display_data"
    },
    {
     "data": {
      "application/vnd.jupyter.widget-view+json": {
       "model_id": "9bed33d9af6e435f91a533eb96157a8e",
       "version_major": 2,
       "version_minor": 0
      },
      "text/plain": [
       "  0%|          | 0/500 [00:00<?, ?it/s]"
      ]
     },
     "metadata": {},
     "output_type": "display_data"
    },
    {
     "data": {
      "application/vnd.jupyter.widget-view+json": {
       "model_id": "f57ee12e98ad4b15aecb20b9885fc76e",
       "version_major": 2,
       "version_minor": 0
      },
      "text/plain": [
       "  0%|          | 0/500 [00:00<?, ?it/s]"
      ]
     },
     "metadata": {},
     "output_type": "display_data"
    },
    {
     "data": {
      "application/vnd.jupyter.widget-view+json": {
       "model_id": "b3e4c8ccac714e63954ad2540d357b3d",
       "version_major": 2,
       "version_minor": 0
      },
      "text/plain": [
       "  0%|          | 0/500 [00:00<?, ?it/s]"
      ]
     },
     "metadata": {},
     "output_type": "display_data"
    },
    {
     "data": {
      "application/vnd.jupyter.widget-view+json": {
       "model_id": "94e371aa65a74cb19bb311b55e342117",
       "version_major": 2,
       "version_minor": 0
      },
      "text/plain": [
       "  0%|          | 0/500 [00:00<?, ?it/s]"
      ]
     },
     "metadata": {},
     "output_type": "display_data"
    },
    {
     "data": {
      "application/vnd.jupyter.widget-view+json": {
       "model_id": "c04d372ac18941e28b8494ab7fb010e2",
       "version_major": 2,
       "version_minor": 0
      },
      "text/plain": [
       "  0%|          | 0/500 [00:00<?, ?it/s]"
      ]
     },
     "metadata": {},
     "output_type": "display_data"
    },
    {
     "data": {
      "application/vnd.jupyter.widget-view+json": {
       "model_id": "a9819d74a5b64680ac6997b6a8d3e98e",
       "version_major": 2,
       "version_minor": 0
      },
      "text/plain": [
       "  0%|          | 0/500 [00:00<?, ?it/s]"
      ]
     },
     "metadata": {},
     "output_type": "display_data"
    },
    {
     "data": {
      "application/vnd.jupyter.widget-view+json": {
       "model_id": "9cbf604f91214159b902aecb23edd563",
       "version_major": 2,
       "version_minor": 0
      },
      "text/plain": [
       "  0%|          | 0/500 [00:00<?, ?it/s]"
      ]
     },
     "metadata": {},
     "output_type": "display_data"
    },
    {
     "data": {
      "application/vnd.jupyter.widget-view+json": {
       "model_id": "ffbe921013304ae09d309cfe36cbd8c7",
       "version_major": 2,
       "version_minor": 0
      },
      "text/plain": [
       "  0%|          | 0/500 [00:00<?, ?it/s]"
      ]
     },
     "metadata": {},
     "output_type": "display_data"
    }
   ],
   "source": [
    "loss_results = defaultdict(list)\n",
    "\n",
    "for obj_name in tqdm(OBJECTS):\n",
    "    with create_viewer(obj_name) as sim_viewer:\n",
    "        for pos1, pos2 in tqdm(zip(positions1, positions2), total=N):\n",
    "            img1, img2 = get_views(sim_viewer, pos1, pos2, depth=False)\n",
    "            for loss_func in LOSS_FUNCTIONS:\n",
    "                result = loss_func(img1, img2)\n",
    "                loss_results[loss_func.get_name()].append(result)"
   ]
  },
  {
   "cell_type": "code",
   "execution_count": 10,
   "metadata": {},
   "outputs": [
    {
     "name": "stdout",
     "output_type": "stream",
     "text": [
      "IOU 0.588899625105133\n",
      "MSE 0.32365986124530066\n",
      "RMSE 0.4927858286177644\n",
      "WeightedSum(IOU,RMSE) 0.5644781927385774\n",
      "NMI 0.5489143503001783\n",
      "PSNR 0.36861293214846325\n",
      "SSIM -0.04846412626910434\n",
      "Hausdorff 0.4128572530516372\n",
      "ARE 0.20468408473469107\n",
      "VI 0.437359533633294\n"
     ]
    }
   ],
   "source": [
    "for k, loss_vals in loss_results.items():\n",
    "    eval_vals = np.asanyarray(eval_results)\n",
    "    loss_vals = np.asanyarray(loss_vals)\n",
    "    print(k, np.corrcoef(eval_vals, loss_vals)[0, 1])"
   ]
  },
  {
   "cell_type": "code",
   "execution_count": 15,
   "metadata": {},
   "outputs": [
    {
     "name": "stdout",
     "output_type": "stream",
     "text": [
      "defaultdict(<class 'list'>, {'IOU': [0.5959449674149166, 0.6023588879528222, 0.6723858853998057, 0.8346736045411542, 0.5855538796715267, 0.6608695652173913, 0.342797783933518, 0.5897370436558591, 0.7214540588760036, 0.732666015625, 0.7439703153988868, 0.5463748290013679, 0.6196007259528131, 0.6346619687293548, 0.6734878122178753, 0.6321259842519685, 0.6033382425135003, 0.5132408575031526, 0.5850052798310454, 0.7507138150669888, 0.6037966932026944, 0.6588793254874408, 0.6696832579185521, 0.5128824476650564, 0.7877754459601259, 0.7646234676007005, 0.6252942435266424, 0.6395463510848126, 0.6210407239819005, 0.5174094707520891, 0.624620982413584, 0.5723649247121346, 0.6566799143992663, 0.4984693877551021, 0.6948846539618856, 0.6679231059178289, 0.6445449974861739, 0.5750708215297451, 0.7310281517747859, 0.6439842209072979, 0.37089041095890407, 0.6463253353485736, 0.664207730894069, 0.5804926108374384, 0.6677085837941813, 0.788293684750984, 0.6318283861312048, 0.7688796680497925, 0.6818181818181819, 0.7422285987565758, 0.5286699976207471, 0.6321948134092347, 0.47657774886141835, 0.523042273042273, 0.4767596281540505, 0.6383151073309032, 0.7167574495354053, 0.768503937007874, 0.2958500669344043, 0.5838243170862346, 0.38257317903335597, 0.43729401561144843, 0.6989668685429284, 0.5779126213592233, 0.8330322580645162, 0.7091407320414954, 0.7536566589684373, 0.6156276326874474, 0.49106368211001217, 0.6333758774728782, 0.6360406091370558, 0.5939001462293712, 0.6570234113712374, 0.8204091942409699, 0.6136318994303673, 0.5694621463165944, 0.7472154963680387, 0.5554838709677419, 0.6488226059654632, 0.5862676056338028, 0.6179702650290886, 0.824431256181998, 0.7004535594557286, 0.7020189734857698, 0.6300904977375565, 0.718232044198895, 0.8088531187122736, 0.49509269356597596, 0.7680690399137001, 0.7072997873848335, 0.6688572471705001, 0.8177983125753314, 0.8557734204793028, 0.7402190923317684, 0.7982603815937149, 0.3421052631578947, 0.7641189759036144, 0.6708959593987898, 0.6059654631083202, 0.6000405022276225, 0.8643935855519228, 0.9443884166546607, 0.8238293051359517, 0.8818472119872267, 0.9500406173842405, 0.5569095151672284, 0.3279927448609432, 0.8572259941804073, 0.9488627450980393, 0.8665409990574929, 0.8635317329825716, 0.8314966940492887, 0.8880060537268256, 0.9209072978303747, 0.9092073952041003, 0.39777958299485516, 0.9019524013111015, 0.3079019073569482, 0.9388241897011366, 0.9214843127886606, 0.931431920296933, 0.8826614716019782, 0.9068702290076336, 0.8360690235690236, 0.8684447648224906, 0.9448551153163809, 0.9260569040347211, 0.8876972885471469, 0.6621769202766654, 0.8154298564262239, 0.4024502297090352, 0.6688468158347676, 0.5131060078868013, 0.4770474700052165, 0.928, 0.852568167406468, 0.7865418187589271, 0.9394990366088632, 0.9334680815226546, 0.7167910447761194, 0.6833701375913028, 0.909931404712198, 0.8662697836503557, 0.8497810710676996, 0.8555426805716493, 0.8631967645507297, 0.9207632600258733, 0.9096249435155896, 0.9316565481352992, 0.8585330690214453, 0.583993499898436, 0.9102371660162114, 0.4880339968687094, 0.4811223437177635, 0.0998487140695915, 0.9205322491221586, 0.7321108232011162, 0.9330594857751408, 0.42812662169174887, 0.8806784660766962, 0.06137566137566142, 0.8159344985041725, 0.7810902896081772, 0.8842208109428432, 0.9356080489938757, 0.8981749957359714, 0.7884494664155681, 0.8991825613079019, 0.916772464381436, 0.9536060733867566, 0.9465747522619561, 0.9498458042525564, 0.7192216766684851, 0.9293858036042663, 0.8553765455226676, 0.807822489657766, 0.9167623421354765, 0.7071682765632943, 0.910774886877828, 0.8837209302325582, 0.9449694274596998, 0.782471473658655, 0.7097989949748744, 0.8341101329190402, 0.4998781379478431, 0.9108682266009852, 0.9055196419691696, 0.3829499323410014, 0.9231019346447732, 0.9499512512187195, 0.553479223014507, 0.941875197972759, 0.8333333333333334, 0.919833852544133, 0.8591581868640148, 0.324972497249725, 0.9429184549356223, 0.95640625, 0.5920895878008101, 0.8893844781445138, 0.6792807300053677, 0.4122626401281171, 0.4633284853521712, 0.7020487460261391, 0.5180772391125719, 0.608094262295082, 0.08578313253012049, 0.42772861356932157, 0.5497867606156128, 0.4025779936484214, 0.5123071271124173, 0.6379888268156424, 0.4497116077865898, 0.5537890832008479, 0.4728854714690409, 0.37996512303817087, 0.5355113636363636, 0.09117291414752116, 0.4831827309236948, 0.5069490403706155, 0.3259042747533796, 0.4718792866941015, 0.3656122229395309, 0.45685757347400147, 0.284281581485053, 0.40330621884019946, 0.5458809135399674, 0.5647869895704437, 0.42702967868530783, 0.4640883977900553, 0.21770985974460955, 0.629929022082019, 0.3285099726241689, 0.15435449610573515, 0.47315582714971627, 0.4514038876889849, 0.48213081591368845, 0.40994451557831835, 0.5856406339507352, 0.5079955373744887, 0.4128121606948969, 0.5116731517509727, 0.5416028586013273, 0.25136045607670376, 0.3078528072837633, 0.5227125941872981, 0.6719951436665318, 0.4515893313847278, 0.6622098421541318, 0.6232715008431704, 0.4571428571428572, 0.4564820450395618, 0.1967899511514306, 0.38987842804636696, 0.1153012570437798, 0.44523411371237454, 0.2866908780175176, 0.60039941902687, 0.2763627707688645, 0.6041666666666667, 0.09283196239717983, 0.5935220935220935, 0.45272373540856026, 0.24259186092453577, 0.375524629997791, 0.5132457462847297, 0.39116777531411673, 0.38227334235453314, 0.456045197740113, 0.3913619501854796, 0.6156643356643356, 0.38566487317448117, 0.650105152471083, 0.4890194865450046, 0.500339328130302, 0.4697250801146905, 0.5004760997905161, 0.3302102376599635, 0.634789156626506, 0.6785134037367994, 0.5221300138312586, 0.5538150581101566, 0.4986882378662003, 0.3770620581304006, 0.20814479638009054, 0.5875761266747869, 0.4638270547945206, 0.5291349170775437, 0.7663344407530455, 0.47803505734689467, 0.3410005750431282, 0.5781086181589432, 0.5203031943692474, 0.7127539503386005, 0.37090086694308333, 0.5162256615077384, 0.39323164918970444, 0.48969298245614035, 0.3740083994400373, 0.42925008483203253, 0.6420965058236272, 0.5755507896276078, 0.6320838911200357, 0.6887908208296558, 0.8155737704918032, 0.5936073059360731, 0.14493691362018768, 0.6273231170524942, 0.8524797114517584, 0.7070871261378413, 0.5772765246449457, 0.7570916204760352, 0.6293242156074015, 0.887679444707367, 0.5840742172400464, 0.3822592501837785, 0.7535901926444833, 0.39462299134734236, 0.698892599753911, 0.6842678279804029, 0.4771007566706491, 0.6027320359281437, 0.7461838835640753, 0.4595185995623632, 0.7773147309295162, 0.8705261421738413, 0.7507992596331818, 0.8114167594212116, 0.5609803921568628, 0.5151458836647463, 0.2882190095355275, 0.6562895927601811, 0.6700066800267201, 0.38807982740021574, 0.8136564598002293, 0.7814376706096451, 0.6832380952380952, 0.8602813339655445, 0.851252408477842, 0.7088441330998249, 0.4943609022556391, 0.7589517903580716, 0.5492415666742132, 0.6768573868488472, 0.8287264710869934, 0.8125476735316552, 0.7232814413153752, 0.8536823598359055, 0.9029025570145128, 0.8275482959007382, 0.5394512771996216, 0.785064935064935, 0.6175406871609403, 0.75, 0.2424913057224154, 0.8175883952855848, 0.5457635983263598, 0.6179370496776639, 0.2860004451368796, 0.6817033561891014, 0.3387978142076503, 0.6095406360424028, 0.5492957746478873, 0.5864006199147618, 0.8073205840016451, 0.8194826637314254, 0.676326443639463, 0.7620917085427136, 0.6217316759537077, 0.8309726156751652, 0.7759485732204453, 0.7448762092146253, 0.7811675461741425, 0.693864229765013, 0.7287948191438951, 0.7571818327716258, 0.6494773519163763, 0.5758008569679658, 0.7256311037405565, 0.895411036036036, 0.8146396822394553, 0.7867243387123607, 0.6841348458220162, 0.7388845553822153, 0.4833375093961413, 0.8204295253564339, 0.8784321945084888, 0.48244713611168133, 0.7002957607624055, 0.7160068846815835, 0.6812402409101048, 0.8016528925619835, 0.7165697674418605, 0.8684076649143633, 0.7478852898700227, 0.33648523985239853, 0.7734361310671105, 0.9632697718036887, 0.5700680272108843, 0.5190545103714423, 0.4786772677990604, 0.4848698099929627, 0.4379480286738351, 0.611776701503951, 0.5454951600893522, 0.39868804664723034, 0.03799935043845404, 0.4812047630165772, 0.6692476014139034, 0.5849467043724168, 0.32078103207810316, 0.41645123384253824, 0.4863400847856807, 0.568167797655768, 0.49811738648947956, 0.3017517887984209, 0.47719413798781496, 0.09251101321585908, 0.47095300261096606, 0.5674653215636822, 0.5617902471609886, 0.42970681737901806, 0.54376886589047, 0.3852201257861635, 0.44524925436727736, 0.603560927801372, 0.4833802816901408, 0.5586439250368498, 0.2439421706373447, 0.26124246638850257, 0.18853464132434095, 0.2607791225416036, 0.2543421365691173, 0.1466472303206997, 0.494206008583691, 0.44842105263157894, 0.4220607661822986, 0.5287049399198932, 0.6657412548584121, 0.24087245139876723, 0.19614809274495137, 0.261284549612249, 0.36433242941457966, 0.37177914110429444, 0.46336801868761945, 0.5054358191874881, 0.5617955309472019, 0.6810451072220853, 0.6379033695845961, 0.5113612674588284, 0.18525388360769768, 0.46905876235049404, 0.07346212506354854, 0.16627588901914814, 0.03153611393692779, 0.5296972049689441, 0.2580405739732805, 0.5661059866160245, 0.14617754130495664, 0.4535435740929129, 0.044610875936177186, 0.13670526101970348, 0.49806201550387597, 0.34494845360824744, 0.6566570188133141, 0.42987931751976693, 0.47186551482605654, 0.33552036199095026, 0.14968271743187755, 0.6019205587079878, 0.5206512425021422, 0.5052846282217689, 0.3423371647509579, 0.6038557213930349, 0.4202810018326206, 0.3913336326897171, 0.5964472785242542, 0.43765690376569033, 0.27274364979283017, 0.3514795144157815, 0.5341232938353082, 0.5286124902012019, 0.45038560411311057, 0.49766899766899764, 0.18579234972677594, 0.49982363315696654, 0.5913959613696225, 0.34462785983203015, 0.5786920240636522, 0.5778781038374718, 0.25596643063204827, 0.5898760330578512, 0.4964205358969115, 0.641781810682615, 0.5816326530612245, 0.149080348499516, 0.5360360360360361, 0.668566493955095, 0.314868804664723, 0.3694308249840119, 0.20393926959376285, 0.2338251986379115, 0.32265910012160515, 0.22762814943527365, 0.2561669829222012, 0.19249665029030816, 0.07638888888888884, 0.10878470641784255, 0.23697916666666663, 0.2319140140553948, 0.2349557522123894, 0.23847695390781565, 0.23688394276629565, 0.36023054755043227, 0.30369754881595346, 0.15512112197195072, 0.2676288659793814, 0.1074698795180723, 0.38420181968569067, 0.2642153146322972, 0.23821765209940016, 0.2968197879858657, 0.23560910307898264, 0.1118503118503118, 0.285140562248996, 0.31279251170046807, 0.30612244897959184, 0.19328802039082416, 0.28088578088578087, 0.2608182533438238, 0.17255621844882973, 0.32627737226277376, 0.20401732965734543, 0.13291139240506333, 0.2301112061591104, 0.2116341370072713, 0.27817296892549603, 0.2270022883295194, 0.37142857142857144, 0.2563872702823846, 0.2772955687528552, 0.3890369242481918, 0.3041217972521352, 0.2869822485207101, 0.28379387602688577, 0.2907166123778502, 0.3352556708958093, 0.3518747424804285, 0.20399999999999996, 0.29905063291139244, 0.12823576264436476, 0.34997730367680435, 0.04903604358759428, 0.34165626300457763, 0.14626462646264626, 0.29343936381709745, 0.24091627172195895, 0.2897585345545379, 0.07776197249881456, 0.24195424583171776, 0.07608695652173914, 0.18482758620689654, 0.260770110560427, 0.2713659605551497, 0.3591492776886035, 0.27231025854879065, 0.4743777452415813, 0.2614520311149524, 0.4178694158075601, 0.3967889908256881, 0.21899392888117952, 0.2817288801571709, 0.24310983134512543, 0.2680207088809239, 0.25205716760502384, 0.30141414141414147, 0.2269058295964126, 0.31181894383906117, 0.22357563850687623, 0.2156777825898657, 0.32330275229357797, 0.2637655417406749, 0.27684478371501275, 0.3664148351648352, 0.1788025889967637, 0.32931034482758625, 0.28377839776803504, 0.0957542908762421, 0.22553516819571862, 0.26200089726334674, 0.3732162458836443, 0.33163265306122447, 0.34484246870953816, 0.3069694596711041, 0.30647235319331334, 0.16752679634775702, 0.2930693069306931, 0.33857949959644873, 0.203652242953553, 0.2365015618027666, 0.5950173812282735, 0.6655876494023905, 0.5185845970859352, 0.5881826320501342, 0.7643583077286693, 0.3469837076177895, 0.12357654997891188, 0.592057761732852, 0.7534815538724652, 0.6778738392571246, 0.45031446540880504, 0.5036674816625917, 0.5589085072231139, 0.6481544192346766, 0.6459418070444104, 0.2785258681785967, 0.7465661190412065, 0.13928273561301086, 0.7995508141493544, 0.6809194265941672, 0.7091997479521108, 0.708142972319269, 0.6822209096278795, 0.5194358445132439, 0.5434977578475336, 0.7511835875854813, 0.6697127937336815, 0.6632522407170294, 0.40573248407643314, 0.3932318104906938, 0.26292226292226295, 0.26419505678022714, 0.2744783306581059, 0.23527204502814258, 0.658018018018018, 0.5026440300584469, 0.5495912806539509, 0.6566680178354276, 0.7684522340162923, 0.43540669856459335, 0.27457486520116137, 0.3170130327580134, 0.6198492462311558, 0.6562408652440807, 0.5501763385700544, 0.5972076788830716, 0.7038771792870153, 0.7467857142857143, 0.6913403829665619, 0.5393900889453621, 0.27471798274717985, 0.7810880829015544, 0.09554794520547949, 0.35830169140490165, 0.04914122137404575, 0.5878378378378378, 0.3979654747225647, 0.7477551020408163, 0.1718259309107223, 0.6166442953020135, 0.05050065302568563, 0.24866200082338408, 0.4770610555363919, 0.5444983818770226, 0.7603881562577756, 0.47120622568093384, 0.4816720257234727, 0.5008950948800572, 0.2214589466797514, 0.7939804013065795, 0.740308019118428, 0.6978579481397971, 0.3585038814396613, 0.6299357208448118, 0.6682416469794128, 0.4460176991150443, 0.6836437718277066, 0.721111111111111, 0.5640348560866121, 0.39011379800853485, 0.758206195099399, 0.4126046282619399, 0.7003727865796832, 0.47972781400623754, 0.2918454935622318, 0.7344143136706738, 0.7105635797224582, 0.49216817807089863, 0.6566464423607281, 0.7886034839090641, 0.3476206547418157, 0.7228946041351487, 0.6921875, 0.6830417227456258, 0.7133648474430597, 0.2914129110840439, 0.7515463917525773, 0.8083643655113149, 0.39054899235580265, 0.6266167460857726, 0.8030188679245283, 0.47705696202531644, 0.4197889182058048, 0.8604931653712141, 0.8367491166077738, 0.8106128550074738, 0.13342183869897117, 0.6745041586692259, 0.8831621423330888, 0.8520924610968424, 0.845945945945946, 0.7027772986027255, 0.6386687797147386, 0.8785324739712445, 0.6529924692826001, 0.3700623700623701, 0.7222914072229141, 0.1322679360761646, 0.5202114427860697, 0.8808677763231718, 0.7362768496420048, 0.7545804116715675, 0.8231083844580778, 0.5314569536423841, 0.48901237686284416, 0.6362889983579638, 0.747622820919176, 0.6743397573162027, 0.7585568917668826, 0.7005584440593107, 0.3671591859492612, 0.8371107816140648, 0.614359733530718, 0.1401652892561983, 0.6121825472598816, 0.7384921622294103, 0.8325183374083129, 0.5537915577138588, 0.8760806916426513, 0.8335141838474656, 0.5985584456283297, 0.7883771929824561, 0.7744935237462637, 0.5167707610455702, 0.7013862148633039, 0.8021697511167837, 0.8131588513267902, 0.8578114912846998, 0.8733191790516631, 0.8825530536206059, 0.3793611793611794, 0.6853480774063836, 0.19070403280929593, 0.7430016863406408, 0.171488219504921, 0.595781317262161, 0.40209098615428085, 0.8195041999590248, 0.41169521559362077, 0.8384139842251119, 0.030579964850615093, 0.5231556273559504, 0.7783613445378151, 0.3692989314568673, 0.8619109947643979, 0.8193179411141707, 0.7762886597938145, 0.8424724205061649, 0.2565845369583687, 0.7976342710997443, 0.8009678098043341, 0.7619495671810312, 0.7048577036310109, 0.8824495892457057, 0.770618556701031, 0.8381941011698797, 0.8149882903981265, 0.4840236686390532, 0.4754316069057105, 0.7588711350902677, 0.7145656433703462, 0.8643390191897655, 0.8078166323831912, 0.8328118889323426, 0.11327433628318584, 0.7844356041770264, 0.8424212106053026, 0.3810289389067524, 0.8720394736842105, 0.40102140077821014, 0.5055276381909548, 0.849538162372387, 0.6965575860603486, 0.8826641767818239, 0.8330963889678703, 0.35547272111148764, 0.7533405006911381, 0.5469678953626635, 0.5815036593479708, 0.6761649346295675], 'MSE': [2986.509515495417, 3512.241660534707, 2648.768137254902, 3925.205244660719, 4102.101613562091, 3394.420864399588, 922.3889830508475, 3133.2066046369737, 2513.965843869155, 3771.217725752508, 3688.773345273956, 1868.0862395241957, 1939.177081279979, 2328.75892927853, 2408.135475187266, 2525.8387000596304, 4101.186831126429, 1547.690217986636, 3999.051543437321, 2646.2901779997437, 2059.0852683461117, 3599.098363479759, 2980.6768410852715, 1407.7734146651417, 3116.150663942799, 4578.634623979198, 2577.7374756335284, 2433.829239220564, 3379.485332956046, 1873.2504279435577, 1553.4534608378872, 3485.078595821615, 2157.5717929575712, 1195.019326589159, 4278.075588533604, 3669.95524037576, 3729.964599568894, 3101.183602894233, 1498.506316051667, 3488.808426073132, 2638.7197089823712, 3816.8609929078016, 4316.779857014494, 3345.2455897804566, 2631.663473348072, 4955.665118808568, 1859.441534914361, 1760.5270326423197, 3709.2393556466304, 2894.5001028806582, 2176.0191252192612, 4393.738101287263, 1593.7161509007594, 3543.1608313134034, 1440.1397777777777, 3335.338553215078, 2814.409964470284, 3906.7439201451907, 1029.4710159840845, 2964.1970284237727, 1189.3631826741996, 2669.663410500022, 1863.0251149425287, 2496.906255375265, 2140.2375036753897, 4157.726516371444, 1826.846950651769, 2915.0091988548365, 2931.5155474261824, 3447.9516859922696, 3801.5598591549297, 3531.1121527777777, 4378.745273063055, 2553.7287566458353, 3317.1117236829705, 2053.8580105546152, 1631.2396283017488, 2470.162177020341, 3997.6529411764704, 3269.9480081300812, 3419.7356309420916, 4118.601670974334, 5038.235538213799, 2570.728241006631, 2704.4661016949153, 4353.802662622177, 4133.435332369942, 1803.994019536182, 3253.7811952988245, 3675.975352112676, 1898.9127865445807, 3684.954367666232, 3912.39811827957, 3172.258391771856, 2931.2245245245244, 1999.745709382151, 4853.088385384773, 4195.653692424819, 1721.131221395881, 4200.928958417987, 1823.7375775193798, 2503.0074222222224, 2194.3107780868168, 1583.6669598726648, 2383.481187487099, 1185.426773015568, 1775.981708981709, 2359.1838037634407, 1574.790107033639, 1640.5495055145384, 2571.87123668365, 1670.2375756266206, 1949.0312082306343, 2240.3203171998907, 1974.845467233966, 1066.563687420473, 2328.8581663336763, 851.0689547226729, 2257.904863511956, 1870.883089576123, 1698.172645463511, 1852.161337158755, 1881.2108916559325, 1476.175040017663, 1890.21598126644, 1841.3474796559835, 2091.7561004273502, 1810.6940693329386, 1377.519279553526, 2368.4274464831806, 1310.7057584982242, 1745.4284641284642, 1012.6541921013688, 2254.2128893599483, 1948.7425193555137, 2690.610600802885, 1435.7707494820072, 1983.3318093212831, 1523.560677931522, 1777.0103771305103, 1467.1091485507247, 2382.409315623325, 2022.0298508744802, 2041.6920256011072, 2045.3034895533042, 2500.643757022936, 1732.8688652389085, 1523.2388092790777, 1854.457857469164, 2104.7528707380097, 1083.1050361336947, 2553.6808503603784, 1924.5488520194403, 872.821101252419, 469.3363871270848, 2612.1852868044243, 2070.7573300348176, 1950.6774017850869, 954.904794364917, 1720.3870841062148, 300.4192874692875, 2324.6802161890396, 1235.8868021104024, 2056.1334363907017, 1589.1539992803057, 2520.851228929977, 1935.9799122446182, 1964.8188251946215, 3492.9719764011797, 1916.239186816255, 2735.6328358208957, 2081.4365538961697, 1681.6610445125918, 1322.1263784171924, 2503.457146297049, 2114.7871503496503, 2681.882060780682, 1198.094599779684, 2127.2470261306084, 2385.4961026385863, 1981.4350713012477, 1639.4397298931667, 1426.6963644465413, 1765.748831974176, 1417.1634962962962, 2638.1168566001897, 1804.14535341004, 879.9717849794239, 1658.7364659409307, 2304.5039769316527, 1862.5956801661475, 2002.6668549905837, 1884.2942046524136, 1810.6372900866738, 1678.586359215432, 506.1442128603104, 2423.6535281355727, 2276.7371178500985, 1080.8686601549184, 1940.2414394874288, 825.0299579283331, 570.3963303567461, 850.8895751171963, 970.1636165253186, 720.6765770577414, 945.6975194435879, 89.53693639291465, 647.8094737059273, 773.3009789369522, 668.9443369453045, 916.6540166085797, 941.6971410452888, 844.6847471071295, 834.2269278940777, 909.0790956072351, 806.5153256704981, 931.6821743618618, 104.0114762649974, 863.4162155969872, 728.0036102753992, 565.6164911874735, 891.8490198975571, 598.68768321513, 701.4715979845585, 564.213205052879, 749.8963963963964, 1049.4636181909045, 1064.892080565222, 604.5310412169802, 711.9468380614658, 334.8230176164018, 1070.2467129629629, 555.8355135043604, 197.29884452465097, 845.4535275764895, 786.9698245614035, 859.6721542141551, 710.3811650992685, 912.9854548376728, 765.7486920332937, 748.5026599787202, 786.106988783434, 824.9449275362318, 411.9517039922103, 595.2556021519041, 984.3935940016103, 843.685202991453, 656.6010043877691, 1261.7592964599794, 1187.57018921095, 780.3392342641844, 761.4130905077262, 336.5813060179257, 634.031857031857, 155.31712962962962, 816.5755221209766, 467.111407044822, 1047.7558351336468, 362.44615384615383, 995.218877968878, 110.33729806934595, 1012.5327296312927, 682.5739306093549, 370.1918314739689, 621.700229747278, 986.6998037439613, 663.8323066009558, 567.1596318629007, 745.3149481640365, 706.4972880964746, 874.5822579744148, 716.9020230449111, 874.7128437843785, 802.9511995680012, 865.5640939597315, 848.301417624521, 776.4187777777778, 504.2291845085165, 1017.26225575211, 1149.941111111111, 931.9153197955519, 985.1435737871476, 799.1155340798691, 663.5768450932685, 408.52550481516, 913.6690299961044, 854.2518807870371, 834.1701849552317, 916.7114827201784, 749.7654888888889, 653.5009436751029, 864.2033098363312, 923.7690483429614, 1212.445725915875, 540.4787238207085, 767.6900007830241, 606.9007338455476, 861.4176001991536, 644.7951666666667, 840.7256714261431, 1981.5707198748044, 1668.0829847371397, 2568.01821386604, 2185.0365833498645, 2377.4616651133892, 2313.8592256503325, 475.40349264705884, 2651.4423730217914, 2579.4691388423785, 2530.8272435897434, 1587.1159772911599, 3177.3894675925926, 2688.521147463253, 3729.3757853070415, 2311.038571491402, 1518.961438572719, 2238.200712102593, 2293.672868217054, 2168.0976916601917, 1905.1722762028783, 1844.20860899067, 1706.803817529113, 3049.0181367649507, 1636.5706203495795, 2874.4865641503575, 2774.3889204097713, 3120.839072354762, 3314.2668439716313, 1584.756826056826, 1683.5643494776828, 962.4732587064676, 1859.3128429355281, 2266.5873963719937, 1570.0342874180083, 2826.9798353909464, 2891.63607765941, 1959.041658401111, 3555.6234444444444, 2906.1284613081875, 2656.3875562096314, 1163.639564060705, 2160.900255921235, 1438.9412938458306, 2842.475074632969, 3639.2127408492543, 2424.088848496147, 2641.5868401206635, 2840.1803660504693, 3097.8256843800323, 3951.551107722286, 2035.6514090177134, 2689.0472992790874, 2728.2188552188554, 2042.5461544395587, 919.753738783649, 3293.142171877709, 2411.620661398888, 2018.6105332376853, 958.5254046953131, 1995.9213830177969, 1681.5033819729442, 1926.1739602486648, 1452.8729996980676, 2193.1749194068343, 2651.018434956998, 2541.336353787058, 2491.782901565847, 2422.501327160494, 1803.7236881649335, 2689.987671576533, 2599.948579182631, 2701.0247763956, 2870.2344708260525, 1980.240052456993, 2709.111793693604, 3321.711589816628, 2562.4713261648744, 2377.5997504596794, 1970.0642264426358, 3550.1255877616745, 2200.827400662252, 2967.1150454694484, 2594.2945833333333, 2972.8658405172414, 2726.460401891253, 2680.6721675658523, 2454.0020293301627, 1729.0891686959276, 2659.9753706360593, 2610.6795065881693, 2824.170248135925, 2440.1299876593994, 2214.8583378796143, 2947.1703574203575, 2202.8439716312055, 837.4522652885444, 2541.283774779277, 3190.9849488260083, 1915.034565964891, 2231.007909469448, 539.6179864253394, 692.9566901408451, 551.667656275771, 605.33981657179, 819.1485390578414, 519.5079892093795, 41.14434710054235, 616.6317542946382, 719.8544229493135, 642.3008894721493, 583.5773454951601, 435.6262888690428, 524.9982460154046, 780.2222311139565, 647.2850597918931, 365.53723712135826, 636.6358540076336, 121.78910041060097, 718.6015926340674, 687.4575791855203, 567.8121713479543, 490.7439803720187, 677.9342272294509, 372.10905396251974, 521.2244245524297, 750.0353618013193, 583.2671532846715, 614.0221381532857, 250.57372262773723, 295.5644472138152, 210.57467217095677, 298.46458445763625, 325.3607967406066, 217.86425283065822, 594.6766269600915, 751.6379598662207, 481.52891055949567, 655.2586776859504, 675.5867418142781, 301.5911764705882, 213.6201854882706, 343.82664199814985, 477.9629753727593, 459.7890736004547, 667.8998188405797, 797.6845769126791, 569.0697343453511, 739.0201051435067, 816.7025445292621, 726.4355229040623, 187.31682878665984, 655.7663194444444, 184.7206572769953, 188.5483870967742, 36.289133942980094, 834.9362921716345, 279.9188584719986, 714.133095296725, 133.70822041553748, 533.9095230011883, 71.51036017243777, 161.8322234854637, 410.75659626568716, 444.1831221611284, 744.4094526555141, 605.640771713615, 662.0365382888949, 344.9739393939394, 223.00108279193736, 846.166017380881, 935.5458461538461, 600.2969881814716, 455.1249679897567, 498.6901865369019, 615.6523823793826, 489.3458270864568, 990.4452991452991, 418.21346153846156, 322.05937698664974, 503.139539372105, 766.0842391304348, 531.9813973063973, 518.9163173420276, 604.7592740327084, 238.11750221609375, 836.9063018242123, 710.6781793703396, 348.4331851851852, 625.4981986618631, 810.6533213375319, 329.9480218855219, 742.9429277609257, 580.6803966437834, 798.0251920803782, 580.878654212074, 145.8223429951691, 730.519466073415, 1010.0055080721747, 262.5625, 452.13023076923076, 1845.8898765432098, 2479.169648181276, 2079.7262143493763, 2135.4690992767914, 1330.08420781893, 2816.774254081441, 679.8147202360685, 1461.9927477840452, 1453.2379783890826, 1911.3327772216662, 3136.282390171258, 2493.5859028453965, 3034.78271685053, 1969.7380878552972, 3385.558118498417, 1113.195833974655, 2027.27969348659, 830.945849338455, 2204.4406609195403, 2639.5789898989897, 2099.9775518223796, 2315.451716532413, 2040.5751733468628, 1580.340888888889, 3176.603022562793, 2392.250032287227, 2192.2579802024247, 824.4646569646569, 2614.918503769023, 2080.819360414866, 1565.085538218001, 2582.6059883412827, 1638.2245986711287, 1184.732833957553, 2095.08245014245, 1468.3831990794017, 1821.072762508809, 2435.239119401091, 2607.3412574016024, 1701.9351351351352, 1144.5957053920017, 2833.7875555555556, 2234.7981958387895, 3025.8036856368562, 2069.7980503419176, 2187.9518733850127, 2315.276124031008, 3396.9858041064936, 1721.0027271791705, 2194.687356681259, 1380.5143987341771, 1784.169718013468, 1023.7305555555556, 2205.2823255813955, 1549.8401613367905, 1915.885585305106, 1643.8509615384614, 2529.832166790767, 350.0451051051051, 2176.0898876404494, 802.0196178199909, 2724.1217748466966, 2135.337552742616, 1902.7511033512778, 1694.6500187055742, 2560.8946065428822, 2871.235136171845, 1617.740506329114, 4067.0568071519797, 2550.8894680566696, 2543.0520950594123, 2094.073692473751, 2826.7483172828, 2355.5150703946065, 2036.6692384401406, 1983.8732353788535, 1639.650726061797, 2639.9205962059623, 2545.5291176470587, 2748.6553990610328, 2612.7619562767636, 1760.6467236467236, 1490.7318664818665, 2220.620835152044, 1315.2399355877617, 2534.8217689668318, 2053.5523650991818, 2578.8332792383426, 1964.9660919540229, 2269.8257702146593, 2300.8412484394507, 2086.2397583259653, 2625.703654582965, 2542.9500893997447, 2008.4583200594668, 1914.7784810126582, 1627.2840740740742, 2717.175112612613, 1437.9033795068278, 3018.7628129395216, 204.5558064516129, 279.6027386161076, 237.74904725609755, 207.29949676491734, 317.11553875236297, 157.28265486725664, 61.11788194444444, 206.27807486631016, 244.70654700413223, 211.80172128434293, 253.94144144144144, 157.87705776001522, 196.05211103723406, 304.08509615384617, 238.98299153645834, 132.39638242894057, 326.04071180555553, 74.62708230249052, 287.28401496925954, 306.7174293573393, 253.87474262182567, 240.13091032608696, 260.11147623862485, 168.59159705566123, 198.43332301980197, 286.5039322847241, 229.09259259259258, 228.22432533733132, 138.11073031415748, 224.6196701827366, 139.42561121049494, 93.0353913466213, 112.00150402547996, 188.2794068082238, 199.56303749570003, 234.00497512437812, 183.56855824056476, 210.5332700622166, 290.81842818428186, 139.8950040383062, 86.00912778904666, 140.3912353757684, 234.13232118758435, 250.2838834269663, 249.36001374098248, 285.43195521102496, 236.07319750291555, 309.69585129310343, 246.38102292218932, 218.84064048799084, 85.42672101449276, 306.68724409448816, 79.8264857881137, 123.13993055555555, 21.46625664893617, 310.4344129554656, 168.25882352941176, 271.2295081967213, 55.428510938602685, 226.4229008838384, 49.12916666666667, 95.66204637096774, 135.519254562326, 210.5353745026812, 304.6467725409836, 236.66755638596024, 245.9739231418919, 158.52566064687278, 123.97316462736374, 315.86412050167013, 284.0251968503937, 230.44351851851852, 145.0327868852459, 195.18033057851238, 255.20081967213116, 156.43763973947702, 401.717399691358, 255.46450843727072, 188.17268995221752, 154.03324584426946, 313.01037742084736, 112.03353733170135, 214.9909195402299, 177.4958143389971, 134.28318064364575, 285.83582677165356, 272.47429059099636, 209.28380681818183, 200.16688236985908, 310.5067827177919, 195.31021012931035, 322.3691659138814, 295.39238911290323, 236.07304964539006, 295.6275862068965, 92.699774991964, 290.809209539523, 336.1941511647394, 121.53201844262296, 179.3782178217822, 1785.986346300534, 963.2564499484004, 1334.906016234283, 2180.9573228461145, 2087.913425925926, 2388.248117267348, 346.0478955007257, 2729.9594208512904, 1542.7730392156864, 2978.087357635629, 1844.18936353211, 1932.4102328431372, 1824.675080128205, 1861.3625562065677, 2197.8069214060033, 1658.1481832543443, 2355.812854030501, 253.0517665474061, 1752.0397828014184, 1670.1265740740741, 1737.5793348115299, 1859.7811589679568, 2688.6170074510483, 1078.7464582640505, 1358.65527909426, 2221.1497464039244, 1864.4469795999207, 1675.7675511332227, 1974.23718302941, 1593.4822310698223, 994.6802152783356, 2379.4781103286386, 1190.2228926432467, 392.66552132701423, 2162.8587391946025, 1598.080733944954, 1478.9813291737569, 3037.761381935295, 1290.486497657757, 2071.828651510433, 1645.256542638419, 1665.7079409371004, 1535.4366861248316, 2618.33104790926, 1821.6873102610807, 2634.947344374643, 1588.7517091634636, 1871.8408611784548, 2396.3228564913347, 2245.5001285760204, 730.762992600241, 2573.1546423135464, 491.7950135501355, 1972.959809889102, 464.4079383886256, 3285.636677644791, 765.8432472876917, 2213.591244515357, 875.0634969325154, 1723.6623674059788, 50.50701499758104, 1429.1569928137092, 1593.1159356725145, 795.7795111511601, 1455.5449295376793, 2323.9036910669975, 2103.2928264524567, 2146.249139781283, 612.5603448275862, 1703.9704513256427, 2126.7694889397408, 2640.8217124796474, 1613.1312144560632, 1768.2047359696899, 2977.08368575551, 2296.548188342377, 2376.5288196218703, 1122.2472283813747, 908.158443250285, 2617.7394153225805, 1649.3980255605725, 2710.4280840049414, 2869.33515571978, 1767.595889931382, 447.2316037735849, 1689.434659090909, 1962.0528846153845, 935.1461165048544, 2022.3835387776066, 849.1326163301142, 1884.6217105263158, 1665.579002165584, 1816.668516463189, 2177.30407620986, 2103.350005106209, 777.8567567567568, 2309.33786407767, 1071.364114832536, 1222.4420563097033, 3285.39110707804], 'RMSE': [1.0597248629073963, 1.1768634535729572, 1.2881545482671222, 1.2369690664496171, 0.9705974414327774, 0.9163292308151996, 0.7430181067202091, 0.9246731601549151, 1.4322533479609165, 0.9204886022082274, 1.7608991293768501, 0.8796627665923715, 0.8390710256786345, 1.0473006794086597, 0.839421949601981, 1.29864800562637, 1.0545783867776555, 0.9695019276817753, 0.9787597468327024, 1.421201397092648, 1.262254282757387, 0.9278357666545514, 1.2318123421834208, 0.9197188124120808, 1.734911500704458, 1.9508434183231902, 0.9602626003937925, 1.0447069715051585, 0.8422218928099444, 0.9530877434025588, 0.9125418487916578, 0.9316010725500908, 1.1205026166007153, 0.7946243705180911, 0.8743172930108135, 0.8682389123037554, 1.2232320987145031, 1.0553895943638067, 1.539836425199623, 0.9525176960832564, 0.7471286867709874, 0.8322217731572064, 1.041399746178177, 0.9018145899295347, 0.9397343236518002, 0.9328557802363272, 0.8548256645264124, 1.586745595926372, 1.2878710512618694, 1.224961689695866, 0.8407537435001347, 0.8638390689116415, 0.8561704190053654, 1.127925490252626, 0.920332308553642, 0.8362298772515583, 1.2670049947071325, 1.8141887170323097, 0.5417009809513417, 1.0360663363281004, 0.8541857148513616, 0.712882338889738, 1.0107681540548978, 0.9600107501773893, 1.9206783852633331, 0.8612935236675701, 1.452931998854299, 1.2490725164735497, 0.7764000587727389, 1.33087041500606, 0.8394764020945825, 1.0080678002913477, 1.297990773786644, 1.0932557902825617, 1.1663504225684982, 0.9966067660829863, 1.1740599960054106, 1.0976542994364933, 1.0308540679784328, 0.8159764682975451, 1.216184867084923, 1.119129951799818, 0.9390770547879482, 1.187714372052296, 1.1464964681786205, 0.8818413018734533, 2.3797215672454644, 0.7915702383674516, 1.3357437706323267, 0.8541256983715849, 1.165588536624115, 0.9536539678400068, 0.9458145237966081, 1.1537698243755519, 1.3917460862035294, 0.6147283753542812, 1.3057819798260903, 0.8427590975590284, 1.012201169645651, 0.9811679636147563, 1.3547500503620844, 1.334539055818158, 1.1701362550642762, 1.163911585579319, 1.4036501397591419, 0.8134388234138313, 0.5876907252269624, 1.2268060426494265, 1.498917094401632, 1.1934717990203312, 1.3810209094137467, 1.4451049449720335, 1.318681200070694, 1.5711917974467897, 1.3909141380207224, 0.6899026901870193, 1.41571143166501, 0.5166034457633958, 1.4116748670317887, 1.298721716622202, 1.2511001439674132, 1.2667968568533978, 1.2196103174318758, 1.1401841560444608, 1.2498407522792498, 1.5182397431266506, 1.278730650588944, 1.376837956797841, 1.0107103043055488, 1.1522752882144824, 0.7040758211099124, 1.0017237641203685, 0.8624825558991556, 0.8049748579622391, 1.1629275389324274, 1.136764884236744, 1.205387351332229, 1.6825300838131814, 1.3968118484663374, 1.0515151749928597, 1.0741655125588687, 1.2218053215846876, 1.2785933157360998, 1.1674552683954889, 1.0625367256664673, 1.0798225673231003, 1.3519770115357939, 1.160511527664311, 1.562835897970628, 1.169909808084081, 0.9376924567630595, 1.1895843263799064, 0.8605160934158116, 0.888003799020312, 0.30071767769144786, 1.103256068813253, 1.0753056388024909, 1.3756105503734732, 0.7548176030768686, 1.359364515602899, 0.25414249446829607, 1.1145257009611946, 1.146592404527742, 1.2592646294437784, 1.358103702012365, 1.1508846281699587, 1.1217295810630918, 1.3697403051407655, 1.2944699446289756, 1.487145083573084, 1.2343502015765104, 1.5857986177373142, 1.2526268084596073, 1.2754605157131078, 1.5367287649571693, 1.0963028429731545, 1.3137737386704273, 0.9384549374115161, 1.3146297583030966, 1.1312146656824589, 1.3925399149688058, 1.184764341562678, 0.9354728967967317, 1.2825330659601122, 0.8199829818559644, 1.1679739344660123, 1.468903270021597, 0.7105252694469221, 1.4003143111089047, 1.3219782379893636, 0.9374937789174196, 1.2637485353688687, 1.1817837126451187, 1.8006584884127157, 1.1619202036015202, 0.5890611990615229, 1.8408698652764208, 1.205291501288922, 0.9819693601836113, 1.2920448399864568, 1.0197951249169377, 0.69958465072959, 0.737857376282538, 1.1810434918465456, 0.8673096658885706, 1.0009254982237747, 0.2328636434072, 0.7099413096349871, 0.7822706246826762, 0.7758822741240505, 0.8389385028158894, 0.857978982098078, 0.678976265285403, 0.9078818180781276, 0.800984695976676, 0.6767397941039017, 0.7647935821842327, 0.26149182111340485, 1.0442062097824913, 0.8413875143637229, 0.6277502180114428, 0.8121925932051014, 0.6872291022441707, 0.848934316110618, 0.5907433885831893, 0.7022565691807301, 0.9284351046277761, 0.9783832735051533, 0.8287078920003927, 0.7610013285243284, 0.46091624555488836, 1.1997121025471635, 0.6418376183958553, 0.3514062062172979, 1.0430185032699655, 0.8753299603558281, 0.7499057543412522, 0.652529178488729, 0.8905011833720298, 0.7847019784459729, 0.7016028812391853, 0.8932031147718854, 0.904109287105177, 0.5449485441493017, 0.6627095452833892, 1.1240783524785656, 1.1622546318175087, 0.7779100669049442, 1.0242138841125048, 0.9405526060472851, 0.8928179467795979, 0.8506799486593514, 0.4645387069009522, 0.6555364846987596, 0.31403782120134754, 0.9049855733527332, 0.5613503738336596, 0.9446516097169056, 0.5482832811407028, 0.8179627896979653, 0.2639233947375098, 1.2337699329198935, 0.6848185472083871, 0.5384994561279803, 0.6257018318756968, 1.1949832432898762, 0.7470817594908764, 0.5725512951684416, 0.9550545678089183, 0.6965577978256169, 1.0007791147556173, 0.6535518890336892, 0.9408382564269483, 0.8164522532219733, 0.8197916436118183, 0.7965891919604995, 0.8145928836157601, 0.6579457768368666, 0.9219454341124341, 1.1915230110610098, 0.7755530024748554, 0.8672672282888889, 0.9260017977916156, 0.6238671885699182, 0.4878613667661613, 1.1001248669199246, 0.7010968497753175, 0.8967072691055286, 1.0437669934302078, 0.9876894588480893, 0.632172293801475, 1.097662421079866, 0.8518517497533941, 0.9817238585615559, 0.6204185082137831, 0.8204013506055087, 0.6376486339072175, 1.0812204077781025, 0.65254031364298, 0.7347887426594288, 0.9815429653017823, 0.9270117348955221, 1.0854730061386542, 0.9442393456759294, 1.1323338856014167, 0.8829658860390119, 0.35571834908482663, 0.9424084296772924, 1.2274680954916761, 0.9720805494527629, 0.9423711699970575, 1.0651991422730465, 0.9121728282249064, 1.1751150421105794, 0.8336193487400835, 0.7261015792034835, 1.023300511584888, 0.7853399931734939, 1.0388379175413949, 1.0410240722093502, 0.8963559585339376, 0.8626430133537891, 1.249040098033943, 0.8004870256240793, 1.2228129747642733, 1.218996149429597, 1.2806652354037684, 1.1932993850127602, 0.8587321643348552, 0.8895122657590484, 0.5504118497904625, 1.0099487176861723, 1.091988976498529, 0.7071897979107123, 1.1679987124760605, 1.2197951801371587, 1.0313867539399106, 1.221715746535503, 1.2611630598580945, 1.0375586276534041, 0.7951999058509132, 1.1210040114462494, 0.9172626918231868, 1.179241067551478, 1.3366782083637174, 1.2208446197657876, 0.9794402870278905, 1.2894703468749051, 1.2402459561296943, 1.3379938474456214, 0.9098595032834765, 1.3159256648111262, 0.9959570129086426, 1.0755054375956905, 0.4872571542656942, 1.275626845603994, 0.96148350811004, 0.9793822856790191, 0.5529101259540748, 0.9715581324825262, 0.7025094040982839, 1.005225925132692, 0.8481043268988895, 0.9306902108588635, 1.2021059650902486, 1.2009979105073139, 1.1003236198397224, 1.1311358589089364, 0.9573442794611898, 1.1973498394372906, 1.2266173462960233, 0.9947724619600167, 1.0792824146550262, 0.9765100008660649, 1.0185677082476234, 1.2671020105746684, 0.9856903354274811, 0.9801032068644902, 1.0842561768357588, 1.4547793817494368, 1.2073645320446087, 1.0531034728531656, 1.047716962213336, 1.0866827920340143, 0.8655392753800628, 1.2264452784322557, 1.2706975253093917, 0.7624771135348811, 1.0046795978667484, 0.998374737430916, 1.1070983899791276, 1.1981688256748162, 1.0077455874077328, 1.1657027403299633, 1.1339951036635845, 0.6859986436399745, 1.1750265155134687, 1.3520806819962012, 0.9471367347164441, 0.8657855388914452, 0.8975564668966978, 0.8252825364171192, 0.7235280312905216, 0.8849377389697428, 0.9066489932257413, 0.6171993182392784, 0.1517235465766571, 0.8305574448659546, 1.1862387274460995, 0.9292686761255738, 0.6844236427543716, 0.8113548398555374, 0.7870760956871456, 1.0982741032885595, 0.8721676879444897, 0.563402252288309, 0.8465298576354642, 0.27897257313835644, 0.8672429138568405, 0.8861196184956424, 0.8455504850847733, 0.7085836059224558, 0.7794890869350207, 0.6557967192618183, 0.7541340818886118, 1.142645950447176, 0.7437627021203771, 1.098477972292123, 0.4923340297474072, 0.5051326129270429, 0.3779016764615433, 0.5273411083264199, 0.5749618290641041, 0.3589690798796579, 0.7310239456238579, 0.694781926949771, 0.8115961105947972, 1.0974129632906884, 1.028203626076313, 0.4915796172688092, 0.46617548851849766, 0.5074545755099321, 0.6670330382073635, 0.610453462823549, 0.6706598445114756, 0.7235805163238438, 0.9617727846365373, 0.9106504502489176, 1.2587431728166842, 0.76248964692949, 0.45485563249412353, 0.6902107899627411, 0.35650734505469983, 0.457356722754911, 0.1467473229940074, 0.7131682017330893, 0.4935996380827686, 0.9399123406558856, 0.36926026070252904, 0.8065190998235117, 0.20242952590544924, 0.3295998336665877, 0.8047819977613626, 0.6598052834425214, 1.0428366070216393, 0.6547587824003356, 0.7660468680024953, 0.7037449393463765, 0.369562330161569, 1.0580611797077024, 0.7597770095327967, 0.9757516880230079, 0.81354580754573, 0.8896209412492352, 0.9919988389165725, 0.6339257218259079, 0.9065819654360928, 0.6266232212059285, 0.5338624954740409, 0.6116670484078028, 0.9277204817784859, 0.8738690531340855, 0.686399609088221, 0.9108038355356795, 0.45095071901848593, 0.7317356905385736, 1.0773180627183978, 0.6376711576425804, 0.9614097432101609, 0.9032346325590411, 0.5214944442780616, 0.8213869270549927, 0.7485834593713548, 1.1973570893665655, 0.8176765856908058, 0.35465105647230755, 1.058305326587171, 0.8866964490018463, 0.5825473521131228, 0.710665364364388, 0.538270622049245, 0.7854840865736097, 0.8128401394966591, 0.5855586399609026, 0.4610310813979948, 0.833303654227415, 0.4769326307600125, 0.4351809431701168, 0.6011615616430255, 0.560137305805648, 1.2044848189289517, 0.8491972241869079, 0.7154228269201213, 0.705790453359913, 0.7224112263723858, 0.5802221903341763, 0.6225446302214749, 0.5526118530230739, 0.7326759703187914, 0.8700908686077117, 0.7974693812301602, 0.7751337548641825, 1.0342306516879038, 0.5961525209818627, 1.062718344948626, 0.8068024639864428, 0.9662088551250397, 0.48091241404747553, 0.8335923683297667, 0.6715004639773147, 0.6639024299059514, 0.6484565398378656, 0.7030466436005967, 0.6069272840870857, 0.6533893125927491, 0.5017009297344007, 0.6152439230054494, 0.7047036488488297, 0.9729950554866797, 0.5963203551959512, 0.47915733343231814, 0.8334646564914204, 0.8871618266074701, 1.076130919786266, 0.6577655841290365, 0.678266819715133, 0.8330564653380779, 1.1549591600425604, 0.7530651501770208, 0.7438690377532148, 0.47907169738487987, 0.6236622335231219, 0.5285317060306469, 0.9530129049808409, 0.7134185801347878, 0.5504719979784434, 0.7484852053190354, 0.8697794569880031, 0.2944543709250281, 0.6319767835988382, 0.5201231347862456, 0.7119744735230973, 0.6826816897551546, 0.6217665476618722, 0.8383645742311834, 0.7349032393666761, 1.0840982850824423, 0.5576268953126596, 1.111601074118989, 1.1263378653659477, 0.693909224397885, 0.7623347157529506, 0.6952717653308899, 0.6527836918405229, 0.73240940783956, 0.708603152536142, 0.7623059579269966, 0.7770393798533883, 0.9238956564235412, 0.8061187141976807, 0.7656123741117259, 0.6054940873431744, 0.5386787124933552, 0.6969696157018117, 0.6202771533476594, 0.7053823539308284, 0.8481929899824302, 0.6511602025239734, 0.6262826212510226, 0.6867397550728171, 0.8277505617519022, 0.8443803258352204, 0.7895527578221849, 0.7179551889582353, 0.6398569202201362, 0.564541926452135, 0.580301160564038, 0.7349297850502895, 0.6012960665662951, 0.8812139700163638, 1.0097919089423308, 0.953824958732256, 0.8145157523907122, 0.8364780163716232, 1.1705209565635808, 0.6134136982148494, 0.30359592732015817, 0.90098123957979, 1.189875579683157, 1.1573113480186907, 0.7772230947189713, 1.0670870534996155, 0.9724796092460669, 1.4974844920529053, 1.2168845627426914, 0.5508151924963887, 1.2370266192370276, 0.3456286476052751, 1.3301233081931159, 0.9838437198124437, 0.9243779043091144, 1.159687916639204, 0.9047828250211462, 0.79752269575032, 0.8310034002860149, 1.1759567778875035, 0.9161379107714803, 1.237908759767499, 0.8038636483717013, 0.6778232178224222, 0.5226454886969281, 0.5358755047199036, 0.5800047946292349, 0.5435653230990328, 0.9222197217203959, 0.7759858608181006, 0.8882802679937918, 1.46021304215402, 1.148490715105637, 0.7720708293450995, 0.6011582417255742, 0.652651098446591, 0.957792945239207, 0.8659997011808687, 0.7657251307989947, 0.8517082820774252, 1.26786946683478, 0.9549498330980337, 1.3416979782159173, 0.77959170727975, 0.5794189615565686, 0.9921047468946329, 0.40097560136362687, 0.6355369905408654, 0.18932026724833992, 0.7891605012553932, 0.6967983298184051, 1.0451231471766047, 0.46475103348549945, 1.020892947522096, 0.27385598040713366, 0.4945367994893532, 0.7984719166991322, 0.8707851502253122, 1.1189203289505592, 0.763059071399174, 0.7842851283005885, 0.7693069340300958, 0.4910812872500564, 1.1844838099466284, 1.0081583790896729, 1.413179565670057, 0.8443011963934021, 0.9666285746310529, 1.4019368501131884, 0.6640175707521807, 1.0464146978437106, 0.9095897329363972, 0.8791647336989724, 0.6402443154947934, 1.1208483804674476, 0.9160224503419592, 0.9100192932824196, 0.8587111016118423, 0.5812047492082425, 1.06556623748905, 1.0677866650329053, 0.9194312874281605, 1.0366881623054578, 1.3638097558930706, 0.6556315284461532, 1.0745927676490277, 1.1741835724603125, 1.5397361550480682, 0.8623654615674593, 0.5550266559747643, 1.4538497528518666, 1.1007072957226933, 0.6960791799616001, 0.9487458002811052, 1.0660484989475763, 0.774125907016545, 0.7247269081776353, 1.3273641517005943, 1.1007842647554054, 1.2841162544136917, 0.2902828796400367, 1.0175856505805998, 1.0967478678670266, 1.1813854971570883, 1.1504773889244162, 0.9526166926039096, 0.9357286351404007, 1.034832671225282, 0.9212755448374111, 0.6479661120362136, 0.9200801632078063, 0.2596539289109986, 0.7457486349688123, 1.2788343192252671, 1.2536737617457372, 1.0776116738305386, 1.3735392178164991, 0.8988865930492553, 0.7796127975352938, 0.8143076141313722, 1.3065944778388385, 0.9049648191448939, 1.077211431811854, 1.103648888149807, 0.5782542294206318, 1.2433331869441433, 0.9355476354816082, 0.3152135438157, 1.1032334644831883, 1.5803961448976647, 1.0599674642612116, 0.7723707083665985, 1.1347505423089868, 1.2354445530135785, 0.82063152438573, 1.4405409814296706, 1.0653293657501663, 1.1292161473062818, 1.3243877984209802, 1.9416407074765605, 1.0506189107921833, 1.4571316114451858, 1.0532262492555817, 1.4740023229282913, 0.6654766130258369, 2.028576169472246, 0.37697880215814467, 0.8820792232264911, 0.3394908958082772, 1.5893416340550865, 0.6262562009448432, 1.135867880450375, 0.6853356030270856, 1.0686856464409074, 0.11277713211224928, 1.058557560401437, 1.1241572780648728, 0.6399014344835893, 1.1732166139078744, 1.6975990370611411, 1.1597161932058708, 1.1924017349788238, 0.5855223593455295, 0.9339693563978165, 1.5970715203139025, 0.9588358686421428, 0.866810825845573, 1.2814456003066759, 0.9570371739130535, 1.4208783690458784, 1.1750398598837628, 0.92428837651213, 0.7640001155877122, 1.8657415010924883, 0.9172115376777231, 1.1723182139595143, 1.3406506398895077, 1.1126662830751108, 0.31768506236429206, 1.721460772640198, 1.0283294194203412, 0.6372267692764745, 1.1746335190274404, 0.6568988978447409, 0.7726170777639119, 1.4795624490811365, 1.0185478816717104, 1.0768974450565862, 1.3640582674638169, 0.7786248857930395, 0.9967636945859517, 1.1132389489317087, 0.8351287943270936, 1.0352512064146542], ' WeightedSum(IOU,RMSE)': [0.8278349151611565, 0.8896111707628898, 0.9802702168334639, 1.0358213354953856, 0.778075660552152, 0.7885993980162954, 0.5429079453268635, 0.7572051019053871, 1.07685370341846, 0.8265773089166137, 1.2524347223878685, 0.7130187977968697, 0.7293358758157238, 0.8409813240690072, 0.7564548809099282, 0.9653869949391694, 0.8289583146455779, 0.741371392592464, 0.7818825133318739, 1.0859576060798184, 0.9330254879800407, 0.7933575460709961, 0.9507478000509865, 0.7163006300385686, 1.261343473332292, 1.3577334429619454, 0.7927784219602174, 0.8421266612949856, 0.7316313083959225, 0.7352486070773239, 0.7685814156026209, 0.7519829986311127, 0.8885912654999908, 0.6465468791365966, 0.7846009734863495, 0.7680810091107921, 0.9338885481003385, 0.8152302079467759, 1.1354322884872046, 0.7982509584952772, 0.5590095488649458, 0.73927355425289, 0.852803738536123, 0.7411536003834865, 0.8037214537229908, 0.8605747324936557, 0.7433270253288087, 1.1778126319880822, 0.9848446165400256, 0.9835951442262209, 0.6847118705604409, 0.748016941160438, 0.6663740839333918, 0.8254838816474495, 0.6985459683538462, 0.7372724922912308, 0.991881222121269, 1.2913463270200918, 0.418775523942873, 0.8099453267071675, 0.6183794469423588, 0.5750881772505931, 0.8548675112989131, 0.7689616857683064, 1.3768553216639248, 0.7852171278545328, 1.1032943289113681, 0.9323500745804985, 0.6337318704413755, 0.9821231462394691, 0.7377585056158191, 0.8009839732603594, 0.9775070925789408, 0.9568324922617658, 0.8899911609994328, 0.7830344561997904, 0.9606377461867246, 0.8265690852021176, 0.839838336971948, 0.7011220369656739, 0.9170775660570057, 0.9717806039909079, 0.8197653071218385, 0.9448666727690329, 0.8882934829580885, 0.8000366730361741, 1.5942873429788689, 0.6433314659667138, 1.0519064052730134, 0.7807127428782092, 0.9172228918973075, 0.885726140207669, 0.9007939721379554, 0.9469944583536601, 1.0950032338986222, 0.4784168192560879, 1.0349504778648524, 0.7568275284789091, 0.8090833163769856, 0.7906042329211894, 1.1095718179570035, 1.1394637362364093, 0.9969827801001139, 1.0228793987832727, 1.1768453785716912, 0.6851741692905299, 0.4578417350439528, 1.042016018414917, 1.2238899197498356, 1.0300063990389121, 1.122276321198159, 1.1383008195106612, 1.1033436268987598, 1.2460495476385822, 1.1500607666124114, 0.5438411365909372, 1.1588319164880558, 0.412252676560172, 1.1752495283664626, 1.1101030147054314, 1.091266032132173, 1.074729164227688, 1.0632402732197548, 0.9881265898067422, 1.0591427585508701, 1.2315474292215156, 1.1023937773118324, 1.132267622672494, 0.8364436122911071, 0.9838525723203532, 0.5532630254094738, 0.835285289977568, 0.6877942818929784, 0.6410111639837278, 1.0454637694662137, 0.994666525821606, 0.995964585045578, 1.3110145602110224, 1.165139964994496, 0.8841531098844896, 0.8787678250750858, 1.065868363148443, 1.0724315496932277, 1.0086181697315943, 0.9590397031190583, 0.971509665936915, 1.1363701357808336, 1.0350682355899503, 1.2472462230529637, 1.0142214385527633, 0.7608429783307478, 1.049910746198059, 0.6742750451422606, 0.6845630713690378, 0.20028319588051968, 1.011894158967706, 0.9037082310018035, 1.154335018074307, 0.5914721123843087, 1.1200214908397976, 0.15775907792197874, 0.9652300997326836, 0.9638413470679597, 1.0717427201933107, 1.1468558755031204, 1.024529811952965, 0.95508952373933, 1.1344614332243337, 1.1056212045052058, 1.2203755784799202, 1.0904624769192333, 1.2678222109949353, 0.9859242425640462, 1.102423159658687, 1.1960526552399184, 0.9520626663154603, 1.115268040402952, 0.8228116069874052, 1.1127023225904624, 1.0074677979575086, 1.168754671214253, 0.9836179076106666, 0.822635945885803, 1.0583215994395763, 0.6599305599019037, 1.0394210805334987, 1.1872114559953832, 0.5467376008939617, 1.1617081228768389, 1.1359647446040415, 0.7454865009659633, 1.1028118666708138, 1.007558522989226, 1.3602461704784243, 1.0105391952327674, 0.45701684815562393, 1.3918941601060215, 1.080848875644461, 0.7870294739922107, 1.0907146590654853, 0.8495379274611528, 0.5559236454288535, 0.6005929308173545, 0.9415461189363423, 0.6926934525005712, 0.8045098802594284, 0.15932338796866025, 0.5688349616021544, 0.6660286926491445, 0.589230133886236, 0.6756228149641534, 0.7479839044568601, 0.5643439365359963, 0.7308354506394877, 0.6369350837228585, 0.5283524585710363, 0.6501524729102981, 0.176332367630463, 0.763694470353093, 0.6741682773671692, 0.4768272463824112, 0.6420359399496014, 0.5264206625918508, 0.6528959447923097, 0.43751248503412116, 0.5527813940104648, 0.7371580090838717, 0.7715851315377985, 0.6278687853428503, 0.6125448631571919, 0.339313052649749, 0.9148205623145913, 0.4851737955100121, 0.2528803511615165, 0.7580871652098409, 0.6633669240224065, 0.6160182851274703, 0.5312368470335237, 0.7380709086613825, 0.6463487579102307, 0.5572075209670411, 0.7024381332614291, 0.7228560728532522, 0.39815450011300274, 0.48528117628357625, 0.8233954733329318, 0.9171248877420202, 0.614749699144836, 0.8432118631333183, 0.7819120534452277, 0.6749804019612275, 0.6535809968494566, 0.3306643290261914, 0.5227074563725633, 0.21466953912256367, 0.6751098435325539, 0.4240206259255886, 0.7725255143718879, 0.41232302595478365, 0.711064728182316, 0.17837767856734482, 0.9136460132209935, 0.5687711413084737, 0.39054565852625805, 0.5006132309367439, 0.854114494787303, 0.5691247674024966, 0.4774123187614874, 0.7055498827745157, 0.5439598740055482, 0.8082217252099765, 0.5196083811040852, 0.7954717044490156, 0.652735869883489, 0.6600654858710602, 0.6331571360375949, 0.657534491703138, 0.49407800724841505, 0.77836729536947, 0.9350182073989046, 0.648841508153057, 0.7105411431995228, 0.7123450178289079, 0.5004646233501594, 0.3480030815731259, 0.8438504967973557, 0.582461952284919, 0.7129210930915362, 0.9050507170916267, 0.732862258097492, 0.4865864344223016, 0.8378855196194046, 0.6860774720613207, 0.8472389044500781, 0.4956596875784332, 0.6683135060566235, 0.515440141548461, 0.7854566951171214, 0.5132743565415087, 0.5820194137457306, 0.8118197355627048, 0.751281262261565, 0.8587784486293449, 0.8165150832527925, 0.97395382804661, 0.7382865959875425, 0.25032763135250713, 0.7848657733648934, 1.0399739034717173, 0.8395838377953021, 0.7598238473210016, 0.9111453813745408, 0.770748521916154, 1.031397243408973, 0.7088467829900649, 0.554180414693631, 0.8884453521146858, 0.5899814922604181, 0.868865258647653, 0.8626459500948765, 0.6867283576022933, 0.7326875246409664, 0.9976119907990091, 0.6300028125932212, 1.0000638528468948, 1.0447611458017192, 1.0157322475184751, 1.0023580722169858, 0.7098562782458591, 0.7023290747118973, 0.419315429662995, 0.8331191552231767, 0.8809978282626246, 0.547634812655464, 0.9908275861381448, 1.0006164253734018, 0.8573124245890029, 1.0409985402505237, 1.0562077341679683, 0.8732013803766145, 0.6447804040532761, 0.9399779009021605, 0.7332521292487, 0.9280492272001626, 1.0827023397253555, 1.0166961466487214, 0.8513608641716328, 1.0715763533554052, 1.0715742565721036, 1.0827710716731798, 0.7246553902415491, 1.0504952999380306, 0.8067488500347915, 0.9127527187978453, 0.36487422999405483, 1.0466076204447894, 0.7536235532181998, 0.7986596676783415, 0.41945528554547723, 0.8266307443358138, 0.5206536091529671, 0.8073832805875474, 0.6987000507733884, 0.7585454153868126, 1.0047132745459468, 1.0102402871193696, 0.8883250317395928, 0.946613783725825, 0.7895379777074487, 1.014161227556228, 1.0012829597582342, 0.869824335587321, 0.9302249804145843, 0.835187115315539, 0.8736812636957593, 1.012141921673147, 0.8175838436719287, 0.777952031916228, 0.9049436402881577, 1.1750952088927364, 1.011002107142032, 0.9199139057827632, 0.8659259040176761, 0.9127836737081148, 0.6744383923881021, 1.0234374018943448, 1.0745648599089401, 0.6224621248232812, 0.852487679314577, 0.8571908110562497, 0.8941693154446162, 0.9999108591183998, 0.8621576774247967, 1.0170552026221633, 0.9409401967668036, 0.5112419417461865, 0.9742313232902896, 1.1576752268999448, 0.7586023809636642, 0.6924200246314438, 0.688116867347879, 0.655076173205041, 0.5807380299821783, 0.7483572202368469, 0.7260720766575468, 0.5079436824432544, 0.09486144850755557, 0.655881103941266, 0.9277431644300014, 0.7571076902489953, 0.5026023374162374, 0.6139030368490378, 0.6367080902364132, 0.8332209504721637, 0.6851425372169846, 0.43257702054336494, 0.6618619978116396, 0.18574179317710776, 0.6690979582339033, 0.7267924700296623, 0.7036703661228809, 0.569145211650737, 0.6616289764127454, 0.5205084225239909, 0.5996916681279445, 0.873103439124274, 0.613571491905259, 0.8285609486644864, 0.3681381001923759, 0.38318753965777275, 0.2832181588929421, 0.39406011543401176, 0.4146519828166107, 0.25280815510017884, 0.6126149771037744, 0.5716014897906749, 0.6168284383885478, 0.8130589516052908, 0.8469724404673625, 0.3662260343337882, 0.3311617906317245, 0.38436956256109056, 0.5156827338109715, 0.4911163019639217, 0.5670139315995475, 0.614508167755666, 0.7617841577918696, 0.7958477787355014, 0.9483232712006402, 0.6369254571941592, 0.3200547580509106, 0.5796347761566176, 0.2149847350591242, 0.3118163058870296, 0.08914171846546759, 0.6214327033510167, 0.3758201060280245, 0.753009163635955, 0.25771890100374284, 0.6300313369582122, 0.12352020092081321, 0.23315254734314558, 0.6514220066326193, 0.5023768685253844, 0.8497468129174767, 0.5423190499600512, 0.6189561914142759, 0.5196326506686634, 0.25962252379672324, 0.829990869207845, 0.6402141260174694, 0.7405181581223884, 0.577941486148344, 0.7467383313211351, 0.7061399203745966, 0.5126296772578125, 0.7515146219801735, 0.5321400624858095, 0.4033030726334355, 0.4815732814117922, 0.730921887806897, 0.7012407716676436, 0.5683926066006657, 0.7042364166023385, 0.31837153437263094, 0.61577966184777, 0.8343570120440101, 0.4911495087373053, 0.7700508836369065, 0.7405563681982565, 0.3887304374550549, 0.705631480056422, 0.6225019976341332, 0.9195694500245902, 0.6996546193760151, 0.2518657024859118, 0.7971706813116035, 0.7776314714784707, 0.4487080783889229, 0.5400480946741999, 0.37110494582150394, 0.5096546426057607, 0.5677496198091321, 0.40659339469808814, 0.35859903216009803, 0.5129001522588617, 0.2766607598244507, 0.27198282479397967, 0.41907036415484605, 0.3960256599305214, 0.7197202855706706, 0.5438370890473618, 0.47615338484320846, 0.5330105004551726, 0.5130543875941695, 0.3676716561530635, 0.44508674810042814, 0.3300408662705731, 0.558438895002241, 0.5671530916200045, 0.5178435166647801, 0.5359767714250241, 0.6349198773834432, 0.35400141641608723, 0.673929453598811, 0.5597974878434555, 0.6361656520523158, 0.33710021721914984, 0.5572390746077738, 0.46615935866056923, 0.41822932417739056, 0.48736695605031966, 0.45353198662897104, 0.36991933824607454, 0.44175025937592977, 0.356667533370836, 0.4467084459654727, 0.4658529685891746, 0.6722118134576256, 0.4263538127391679, 0.3782264510925867, 0.6112507903698061, 0.5956418119298026, 0.6815565841534881, 0.47077973007796114, 0.4844917160464916, 0.5841560681169435, 0.7534169512614944, 0.4785325750885104, 0.5214598353323037, 0.3036537300146223, 0.4868197685999631, 0.2887838748091206, 0.6473345839927093, 0.429841603298717, 0.4219556808977704, 0.4947007385204972, 0.5797689957712705, 0.18610817171192132, 0.436965514715278, 0.2981050456539924, 0.4484010298649969, 0.4717259001577908, 0.446566254108511, 0.5987569259598935, 0.5036067489577334, 0.7792380151620117, 0.409539463213806, 0.7647352449632745, 0.7615634280958179, 0.4564515766395323, 0.5220317979550608, 0.46919079833800764, 0.4604022003607234, 0.4922332877222919, 0.5050086469751418, 0.4946058937617046, 0.5444291618462247, 0.5737356474652087, 0.5108982483937732, 0.5444575632026519, 0.4346298145419247, 0.407761748104184, 0.5316922254333234, 0.39953987117221157, 0.5173463493792073, 0.5659856938752326, 0.37345724670010777, 0.4259088947233706, 0.47437032616808195, 0.6004834038177733, 0.5880064894482224, 0.5671976132658616, 0.5124623243146698, 0.47316463670672476, 0.366034361399946, 0.43668523374736556, 0.5367546423233691, 0.40247415475992404, 0.5588577659095653, 0.8024046450853022, 0.8097063040673232, 0.6665501747383237, 0.7123303242108787, 0.967439632146125, 0.48019870291631944, 0.21358623864953502, 0.746519500656321, 0.9716785667778112, 0.9175925936379077, 0.6137687800638882, 0.7853772675811036, 0.7656940582345904, 1.072819455643791, 0.931413184893551, 0.4146705303374927, 0.9917963691391171, 0.242455691609143, 1.064837061171235, 0.8323815732033054, 0.8167888261306127, 0.9339154444792366, 0.7935018673245129, 0.6584792701317819, 0.6872505790667742, 0.9635701827364924, 0.792925352252581, 0.9505805002422641, 0.6047980662240673, 0.535527514156558, 0.3927838758095955, 0.4000352807500654, 0.4272415626436704, 0.3894186840635877, 0.790118869869207, 0.6393149454382738, 0.7189357743238713, 1.0584405299947237, 0.9584714745609646, 0.6037387639548464, 0.4378665534633678, 0.4848320656023022, 0.7888210957351813, 0.7611202832124746, 0.6579507346845246, 0.7244579804802485, 0.9858733230608977, 0.8508677736918739, 1.0165191805912395, 0.659490898112556, 0.4270684721518742, 0.8865964148980936, 0.24826177328455318, 0.49691934097288354, 0.11923074431119284, 0.6884991695466155, 0.5473819022704849, 0.8964391246087104, 0.3182884821981109, 0.8187686214120548, 0.16217831671640964, 0.3715994001563686, 0.6377664861177621, 0.7076417660511674, 0.9396542426041674, 0.6171326485400539, 0.6329785770120306, 0.6351010144550765, 0.3562701169649039, 0.989232105626604, 0.8742331991040504, 1.055518756904927, 0.6014025389165316, 0.7982821477379323, 1.0350892485463006, 0.5550176349336124, 0.8650292348357086, 0.8153504220237542, 0.7215997948927922, 0.5151790567516641, 0.9395272877834233, 0.6643135393019495, 0.8051960399310514, 0.6692194578090399, 0.43652512138523714, 0.8999902755798619, 0.8891751223776818, 0.7057997327495296, 0.846667302333093, 1.0762066199010674, 0.5016260915939845, 0.8987436858920882, 0.9331855362301562, 1.111388938896847, 0.7878651545052595, 0.4232197835294041, 1.102698072302222, 0.9545358306170041, 0.5433140861587014, 0.7876812731834388, 0.9345336834360523, 0.6255914345209308, 0.57225791319172, 1.0939286585359043, 0.9687666906815896, 1.0473645547105828, 0.21185235916950393, 0.8460449046249128, 0.9899550051000576, 1.0167389791269654, 0.9982116674351811, 0.8276969956033176, 0.7871987074275697, 0.9566825725982633, 0.7871340070600057, 0.5090142410492918, 0.8211857852153601, 0.1959609324935816, 0.6329800388774409, 1.0798510477742194, 0.994975305693871, 0.916096042751053, 1.0983238011372884, 0.7151717733458197, 0.6343125871990689, 0.7252983062446681, 1.0271086493790071, 0.7896522882305483, 0.9178841617893683, 0.9021036661045588, 0.4727067076849465, 1.040221984279104, 0.7749536845061631, 0.22768941653594915, 0.857708005871535, 1.1594441535635376, 0.9462429008347623, 0.6630811330402286, 1.005415616975819, 1.034479368430522, 0.7095949850070298, 1.1144590872060633, 0.9199114447482151, 0.8229934541759261, 1.012887006642142, 1.371905229296672, 0.9318888810594868, 1.1574715513649427, 0.9632727141536224, 1.1782776882744486, 0.5224188961935081, 1.356962123439315, 0.28384141748372027, 0.812540454783566, 0.2554895576565991, 1.0925614756586237, 0.514173593549562, 0.9776860402046998, 0.5485154093103533, 0.9535498153330096, 0.07167854848143218, 0.7908565938786938, 0.9512593113013439, 0.5046001829702282, 1.0175638043361361, 1.2584584890876558, 0.9680024264998426, 1.0174370777424944, 0.4210534481519491, 0.8658018137487804, 1.1990196650591183, 0.860392717911587, 0.7858342647382919, 1.0819475947761907, 0.8638278653070423, 1.129536235107879, 0.9950140751409446, 0.7041560225755916, 0.6197158612467113, 1.312306318091378, 0.8158885905240347, 1.01832861657464, 1.0742336361363494, 0.9727390860037267, 0.21547969932373895, 1.2529481884086122, 0.9353753150128219, 0.5091278540916134, 1.0233364963558254, 0.5289601493114755, 0.6390723579774333, 1.1645503057267619, 0.8575527338660295, 0.979780810919205, 1.0985773282158435, 0.5670488034522636, 0.875052097638545, 0.8301034221471861, 0.7083162268375323, 0.8557080705221108], 'NMI': [0.8720202699005717, 0.914764060643821, 0.9062582963689976, 0.9725433423670864, 0.9225421275680463, 0.9271373860063947, 0.7673267795477219, 0.9028882947834538, 0.9228725289705049, 0.9417752722521966, 0.9324692986288181, 0.8599626209118454, 0.8837806320455004, 0.8665975871996836, 0.8962243863415957, 0.8839510850189765, 0.9248155725927725, 0.8304056480643618, 0.9292979821157901, 0.9360074043936228, 0.8887560641754624, 0.9293611382643441, 0.9280180694508557, 0.8535023496891241, 0.9395416889343557, 0.9420830064344934, 0.9196335484503666, 0.9107600254303314, 0.9116717531643177, 0.8514311228128784, 0.8565790100378505, 0.9048314132479622, 0.9090692425829028, 0.8282204169569507, 0.9368101635303325, 0.9036722366030459, 0.9121927061270774, 0.8556913887425017, 0.8857427480188058, 0.9300716338225339, 0.8293894813613911, 0.9021839284802486, 0.9373911481818691, 0.9251121919309646, 0.918299326078166, 0.9544505528391385, 0.8993609650588508, 0.9203209401785939, 0.909802328813843, 0.9336685690898998, 0.8843347863171551, 0.9343783258937051, 0.8473447117717177, 0.8802170245962879, 0.8110780435367748, 0.9148304412898236, 0.9273884731758568, 0.9372318359158807, 0.7762375206110372, 0.8913845698740661, 0.773566945343668, 0.8108593199709793, 0.9123531393648323, 0.9025092452813057, 0.9356193511356556, 0.9208292349338592, 0.9098780902501362, 0.8986752305284884, 0.8760930510584355, 0.9092816316192851, 0.925106781123747, 0.9129173223616578, 0.9333738055794043, 0.9619761657878292, 0.9086905092898723, 0.8783625798216426, 0.9117081505315034, 0.8880108247624019, 0.9384407415497054, 0.8839025190836725, 0.9171470390372334, 0.9693746061711008, 0.9487017600668, 0.9217936877262547, 0.908244013250995, 0.9358911898366344, 0.9271206948557025, 0.8542953657516452, 0.9532301876276332, 0.9075091495312324, 0.8974808190955252, 0.9472635007554326, 0.9481028464302281, 0.9351693795816396, 0.9530096078932955, 0.8205798409655696, 0.9666568752207718, 0.8928853805177965, 0.8939282776478874, 0.9333976200885761, 0.9807457784098601, 0.9926054222578018, 0.9687661879094831, 0.9709686055031259, 0.9933521826278833, 0.859492466198776, 0.813713158478744, 0.9732493336417252, 0.9916865238013346, 0.9747058055395554, 0.9735610146208769, 0.9534105450509647, 0.9771640447288703, 0.9857453667549698, 0.9829506608384311, 0.835260462253502, 0.9866290724604951, 0.736571023588029, 0.99138614876002, 0.9895216297782137, 0.9870396016815135, 0.9855004289848159, 0.9865199462436796, 0.9642261173245001, 0.9794607249828371, 0.9917698787530678, 0.9863346620119269, 0.9747619957733895, 0.924623981642476, 0.957380846323272, 0.8353009482506559, 0.9395258812734473, 0.8602007481435185, 0.8631594639772993, 0.9866635151693237, 0.9816102694729851, 0.955906966901684, 0.9878867693294893, 0.9893782358538152, 0.9436214277244537, 0.9231345890437617, 0.9845606370597761, 0.98132456706847, 0.9776858457342901, 0.9657779923902534, 0.9780296145873866, 0.9894398944227583, 0.9833044057124312, 0.98688954611113, 0.9767658397331653, 0.8960312042088292, 0.9868067944325531, 0.8582641519293643, 0.8236190075837297, 0.6041767947887957, 0.9821297081251932, 0.9467248636849819, 0.9904538248555483, 0.8279002335452281, 0.977559322179705, 0.6384301466409075, 0.9663752424384215, 0.9530408692203083, 0.9824885356795192, 0.9902817669079036, 0.9747547273200705, 0.955730183999018, 0.9762463715284653, 0.9848251622696504, 0.993150749893033, 0.9921341164517097, 0.9884562404770643, 0.9428078189232749, 0.9884383039814482, 0.9632403401467924, 0.9516549353660035, 0.9894450455169954, 0.9178643802224578, 0.9883447259153317, 0.9820772694159583, 0.9925986588205697, 0.950905416259664, 0.9252461148161206, 0.969441037307865, 0.8695614919691581, 0.9852940365867466, 0.9836270482734009, 0.8225773773420495, 0.988288267846432, 0.9917128584408723, 0.8779542185450626, 0.9918362278663928, 0.9726816116419998, 0.9777389091641375, 0.9677344467509339, 0.7661296946400753, 0.9885222216576919, 0.993108598274735, 0.8852337905829715, 0.9791910064718465, 0.9368696939948009, 0.8560324401523571, 0.8880879346608728, 0.9462777865280594, 0.8948949297665894, 0.9265732664457795, 0.5977466781540279, 0.8728793312009886, 0.8887787923661434, 0.8451916949191194, 0.912694034362741, 0.923961910320729, 0.8706726526778417, 0.9090874541281388, 0.8870296718425841, 0.8722463518058845, 0.9041239281367814, 0.6199711205853131, 0.8769527371570649, 0.8909247344871267, 0.8412238774564638, 0.8981082028855958, 0.8646335416586806, 0.8656854154895339, 0.8223275423287921, 0.8657720669414701, 0.9189213220902852, 0.917300046179133, 0.8581612276719368, 0.8901177751127609, 0.7733519432872307, 0.9303014749334626, 0.833207227010291, 0.680163744581068, 0.8431560433745946, 0.854335249391664, 0.8714362081967202, 0.856555417789234, 0.9151710864173577, 0.8892518638142399, 0.8715254659864782, 0.900050064788708, 0.9080134194368488, 0.8079040674386821, 0.8331686035680983, 0.8769473728233663, 0.921511192451534, 0.8720423012933325, 0.9452946085601828, 0.9362122141969555, 0.8714928860508859, 0.8765154201239522, 0.7779749886986191, 0.8704742146719027, 0.6826235148440114, 0.8705906889788262, 0.8101032918882971, 0.9288273602163626, 0.8037028851354828, 0.9197322642387198, 0.6402260758446134, 0.9133786816786862, 0.8640756988470035, 0.7858955474725131, 0.8562874582990758, 0.8750287781974977, 0.8554088620367566, 0.8088948826072484, 0.875941975829402, 0.8501572271828599, 0.9132995380362832, 0.8670490267608546, 0.9384871490629594, 0.8943568564169431, 0.8998030326967359, 0.8926720957123493, 0.8886380658653183, 0.8377797052345157, 0.9366808666109085, 0.9312081553714382, 0.8896916120258211, 0.9160238769063009, 0.8764957489827743, 0.8568821432809064, 0.7888369185901276, 0.9211240773438092, 0.8787543804358724, 0.9063816735814101, 0.9619928209518387, 0.8596943963302206, 0.8420579490980844, 0.911040298400198, 0.9032954319459543, 0.9543590637758002, 0.8345477915877106, 0.8956409678232224, 0.8355020098546955, 0.8501999398693181, 0.8505841084078702, 0.886729660093335, 0.9229192120304397, 0.898572490426943, 0.9140548569755675, 0.9000599055288925, 0.9579049793269998, 0.9108396649957753, 0.6396324506372311, 0.9020990304887135, 0.9588762202754717, 0.9266290098950993, 0.8967910871592415, 0.9557382429787966, 0.9172849594674797, 0.9543841654512404, 0.9025606463068114, 0.8249974936489399, 0.9491544828361311, 0.7864637220482062, 0.939175206628214, 0.9221029707670465, 0.8699213138433517, 0.8999142803608691, 0.942980040682285, 0.8475852546061102, 0.9545946876936686, 0.9666167374070227, 0.9485927188193863, 0.9623229227068728, 0.892480229236261, 0.883907187525174, 0.7639830602092725, 0.9179875783880109, 0.9111004555305702, 0.8130635145592562, 0.9525089280173928, 0.9499543648316031, 0.9321098462734161, 0.9765914677177976, 0.9611390188680682, 0.9397353846585226, 0.8680954183437568, 0.9412530856656816, 0.8825218711358092, 0.922277408672896, 0.9533747719725878, 0.9457693194247663, 0.9461935931703702, 0.9410483940413075, 0.9702439693144997, 0.9564214110026608, 0.8912570264051751, 0.9532485712802312, 0.8893062241448311, 0.9473210920731017, 0.7251876585303376, 0.9503268146478363, 0.8849949825450558, 0.9179135235405378, 0.787167803529673, 0.9267463065291286, 0.7827276487848478, 0.9151530761350073, 0.8652368086337772, 0.908894536819435, 0.9584503675462801, 0.9563450276218348, 0.9159333735792423, 0.9389922644875972, 0.9111876327616277, 0.9701950085488305, 0.9506927425197675, 0.9475327796663815, 0.9483606452570508, 0.9141535087593502, 0.9454650027922689, 0.9521899473609761, 0.9248095533190446, 0.9015116309954139, 0.9424596883690821, 0.9738418649945995, 0.9633062715983163, 0.9436976487838724, 0.9326178972916699, 0.9412499310018838, 0.8868848765783517, 0.9649260456288635, 0.9677581720074351, 0.8695530844410315, 0.9393009918613533, 0.9424096168940028, 0.9092055595883111, 0.9563010211771046, 0.9286005831858737, 0.9533512869898528, 0.9232634104582427, 0.7965624550478241, 0.9415690934603016, 0.9846133125112395, 0.8856195013534363, 0.9049884197238376, 0.8875206023753586, 0.8998243897103695, 0.8748086587955539, 0.9140886640133761, 0.9287614884919726, 0.8520972236048572, 0.5131748068872977, 0.8877278783317397, 0.9327098040239841, 0.910100868085731, 0.8449724014563773, 0.8373809335486293, 0.8812047340651392, 0.9112734621279655, 0.8961902847221475, 0.8211035882973325, 0.8848094382186518, 0.6487945949364933, 0.885875079588043, 0.9186842078043003, 0.9056347164967649, 0.885452215658703, 0.9174961079256128, 0.8466791843243286, 0.8718956167879794, 0.9161264181553463, 0.9004866989519211, 0.8845044371358455, 0.797630377293014, 0.8173089023607492, 0.7184675014206576, 0.8121206491775192, 0.7959056851835391, 0.7047606399825745, 0.8768789392467682, 0.8810849529257443, 0.8575650359150793, 0.8747836567617053, 0.9260283079582845, 0.8124257622426905, 0.7393114252243695, 0.7644827016174436, 0.8612483301322493, 0.8343039457822987, 0.870796723419381, 0.8830655731321329, 0.9105538127689727, 0.9369898131757739, 0.9268063190246165, 0.9104613770554482, 0.7565466750482899, 0.8775083108372934, 0.7018268743348104, 0.7433732169777385, 0.5759196557035742, 0.85061339851075, 0.7874609764749825, 0.9141655694372461, 0.7502819702735528, 0.8820941396492132, 0.5923467479345885, 0.7332396681270399, 0.8769671339606178, 0.8502546275991916, 0.9419558935843435, 0.8484749114527592, 0.8915998778407286, 0.8210383781410517, 0.789898846661393, 0.9320924973001894, 0.918442581809493, 0.8934243970576385, 0.818661384110795, 0.9069801912130808, 0.8200512871097165, 0.8735673716192682, 0.9384999480892662, 0.8208087091401468, 0.7964205213983013, 0.8102883481234642, 0.9250547206994322, 0.8983984469102411, 0.8275773057488882, 0.884769145423121, 0.7658112989750365, 0.9025113670834273, 0.8952006162149744, 0.8393785073179381, 0.9057310230878601, 0.9277069058824627, 0.7957560172877574, 0.9267127495792606, 0.8719306848401613, 0.9247954187677767, 0.9054773256557183, 0.7064436204911635, 0.8723761390447182, 0.9471352449333044, 0.7941354308709057, 0.8543597080413694, 0.8206686332909625, 0.8213159174718989, 0.7876779794478257, 0.8414657707235542, 0.8269216425221777, 0.8477234698943965, 0.5758840298916519, 0.8075015768500748, 0.7983674587138225, 0.8234725605919457, 0.8197573500107134, 0.8467556547693982, 0.8358328935114079, 0.8593362042767787, 0.822109272489441, 0.7636530743936938, 0.8570762551786604, 0.5883310779334283, 0.8806769443724327, 0.8556935068899334, 0.8018504480312041, 0.8506994689768761, 0.8269940426344091, 0.7826922637556151, 0.8538809573519186, 0.8522194547808086, 0.8551781184689067, 0.7268538286912845, 0.8526821086318146, 0.8330698207366762, 0.690223964324931, 0.8780264660951551, 0.7803553338380544, 0.6794667865737694, 0.8534802838126343, 0.8041634866643295, 0.8444708073014684, 0.8518835025994451, 0.8635510781304214, 0.818891128450242, 0.7838887219200328, 0.8868805944212248, 0.8631440039722966, 0.844535815016854, 0.8597354493210403, 0.8656472290966688, 0.8487988631882624, 0.8661488881286301, 0.8123242266666846, 0.837391509040285, 0.8033966436242697, 0.8630291002889936, 0.6752806599794821, 0.862713385288755, 0.7084755114704242, 0.8462194627897734, 0.7855098777652203, 0.853729706092343, 0.6510783584193862, 0.850690819657431, 0.5971117569687343, 0.8384840709816976, 0.8316655046029175, 0.8464504232174517, 0.8113479889519226, 0.8679847726739571, 0.9000076353903539, 0.8210699552922205, 0.9109129810674055, 0.8810335073509281, 0.8543125511299319, 0.8509284217543707, 0.8556416392661035, 0.8466478745835111, 0.8419001823667878, 0.8248596171435207, 0.6987649852077615, 0.8504937843950453, 0.8442643928441638, 0.8409323190101561, 0.8754967041538599, 0.8321198891672958, 0.8281671265227661, 0.8796249799404352, 0.7743218926741255, 0.8824217113652941, 0.8420801640416047, 0.7760679897262097, 0.8354735119100742, 0.8336923863705801, 0.8649370740056881, 0.8633582797309711, 0.8525985563625493, 0.8581848882524001, 0.8350207969222581, 0.802988069599933, 0.8441499255426741, 0.8747474653184091, 0.7833439269522104, 0.836759560511821, 0.9158279836912548, 0.9551364187937443, 0.9030477654053704, 0.8818271028879978, 0.977767419969523, 0.8031345834836485, 0.6023363787333207, 0.9190412232236174, 0.9650345011075954, 0.9280361112506692, 0.8778206894732641, 0.8422053860254928, 0.9048737680178212, 0.887098549686298, 0.9306759877745425, 0.7695836917905916, 0.966178050927355, 0.6051792643254674, 0.966105669811772, 0.9617623686458976, 0.9457899628774578, 0.9470542937718618, 0.944299579571878, 0.8763272271250326, 0.8966830854797936, 0.9631959657830347, 0.9389865512317725, 0.9111130840553483, 0.8060941073649588, 0.810312254451695, 0.7578888065994303, 0.7615425785281518, 0.7549956951020016, 0.7295774904630721, 0.9189390012729544, 0.9063123845131436, 0.8996003228308407, 0.8869496773027565, 0.9713201964236127, 0.8262174865578367, 0.7155945358872773, 0.7341803179212927, 0.9299866265862984, 0.9254399832215585, 0.8815263960881681, 0.9222781041619448, 0.9495555988356743, 0.9486750347107717, 0.9296425164667055, 0.8770553224965945, 0.7418947401909284, 0.9587116727204223, 0.6473095441886894, 0.7170112191223148, 0.4105752899291779, 0.882286081408066, 0.8492026816640375, 0.9612213532674998, 0.6487902219596033, 0.9247096792490457, 0.5579909500830298, 0.7104936145562724, 0.853967510635145, 0.9157381298617568, 0.967857185541201, 0.8777958792095646, 0.8876993988160076, 0.862728088921723, 0.7616700799435292, 0.9765831608461875, 0.968160529156205, 0.9409892786196377, 0.787058015192047, 0.923473003580203, 0.9210179104612963, 0.7806613682607406, 0.9580493606225275, 0.9144720591082687, 0.905811072225932, 0.7877478584841056, 0.9729602415397829, 0.7906477144672117, 0.9275625497015358, 0.8776485216616745, 0.7815845040443747, 0.9579951991299336, 0.9512294911677681, 0.8537507464740477, 0.9351609398367677, 0.9722709260822113, 0.8083276294472399, 0.9677643106757954, 0.9421535609160505, 0.889531935533171, 0.9249505038710784, 0.7337388487761585, 0.9288309312434126, 0.9818551408642195, 0.7980425329933174, 0.9218490302740898, 0.9680973519516274, 0.8650712262023543, 0.8759082501024997, 0.9834757497082369, 0.9737311504206827, 0.9726640089079586, 0.7159038589811944, 0.9446488139574065, 0.9827804516156835, 0.9852127432183124, 0.9776909322052827, 0.9447323390582505, 0.9372579823783709, 0.9825943364306111, 0.9307816583215811, 0.8609902905480769, 0.9450635252620982, 0.68454586332129, 0.8852455713806808, 0.9825804695393954, 0.9529708887272637, 0.9559029707994882, 0.980372915194146, 0.8913755674901307, 0.8832329445421279, 0.9101697321145048, 0.9536783828808655, 0.9266860641502803, 0.9590031665046188, 0.9395809751344777, 0.8270183872987418, 0.9768202895398552, 0.9173607243977482, 0.724642149674366, 0.9327232859886252, 0.9493585672737117, 0.9747765771706276, 0.9250392253713797, 0.9793304916727978, 0.9778418238759221, 0.8937064741737746, 0.9607268670611875, 0.9569595352460192, 0.8629454897712392, 0.931542560912533, 0.9618109589881965, 0.9693944849289737, 0.9786344218502063, 0.9808083108221255, 0.986443435079932, 0.8392881067668578, 0.896374940725114, 0.7490243136249186, 0.9188976432494915, 0.6614749221128964, 0.9227721166461904, 0.8128837344778488, 0.9754030964589244, 0.830756959661141, 0.9694212185925126, 0.5255556954413594, 0.8712405544001021, 0.9631992785872563, 0.8084185667875292, 0.9769074935091753, 0.962049134084171, 0.9673309637954228, 0.9769091492993451, 0.7355850990065844, 0.9559810136277178, 0.9626669938820083, 0.953831331905796, 0.9123561110382272, 0.9848469875269297, 0.9668756306755883, 0.97917002863393, 0.9776466897455625, 0.8471837396717663, 0.847983864172362, 0.952056632173031, 0.9407033245424019, 0.9866009932278459, 0.9751424509817785, 0.9727868303075169, 0.6990732305485916, 0.9373916364345412, 0.9659890651232044, 0.8257855539860457, 0.9843862656505915, 0.8164137493773422, 0.8896784043099402, 0.9715299784234854, 0.9419665886089525, 0.9844373183691006, 0.9769359290980077, 0.7932971109903653, 0.9582517906312156, 0.8684750346019652, 0.907152558300091, 0.9594752811230496], 'PSNR': [-13.379164580511617, -12.674959708815624, -13.900364173377325, -12.192179904125952, -12.00073946751038, -12.823146726344037, -18.481662537330433, -13.170913275261393, -14.127209880429987, -12.365987543802767, -12.46198389815923, -15.416834394636876, -15.254628911851713, -14.459558277230496, -14.313994453621678, -14.1067474778824, -12.00170806679413, -16.233963231788945, -12.111233591134468, -13.904428959996789, -14.994060294002269, -12.568866447699525, -13.387654676065612, -16.645476014307476, -13.19461913492177, -11.523443727498801, -14.018416754258675, -14.267902565982576, -12.842297949323331, -15.404845203833023, -16.21782113900703, -12.708677840732705, -14.791151051404253, -17.357054318488974, -11.818319070949947, -12.484195933396247, -12.413756508514059, -13.215528818400717, -16.37421783075332, -12.704032383053132, -13.916870999798865, -12.31374017296173, -11.779204593790338, -12.886523540492007, -13.928500082254585, -11.179784098078327, -15.436978331679441, -15.674376628804767, -12.437955017958329, -13.515067915287428, -14.754176527734366, -11.702461946183282, -16.106693870165493, -12.636894945729411, -16.54675714764652, -12.899404373587721, -13.636930011241951, -12.212654159120609, -18.004662369904715, -13.41173293303764, -17.377658702971466, -13.866238516296256, -15.428616513246284, -14.156781234975346, -14.826183908774485, -11.942244416100614, -15.513781962584552, -13.484404312735322, -13.459881590404274, -12.755191891717208, -12.331185276139909, -12.651688493203878, -11.717306793708776, -14.059055939184935, -12.923202616240129, -15.005099446661067, -16.005625974947577, -14.203548933277304, -12.112752730053822, -12.985395133946938, -12.790878274611547, -11.983305695094515, -11.10801893903635, -14.030241923033477, -13.80998818587371, -11.742116202410337, -11.967692133917415, -15.568452673996484, -13.006920159761439, -12.477077701444086, -15.345753419930396, -12.466482466900606, -12.20637319513429, -13.11711805945459, -13.460312752757883, -15.121055872206794, -11.270621600254568, -11.90280726359671, -15.772663780733922, -11.897350235879351, -15.521180141751255, -14.146182234349267, -14.7178222457089, -16.134165047614623, -14.358686324222553, -17.392056292576214, -15.636418722458341, -14.403185828265041, -16.158576830162893, -15.980910206003449, -14.028311394608327, -15.903021110105712, -15.232615676949566, -14.627702434056678, -15.175472433627972, -17.85093567402705, -14.459373212187268, -18.83115612249402, -14.593747218273322, -15.41033711336013, -15.830985199772824, -15.454015465641291, -15.386428763496962, -16.439425031054352, -15.365689301797918, -15.479446091605594, -14.92569316625687, -15.55235281743313, -16.73982674981027, -14.386202756142026, -16.955751533906827, -15.71178306784402, -18.076191959636116, -14.60085432162122, -15.233258997955058, -13.832295119185364, -16.559952595292476, -15.156849835751299, -16.302206055805854, -15.633903969245335, -16.46617935606811, -14.360639822916195, -15.072927981518138, -15.030901283419094, -15.023226015519015, -14.150285345428358, -15.7431466212281, -16.303123646745203, -15.448633924276294, -14.8987925032826, -17.784097856818196, -14.059137410760641, -15.28751421330676, -18.721551236924025, -21.415961349829132, -13.960763819161912, -14.969511535253261, -15.228949080848137, -18.33120287025621, -15.774541874615917, -23.35352549138362, -14.467171412317349, -17.21101666385457, -15.000290653269095, -16.119143756825906, -14.11533144846868, -15.261795141179404, -15.197578503527962, -12.698852594968402, -15.306306436874264, -13.760225529357967, -14.947171835565918, -15.873418969519513, -16.918073907213447, -14.145401992396373, -14.878136979419082, -13.846406855918431, -17.345892502100345, -14.852624356778694, -14.355016495114013, -15.161005151528302, -15.983849053739299, -16.5874880630733, -15.661514332262218, -16.616604037444954, -13.917863319575567, -15.568088367302163, -18.686116135179557, -15.933029685017638, -14.505028989354765, -15.429617694873736, -15.114716507518967, -15.379316484610712, -15.552489004436715, -15.881366713065614, -21.08806085280928, -14.286098252307466, -14.557674729220809, -17.793074362350442, -15.252245849001508, -18.966106422249595, -20.569036380474923, -18.8320715804414, -18.26235377362625, -19.553399537243557, -18.373281109807976, -28.610781304409223, -20.01633065930828, -19.24731800907568, -19.876903793680118, -18.508749150900346, -18.391691089468143, -18.863857088860644, -18.917961566011325, -18.544786896466533, -19.064677364573875, -18.43812574545382, -27.959991003807826, -18.768601600985516, -19.50946827820263, -20.605582975484626, -18.627890214863786, -20.35880037358482, -19.670702693785017, -20.616371145422043, -19.38079094251361, -17.921129733976148, -17.857747636000543, -20.316617551200345, -19.606327953188817, -22.88265054676387, -17.835964582034126, -20.6813406954881, -25.179558190421638, -18.859906203377893, -19.17122280704166, -18.78747501207696, -19.615889227396714, -18.526165022099043, -19.28994097202174, -19.388870128193968, -19.175987035356016, -18.966554043973318, -21.98234057259869, -20.383768694794266, -18.199115820244717, -18.86899928586014, -19.957788181435927, -17.12103847631478, -17.3842107361423, -19.207969177405637, -19.314600217670247, -22.859903696045603, -20.10969281242392, -26.218610049888248, -19.01084003609514, -21.436598878080638, -17.928202726941333, -22.538368653387806, -18.151617554585115, -27.703580160834278, -18.076712903950042, -19.789306635187657, -22.446535293384365, -20.194993330076258, -18.188953190473942, -19.910219765538265, -20.59375048924015, -19.40740529265925, -19.639698617279148, -18.712796979916636, -19.576205549329806, -18.712148573633094, -19.08391209614582, -18.757811284919555, -18.84530168101785, -19.229843305623856, -21.104523820737008, -18.056474300265883, -17.524047603180676, -18.437039096902527, -18.195808321371707, -19.104707878292146, -19.911891375596934, -22.018611855448494, -18.522914566847696, -18.814944172197233, -18.918256977038443, -18.50847689514795, -19.381549145530602, -19.97834141816544, -18.764644355729793, -18.475169541146133, -17.294180539753032, -20.803017584326618, -19.278944769408035, -20.299626982417056, -18.77866619989639, -20.036585874956018, -18.884260521345833, -15.160707844735928, -15.90862708500877, -14.034822611932663, -14.736216482507274, -14.369668378931348, -14.487434277660123, -21.36017992832558, -13.895981683537833, -14.015500245921505, -14.098178600069055, -16.124716972150033, -13.110099092577745, -13.835669039526797, -12.414442142288964, -14.49273166904992, -16.315336121714548, -14.631813312894932, -14.525488835097583, -14.770015138165595, -15.331461077741643, -15.472703158372216, -15.808967553131797, -13.289203531396204, -15.991456103950481, -13.545200778490397, -13.699130194340007, -13.188089862398215, -12.926928887100717, -16.131177297739974, -15.868506401503524, -18.296916889289868, -15.437278917362796, -14.577078913755528, -16.171712239530457, -13.617576501533023, -13.519367262597587, -15.210366896402155, -12.6216459975623, -13.497655531068006, -13.887889237394976, -17.47261881911711, -14.784456399368903, -16.550372849847395, -13.593836957743903, -12.520729165824921, -14.285318271787554, -13.912154685156723, -13.597344400134265, -13.220233846434882, -12.163127575717292, -15.04376950710872, -13.83481919509152, -13.772011547802922, -15.029084820076704, -18.494087989613128, -12.954698803445442, -14.307713648696993, -15.080278257686466, -18.31476732988438, -15.129369299255613, -15.873826157288761, -15.28384853487309, -16.508527079882786, -14.720070901098211, -13.896676130773816, -14.080182117851074, -14.165701594615058, -14.288163372180398, -15.56910351994703, -13.83330071266451, -13.9811560212712, -13.815517928957357, -13.551629849608995, -15.163625205365925, -13.802534339512153, -12.917184390706215, -14.044213464950433, -14.369416143686832, -15.185999759576125, -12.628366441206612, -14.704943764150647, -13.407459751024993, -13.990610719832794, -13.3990505006113, -13.774811663326938, -13.848366556215844, -14.232054433381606, -15.752629705586775, -13.88202745457284, -13.963268008272166, -13.621894873276052, -14.256673987015088, -14.67734406852678, -13.436751204542734, -14.700966238893379, -18.901202992039224, -14.080271972187486, -13.09155605141096, -15.309037435698833, -14.645792509010395, -20.809939438208076, -19.72374268854401, -20.714028384159178, -20.310811200485276, -18.997176998352934, -20.974881301626468, -31.987701857590775, -20.230544753138687, -19.55835683467528, -20.053418374330114, -20.4698193665508, -21.73966280495243, -20.929225084088174, -19.208620402285035, -20.019847778339436, -22.501487359280972, -20.091892673319165, -27.27471938279956, -19.5659218547295, -19.758344564660476, -20.58875663251161, -21.22225379762956, -19.81892799946174, -22.424101236920503, -20.96055602331187, -19.37998621378677, -20.472128410620666, -20.248963312503783, -24.141448357745816, -23.42428168315161, -24.89674227626644, -23.381875553426248, -23.00715137973637, -24.74894383820249, -20.387994914483993, -19.370716557723956, -21.304579939773802, -19.966675797862134, -19.83399242783323, -23.33661729459927, -24.834380730358482, -22.767408351588404, -21.336861048710194, -21.505217143596443, -19.883690352000727, -19.112491657409265, -20.579148723538268, -19.444241072713115, -19.010164521836618, -19.518832877117, -25.405035641607757, -19.963312535895376, -25.465648956401232, -25.376575392043243, -32.53303757183003, -18.914270219278475, -23.660482024716643, -19.59301200679725, -26.869222522494574, -20.85612693709227, -29.58711395433553, -26.040153597315513, -21.994958144484876, -21.655183084374148, -19.41268481618659, -20.308652567038127, -19.92198401731317, -22.75294072765353, -24.64773389077948, -18.85624781092577, -18.42015286034806, -20.347141964549795, -21.549496994710843, -21.152495388191998, -20.237447964750718, -21.234644716585308, -18.172498657842098, -21.91682353003712, -23.05144412400749, -21.1139191303852, -19.288038333005787, -20.871839150172896, -20.979830335528582, -20.31497823841686, -24.36289042588131, -18.904035228012344, -19.61407379778284, -22.709608498466636, -20.168542975376553, -19.042451944735227, -22.946348318575325, -19.421249079559235, -20.491431960592067, -19.11063759481085, -20.489949432972363, -26.492562889018018, -19.494485678451912, -18.08756618650784, -23.93847661985843, -21.5781681464466, -15.468745728650177, -14.18774114556689, -14.950741948587456, -14.835870693994583, -16.892012237854765, -13.633283183320042, -19.806897966078033, -16.481351425587793, -16.507436218359956, -15.31744053337203, -13.166652013160663, -14.162560268179917, -13.309527587847702, -15.18671878138403, -12.834500873138467, -17.66508788507023, -15.061666906365636, -18.935076380462142, -14.697819478766048, -13.915456979922089, -14.90865708596742, -14.484446316650427, -15.033277623622137, -16.143295839166388, -13.1111741606992, -14.342737917522975, -14.72188701208034, -18.969083177633145, -13.956222026225278, -14.948459808870203, -16.185422823970175, -14.010222071690963, -15.98706918097501, -17.394599361080104, -14.918792419487467, -16.462409541103614, -15.527530621214542, -14.265387492647957, -13.968824840888628, -15.821373568171646, -17.544282487975973, -13.607130720871206, -14.638420487872539, -13.322396133242826, -14.971523873436958, -14.730425959273548, -14.484775676773008, -12.819866288966452, -15.772988023370226, -14.717076991320777, -16.730394201873125, -15.616441968754948, -18.028946948858803, -14.696161640739422, -16.22793450200119, -15.307107909658438, -15.972179208485146, -14.099886505436283, -22.68956351842967, -14.754035300899469, -19.088953693832885, -13.778538431771379, -14.8361382309663, -15.336983784193816, -15.840003401217025, -14.046886553939007, -13.550116009174204, -16.0417150101281, -12.038001223555435, -14.063887201542627, -14.077251039697869, -14.920884000143078, -13.617932185549549, -14.40994473703855, -15.041598569458419, -15.155664425126075, -15.983290151976163, -13.914894965542171, -14.073022916842534, -13.739600654286779, -13.959805170742763, -15.674081379854481, -16.396808256505768, -14.666059505674344, -16.940753736721767, -14.091329326918206, -15.005745791305593, -14.016570948242983, -15.197253004080263, -14.57087838449391, -14.511937062606265, -14.937161431942377, -13.938346522301766, -14.077425245266468, -15.102175372752015, -15.309618227922657, -16.016169867671167, -13.789627327589184, -16.5535065643218, -13.33251369434146, -25.02268549122961, -23.665389400029973, -24.36961575625435, -24.96482113055211, -23.11862837765238, -26.163995296037264, -30.269120656238854, -24.986272912592746, -24.244347720239617, -24.871508756287657, -24.083467804325316, -26.14761336699642, -25.207088378384903, -23.300852258824772, -24.3471336763823, -26.91204242173692, -22.998085282583403, -29.40183898541346, -23.547688991773164, -23.263419052028617, -24.084608647425018, -24.32632293605481, -23.979208469759342, -25.862444361503734, -25.154657556081858, -23.55949773804162, -24.53069313791871, -24.54718428950696, -26.72852939094547, -24.61632575648771, -26.687378038508896, -28.444321720699666, -27.638565061836143, -25.382775395163367, -25.130002552701292, -24.43855269927446, -25.492820639154054, -24.897596247688952, -23.494584380303944, -26.672781557208836, -28.785358173213396, -26.65740365230498, -24.436189901251634, -24.146474759583914, -24.16253547667331, -23.57577768420954, -24.400336784793225, -23.221449733108667, -24.214731068786346, -24.729523836968916, -28.814866239728364, -23.263846479261208, -29.109333501791475, -27.22681456531625, -34.81324043420545, -23.211105022500057, -25.871025128773525, -23.797434243828057, -30.6934714923981, -24.58160010681628, -31.217409632125843, -28.32340693948174, -26.810793567564172, -24.897552836863042, -23.292837793431392, -24.389416341947513, -24.221912929347376, -26.129807891070442, -27.19752673411586, -23.135800643489965, -23.59723491357197, -24.50515863253226, -26.51614168607217, -25.226443116336963, -24.061982959186608, -26.18739105977575, -22.09159718017765, -24.057497885322597, -25.38523767619885, -26.254658937429326, -23.175216246572433, -27.637323123241213, -24.806602436353373, -25.63892244777699, -26.85058741431458, -23.569636983650785, -23.77754830333073, -24.923447344478696, -25.11688135845372, -23.21009269512361, -25.22355413601998, -23.04726865308842, -23.42681059495399, -24.40033950487023, -23.423354034778754, -28.46001680875161, -23.49472204936539, -22.864902072045968, -27.28389650003138, -25.593106560179454, -15.612022264436032, -18.293384351448545, -16.87629670498888, -14.744331935165263, -14.933678739237672, -14.350009168182641, -22.73944148456288, -13.76924169296511, -16.2477832013603, -13.391429279008262, -15.472748479926544, -15.269810322937811, -15.518948200044276, -15.432493876166486, -14.710908241230701, -15.934570214486003, -14.409395737724061, -24.09870987414716, -15.695363975889459, -15.90330974547366, -15.731357180320675, -15.436185172113863, -13.835514193351974, -17.801609780161662, -16.799710802781476, -14.665025218851211, -15.425303232883575, -15.888665841997934, -15.176810336624452, -16.107331358516017, -18.153968811898793, -14.365986469452416, -17.374520616766375, -22.190575918990106, -14.780522051790076, -16.094816450757207, -16.431176694186796, -13.30526704105724, -17.023268959813635, -14.967265261946444, -15.968467343476394, -15.914815047086384, -16.268484478931363, -13.950558052876456, -15.526065277931547, -13.923084199819728, -16.12024330095862, -15.408114374326374, -14.335350307288326, -14.617672766017286, -19.493038152312813, -14.026144734973265, -21.21296239878468, -15.179621223066292, -21.461807260957126, -12.964608229550407, -19.289404734865904, -14.679829325097648, -18.71040793140594, -15.766281610571514, -31.097286587263092, -16.580004222324966, -16.1083297904624, -19.122876076465595, -16.500547451507042, -14.46862235129329, -14.901806202503682, -14.814002267645481, -20.25931482305282, -15.816183015038298, -14.853599396565368, -13.913412788203694, -16.054106658927736, -15.655478114159568, -13.392893180414715, -14.520047982415011, -14.371372756152699, -17.62991819371775, -18.54918735886105, -13.95153948645573, -15.957548905199431, -13.800424722670364, -13.552990814338951, -15.656973778114383, -21.62547875337686, -15.853389612914818, -15.203696518162811, -18.422008862158275, -15.072168391979499, -18.84104837829343, -15.378561710572843, -15.915151237861645, -15.53804671096611, -14.751612752360387, -14.901688139835645, -19.221807323586305, -14.495928845248757, -17.83143265210772, -17.258520781203902, -12.964932836128256], 'SSIM': [0.29489855304576496, 0.4157377745226889, 0.40534194144810654, 0.33630307824438144, 0.40546135371861536, 0.34586590662197125, 0.20751085464495633, 0.38915632112560306, 0.27367332262723265, 0.39975245829941075, 0.31155391491835605, 0.27273736696056117, 0.28059175262359626, 0.2358557222672264, 0.28973750479380833, 0.35640639071594393, 0.36785991731785195, 0.29697823238024545, 0.3395283964270418, 0.29836591433108206, 0.24835179184419143, 0.3369630206570603, 0.36555172293063143, 0.2402568247101401, 0.34268595135326396, 0.3290019206727547, 0.31498236266888513, 0.30584352159888295, 0.33331459782021655, 0.2432337741146533, 0.27199368770699317, 0.3625569362065332, 0.33014615399880853, 0.23340094529498445, 0.36235961014622176, 0.32469578473453886, 0.32278079345579724, 0.32801275401862284, 0.19398397423562208, 0.33976089039107327, 0.31315623095712153, 0.3142298775865159, 0.358002784515135, 0.37028478784663843, 0.29849900118901196, 0.3431269576390755, 0.23999390586458114, 0.1865936582113844, 0.3861914687942254, 0.32927083047969974, 0.32507967711827634, 0.34637531134407096, 0.2891930127515697, 0.3211873397864776, 0.25957053513813355, 0.3135983597404688, 0.4200541737186815, 0.3297952002504808, 0.21716234453573457, 0.2901591744287858, 0.2277217375170557, 0.2802065922063276, 0.2610367831318273, 0.33883607938463445, 0.23494583072787167, 0.30831399454041764, 0.266620154964318, 0.2893055479625669, 0.3066493823294225, 0.2788559509921956, 0.33296137234002965, 0.38930925837459684, 0.3554798520606953, 0.28173309366820665, 0.3182732643290044, 0.2592850817237973, 0.3136929939562112, 0.30583132673202673, 0.35493236710971543, 0.2912676128774646, 0.3019380586193443, 0.36341023937122374, 0.42522219387770577, 0.32851144433199975, 0.42399652324856685, 0.3370255855393137, 0.30540784441580293, 0.23994322568162751, 0.34264529017302614, 0.3374109046920428, 0.2824937059337772, 0.3033926220761721, 0.31337245381209167, 0.31743674904892816, 0.2691803444979227, 0.3069336259676584, 0.3739447721221886, 0.3324357577855851, 0.30714458295872005, 0.4362032055051066, 0.262884729997538, 0.3389238677669163, 0.3080383046540952, 0.24863208580574836, 0.3049970167902313, 0.24360845892226368, 0.5210727947301086, 0.3870011935215617, 0.21053945670092578, 0.2574684147309232, 0.33424587975789355, 0.2600212277311673, 0.2747526592222638, 0.3084916570139985, 0.26787129413646094, 0.2816546622115088, 0.3049693176098697, 0.29549574887585184, 0.27405555388261327, 0.25129092816870946, 0.23261351519277162, 0.24383833766399066, 0.27834444725639296, 0.22225714429429155, 0.25003855815704, 0.22626933420947382, 0.29066834790074625, 0.26379848218672286, 0.22689301467379586, 0.37024503556182, 0.3019276791110729, 0.2985837621667725, 0.19729839234607172, 0.4621188686652189, 0.2674232009513856, 0.36408650748834037, 0.2045665278851304, 0.271101763816599, 0.1890738893335785, 0.3097657408773621, 0.22479932602837172, 0.27934027947385187, 0.24528290576053602, 0.2860082785762622, 0.30759370647729656, 0.32327219262648155, 0.22874212355235335, 0.20075199815463485, 0.24599361186932722, 0.30800856184476844, 0.21937278274481586, 0.31308776850447984, 0.3931663321416784, 0.16745238190407508, 0.16797868563306384, 0.33642610327053635, 0.30860296175052204, 0.24721376902531633, 0.2547068609607184, 0.2408365547280794, 0.17771721615300162, 0.3239125906320651, 0.19056442922794703, 0.29613698294783575, 0.19267795767121587, 0.3084529913843128, 0.27156948917596324, 0.28876053885873487, 0.41348800175413547, 0.2254090797511058, 0.34842309238732116, 0.277093041157615, 0.26318984769058285, 0.1988964397406502, 0.34277749992484474, 0.333000541657266, 0.324311858723045, 0.1979843096373073, 0.2658132117013233, 0.31889055332269456, 0.23346848420668265, 0.3037954280301318, 0.2574754133958299, 0.25743797322635886, 0.3076557331906682, 0.33037306397287736, 0.21014348590974075, 0.27071066116427644, 0.24004372721578804, 0.2893628445505986, 0.35317539218858673, 0.23770962649327887, 0.250437445846182, 0.24575069568499208, 0.255249332303188, 0.1569634232096554, 0.3229494965787234, 0.2947278935951104, 0.18851364550535743, 0.3054422164550882, 0.3525210603133987, 0.3038159846692786, 0.4014961009995849, 0.3422825524034404, 0.3266367028045494, 0.35586219426412724, 0.11935629030536932, 0.3207271591899188, 0.29889488920630847, 0.329917215663719, 0.4179883658110438, 0.3413852723430465, 0.3949248384678924, 0.33199813430645186, 0.40077114210052833, 0.3567010619533375, 0.4159485289655914, 0.12589767623159087, 0.39467448086470347, 0.3091980989365979, 0.30028792479445443, 0.45584130065689166, 0.3500625918456898, 0.3170562160238545, 0.3334277254338528, 0.4064575053890235, 0.4232248085489456, 0.4102850915787529, 0.33164304345880835, 0.3968428802922316, 0.25534709869692784, 0.4347466589157215, 0.30014468535163574, 0.16579831486150842, 0.36985510502723573, 0.347524994888167, 0.38418191148108016, 0.37527951838107454, 0.3607463099416912, 0.3518447658154765, 0.3891162377788574, 0.390080914109871, 0.39892401869946514, 0.3372348364613078, 0.3404310384934771, 0.38583460552696247, 0.3109619386316056, 0.2820059872440418, 0.4373234173588293, 0.4189333140576136, 0.36941904455828023, 0.3606447016118356, 0.24850332243371664, 0.39291309505208094, 0.17375185967719453, 0.36321954606444307, 0.3078963546108615, 0.4291055283699644, 0.2661113453007168, 0.3908164997273764, 0.13799914207145625, 0.41033198008115745, 0.3266614678435308, 0.23841087404853678, 0.343001610781163, 0.38777034350827155, 0.31284239670077796, 0.29578619806378714, 0.37356444000205347, 0.351212322356924, 0.3738353333869552, 0.3876316719063282, 0.39649817663653264, 0.32418160731271106, 0.3786966516034135, 0.35996569025125835, 0.3134967403700224, 0.31369512183126913, 0.42309547482602106, 0.40557034538279624, 0.4102188804007809, 0.4201475014696898, 0.3585455544692012, 0.3921557141856574, 0.2925490340800412, 0.39953404120890956, 0.3690596677753146, 0.3554986725430128, 0.33059630543940965, 0.3175741690034185, 0.34046029673203615, 0.3521769267822584, 0.3829059188954047, 0.45303987134910695, 0.2787118987048002, 0.36076486861864543, 0.3306220371335181, 0.35207658578519163, 0.3242100277112674, 0.42339123961963365, 0.3691027213597585, 0.37046530920691134, 0.4156568733304121, 0.3530573792343956, 0.3806103857069868, 0.4198355079924919, 0.20782484870551488, 0.46449592490032376, 0.3745401290475735, 0.42861258773380506, 0.3454772939095677, 0.44637397818778857, 0.44473634169731635, 0.4702492841922097, 0.4248113971056017, 0.4161908313621311, 0.37330384976704933, 0.39769906682877687, 0.39068132537682987, 0.3631284698895273, 0.3943820372922091, 0.36715833024529043, 0.4624090970067837, 0.3234509192690317, 0.43700606786422436, 0.40426026719434915, 0.4474035833262787, 0.4571523341873681, 0.3437803485846135, 0.3821408980326374, 0.3154660671425239, 0.38792597608215684, 0.3701890488947347, 0.38046371790101097, 0.4019528184504665, 0.42292714802039033, 0.36186093071136105, 0.47639245062741875, 0.4009076156217194, 0.42544887600933723, 0.27830554656945816, 0.3516037727692839, 0.31861406297737327, 0.4715178447995385, 0.480669777420756, 0.35507647158033917, 0.4201872705856109, 0.37087538774446516, 0.41883199841233265, 0.5285162708601463, 0.3901260087906331, 0.3924461278149115, 0.4362156952178783, 0.3360812545122446, 0.35056559938875553, 0.44008920299501775, 0.4104060396488921, 0.41548577079163385, 0.30068778165661225, 0.38692866827736627, 0.3812661176697746, 0.39632482686585757, 0.27505583285756163, 0.4092687154044602, 0.38298921847695067, 0.38834405210826406, 0.4139680306845147, 0.39320816692815763, 0.39137164441799543, 0.41300258847136784, 0.41733355826713636, 0.40988853285121685, 0.43695198831688564, 0.3502781813567256, 0.42076880386120463, 0.48448713263858956, 0.4574051880029003, 0.3913872451175152, 0.36554531925295386, 0.4800031461573667, 0.3609309676736224, 0.40382339668558276, 0.42397077766895064, 0.46657772003954234, 0.4885668467417307, 0.4190757279253785, 0.3471293540762658, 0.34778439311837783, 0.4799424883397956, 0.43614308057872897, 0.43386641882723476, 0.3766117795278525, 0.36249574141884444, 0.3907647396735495, 0.3067402431089282, 0.25708644146229853, 0.3937916980654945, 0.4305713738350869, 0.34660989886404436, 0.44693960928384036, 0.2900303775503069, 0.37412998844234446, 0.36054734521175524, 0.34912990240424757, 0.39158982633262607, 0.3844411342215315, 0.07749528257685956, 0.4472658690592237, 0.32956334209541005, 0.3621617918587724, 0.36164212931753414, 0.31806280069033577, 0.3280621723621616, 0.3796000355487098, 0.36059587443064356, 0.340515511421281, 0.3423819631502024, 0.19269466736796348, 0.33989223992169604, 0.3600802789106897, 0.30736465146997716, 0.2937689157115152, 0.3721729170775202, 0.27185336580814334, 0.31771842844633624, 0.3080732484988822, 0.3378367204035554, 0.340554484657405, 0.23281126011278597, 0.2792304539317869, 0.23311226466645618, 0.2639392006043666, 0.2635253988817773, 0.26540938261560265, 0.304821954050119, 0.39883180535130547, 0.25589988379563844, 0.3398220278392655, 0.312864676667726, 0.30165962158555093, 0.19358974090476178, 0.23140820689418007, 0.2784366246805092, 0.30491369395962786, 0.4131602654040786, 0.3374408793283775, 0.3092331283165469, 0.3389889940122922, 0.3819335368452975, 0.4238311007113855, 0.20868203784027983, 0.30780036907613206, 0.21939681842921788, 0.18781460090644797, 0.0684671831026692, 0.4120533416265284, 0.27930298007979093, 0.3455839740626345, 0.22570528999207007, 0.30766825494994254, 0.13376977250581845, 0.21396181158046323, 0.25575066263201507, 0.3309632899605496, 0.3282848963526894, 0.3245641494159607, 0.38551450712211066, 0.24695050519703055, 0.2607492564375048, 0.34255231586267865, 0.4383996525874704, 0.33483382404175377, 0.27364605801886555, 0.2790827440250049, 0.33431883145319286, 0.33769494880229955, 0.4573096365760596, 0.2832168345153656, 0.25135650645745944, 0.2723421644184004, 0.34353371863324966, 0.3552150488270127, 0.32408142886408253, 0.3338338602870444, 0.23980280241872765, 0.4094278662283132, 0.30681423684532383, 0.30025877054385897, 0.3413192755197081, 0.39674919135261943, 0.2939552163874103, 0.34059448077025944, 0.2913387372710803, 0.3920765629243701, 0.35765617225261026, 0.17515989690533085, 0.3750157499272315, 0.4052140082503263, 0.2214270125354817, 0.3153861800962222, 0.44893302556074177, 0.49995054615798107, 0.4694241775705844, 0.46394267688313884, 0.4506205587508423, 0.5610402127860434, 0.22284205004427005, 0.42363322157109584, 0.36517561232275575, 0.4725204492935773, 0.5464752666774004, 0.49983371532935716, 0.5501848596221555, 0.5068529658621792, 0.529807952064586, 0.39361302189130853, 0.44409259458437156, 0.25861268689808803, 0.4595725821344333, 0.5259190173328001, 0.4551506687594147, 0.4784135477975944, 0.45860016469045817, 0.47945728548726974, 0.5292073160297424, 0.4141666846013309, 0.5409266989929038, 0.3460745547721743, 0.486162317526769, 0.4322548284243273, 0.40288854378332073, 0.5417024895562554, 0.4488361284351109, 0.3485625892321238, 0.42658012718050997, 0.37568244741276224, 0.43349635806494324, 0.47757764831635885, 0.49450309867225606, 0.4305153575675482, 0.3593628793757099, 0.5656457727546196, 0.48514629496713624, 0.5070693871824576, 0.4715797528828054, 0.4575358062306121, 0.49912169580536825, 0.49190690298650463, 0.4539330660641254, 0.5165827508057377, 0.40637782751161844, 0.4491858667713928, 0.40372896610872544, 0.48973437016138, 0.4212861759888413, 0.45858900388404855, 0.44078750628831287, 0.4849317837378161, 0.20235067676855623, 0.45677165591319746, 0.2584392833438248, 0.4897902495433606, 0.49210241409689104, 0.4655443364273658, 0.4173112385079403, 0.5315625343287276, 0.5205860587029507, 0.3918063673520651, 0.5923146201304166, 0.48303502781477403, 0.5590491264841289, 0.4740069291969925, 0.5006674281724581, 0.4775925513143314, 0.46618936784967435, 0.4522723399905595, 0.3820906300394399, 0.5170952693753226, 0.4871093902462533, 0.5014765224655064, 0.4780925998925699, 0.43279363592651166, 0.34710523259039316, 0.5157810776118177, 0.41054285163979476, 0.6018389999935774, 0.48792964160173113, 0.4252191635007597, 0.4506935876936945, 0.4831847145042807, 0.5229513162365713, 0.5131582135366901, 0.46198783507064156, 0.49856649008591825, 0.45437527056945803, 0.39575971216722294, 0.41614952678770367, 0.5046442869751884, 0.41870134344575594, 0.544761564563591, 0.29811157310336023, 0.3722549368686182, 0.3596544702778929, 0.3994769851957226, 0.38726880641869066, 0.3612529564253292, 0.16568101274687363, 0.4134968160997555, 0.3245463862723087, 0.32314506121221875, 0.3892376171410017, 0.28931519436659336, 0.2989384210854943, 0.42717760675827543, 0.32052655235054006, 0.3266511089986678, 0.40050242230674415, 0.19952831089337197, 0.30068386584276796, 0.4014506281268577, 0.35098147336745045, 0.2949298528642318, 0.3467865421084998, 0.28070712425790356, 0.2838827185110132, 0.32192765275602, 0.3036313647702995, 0.3465925766106175, 0.23587880376348525, 0.44017654481698476, 0.2945665473308917, 0.20460467325674536, 0.26559108749072013, 0.39271967530795204, 0.2916172678232255, 0.36685240576906675, 0.25475034467613167, 0.3262686920090846, 0.3262279135804378, 0.2815356106895851, 0.16845801054195741, 0.2566767408634836, 0.28805569112526375, 0.3346599485655306, 0.39156374396538185, 0.3726921023785621, 0.3118618582785171, 0.34362221143964544, 0.32692457327765945, 0.32400490445539776, 0.20091963119412048, 0.3128752597466099, 0.2802813396311524, 0.23302852010119157, 0.059668540169313, 0.43251156462721785, 0.3020687287925595, 0.31796717722488255, 0.19914368767969493, 0.31378012712178116, 0.15701932356297632, 0.24237465107513512, 0.2515383838080236, 0.3305411599526852, 0.3273676381645433, 0.3831519874777999, 0.36884989871487184, 0.2942503939484119, 0.29358417842471063, 0.3288616330095778, 0.3565982607860574, 0.31415443630726614, 0.2461168193802119, 0.32268144318389025, 0.3653476108389345, 0.26415874677871587, 0.4379594845510333, 0.3260117688916121, 0.2616102233833232, 0.25237556054754606, 0.339235593378166, 0.2675405082412893, 0.3275009143002543, 0.29085683365917114, 0.30378005065968205, 0.34773848700831045, 0.31921157620952956, 0.41894139577512957, 0.3044139645003662, 0.3584999375951724, 0.4006171827348627, 0.37344729716378067, 0.34322075006908936, 0.32167218033032674, 0.4629436391190369, 0.20918112150787105, 0.41530628992119656, 0.39849863732659707, 0.23539522198955332, 0.3201385364022068, 0.2586120324114366, 0.2279074904525018, 0.3312240652698447, 0.22773969985637033, 0.3369392304939244, 0.2814819892252296, 0.19267373036459035, 0.35295745301101966, 0.21146389638927243, 0.35929846594628223, 0.2974630464086202, 0.2434785230040858, 0.2862928420773786, 0.21703294341827417, 0.3245221226875771, 0.4400982071201174, 0.3777040544650836, 0.16504918952712344, 0.4080285042469657, 0.22774205333813125, 0.21889510745103757, 0.304059857783994, 0.3416898429431944, 0.19420917651715275, 0.31227695713731196, 0.38673767691088023, 0.2584096880765231, 0.22982868306489224, 0.35873977841496996, 0.2398753621099834, 0.2818593117150109, 0.38074665362235605, 0.2335685481601909, 0.2053212804519614, 0.31786500783926186, 0.2740934567156681, 0.2660845698846108, 0.4272356827820897, 0.18902031825248578, 0.25159470308592924, 0.3377018889416965, 0.3067235771449126, 0.32478073733023605, 0.3947132420619561, 0.24807207869146308, 0.35454953101861875, 0.21408344659864065, 0.21818685895147605, 0.29468894727834416, 0.27173058957196383, 0.18541739502322596, 0.36792880717002974, 0.2327426141654474, 0.3434425460039947, 0.22533255644017058, 0.4306378306520249, 0.23146958140755036, 0.3354613062282026, 0.1657688859304911, 0.2503164266637804, 0.04995714895881831, 0.29026569880417874, 0.22000561713658084, 0.21701107094064953, 0.20342057226381682, 0.32894904868283537, 0.3077667728877801, 0.27306072019010597, 0.230844333069245, 0.3022079792079637, 0.31699229421500463, 0.3254410482740496, 0.23430996187994102, 0.2065453341357717, 0.3651614230120114, 0.2829824849435255, 0.34587860997204756, 0.18610293059481287, 0.2838534273007215, 0.3394649629252392, 0.3279847640771806, 0.2863563869136092, 0.32183056712082647, 0.24518853668857654, 0.1997134145491014, 0.2630869405318491, 0.28577033796792917, 0.1859221694603651, 0.2642443347978606, 0.18027229479607854, 0.4029340480103166, 0.24713501925699122, 0.28212338693046723, 0.2420269042380615, 0.22839352957174242, 0.2507970435113035, 0.2614455218161865, 0.18669121476713213, 0.22492360394484068, 0.43136837998270494], 'Hausdorff': [5.60700087251925, 4.170659632775141, 5.34749168888716, 10.899680039239218, 3.8740292593830974, 7.5288003166409005, 0.4133922344670036, 3.438050109873758, 11.280534472718097, 8.110168071915082, 6.613183976327018, 5.226927227505902, 4.71563732712046, 10.76272285598244, 5.00077870476873, 4.819678242027427, 4.951627467235558, 1.1158200585283056, 3.162769319780906, 7.59768436557286, 4.29639617967912, 3.785713232990515, 5.224062740123041, 1.944056894332301, 7.80536915579211, 9.015572418603078, 3.8631532982834433, 4.936327255088338, 4.3682696724040655, 2.215968379031106, 2.155994429528674, 3.0560154591908995, 3.405231656607154, 1.6470490840641163, 8.169693917952214, 6.778551437335807, 5.6282225482853905, 7.110981879749879, 11.46260944298019, 5.976498942217145, 1.3887855433407559, 6.81420488053805, 4.930006348931195, 3.1873897554472124, 6.434723795883647, 11.445013800952585, 5.003036235780618, 10.588343497580487, 10.702167208529701, 8.612751576047746, 1.6850796569986715, 6.06547725422088, 1.3573383136550665, 2.7963733452492736, 1.5885688103414939, 7.985534219642169, 4.109322780374588, 9.648617356998852, 0.652024946796588, 5.527601249929333, 0.756332435093182, 2.2739623958642796, 5.275819877079807, 2.4155286341218347, 12.73538093290564, 11.081340860934192, 8.046442261299918, 9.043073653529198, 2.7086428075782893, 6.371132910667672, 5.7004836224958595, 3.7694301531205276, 5.606280245691587, 11.340573201206169, 8.079675159333057, 4.590899967700248, 9.867890470290725, 2.15793916147983, 3.644237564663241, 5.948870698885922, 5.178746481954347, 12.601602453932232, 9.536276766703395, 6.988163800057917, 2.955008377838582, 9.668873531187876, 13.209287011104445, 2.7771490508730805, 9.01201384216942, 7.188148150524417, 3.5530712696404447, 12.231199100296346, 12.465169465880583, 11.279015729526844, 9.665220742712687, 0.8901420789253951, 9.069451922619205, 9.944387158111773, 3.7272629831817627, 2.8535507945468708, 18.783576331408163, 23.61838530936153, 9.053003316618376, 21.326007551431548, 26.58715454981186, 6.353422763494206, 0.49679665671346684, 14.973559606460071, 31.09327459114608, 19.955155772610308, 14.755328702071363, 13.441719043334052, 11.63521762096718, 26.176468094758125, 18.76176087207382, 1.7477926501619712, 23.26671927532339, 0.6524928742915019, 27.00924872049522, 23.031101177692836, 22.10325465424051, 15.420952531529817, 25.4972089138613, 8.289438467154586, 13.020373596540196, 30.115080118682453, 25.117917974911986, 19.19544682389958, 3.7760888532186283, 6.947102942446359, 0.8920448914419683, 8.04036348555629, 1.917009070066435, 1.5583297775354858, 24.446685594969072, 13.355276902570163, 11.058264776439064, 21.916252066699258, 28.495204592545317, 8.414861803015134, 7.53276388784741, 10.015533817757, 14.53877301543635, 9.495732416569655, 16.129746540152215, 14.309517035991592, 19.51017656115954, 24.36649919847175, 31.96669473757295, 18.42362875901136, 2.8115857926963725, 20.12678711375725, 1.298827887493866, 1.7015493376632695, 0.10464235824063432, 12.871733482255584, 7.231105487751447, 23.45600264589271, 1.06538650215572, 21.859035998254637, 0.046659630027633694, 11.913952496055652, 7.551406757488197, 14.217138328977963, 26.776756441475023, 12.159275263096173, 9.490334244613468, 16.79727764360476, 14.963041887905007, 31.51329967711042, 25.74606854321731, 28.17333465886808, 6.027846685904594, 22.403838853480835, 14.874505996329315, 12.506568999558196, 19.376225797305555, 11.243321156483457, 14.696545971945065, 14.71525655869499, 31.021256146223354, 12.055448917395399, 9.101757525574346, 13.147165138502153, 2.427849751252942, 20.66242209163897, 22.329647713317737, 1.0682194576066113, 22.34261230862082, 21.354853255364855, 2.119073243662658, 26.516938478927365, 12.152561390284708, 32.28396890143931, 15.404260153462237, 0.699168265960477, 19.357415438968474, 31.8005786317244, 3.267796531296159, 16.048414843110834, 6.968370965875661, 1.4449167502004923, 2.3495365083583075, 8.089565379353832, 3.6472357436188454, 5.674036921640651, 0.07840917279055891, 2.0538686995686453, 5.408106293442516, 2.6530278395771587, 3.588542568270501, 5.583234797353858, 2.332097759355364, 3.8310081640037974, 2.0776849259391867, 2.1942361693309858, 3.995127902869734, 0.06824438796443068, 4.441083875678268, 2.9551525604790068, 0.9708398696607041, 2.337753452697191, 1.260806370302902, 2.189728712985925, 1.140465978060851, 1.5971396670939355, 3.6601454533449, 3.811094621199216, 3.158234023840647, 2.1446013402483217, 0.4200550148787087, 6.9319260202649895, 1.0972116691789002, 0.22725513210769943, 3.0552571458253395, 3.4454590250783985, 3.2428574416112683, 3.1156069334630105, 4.4723208926733005, 3.5286042052537065, 2.222460412047109, 3.60172820938841, 2.8270420071630666, 0.6603043084107196, 1.256513372353541, 5.347780637449437, 8.151283366676575, 2.1232233542590397, 7.054225135078665, 5.970392066574999, 2.85044693767839, 3.1743982249700546, 0.6593311257260751, 2.7178740182433296, 0.193857746976232, 3.4246867235754075, 0.5061247909028985, 4.4792355714083545, 0.680952512986726, 6.2754276759246554, 0.08950569091380835, 6.332489281928507, 2.393669607207289, 0.9401990472648685, 1.2322513380290394, 4.592628305609452, 1.5439714910592954, 2.600343601087214, 3.7953493039060904, 1.641179422939144, 6.4221248572119585, 2.1797705981580333, 3.881700339656127, 2.8644045346373637, 3.4164263417105354, 2.252032529639927, 2.3827601832701113, 1.163080408742208, 4.075909998135539, 6.197120390971534, 4.63428113955119, 4.467009870120662, 4.050719797382177, 1.298744748802456, 0.27486678889149696, 5.601587632840993, 4.5292554767644635, 2.4568411050286714, 9.184741978258172, 3.87442788772723, 0.9572302880886422, 5.79765941925388, 2.765514896908613, 6.5149423178989405, 1.456251874758286, 2.368993968549704, 2.482476437550784, 4.246189231433581, 1.3301213882788046, 1.8541982427747794, 3.3764848833985996, 3.625231265183987, 3.7547150410014414, 9.973555193491272, 7.850331644942212, 4.33881353548312, 0.18294850025801418, 5.2222393966310205, 12.121251806102292, 8.241110131478221, 5.298058885548628, 5.327458826516488, 4.2230038428670404, 10.45113982719887, 3.6231446238561418, 1.0684527044631984, 6.700047825852105, 1.3834951433233453, 4.30323036944297, 6.444966768604061, 3.086962178235005, 4.05769873063266, 8.814051955264572, 2.181189602650812, 6.474293374858778, 9.84481788226715, 6.787333416632573, 6.737299321057399, 5.4940667777802545, 2.235231554220019, 0.679600869351994, 3.398852250706476, 6.48214873446639, 1.0434866665412115, 11.017872647135059, 6.350605151409726, 5.925438333846199, 10.141838874247368, 10.113109629842151, 4.296317929259313, 1.7678399591214438, 8.106055328346374, 4.596642560916344, 5.824716641665933, 8.412667739484885, 12.384382738104167, 7.425586639578984, 10.940566540070709, 12.603627050020354, 7.826098268336178, 2.8445480887065218, 8.746272070398055, 5.068548076889297, 6.602897321950329, 0.514988338525973, 9.583810164572828, 2.51928079796581, 5.609257496495035, 0.7074948045685658, 4.3301774079211155, 0.8374990176213629, 3.3051447046890483, 2.6359832288103795, 3.198095691162315, 9.36778936950128, 10.972649968364106, 7.14447746263648, 8.799071130798051, 3.4592166787560727, 6.9905665505669505, 6.746677605671388, 6.501046966677879, 7.303573459463865, 7.46150567176584, 7.362242348190534, 6.316852059979177, 5.004132380014981, 3.008651688868663, 4.8612055694802, 10.378309127226734, 6.149305359053232, 9.592802768381958, 7.588075916472187, 6.684294753553083, 2.0380247193880145, 11.64427417493389, 12.412084051467671, 2.4918732590177957, 6.435934976784612, 7.228155372633705, 5.486877558803705, 8.442089088658621, 10.144225515180445, 12.455649485792456, 8.363883679480283, 0.8632282500156913, 13.803495864555705, 14.080724749307398, 2.9292600558649706, 1.9951244353625432, 3.389071006925442, 3.4215987973683966, 2.307614173894794, 6.038416040388098, 3.911953222176532, 2.053460630015591, 0.025836643677882402, 2.8406389849282476, 8.526822591821027, 4.754318480399312, 2.1664604812597883, 2.2770358352704347, 2.296117822303926, 7.314844317758443, 2.5247600925923375, 1.1764686870885421, 3.4089842081292323, 0.1282090881957398, 3.7610554577162065, 4.925579102409204, 3.942200770426196, 2.097400481631514, 4.241347577529459, 1.3235765529673973, 2.7547310445332056, 6.682345260165492, 3.5971985107872935, 5.036691878036729, 0.5723364599128706, 0.6588165936148561, 0.3186551977913424, 0.6672470830944108, 0.6762277477306767, 0.2909906440044114, 4.171595733397896, 3.3523734317224156, 2.65466137635728, 4.7645585196493165, 7.87749537221663, 0.5195109668835277, 0.525399931358298, 1.166186976839104, 1.9550058725543582, 2.4245515885179847, 3.7450800649849367, 5.056650181306628, 4.0769718936778085, 6.663437717267701, 8.175118391451967, 3.8632476177850634, 0.3505908962028587, 3.811021101006949, 0.061272706677869083, 0.43830983623723846, 0.018646490439023472, 3.9226452788678983, 0.8257785190009932, 5.283641556518865, 0.20169534368874445, 2.7534091107103427, 0.0440816951392175, 0.16573014518036785, 2.458587908021512, 1.4414036244481434, 7.465604816343467, 3.04305981528107, 2.712999738069061, 1.4343696088947238, 0.3387055075873892, 5.92607812385619, 4.680417681241454, 4.37177539980441, 2.08907676437502, 5.557208992824517, 3.2870050980871897, 2.5937083746864715, 4.506597806549763, 3.2960377517733885, 0.8392104107184404, 2.4503249414901958, 3.9814092642248533, 3.708166376281405, 2.5994534872310306, 3.3196051218515086, 0.5131419147961851, 4.261963419594196, 6.628330811769196, 1.051108160387172, 5.407306214581521, 4.142883717669845, 0.9809945585075698, 6.531823517309805, 4.1599023177625565, 8.377330717172034, 6.066916020200332, 0.35951496201833266, 4.123440442726414, 7.918804769226556, 1.0952616182804271, 1.6518196343841665, 0.3032490601347635, 0.6237484800223381, 0.8571370070774637, 0.5142651417087593, 0.4470669835182986, 0.26857443419834237, 0.054880410685758794, 0.1370422094137901, 0.6960023356942536, 0.4957443338191287, 0.5689555582889728, 0.544833220868464, 0.5200980958313403, 1.0887498645581408, 0.9116125431721598, 0.16218046877593845, 0.6874846148860181, 0.14011067813463382, 1.4081919036658204, 0.5305707207958402, 0.6295049595130084, 1.0956971332821683, 0.4337688417556379, 0.19691856832496807, 1.0688313683904673, 0.8070646308066753, 0.6221106687451097, 0.3278614421489537, 0.8710856549006327, 0.6341028468091701, 0.3256303134044401, 0.8616399164160152, 0.3322319577511101, 0.1867237019959267, 0.5425728354864199, 0.4609133000949889, 0.5149556458126799, 0.5493583699429159, 1.45419818183557, 0.6842659904900131, 0.7372716788633253, 1.2685017303636814, 0.5608843262854838, 0.8984897066932451, 0.8343227624591865, 0.6504187475316827, 0.9870422823435013, 1.015145137910755, 0.7846916002651622, 0.9240967013474495, 0.15846134198010953, 1.3287840452337976, 0.03365719052181959, 0.9966018554689787, 0.3008403825213729, 0.7647863907526423, 0.5094902199320042, 0.7798115604786774, 0.06440653412527887, 0.5389171771768088, 0.06740871942473795, 0.3228076684416047, 0.5264637712396905, 0.5854353186508955, 1.0679630757711482, 0.6109940484863964, 2.2691967886064814, 0.7264357998402163, 1.137192502606929, 1.2974059175058568, 0.3330201346040823, 0.9801672446057189, 0.43907798084672467, 0.6268610421065235, 0.5570737599082398, 1.0841885354772953, 0.7077937872579705, 1.2975955448280625, 0.2959086385644573, 0.48415081299240703, 0.8345418489012614, 0.7791913570005887, 0.6253595440890849, 1.1464252759733764, 0.31856695522702705, 0.7397413788009692, 0.9915243793543825, 0.11723045401873494, 0.340073347339107, 0.9612345455089235, 1.0825965311862686, 0.7598149037763785, 0.7768103361720202, 1.1217745045794578, 1.0006182696560628, 0.25873520921988513, 0.7605934301928761, 1.1991451037881582, 0.2856913767457421, 0.47135097225330286, 3.4559187780662577, 5.977174895875452, 2.261916706906849, 4.964645529719505, 8.535761006804918, 1.3301783283076425, 0.08523652973185582, 3.4894729064850827, 8.756323566141045, 5.501084597179376, 2.1361134987175125, 3.040224223624776, 2.592170966992609, 7.115062339801375, 4.740528394017348, 0.5430165196201588, 8.142499924498965, 0.162388592985455, 10.21168417146088, 5.37477194464291, 8.273209413976504, 7.427479614112127, 7.870248763899496, 1.9596715850466757, 2.730142809700447, 7.138901518720658, 6.608819142387957, 5.358575827444674, 2.150495849698973, 1.7275355474270429, 0.35448339567551834, 0.7019862561133886, 0.4479707935979324, 0.4297309209049155, 4.5410444680663495, 2.3697887688793084, 3.116131989528275, 5.666519570937978, 8.079105295053871, 1.9243067776824927, 0.4496859708142288, 1.2878993366686697, 4.03717132433325, 6.58303751388769, 3.5001633331848323, 2.8238232377411507, 7.677048545160099, 7.561891517500285, 7.674309012320391, 3.652853880720716, 0.5390224273270916, 9.565255310095809, 0.06819385461155479, 1.0902992929999784, 0.038639122519238234, 4.920551679558561, 1.0663178240796347, 7.685575445488119, 0.32155337322361394, 3.9531327457400116, 0.04005281690140845, 0.3512144049640174, 1.4476366369115403, 2.8383746929901763, 7.469871353730686, 1.48133019928897, 1.9862389763189345, 2.8687236238696783, 0.4557976800405145, 10.153594924333822, 7.104262576436495, 8.58177323297076, 1.414272999398428, 3.8737880384414725, 6.363577074193346, 2.906558365568525, 5.279576160641288, 9.327581957561135, 3.406149272234889, 1.8238317831079336, 8.311898620746897, 1.9318326856193462, 7.175352162172195, 2.562923428291182, 0.5821028686031361, 6.84405695839813, 5.359880560108017, 1.6005401420964098, 4.891921338903616, 9.972841144778982, 0.7894098099394378, 6.202389691878444, 4.762745272277032, 8.918116725287021, 7.7233257896579195, 0.4608225540144811, 8.295539336908321, 9.694088373021753, 1.0349281687204488, 3.865690758847659, 14.14605503264476, 2.1090659842689785, 1.7758593869190322, 19.65988539049135, 15.170053949341025, 13.658114529136084, 0.11821648191071608, 6.2324371931683284, 23.13866156945885, 16.904910554750124, 18.032630671740243, 8.04397006946834, 4.491595295397186, 24.15155250171272, 4.177572341532281, 0.9986737374144126, 10.51216457902241, 0.10466430277071868, 4.327646984971975, 19.541420898473046, 8.207210939474226, 9.92757679841047, 13.416682874899113, 2.860532545003148, 1.636642168595154, 11.116816760982388, 7.905045631011935, 6.888460670826991, 7.832029819551423, 6.074273681810896, 1.0164988030975075, 13.950734198771743, 3.410132949367437, 0.18923732875415605, 6.557165255492597, 10.206940186794894, 16.789008006110684, 5.2041700902487635, 18.649609092549746, 15.316487991999931, 6.396264672758368, 15.07356361186111, 8.02253716480196, 5.468178940560879, 7.803460434153224, 19.96004932837835, 12.175509809474468, 18.322716290158088, 23.471073488540952, 22.243858503148918, 1.0329948605373396, 9.78899061396291, 0.24119502347565028, 14.394426737259623, 0.33297581126756715, 6.628350656032108, 1.164967250060507, 14.00335486943512, 1.4096486984519396, 17.116651748120297, 0.02886602827881289, 3.622817480874793, 8.503645791371609, 0.9124047743969119, 15.124572401081595, 20.431208132048436, 8.467066053542325, 17.81755230230971, 0.899108215543657, 15.478392583732285, 17.92974257176247, 11.623724604863122, 10.863318908588285, 21.978634240969388, 13.453651761255742, 15.830452432944169, 10.598830782441855, 3.476656376468069, 1.6341511655747059, 12.988978088897628, 9.292906972402458, 20.0988370932217, 16.539873629230915, 13.57755068784183, 0.16421679717258422, 17.535609593779913, 18.714094780090917, 1.3122109566771099, 20.616979659012237, 2.2093626119920757, 2.6738913192674083, 17.8725064224133, 5.821683409055728, 24.26427799450944, 15.21121715882294, 1.4792888124289343, 11.76565643971403, 8.005667835359596, 3.7208157487360363, 5.730010282331012], 'ARE': [0.17085976180998452, 0.212995434650734, 0.19366740982500286, 0.2007205384664592, 0.22138832348827953, 0.191281946899576, 0.05554406732064532, 0.21737289420159378, 0.141394777218673, 0.22340647437772132, 0.17809643866826952, 0.12755884925364203, 0.1269635548014496, 0.12866057359248018, 0.14583118633507508, 0.1727889792419791, 0.20220506608959465, 0.10455864450029972, 0.19354359269538246, 0.15809580283459868, 0.12292504947819638, 0.18662756338398323, 0.18496829001599469, 0.09383670773455943, 0.18131346102802504, 0.1915569328012835, 0.16592139315053767, 0.15364788479840497, 0.18314218373357283, 0.1235131480406616, 0.10420645944814555, 0.20073188452837099, 0.15145686659359536, 0.08497515590476346, 0.20901899416199843, 0.18671562862643032, 0.18544481861916873, 0.16829422631674407, 0.08986239228709736, 0.18956957044543088, 0.13854820718265626, 0.16814314280459297, 0.20448058992435814, 0.20018425399589035, 0.15366000534645252, 0.2056293906272566, 0.11668255980352227, 0.08950375167279823, 0.20144027894272232, 0.17514122670215337, 0.15453647428186323, 0.19989938760560733, 0.11144909559311011, 0.16899083808458126, 0.0942929786721155, 0.16746280116897494, 0.20237775533241176, 0.1911157629208926, 0.0800253307297415, 0.1566340347376357, 0.0625285812433416, 0.14697931440857448, 0.12313605590868182, 0.16360371128774076, 0.12272523087602694, 0.17916928796893417, 0.12121058607865087, 0.15946678616199572, 0.15586242433450614, 0.15159812527603667, 0.18624496524144396, 0.2000611173969865, 0.200661435701167, 0.15938137911001582, 0.17262655776821478, 0.13012521568705593, 0.12073024970903368, 0.1410217044485308, 0.20229108100053195, 0.1604975762722589, 0.16024822584080056, 0.21211575114789571, 0.25233032153565327, 0.16814573238876063, 0.19393397830402237, 0.19482181587613823, 0.16895823660519904, 0.10787844139632297, 0.19333552564521472, 0.18859205797169543, 0.13225630451358517, 0.1683530565931073, 0.1804951540783407, 0.16939632778547686, 0.15097837157398997, 0.13482481039308125, 0.22635034469617776, 0.18529611233565968, 0.12606757793884948, 0.25002297565761333, 0.16697988924558071, 0.21735670742730018, 0.19138322716265344, 0.15412604476162328, 0.19677050381582029, 0.12012400500579412, 0.23804508499175758, 0.2437372277755434, 0.13920709619786487, 0.16232271158532996, 0.21005405563947177, 0.15631991874930973, 0.17698925776525998, 0.19291052191119606, 0.1704349809341369, 0.12701638870780219, 0.1950570092367918, 0.1244406879729264, 0.18130776110958047, 0.16336752544131783, 0.148232319051115, 0.1577140259922366, 0.1729200743941316, 0.13706049898491302, 0.1595352410269847, 0.14848052339036322, 0.18614703112176534, 0.16611395625307646, 0.12851587570553835, 0.23051679191096208, 0.1320003885761203, 0.17215048045678683, 0.08827906182154455, 0.21925218005541147, 0.172386968996604, 0.2289355833230925, 0.12473718236989195, 0.17288752112905992, 0.12218505574281335, 0.18274049688782867, 0.1254043122319859, 0.1844723197036704, 0.15885214080652188, 0.1820260973012061, 0.18949104921542725, 0.20157892611817496, 0.15147361916794755, 0.1236064678992973, 0.1544863187534492, 0.1871384825855319, 0.11103134542710535, 0.2031543685892372, 0.1778260329625322, 0.0730190997243434, 0.06602484993253943, 0.21371943615101618, 0.1863322374191161, 0.1627930418558463, 0.10785408365859672, 0.15372065301169235, 0.037847852842485485, 0.20777114457865375, 0.11426362652326671, 0.19151491372335727, 0.12380117018977355, 0.19908222813961007, 0.1656995189432181, 0.18404786056490907, 0.2704831093116331, 0.14968673429402235, 0.22431285519234268, 0.1781296751170579, 0.15136429063873313, 0.1308808070203662, 0.2140777656175591, 0.20027752303566293, 0.19932947686970603, 0.11154404657577699, 0.17586279526944804, 0.20242979922390203, 0.15211347070897874, 0.17445686884631884, 0.14658666955305533, 0.16115786608106752, 0.1520844548572281, 0.21316753822791001, 0.13509311088915965, 0.1140160786621851, 0.1582261122759263, 0.18749264393214116, 0.1719809498240148, 0.1534178696259082, 0.15702554911480981, 0.15131855424151386, 0.15586076908205682, 0.05216720313338252, 0.19811196690535438, 0.1875802947304459, 0.0982678645688152, 0.1909445621681315, 0.21207198057144727, 0.16393867862063027, 0.230045090711684, 0.2246341833332972, 0.1916231978846218, 0.2232548743225481, 0.045069826358763, 0.18549808909382248, 0.19667600133555097, 0.1983745436519614, 0.24037503521855352, 0.2138564155297824, 0.24698510742613144, 0.21296756115366677, 0.253055378373058, 0.20839811117987628, 0.24048265391550916, 0.04377846833057486, 0.2218781853409243, 0.18177784921259688, 0.1516359197593079, 0.24791978479750754, 0.17474341658399395, 0.186359213898883, 0.1719164077281241, 0.21006024420641445, 0.2635508920859132, 0.25886736875712224, 0.18419385438100166, 0.20150426532354482, 0.1042481628979881, 0.26864784888226767, 0.15755248226279317, 0.07993238682936166, 0.21945948450686992, 0.2266633524764725, 0.24932114564695096, 0.21661606962169788, 0.23066767895348828, 0.21361325400192144, 0.20562105899887595, 0.22450138527409702, 0.23737335466011988, 0.1529463233174393, 0.15565916747126474, 0.2371426872327007, 0.2044861406973234, 0.16815976305948388, 0.2864701271401614, 0.275747934399319, 0.2254034560233078, 0.20259904649571914, 0.11033509482940129, 0.1922249684424029, 0.06224036533692845, 0.20690449355089824, 0.14806215551782587, 0.2632168474745461, 0.09996353004409275, 0.23907059676931341, 0.04874143851692314, 0.25598678704155986, 0.197765767104487, 0.12033250079439284, 0.1847148315224979, 0.23409577137583737, 0.16533931754676667, 0.19419369914681384, 0.2104960450642127, 0.1809602371949952, 0.223915220421938, 0.21390433776171913, 0.24373014293303086, 0.19215860998153578, 0.21936011022248558, 0.21870417840973144, 0.18946092511201007, 0.15020062672362444, 0.26685908357669674, 0.2554738891326971, 0.24783230932997402, 0.27367115926109886, 0.23458393910859698, 0.21888791738176372, 0.1279068986030103, 0.2331582511950543, 0.21238369538608037, 0.19679290882993228, 0.2108395484978095, 0.1942489833014377, 0.18261660892019127, 0.20654683992324496, 0.23102333790222118, 0.2962948310257445, 0.1644618156159633, 0.2109962366952225, 0.16940866744494387, 0.2201622164653514, 0.19697383023346604, 0.23155133109969606, 0.21491219184065702, 0.20656345052105973, 0.2517555702633726, 0.2224996492026836, 0.23707814489699242, 0.2448161068578063, 0.08746338752952698, 0.2963577361766737, 0.2426263632874005, 0.2675934260412344, 0.1815717120100917, 0.299522635669245, 0.2712311309789973, 0.30808075765419307, 0.2501576635928935, 0.1912165232219002, 0.22411630752156964, 0.2255074349324162, 0.22071557851330093, 0.21781986637096962, 0.20341525377117486, 0.20487082537168178, 0.29266023765036886, 0.18572717725911603, 0.27323371604560864, 0.2569573245730825, 0.29212152927154444, 0.30167147884990564, 0.1828301620681334, 0.20484254004130398, 0.1295033893493308, 0.21951766111146198, 0.21537568469535862, 0.1841960279447592, 0.2616535499300465, 0.27171403232246805, 0.20427617964608547, 0.30985986823381884, 0.25841240975212076, 0.274868235400619, 0.1317586861823027, 0.20336335127996352, 0.1543627193862933, 0.28690265507182966, 0.31354602354589156, 0.2116607882046082, 0.26460385941705244, 0.2502413836983506, 0.26494654068069157, 0.3481909741848275, 0.22180505742552492, 0.24260733840304038, 0.2641674061652316, 0.19428104743246832, 0.15789447108747678, 0.2775307207612566, 0.2368495662854545, 0.2375527213776436, 0.11896230677743458, 0.21848309984656955, 0.19428723717284324, 0.22058772126690085, 0.15218721164109117, 0.2453407625027575, 0.24346726043472922, 0.2338603766666485, 0.24608383190406258, 0.24802608043191687, 0.20920870343597064, 0.24982888518323065, 0.25954062020819635, 0.2607434126282544, 0.2651265235762733, 0.2263957481860024, 0.26123127276065616, 0.31105002426737627, 0.2799172636599304, 0.23346718576580017, 0.21008693974944548, 0.30646805003213773, 0.2108602469753077, 0.2662468579590027, 0.2612028448908753, 0.2882906408646305, 0.2830025846779095, 0.2557153055672975, 0.20517658762111124, 0.18238054247547797, 0.2971688643234691, 0.2659046236274487, 0.2627180093590724, 0.2305125528634283, 0.22031313867685653, 0.25649958885177104, 0.19807215323003213, 0.10001410958111823, 0.24041681130081527, 0.2753418184210269, 0.185896190114331, 0.25909242760392415, 0.1995156713136097, 0.2703601058389655, 0.2282660797319901, 0.23128976033309512, 0.29065571922449873, 0.25261449398098756, 0.031215280808088774, 0.30507299303634206, 0.23734587923258843, 0.24680994581486937, 0.24078208504205967, 0.20295273437377248, 0.21028113187763342, 0.2798383561425739, 0.23505516525567693, 0.18573854447428906, 0.2374361658026154, 0.06640047850398545, 0.24998826268106633, 0.2536595480148701, 0.20194103633323923, 0.1923848977017919, 0.2627660391017592, 0.15282571576775894, 0.20398941012728233, 0.22321127478840874, 0.23268766724240886, 0.23535317476951212, 0.12372004476496645, 0.16253951719012905, 0.12794389700774467, 0.14749380952934654, 0.12360897420379546, 0.11208646767208041, 0.202939395807066, 0.279692458595153, 0.1716619753784565, 0.22872691577252102, 0.22549071116291242, 0.15374946642383236, 0.08806697707206201, 0.12234685034521275, 0.18816682731952772, 0.18763732713971681, 0.27717887756826143, 0.23649261617163675, 0.21168632720207625, 0.22782684677458165, 0.2744512765562922, 0.2906603052618433, 0.09303265782352421, 0.21151242845175267, 0.054461841359715546, 0.07617398894658645, 0.023568775200619285, 0.2906556281004641, 0.1485298943529848, 0.24558314069301868, 0.089249029538081, 0.2079090753237831, 0.03637899918546106, 0.09701371697797911, 0.1588524230185444, 0.20450552738358374, 0.23138254550190573, 0.21150797246158548, 0.2527767617007831, 0.14316596275675675, 0.12098052734408449, 0.2575614265505891, 0.31882545220625924, 0.22994528748960563, 0.16732873186828545, 0.18887095741182747, 0.21800299767925124, 0.21257900867600332, 0.31862622605085256, 0.18615182841514166, 0.15095921876169927, 0.1744086796569203, 0.2498232794623394, 0.22125491557578514, 0.1805665782262288, 0.22803992359014758, 0.11122084050866599, 0.29550997734278983, 0.21249698497527736, 0.17437361191871148, 0.2417836225232619, 0.27007069683894447, 0.1682898458478852, 0.23857593404236999, 0.20177192842215586, 0.2752670034492246, 0.21905764169639985, 0.07514916599216626, 0.2550014114780219, 0.2906536319018771, 0.12093721924313261, 0.1976025981702284, 0.13945903626578193, 0.15309127121620358, 0.2107391273800323, 0.1417697866231965, 0.17208675627526238, 0.1404466982530953, 0.04558126482368896, 0.08921902276263904, 0.13114746843708192, 0.15601686991794572, 0.16726142181598536, 0.16064549286518226, 0.16193166458458563, 0.20341303910480968, 0.19840072846836132, 0.09560701905976476, 0.1586033585382287, 0.060434201458673176, 0.19376020645072756, 0.17263970374286353, 0.13004572557103655, 0.16877137351124494, 0.14655030937986302, 0.08087354013864301, 0.1818814299896665, 0.15527498156509834, 0.204750489507453, 0.13573890478714545, 0.16160755367040636, 0.15227562603899059, 0.1078235411891656, 0.22700253924103353, 0.12510578716564913, 0.07768024270419394, 0.15348501582081675, 0.13230668766399, 0.15341440670356787, 0.15919632375648607, 0.20147299368107108, 0.16902230459792222, 0.14959844713530057, 0.24095726360204894, 0.18868658205003386, 0.17522035151056903, 0.17681318543106816, 0.1843354554913773, 0.21058014784753532, 0.188005871388796, 0.13215334178169302, 0.18764108265222135, 0.09092684353814828, 0.18025828354555107, 0.03204593355675167, 0.1932024185414094, 0.0977139685362306, 0.18268487296071156, 0.14389723642533814, 0.16118043381599378, 0.053468473840033615, 0.14603005133605074, 0.04561222507577123, 0.11790026942626786, 0.16345519617525595, 0.17580819024166283, 0.18547210762194855, 0.1897074451344728, 0.2604613710712702, 0.13825500215677378, 0.27872056493841113, 0.20012247526410154, 0.16313631318832422, 0.16652141275895904, 0.14978530096031673, 0.1600937155371588, 0.1467633888079889, 0.16514654624037273, 0.13509329236884993, 0.18881963908607402, 0.13786923689642572, 0.13746480740019718, 0.18279572213096584, 0.16310657213018254, 0.14572380188573708, 0.23950083943180756, 0.11291193556305057, 0.23231252091981958, 0.15317682038751368, 0.06003727380874746, 0.13967694016707122, 0.15615683904111965, 0.23285099072883342, 0.19117908427178165, 0.17469282124232055, 0.18846684148254944, 0.17593078792290273, 0.10549560166142868, 0.1725156725903978, 0.2214922765234616, 0.12573074810741192, 0.1465605491098677, 0.20165282685357566, 0.25696741441460336, 0.2170258407144674, 0.2323196556831535, 0.27055396564646406, 0.21236345340024698, 0.09181360925565063, 0.2784643030177898, 0.21976096962894953, 0.20160950592304283, 0.2185785128914166, 0.17398273119514507, 0.17765705939116405, 0.26780854171395796, 0.20166652035459287, 0.1596166334740644, 0.26934308247581273, 0.09707822588713455, 0.2039254853136625, 0.270451706655531, 0.21889436756585856, 0.20160889222282408, 0.22450952773784727, 0.15444642405159792, 0.17397668551615986, 0.21007819762721502, 0.21570075008451395, 0.22622944592474004, 0.13753428134222379, 0.26048428107215726, 0.1536661928034635, 0.11400971686092765, 0.1096725941302904, 0.1803550211572993, 0.1809927943267139, 0.2424314937683002, 0.16782471923203013, 0.19576170076374366, 0.2141254120813233, 0.16904676987200273, 0.07437381698545764, 0.12676155460687033, 0.19878160467667072, 0.23176796238488284, 0.2522229381807707, 0.22725045666146937, 0.21069390641559405, 0.20719885373257496, 0.21545425850624134, 0.204910704324483, 0.10841451255578438, 0.20527452970882987, 0.06439564775271112, 0.12145919879801748, 0.03052565164208554, 0.27649544604175513, 0.16265137361642001, 0.20545032448456835, 0.0865594066829194, 0.21949378039054768, 0.03760328347544806, 0.11572960181864411, 0.1332022750788433, 0.22445574164288906, 0.2146932785814083, 0.22100697656550994, 0.21211997408519034, 0.18371169200147563, 0.16092664854688454, 0.23143411094445376, 0.2460885751797266, 0.21741189399843674, 0.1354146523587011, 0.2019960560807258, 0.23691472810767789, 0.16008686505767877, 0.26572168408581165, 0.19716473677609736, 0.17556544783966077, 0.14456710702138553, 0.2397360376485197, 0.13383482841833882, 0.1946399589613097, 0.184122195428153, 0.14496216970260445, 0.23171101190092658, 0.20105111336200188, 0.22873767599352912, 0.19947431576003016, 0.22651322469746982, 0.2131417946257198, 0.24464617302429825, 0.21323373003142165, 0.2034159184810178, 0.26582513081418446, 0.10908915805165809, 0.23768985422240263, 0.25352177886070193, 0.12683864640666576, 0.21896450985873095, 0.17261989805403033, 0.11335451278230069, 0.173381073884034, 0.1614511600385733, 0.21583259117515374, 0.19399168626940944, 0.0839373366249978, 0.23923843595719074, 0.14228018572000112, 0.24013849552041622, 0.18755598498882875, 0.15361573743745827, 0.16583141987961492, 0.14856331454203686, 0.1885150126374877, 0.22863562364223333, 0.23566643729254244, 0.07242442364709112, 0.2436589734131036, 0.14924703599587907, 0.13828045974824343, 0.18992414847245354, 0.22141478190974895, 0.09862370550020161, 0.16256295275495436, 0.22882208243285806, 0.16252587116348116, 0.14610894283823905, 0.22182658094002128, 0.1484299499579651, 0.1477001399833292, 0.24408289884684065, 0.12671891291387238, 0.0858781637780196, 0.20303602953275524, 0.1650639898989653, 0.16870761974040893, 0.28322839708260317, 0.12023653519957156, 0.17578308487348993, 0.20526839139974307, 0.1790748209874442, 0.18906084405206547, 0.2490861310421547, 0.15296122352342745, 0.2289087155939502, 0.13784556768383405, 0.14482222953025148, 0.1928900587143445, 0.1796969609598721, 0.08197520690881044, 0.23468017732428204, 0.09618810614971596, 0.19996488026567627, 0.11784625552771111, 0.27381631759339975, 0.11394113513386317, 0.21176865617870466, 0.08676471830872556, 0.16501918783203318, 0.018863824978587074, 0.167119966865224, 0.13847175614236318, 0.10347639834976619, 0.1278432957848198, 0.2112973228819749, 0.1903428329489124, 0.1851531965218357, 0.09573173934100465, 0.17858238320910957, 0.20669473340252897, 0.21150139636074972, 0.14428467690027746, 0.14350117358440984, 0.2437400048512629, 0.18650987311469147, 0.20812306746970433, 0.10099473275297799, 0.1479884337912346, 0.22332005713694691, 0.18683248398872065, 0.19770428958562147, 0.22159518823137803, 0.15599001106316301, 0.0815293480291771, 0.16462063864412668, 0.17755977193996908, 0.09737109169665192, 0.17561851560171415, 0.08910519821133456, 0.22559401940747548, 0.15113417058914935, 0.16992216047770736, 0.16437767035401285, 0.15654102058090502, 0.11489297193282733, 0.17919728017768122, 0.1058044480970276, 0.1273063388131318, 0.28991902214166243], 'VI': [30752.977162587566, 24527.516263311518, 14209.376566808394, 31722.362965379776, 34736.618524559235, 31010.913305669914, 7298.747637966882, 22876.18585226634, 23715.342417828157, 31432.758039569086, 27072.929289212643, 19717.625320524006, 22916.43289482287, 26331.96869582087, 28633.17805130939, 12540.90062345138, 35266.30779791109, 7336.777449524837, 38959.08848775023, 27424.20972586621, 16247.327199601024, 40541.01945083343, 24536.205967598064, 15749.518951590715, 16217.173986348305, 25628.081752832695, 32210.92044561924, 21552.969413357827, 38162.77335198842, 23665.9398150543, 14043.171399280793, 33819.75547277737, 20918.305214939683, 15038.615162895632, 38634.83174385005, 40909.30972413244, 33798.475011905386, 20777.752550919326, 13943.17735478203, 34489.036102957136, 25550.53045440013, 42021.17714106554, 44017.308442831905, 32365.18292546327, 33471.96273743716, 49941.92349419289, 33001.96001985975, 11881.978639871235, 22096.596978346304, 29029.402892876566, 25937.431916568647, 45155.49557066309, 18968.5318163605, 27708.9599886316, 7277.241208446496, 38731.33464626079, 17680.20833344419, 24040.399464119673, 14037.53326224217, 32994.278947213534, 6982.410074712824, 32374.558378723923, 23267.28576933956, 25757.44409193119, 14864.148219394403, 42870.028448857214, 11395.266362665658, 23716.853222243975, 35118.4418900942, 34564.60649215501, 43747.46591226867, 27462.735105568783, 32057.024638006344, 33272.472686836336, 23971.441860805724, 25280.024908072315, 12986.028540247224, 18733.540385420183, 41154.5694551269, 41368.29562786256, 34559.18507658385, 30210.356437497485, 35846.37669788715, 25560.274919304575, 13822.96769378104, 46853.356149982996, 15461.80330363535, 18523.76704269786, 27744.662762746848, 34725.425797751166, 16058.901068020892, 47520.94693201939, 44695.36778055424, 27883.663219437774, 25281.244612862458, 23261.1080661444, 28272.292929401847, 40478.632745101444, 14885.785422592218, 28573.100082996607, 46469.76430552464, 47159.344680416216, 36880.499051866165, 37546.99709968738, 52579.57099892599, 29619.28991141095, 13041.289577650125, 35932.01431922475, 45644.860673928735, 44193.12927957143, 39317.01785630765, 31658.362525105193, 41018.115123119285, 29965.38747985986, 42594.251049852304, 16155.702246129787, 49134.722371306954, 12981.296069823973, 51161.83493093992, 46526.52411916305, 41360.82121404576, 52340.606472366904, 41089.69831560726, 39979.91012316145, 39013.32725139815, 48217.49651601179, 46208.745305184246, 31093.67031464186, 40206.06893322456, 40611.584542429155, 17189.70686466223, 40124.11449064782, 28038.32337247871, 21087.807876632225, 50643.83746890485, 45869.187345320664, 47782.6571226176, 27294.04521798331, 44015.86782168448, 37992.05883120333, 43548.92171721869, 51941.798953487414, 51711.62200053552, 44708.851268721686, 43092.73093553544, 46080.02728255601, 49370.843532783234, 39266.22149885533, 37311.52983614516, 42261.66250189074, 34443.13523941014, 50521.82185441755, 25443.687587071407, 30102.051416579237, 4879.450168298455, 46618.072356429155, 34292.953701939514, 47207.25204752243, 21750.565149686263, 50665.16303567681, 3578.759369107747, 46121.14890704157, 39346.35485657174, 44926.34194960643, 42914.19648569942, 47719.935329780645, 33236.256250660874, 44059.36675709238, 45765.0220424269, 52674.10200877595, 50015.836187520945, 40730.216908449926, 36929.57941608085, 47539.76281034354, 31153.76379185167, 39758.08178070052, 36189.153924426966, 36280.86620479253, 51618.667093510645, 48135.625698099655, 55257.33519863149, 27250.287855812978, 39479.21958255126, 42085.95569303672, 22426.871821406225, 48976.165773464774, 40334.87897268341, 15091.224974112503, 44808.489301340545, 48941.92852959004, 23237.24366617937, 53604.72632813356, 45216.5594421344, 24728.764082343536, 36959.050542876146, 24571.01737854448, 20012.078258592235, 51601.58076648641, 27008.54891280579, 41077.25827316228, 24943.810560230493, 22788.959306379624, 25576.967277339812, 31865.299982800043, 26277.485477350783, 33274.62562457394, 7086.065277964301, 26739.138932681566, 34834.48643401443, 22236.19551149711, 29944.02769882811, 38305.04375404941, 28623.764906252032, 32547.236763257788, 24618.99163680798, 24407.257790455777, 29476.54989369864, 7438.028017078075, 16417.259576585566, 32972.25925084541, 23662.01048639141, 25783.196053008774, 21026.475477192595, 22774.582467234683, 17847.834358852913, 18796.94898433792, 26765.75766819158, 27089.453862866805, 17239.28059624835, 19965.57483596724, 16493.060910850494, 23374.160060991264, 21030.73338036478, 11269.44480040275, 14770.853046352211, 19583.63681427436, 24154.702772998462, 23362.764390810342, 30898.696504914784, 30635.230310829174, 23525.161802795512, 23236.294072020377, 22013.773524880482, 12949.798226027446, 20655.05342021017, 15386.722142965915, 27011.51198829535, 27644.33713480278, 30802.317020912065, 35638.73152795725, 17311.109585177022, 22117.4530328846, 12928.786129279913, 17494.01055843176, 8023.735965923304, 19530.281374552014, 17995.154379127, 30890.2507546154, 17703.227913901625, 34854.30847100223, 7062.343208335271, 19351.047724673273, 28516.233466801452, 15558.914353846383, 21892.488979309866, 14589.8910301712, 24058.691308221445, 20840.846397875892, 16881.46135105336, 19058.913354140444, 20890.00378503142, 24770.93197152793, 24421.854035120126, 36263.783358664106, 32723.946095359468, 30818.691417580772, 29700.70559731751, 16875.606851787936, 25358.23470910164, 26757.263793392172, 25215.424852822907, 32194.538007482362, 21275.18890990969, 23481.808637511844, 12336.486652879557, 20269.19806078281, 25777.96694699362, 25483.3805626551, 33456.93942442674, 19001.449895970123, 22892.197364154435, 24812.821343795647, 31508.63528047178, 33897.39284706012, 25758.53971552269, 23357.31972760336, 21068.160383478276, 14385.664500430683, 19687.99726596417, 29270.517320940708, 38951.23466750507, 28782.252939872833, 23434.079819721366, 40513.95381815714, 42674.545137092246, 34718.492506054856, 7433.273660574309, 34381.06884218756, 35477.64507406013, 40909.89222997401, 27708.13895945084, 38089.43090095451, 31919.652815604008, 40224.32194841407, 32559.056367379366, 16539.937609666416, 43240.70466001475, 15198.989777410712, 39962.207958201354, 33919.03000892141, 22735.76565476384, 36005.93672408319, 29177.388276593047, 24192.41509534209, 31856.67398396316, 41721.44029920331, 32405.865869779132, 37102.42282197693, 33644.82248371828, 28154.802434657606, 13641.204722142484, 34198.73407395602, 26762.730312685002, 18331.00441092177, 43439.97310438197, 34820.25994861121, 35298.9939418834, 36118.20466289034, 32757.193596936286, 43372.365683492186, 31404.554288665706, 37021.827592995985, 27299.957154151274, 30953.768080115253, 34931.41584541723, 37729.466471975466, 40225.17842798904, 32117.222209540734, 38551.982174239085, 34807.06687589426, 30766.969125748226, 34770.14103667766, 27312.793472146775, 38961.15337251649, 10337.288870395381, 36423.488403840565, 20319.536461074043, 29574.497279872692, 18999.68001820495, 39031.92832343712, 13240.00620798328, 32545.374639192567, 25882.097067700528, 29891.364433980718, 31327.706606159067, 39320.471327649844, 26592.361790083472, 39081.48145552462, 29414.590335276793, 36865.040591331155, 38778.17093450654, 42886.20671422471, 43053.56834739077, 40891.219389484235, 41061.638758473404, 34654.26137308832, 24734.89967881794, 28869.268265783325, 37057.90289321234, 39295.6948115317, 37596.32051067558, 41113.35353954426, 40389.71157198149, 31721.528823839657, 19978.730729993735, 35488.51453788715, 34450.71196740136, 28862.478527970656, 36877.717779332525, 40122.01725809058, 25739.764236049432, 36446.49452667262, 41106.1346852666, 39202.53897837334, 32595.663040080544, 18626.87769255801, 31295.811776304592, 42536.28986002864, 26253.52389646948, 33344.764380409164, 27295.45616549815, 27464.524013919043, 20000.01406772789, 25940.850585279237, 35441.25706342183, 18264.181487324822, 2545.3748296379026, 20535.57810382898, 31505.025657520222, 27833.00290469492, 16591.48122628528, 17025.363502522898, 24199.774892116846, 18115.579973690143, 25363.847074080713, 13093.172383593266, 29180.950282254467, 4396.776990503766, 28429.74684916038, 29948.463757702302, 26900.210829179738, 28341.664470939697, 26761.75958314786, 19168.181435247247, 19919.390359156656, 30071.827655108013, 29299.94144059098, 20839.711054703534, 17402.817835747883, 15720.97167664162, 9462.370828788473, 19209.857235847587, 14743.52849361339, 7462.810391044946, 27676.39854109867, 27895.433347272687, 28333.496836594826, 14705.691228674621, 29223.55951995051, 14533.78605087988, 14909.938567370456, 19063.92094235947, 27928.335656712905, 22992.742429239624, 22896.557568430115, 29508.52426438033, 29558.738321222274, 27375.188765812527, 26238.118928244687, 25618.90691152747, 12510.35980756528, 32433.768388495555, 5591.294079128369, 11955.119030499209, 2137.0952792836415, 25073.14250138465, 13182.272199232502, 28355.889408398136, 8568.371991465036, 28751.920868913425, 2489.7410378864015, 11292.051904061489, 24994.673901674032, 20426.389267814076, 29116.150220100746, 24374.31760966316, 19763.645359276285, 18209.537732861954, 12742.484445649945, 37517.72148345879, 30591.305048828366, 25085.339970640223, 15368.356050755898, 32328.358536894768, 14461.68463803102, 21524.45308751055, 23396.609226745633, 19637.881338845207, 21062.378993048707, 23940.224437809895, 35299.3824778277, 20929.327117902874, 20679.99817488185, 25326.76392667584, 7991.108253336089, 29777.638020653678, 25571.465058592483, 15098.92298019644, 27644.596181486915, 28923.968051207747, 11499.395577957719, 37604.76941873969, 29281.670508476294, 21415.18970637754, 23339.096619438496, 13219.823942441713, 12266.862631514141, 37475.39757698198, 14559.14196292885, 21346.918476300216, 7451.541076979054, 8898.29844807405, 9845.79376841952, 7696.386839048697, 9206.309456303223, 6366.880703723678, 2952.4605304373376, 4031.751527210019, 8947.829135196804, 7218.063178330012, 7395.335738312408, 7314.376629015184, 8451.622477743183, 9315.759193936472, 9512.003667164105, 5927.84179261895, 8289.714208541745, 3220.098951164192, 10627.561510333524, 9379.847555479224, 8319.229691671444, 8030.7294911228855, 7643.936468464277, 4716.404516758277, 8406.747110830203, 11113.006045547681, 9887.668665704112, 6512.071145019301, 8392.689878119118, 9429.136835226387, 5900.271441639756, 11112.566951374054, 7616.70612626255, 5119.767686829631, 6920.267124576607, 8213.099004170776, 10486.012865509452, 5707.974243893167, 11886.857334058925, 6832.178038655403, 8540.615596321732, 10859.052449032817, 10518.41221018771, 9138.094997707312, 10336.822288559588, 8533.98477777116, 10254.422516313982, 9984.85301881239, 6410.0107370856085, 10023.592423959386, 5468.292756449886, 10150.939308238927, 2538.90817235527, 10634.957085522354, 4355.029729694591, 9891.906823562167, 8195.243216274157, 9678.235594455045, 3057.9776520931346, 8707.030641895826, 2831.012071892775, 6070.226152201776, 9444.575567258074, 9997.203381524603, 10206.645183245906, 7533.403748799454, 12732.986247362838, 8286.38993853528, 12982.093983534842, 12867.10142438909, 7080.981503061868, 7786.469968696676, 8324.7871244439, 9431.499907956142, 7577.518643925793, 10081.261781759818, 6912.9397599236245, 9514.44041078267, 8219.07834656878, 7440.382603714785, 11691.319965147057, 6092.256125906838, 7626.514456184692, 12327.854108451898, 6583.779637683677, 8786.365585426633, 9582.713685550796, 3970.7775995631137, 8469.359495926112, 7465.3133942698005, 11880.248487568082, 10983.663900940837, 10421.662050105857, 8284.92402501229, 9162.186026592162, 6819.732903524895, 7393.982272600386, 9175.846621206103, 7707.836463687712, 7720.257048352249, 21138.130344846253, 25572.589490166512, 18026.302791152775, 14555.273359086, 26884.061461899473, 9025.236543135781, 4947.432656058729, 16133.12296672809, 25444.024171548896, 20322.035437345585, 17004.329262147934, 11905.131647151058, 19806.586571366992, 8480.612161585244, 20706.293613379297, 9074.260750293428, 22166.40282430438, 4349.483231197586, 23076.568784548042, 25221.82819322266, 23057.51691737078, 21261.109549939658, 24491.212454265886, 18425.78279856245, 18894.453208343944, 26498.567966822826, 26886.78136682891, 15087.56984063626, 12715.061370133531, 13273.37786816389, 9156.960509634166, 11999.93896526783, 12148.841163459445, 8384.768968650904, 19784.270259671994, 19597.194159642262, 23509.770314282665, 8528.296275792492, 24452.879483452478, 11419.034121781044, 10213.10878931397, 9188.705605772497, 25511.144484187167, 24069.657968438674, 18665.810136385335, 18022.776863665084, 23818.968781340558, 21311.399190603726, 18750.40732640073, 20049.454988562047, 11881.104319605925, 24354.236831306374, 5116.690262374247, 14985.577369131623, 2253.086246359053, 16558.984059503422, 15342.09969218643, 27146.244786272073, 5486.9342756488495, 22510.623392424568, 2295.251833030884, 8940.420278763711, 17755.22359497807, 21243.048563683486, 24468.71778304723, 13420.339007307852, 14916.326020523775, 17197.634163504314, 9432.063758395256, 31128.737228182577, 24297.061620364446, 18897.423220724253, 12225.05480054126, 21878.00292472182, 14993.568527128049, 15842.500752745487, 20240.14783212853, 22138.487338800303, 24225.44593083167, 15112.460118223204, 30000.878077784102, 6624.219647523335, 16713.382440073907, 18286.19287278775, 9756.377838266262, 21697.939326152067, 22271.48558025155, 12540.358708316864, 22784.88103534983, 21000.644949252965, 11222.229498350924, 26895.10001414777, 20858.069122322086, 10719.51096586141, 16458.649919285614, 14005.652830455248, 7117.901847148594, 22878.02138433703, 12295.174421034228, 19255.413531208316, 42379.194520167905, 21296.35057307857, 17755.011046253327, 54704.46360178584, 33281.75523963885, 45573.69526589001, 6853.036250446515, 39126.800296433736, 48942.65321138207, 46210.711124943926, 33505.30171486023, 46455.70628047529, 36271.99096938218, 57367.61373304413, 37056.28002824242, 16920.21974217239, 30366.033659855002, 6837.636060077941, 18669.22875376531, 40180.91444496994, 38549.32502618883, 33669.82181152384, 35253.087488426005, 30082.699043047873, 21588.056642149313, 25557.797786671832, 30796.35069870495, 44128.08474233838, 30814.601677684346, 35381.94363896894, 17777.805426325904, 30944.49068881049, 27775.31754309161, 7002.55892887845, 29415.860951529525, 21966.494666623345, 34214.28610239964, 30919.010351533303, 43783.59896793529, 47778.82756555689, 22140.31509349886, 22357.190890682432, 22151.8923952934, 16837.674755636137, 29334.03300063408, 22120.12696706198, 48740.08253032707, 41181.746645795545, 48924.52298722016, 39362.92641900726, 22343.801544876565, 12192.341489394657, 9014.533455375215, 24754.496105314473, 7692.723646030402, 17085.28113872128, 18202.657190858332, 34336.90479356771, 29463.37265966501, 40928.534541358, 1821.9101565019923, 17783.480007265018, 44793.877932783864, 19521.722697385434, 39281.3307165704, 25757.28003745517, 33319.46099344932, 46003.679627708545, 6822.199555657665, 28090.19576480891, 26662.897087470825, 42484.621406473234, 36704.32705869056, 52835.1911022595, 43541.96515850403, 38247.84128646784, 33204.67458501824, 24729.75848973227, 17136.28864999215, 22449.48323844635, 23971.285230361907, 56659.28269503203, 43224.164000485354, 43350.26833825375, 6489.348635325208, 19761.165943927546, 35744.31597223182, 27203.057790296603, 47862.05106242934, 25069.503221633036, 22561.398337992265, 27967.840690543722, 35181.26484480078, 57440.0320579881, 49138.93213720397, 10754.084024699088, 51058.94988956647, 21750.605006861948, 32293.477966336686, 35671.21941607264]})\n"
     ]
    }
   ],
   "source": [
    "print(loss_results)"
   ]
  },
  {
   "cell_type": "code",
   "execution_count": 12,
   "metadata": {},
   "outputs": [],
   "source": [
    "from matplotlib import pyplot as plt\n",
    "\n",
    "font = {\"weight\": \"normal\", \"size\": 10}\n",
    "\n",
    "plt.rc(\"font\", **font)\n",
    "plt.rcParams[\"text.usetex\"] = False\n",
    "\n",
    "plt.cla()\n",
    "fig, axes = plt.subplots(4, 3, sharex=False, figsize=(20, 20))\n",
    "\n",
    "\n",
    "for i, (loss, values) in enumerate(loss_results.items()):\n",
    "    ax = axes[i // 3, i % 3]\n",
    "    ax.set_xlabel(\"Eval Error\")\n",
    "    ax.set_ylabel(loss)\n",
    "    ax.set_title(f\"{loss} Objective Function\", fontweight=\"bold\")\n",
    "\n",
    "    x = eval_results\n",
    "    y = np.polyval(np.polyfit(x, values, 1), x)\n",
    "\n",
    "    ax.plot(x, values, \".\", label=loss, markersize=6)\n",
    "    ax.plot(x, y, \":\", linewidth=5)\n",
    "plt.show()"
   ]
  },
  {
   "cell_type": "code",
   "execution_count": 16,
   "metadata": {},
   "outputs": [
    {
     "data": {
      "application/vnd.jupyter.widget-view+json": {
       "model_id": "f8834ff49b9449bcb774630c9361c4c4",
       "version_major": 2,
       "version_minor": 0
      },
      "text/plain": [
       "  0%|          | 0/8 [00:00<?, ?it/s]"
      ]
     },
     "metadata": {},
     "output_type": "display_data"
    },
    {
     "ename": "TypeError",
     "evalue": "UniformSampling.__init__() got an unexpected keyword argument 'randomized'",
     "output_type": "error",
     "traceback": [
      "\u001b[0;31m---------------------------------------------------------------------------\u001b[0m",
      "\u001b[0;31mTypeError\u001b[0m                                 Traceback (most recent call last)",
      "Cell \u001b[0;32mIn[16], line 24\u001b[0m\n\u001b[1;32m     22\u001b[0m \u001b[38;5;28;01mwith\u001b[39;00m create_viewer(obj_name, \u001b[38;5;28;01mTrue\u001b[39;00m) \u001b[38;5;28;01mas\u001b[39;00m sim_viewer, create_viewer(obj_name, \u001b[38;5;28;01mFalse\u001b[39;00m) \u001b[38;5;28;01mas\u001b[39;00m world_viewer:\n\u001b[1;32m     23\u001b[0m     \u001b[38;5;28;01mfor\u001b[39;00m loss_func, loss_name \u001b[38;5;129;01min\u001b[39;00m \u001b[38;5;28mzip\u001b[39m(SELECTED_LOSSES, LOSS_NAMES):\n\u001b[0;32m---> 24\u001b[0m         alg \u001b[38;5;241m=\u001b[39m \u001b[43mUniformSampling\u001b[49m\u001b[43m(\u001b[49m\u001b[43msim_viewer\u001b[49m\u001b[43m,\u001b[49m\u001b[43m \u001b[49m\u001b[43mloss_func\u001b[49m\u001b[38;5;241;43m=\u001b[39;49m\u001b[43mloss_func\u001b[49m\u001b[43m,\u001b[49m\u001b[43m \u001b[49m\u001b[43mnum_samples\u001b[49m\u001b[38;5;241;43m=\u001b[39;49m\u001b[38;5;241;43m512\u001b[39;49m\u001b[43m,\u001b[49m\u001b[43m \u001b[49m\u001b[43mrandomized\u001b[49m\u001b[38;5;241;43m=\u001b[39;49m\u001b[38;5;28;43;01mFalse\u001b[39;49;00m\u001b[43m)\u001b[49m\n\u001b[1;32m     25\u001b[0m         evaluator \u001b[38;5;241m=\u001b[39m Evaluator(world_viewer, sim_viewer, eval_func\u001b[38;5;241m=\u001b[39meval_funcs\u001b[38;5;241m.\u001b[39mXorDiff(\u001b[38;5;241m0.1\u001b[39m))\n\u001b[1;32m     26\u001b[0m         losses \u001b[38;5;241m=\u001b[39m evaluator\u001b[38;5;241m.\u001b[39mevaluate(alg, run_config, eval_positions)\n",
      "\u001b[0;31mTypeError\u001b[0m: UniformSampling.__init__() got an unexpected keyword argument 'randomized'"
     ]
    }
   ],
   "source": [
    "from algs.algorithm import RunConfig\n",
    "from algs.uniform_sampling import UniformSampling\n",
    "from evaluate import eval_funcs\n",
    "\n",
    "run_config = RunConfig(max_time=1000, silent=True)\n",
    "\n",
    "eval_positions = generate_positions(100)\n",
    "\n",
    "results = defaultdict(lambda: defaultdict(list))\n",
    "\n",
    "SELECTED_LOSSES = [\n",
    "    loss_funcs.IOU(),\n",
    "    loss_funcs.RMSE(),\n",
    "    loss_funcs.WeightedSum(loss_funcs.IOU(), loss_funcs.RMSE()),\n",
    "    loss_funcs.NMI(50),\n",
    "    loss_funcs.Hausdorff(),\n",
    "]\n",
    "\n",
    "LOSS_NAMES = [l.get_name() for l in SELECTED_LOSSES]\n",
    "\n",
    "for obj_name in tqdm(OBJECTS):\n",
    "    with create_viewer(obj_name, True) as sim_viewer, create_viewer(obj_name, False) as world_viewer:\n",
    "        for loss_func, loss_name in zip(SELECTED_LOSSES, LOSS_NAMES):\n",
    "            alg = UniformSampling(sim_viewer, loss_func=loss_func, num_samples=512)\n",
    "            evaluator = Evaluator(world_viewer, sim_viewer, eval_func=eval_funcs.XorDiff(0.1))\n",
    "            losses = evaluator.evaluate(alg, run_config, eval_positions)\n",
    "            results[obj_name][loss_name].extend(losses)"
   ]
  },
  {
   "cell_type": "code",
   "execution_count": null,
   "metadata": {},
   "outputs": [],
   "source": [
    "from utils.io import save_pickle\n",
    "\n",
    "res_dict = dict()\n",
    "\n",
    "for k, v in results.items():\n",
    "    res_dict[k] = dict(v)\n",
    "\n",
    "#save_pickle(\"plots/loss_eval_results.pkl\", results)"
   ]
  },
  {
   "cell_type": "code",
   "execution_count": null,
   "metadata": {},
   "outputs": [],
   "source": [
    "from matplotlib import pyplot as plt\n",
    "\n",
    "font = {\"weight\": \"bold\", \"size\": 10}\n",
    "\n",
    "plt.rc(\"font\", **font)\n",
    "\n",
    "fig, axes = plt.subplots(3, 3, sharex=False, figsize=(30, 30))\n",
    "\n",
    "for i, object_name in enumerate(OBJECTS):\n",
    "    ax = axes[i // 3, i % 3]\n",
    "    ax.set_title(object_name.upper(), fontweight=\"bold\", fontsize=15)\n",
    "\n",
    "    ax.boxplot(results[object_name].values(), labels=LOSS_NAMES, sym=\"\", patch_artist=False, autorange=True)\n",
    "    #ax.set_ylabel(\"Eval Error\")"
   ]
  },
  {
   "cell_type": "code",
   "execution_count": null,
   "metadata": {},
   "outputs": [],
   "source": [
    "from matplotlib import pyplot as plt\n",
    "\n",
    "font = {\"weight\": \"bold\", \"size\": 10}\n",
    "\n",
    "plt.rc(\"font\", **font)\n",
    "\n",
    "labels = [l.get_name() for l in SELECTED_LOSSES]\n",
    "\n",
    "fig, axes = plt.subplots(3, 3, sharex=False, figsize=(30, 30))\n",
    "\n",
    "medianprops = dict(linestyle=None, linewidth=0)\n",
    "whiskerprops = dict(linewidth=0)\n",
    "capprops = dict(linewidth=0)\n",
    "\n",
    "for i, object_name in enumerate(OBJECTS):\n",
    "    ax = axes[i // 3, i % 3]\n",
    "    ax.set_title(object_name.upper(), fontweight=\"bold\", fontsize=15)\n",
    "    bp = ax.boxplot(\n",
    "        results[object_name].values(),\n",
    "        widths=0.1,\n",
    "        sym=\"\",\n",
    "        patch_artist=True,\n",
    "        #whis=[5, 95],\n",
    "        #bootstrap=10000,\n",
    "        medianprops=medianprops,\n",
    "        whiskerprops=whiskerprops,\n",
    "        capprops=capprops,\n",
    "    )\n",
    "\n",
    "    violin = ax.violinplot(results[object_name].values(), showmeans=False)\n",
    "    ax.set_xticks([y + 1 for y in range(len(labels))], labels=LOSS_NAMES)"
   ]
  }
 ],
 "metadata": {
  "kernelspec": {
   "display_name": "robo-proj",
   "language": "python",
   "name": "python3"
  },
  "language_info": {
   "codemirror_mode": {
    "name": "ipython",
    "version": 3
   },
   "file_extension": ".py",
   "mimetype": "text/x-python",
   "name": "python",
   "nbconvert_exporter": "python",
   "pygments_lexer": "ipython3",
   "version": "3.11.8"
  }
 },
 "nbformat": 4,
 "nbformat_minor": 2
}
