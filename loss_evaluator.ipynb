{
 "cells": [
  {
   "cell_type": "code",
   "execution_count": null,
   "metadata": {},
   "outputs": [],
   "source": [
    "import numpy as np\n",
    "from view_sampler import ViewSampler, CameraConfig\n",
    "from manipulated_object import ObjectPosition\n",
    "from utils.orient import OrientUtils\n",
    "\n",
    "cam_config = CameraConfig(location=(0, 0, 0.1), rotation=(np.pi / 2, 0, 0), fov=30)\n",
    "world_viewer = ViewSampler(\"data/world_mug.xml\", cam_config, simulation_time=0)\n",
    "sim_viewer = ViewSampler(\"data/world_mug_sim.xml\", cam_config)\n",
    "\n",
    "init_location = (0, 1.3, 0.3)\n",
    "random_orientations = OrientUtils.generate_random(200)\n",
    "eval_positions = [ObjectPosition(orient, init_location) for orient in random_orientations]"
   ]
  },
  {
   "cell_type": "code",
   "execution_count": null,
   "metadata": {},
   "outputs": [],
   "source": [
    "from algs.uniform_sampling import UniformSampling\n",
    "from evaluate.evaluator import Evaluator\n",
    "from evaluate import eval_funcs\n",
    "import loss_funcs\n",
    "import cv2 as cv\n",
    "\n",
    "\n",
    "loss_functions = [\n",
    "    loss_funcs.IOU(),\n",
    "    loss_funcs.MSE(),\n",
    "    loss_funcs.NormMSE(norm=\"euclidean\"),\n",
    "    loss_funcs.MutualInformation(bins=100),\n",
    "    loss_funcs.PeakSignalNoiseRation(),\n",
    "    loss_funcs.StructuralSimilarity(win_size=None),\n",
    "    loss_funcs.HausdorffDistance(),\n",
    "    loss_funcs.AdaptedRandError(),\n",
    "    loss_funcs.VariationOfInformation(),\n",
    "]\n",
    "\n",
    "alg_config = UniformSampling.Config(time_limit=1000, min_samples=343, randomized=False, silent=True)\n",
    "\n",
    "evaluator = Evaluator(world_viewer, eval_func=eval_funcs.NormXorDiff(obj_depth=2.0, method=\"mse\"))\n",
    "\n",
    "results = dict()\n",
    "\n",
    "for loss in loss_functions:\n",
    "    alg = UniformSampling(sim_viewer, loss_func=loss)\n",
    "    eval_losses = evaluator.evaluate(alg, alg_config, eval_positions)\n",
    "    results[type(loss).__name__] = eval_losses\n",
    "    print(f\"{type(loss).__name__}: {eval_losses}\")\n",
    "\n",
    "cv.destroyAllWindows()"
   ]
  },
  {
   "cell_type": "code",
   "execution_count": null,
   "metadata": {},
   "outputs": [],
   "source": [
    "print(results)"
   ]
  }
 ],
 "metadata": {
  "kernelspec": {
   "display_name": "robo-proj",
   "language": "python",
   "name": "python3"
  },
  "language_info": {
   "codemirror_mode": {
    "name": "ipython",
    "version": 3
   },
   "file_extension": ".py",
   "mimetype": "text/x-python",
   "name": "python",
   "nbconvert_exporter": "python",
   "pygments_lexer": "ipython3",
   "version": "3.11.7"
  }
 },
 "nbformat": 4,
 "nbformat_minor": 2
}
