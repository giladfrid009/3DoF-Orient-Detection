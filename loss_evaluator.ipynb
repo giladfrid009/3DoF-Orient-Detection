{
 "cells": [
  {
   "cell_type": "code",
   "execution_count": null,
   "metadata": {},
   "outputs": [],
   "source": [
    "import numpy as np\n",
    "from view_sampler import ViewSampler, CameraConfig\n",
    "from manipulated_object import ObjectPosition\n",
    "from utils.orient import OrientUtils\n",
    "from algs.uniform_sampling import UniformSampling\n",
    "from evaluate.evaluator import Evaluator\n",
    "from evaluate import eval_funcs\n",
    "import loss_funcs\n",
    "import cv2 as cv\n",
    "\n"
   ]
  },
  {
   "cell_type": "code",
   "execution_count": null,
   "metadata": {},
   "outputs": [],
   "source": [
    "from evaluate import eval_funcs\n",
    "import loss_funcs\n",
    "from utils.image import ImageUtils\n",
    "from tqdm.auto import tqdm\n",
    "from collections import defaultdict\n",
    "\n",
    "loss_functions = [\n",
    "    loss_funcs.IOU(),\n",
    "    loss_funcs.MSE(),\n",
    "    loss_funcs.NormMSE(norm=\"euclidean\"),\n",
    "    loss_funcs.MutualInformation(bins=100),\n",
    "    loss_funcs.PeakSignalNoiseRation(),\n",
    "    loss_funcs.StructuralSimilarity(),\n",
    "    loss_funcs.HausdorffDistance(),\n",
    "    loss_funcs.AdaptedRandError(),\n",
    "    loss_funcs.VariationOfInformation(),\n",
    "]\n",
    "\n",
    "results = dict()\n",
    "\n",
    "orients1 = OrientUtils.generate_random(5000)\n",
    "orients2 = OrientUtils.generate_random(5000)\n",
    "\n",
    "loss_dict = defaultdict(list)\n",
    "\n",
    "init_location = (0, 1.3, 0.3)\n",
    "cam_config = CameraConfig(location=(0, 0, 0.1), rotation=(np.pi / 2, 0, 0), fov=30)\n",
    "sim_viewer = ViewSampler(\"data/world_mug_sim.xml\", cam_config)\n",
    "\n",
    "for ori1, ori2 in tqdm(zip(orients1, orients2), total=len(orients1)):\n",
    "    for loss in loss_functions:    \n",
    "        pos1 = ObjectPosition(ori1, init_location)\n",
    "        pos2 = ObjectPosition(ori2, init_location)\n",
    "\n",
    "        rgb1, _ = sim_viewer.get_view_cropped(pos1, depth=False, allow_simulation=False)\n",
    "        rgb2, _ = sim_viewer.get_view_cropped(pos2, depth=False, allow_simulation=False)\n",
    "\n",
    "        pad_shape = np.maximum(rgb1.shape, rgb2.shape)\n",
    "        rgb1 = ImageUtils.pad_to_shape(rgb1, pad_shape)\n",
    "        rgb2 = ImageUtils.pad_to_shape(rgb2, pad_shape)\n",
    "\n",
    "        loss_value = loss(rgb1, rgb2)\n",
    "        loss_dict[type(loss).__name__].append(loss_value)\n"
   ]
  },
  {
   "cell_type": "code",
   "execution_count": null,
   "metadata": {},
   "outputs": [],
   "source": [
    "from tqdm.auto import tqdm\n",
    "\n",
    "eval_values = []\n",
    "\n",
    "xor_eval = eval_funcs.NormXorDiff(obj_depth=2.0, method=\"mse\", norm=\"euclidean\")\n",
    "\n",
    "for ori1, ori2 in tqdm(zip(orients1, orients2), total=len(orients1)):\n",
    "    pos1 = ObjectPosition(ori1, init_location)\n",
    "    pos2 = ObjectPosition(ori2, init_location)\n",
    "\n",
    "    depth1, _ = sim_viewer.get_view_cropped(pos1, depth=True, allow_simulation=False)\n",
    "    depth2, _ = sim_viewer.get_view_cropped(pos2, depth=True, allow_simulation=False)\n",
    "\n",
    "    pad_shape = np.maximum(depth1.shape, depth2.shape)\n",
    "    depth1 = ImageUtils.pad_to_shape(depth1, pad_shape)\n",
    "    depth2 = ImageUtils.pad_to_shape(depth2, pad_shape)\n",
    "\n",
    "    depth1[depth1 > 20] = 0\n",
    "    depth2[depth2 > 20] = 0\n",
    "\n",
    "    eval_value = xor_eval(depth1, depth2)\n",
    "    eval_values.append(eval_value)"
   ]
  },
  {
   "cell_type": "code",
   "execution_count": null,
   "metadata": {},
   "outputs": [],
   "source": [
    "from matplotlib import pyplot as plt\n",
    "\n",
    "font = {'weight' : 'normal',\n",
    "        'size'   : 20}\n",
    "\n",
    "plt.rc('font', **font)\n",
    "\n",
    "#fig, axes = plt.subplot(len(loss_dict.keys()), 1, 1)\n",
    "\n",
    "for i, (loss, values) in enumerate(loss_dict.items()):\n",
    "    fig = plt.figure(i, figsize=(9, 6))\n",
    "    ax = fig.add_subplot(111)\n",
    "    ax.set_xlabel(\"XorDiff\")\n",
    "    ax.set_ylabel(loss)\n",
    "    ax.set_title(f\"{loss} Objective Function\")\n",
    "    plt.plot(eval_values, values, '.', label=loss)"
   ]
  },
  {
   "cell_type": "code",
   "execution_count": null,
   "metadata": {},
   "outputs": [],
   "source": [
    "cam_config = CameraConfig(location=(0, 0, 0.1), rotation=(np.pi / 2, 0, 0), fov=30)\n",
    "world_viewer = ViewSampler(\"data/world_mug.xml\", cam_config, simulation_time=0)\n",
    "sim_viewer = ViewSampler(\"data/world_mug_sim.xml\", cam_config)\n",
    "\n",
    "init_location = (0, 1.3, 0.3)\n",
    "random_orientations = OrientUtils.generate_random(200)\n",
    "pos1 = [ObjectPosition(orient, init_location) for orient in random_orientations]"
   ]
  },
  {
   "cell_type": "code",
   "execution_count": null,
   "metadata": {},
   "outputs": [],
   "source": [
    "loss_functions = [\n",
    "    loss_funcs.IOU(),\n",
    "    loss_funcs.MSE(),\n",
    "    loss_funcs.NormMSE(norm=\"euclidean\"),\n",
    "    loss_funcs.MutualInformation(bins=100),\n",
    "    loss_funcs.PeakSignalNoiseRation(),\n",
    "    loss_funcs.StructuralSimilarity(),\n",
    "    loss_funcs.HausdorffDistance(),\n",
    "    loss_funcs.AdaptedRandError(),\n",
    "    loss_funcs.VariationOfInformation(),\n",
    "]\n",
    "\n",
    "alg_config = UniformSampling.Config(time_limit=1000, min_samples=343, randomized=False, silent=True)\n",
    "\n",
    "evaluator = Evaluator(world_viewer, eval_func=eval_funcs.NormXorDiff(obj_depth=2.0, method=\"mse\"))\n",
    "\n",
    "results = dict()\n",
    "\n",
    "for loss in loss_functions:\n",
    "    alg = UniformSampling(sim_viewer, loss_func=loss)\n",
    "    alg.register_callback()\n",
    "    eval_losses = evaluator.evaluate(alg, alg_config, pos1)\n",
    "    results[type(loss).__name__] = eval_losses\n",
    "    print(f\"{type(loss).__name__}: {eval_losses}\")\n",
    "\n",
    "cv.destroyAllWindows()\n"
   ]
  },
  {
   "cell_type": "code",
   "execution_count": null,
   "metadata": {},
   "outputs": [],
   "source": [
    "print(results)"
   ]
  },
  {
   "cell_type": "code",
   "execution_count": null,
   "metadata": {},
   "outputs": [],
   "source": [
    "import statistics\n",
    "\n",
    "for loss, eval_losses in results.items():\n",
    "    print(f\"{loss}: {statistics.mean(eval_losses)}\")\n",
    "    print(f\"{loss}: {statistics.median(eval_losses)}\")"
   ]
  },
  {
   "cell_type": "code",
   "execution_count": null,
   "metadata": {},
   "outputs": [],
   "source": [
    "results[\"NMSE\"] = results.pop(\"NormMSE\")\n",
    "results[\"NMI\"] = results.pop(\"MutualInformation\")\n",
    "results[\"PSNR\"] = results.pop(\"PeakSignalNoiseRation\")\n",
    "results[\"SSIM\"] = results.pop(\"StructuralSimilarity\")\n",
    "results[\"Hausdorff\"] = results.pop(\"HausdorffDistance\")\n",
    "results[\"ARE\"] = results.pop(\"AdaptedRandError\")\n",
    "results[\"VI\"] = results.pop(\"VariationOfInformation\")"
   ]
  },
  {
   "cell_type": "code",
   "execution_count": null,
   "metadata": {},
   "outputs": [],
   "source": [
    "from matplotlib import pyplot as plt\n",
    "\n",
    "font = {'family' : 'normal',\n",
    "        'weight' : 'normal',\n",
    "        'size'   : 20}\n",
    "\n",
    "plt.rc('font', **font)\n",
    "\n",
    "fig = plt.gcf()\n",
    "fig.set_size_inches(18.5, 10.5)\n",
    "\n",
    "ax = plt.subplot(111)\n",
    "\n",
    "ax.set_title('XorDiff Value per UniformSampling and Different Objective Functions')\n",
    "ax.boxplot(results.values(), labels=results.keys(), sym=\"\", patch_artist=False, autorange=True)\n",
    "ax.set_ylabel('XorDiff Value')"
   ]
  }
 ],
 "metadata": {
  "kernelspec": {
   "display_name": "robo-proj",
   "language": "python",
   "name": "python3"
  },
  "language_info": {
   "codemirror_mode": {
    "name": "ipython",
    "version": 3
   },
   "file_extension": ".py",
   "mimetype": "text/x-python",
   "name": "python",
   "nbconvert_exporter": "python",
   "pygments_lexer": "ipython3",
   "version": "3.11.7"
  }
 },
 "nbformat": 4,
 "nbformat_minor": 2
}
