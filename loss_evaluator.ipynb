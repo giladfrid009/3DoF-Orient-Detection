{
 "cells": [
  {
   "cell_type": "code",
   "execution_count": 1,
   "metadata": {},
   "outputs": [],
   "source": [
    "import numpy as np\n",
    "from view_sampler import ViewSampler, CameraConfig\n",
    "from manipulated_object import ObjectPosition\n",
    "from utils.orient import OrientUtils\n",
    "from evaluate.evaluator import Evaluator\n",
    "import loss_funcs\n",
    "\n",
    "from utils.image import ImageUtils\n",
    "from tqdm.auto import tqdm\n",
    "from collections import defaultdict"
   ]
  },
  {
   "cell_type": "code",
   "execution_count": 2,
   "metadata": {},
   "outputs": [],
   "source": [
    "INIT_LOCATION = (0, 1.3, 0.3)\n",
    "\n",
    "LOSS_FUNCTIONS = [\n",
    "    loss_funcs.IOU(),\n",
    "    loss_funcs.MSE(),\n",
    "    loss_funcs.RMSE(norm=\"euclidean\"),\n",
    "    loss_funcs.NMI(bins=50),\n",
    "    loss_funcs.PSNR(),\n",
    "    loss_funcs.SSIM(),\n",
    "    loss_funcs.Hausdorff(),\n",
    "    loss_funcs.ARE(),\n",
    "    loss_funcs.VI(),\n",
    "]\n",
    "\n",
    "\n",
    "OBJECTS = [\"airplane\", \"hammer\", \"hand\", \"headphones\", \"mouse\", \"mug\", \"stapler\", \"toothpaste\"]\n",
    "\n",
    "ZFAR = 5"
   ]
  },
  {
   "cell_type": "code",
   "execution_count": 3,
   "metadata": {},
   "outputs": [],
   "source": [
    "def create_viewer(obj_name: str, is_sim: bool = True) -> ViewSampler:\n",
    "    location = (INIT_LOCATION[0], INIT_LOCATION[2] - 1.3, INIT_LOCATION[2])\n",
    "    cam_config = CameraConfig(location, rotation=(np.pi / 2, 0, 0), fov=30, zfar=ZFAR)\n",
    "    if is_sim:\n",
    "        viewer = ViewSampler(f\"data/{obj_name}/world_sim.xml\", cam_config)\n",
    "    else:\n",
    "        viewer = ViewSampler(f\"data/{obj_name}/world.xml\", cam_config)\n",
    "    return viewer"
   ]
  },
  {
   "cell_type": "code",
   "execution_count": 4,
   "metadata": {},
   "outputs": [],
   "source": [
    "def generate_positions(\n",
    "    count: int,\n",
    ") -> list[ObjectPosition]:\n",
    "    orients = OrientUtils.generate_random(count)\n",
    "    positions = [ObjectPosition(orient, INIT_LOCATION) for orient in orients]\n",
    "    return positions"
   ]
  },
  {
   "cell_type": "code",
   "execution_count": 5,
   "metadata": {},
   "outputs": [],
   "source": [
    "def get_views(\n",
    "    viewer: ViewSampler, pos1: ObjectPosition, pos2: ObjectPosition, depth: bool\n",
    ") -> tuple[np.ndarray, np.ndarray]:\n",
    "    img1, _ = viewer.get_view_cropped(pos1, depth=depth)\n",
    "    img2, _ = viewer.get_view_cropped(pos2, depth=depth)\n",
    "    return img1, img2"
   ]
  },
  {
   "cell_type": "code",
   "execution_count": 6,
   "metadata": {},
   "outputs": [],
   "source": [
    "def calc_penalty(num_samples):\n",
    "    positions1 = generate_positions(num_samples)\n",
    "    positions2 = generate_positions(num_samples)\n",
    "    dists = {}\n",
    "    for obj_name in tqdm(OBJECTS):\n",
    "        total = 0\n",
    "        count = 0\n",
    "        dists[obj_name] = []\n",
    "        with create_viewer(obj_name) as viewer:\n",
    "            for pos1, pos2 in tqdm(zip(positions1, positions2), total=num_samples):\n",
    "                img1, img2 = get_views(viewer, pos1, pos2, depth=True)\n",
    "                pad_shape = np.maximum(img1.shape, img2.shape)\n",
    "                img1 = ImageUtils.pad_to_shape(img1, pad_shape, pad_value=0)\n",
    "                img2 = ImageUtils.pad_to_shape(img2, pad_shape, pad_value=0)\n",
    "                both = (img1 > 0) & (img2 > 0)\n",
    "\n",
    "                dists[obj_name].append(np.sum(np.abs(img1[both] - img2[both])) / np.sum(both))\n",
    "                total += np.sum(np.abs(img1[both] - img2[both]))\n",
    "                count += np.sum(both)\n",
    "        print(f\"Penalty for {obj_name}: {total / count}\")\n",
    "    return dists"
   ]
  },
  {
   "cell_type": "code",
   "execution_count": 7,
   "metadata": {},
   "outputs": [
    {
     "data": {
      "application/vnd.jupyter.widget-view+json": {
       "model_id": "fca008c358644037b17e68cc6010f0dd",
       "version_major": 2,
       "version_minor": 0
      },
      "text/plain": [
       "  0%|          | 0/8 [00:00<?, ?it/s]"
      ]
     },
     "metadata": {},
     "output_type": "display_data"
    },
    {
     "name": "stderr",
     "output_type": "stream",
     "text": [
      "warning: queue 0x5645eb87ae20 destroyed while proxies still attached:\n",
      "  wl_display@1 still attached\n"
     ]
    },
    {
     "data": {
      "application/vnd.jupyter.widget-view+json": {
       "model_id": "6511e697b76641cfa0ac6508ae791a06",
       "version_major": 2,
       "version_minor": 0
      },
      "text/plain": [
       "  0%|          | 0/1000 [00:00<?, ?it/s]"
      ]
     },
     "metadata": {},
     "output_type": "display_data"
    },
    {
     "ename": "KeyboardInterrupt",
     "evalue": "",
     "output_type": "error",
     "traceback": [
      "\u001b[0;31m---------------------------------------------------------------------------\u001b[0m",
      "\u001b[0;31mKeyboardInterrupt\u001b[0m                         Traceback (most recent call last)",
      "Cell \u001b[0;32mIn[7], line 1\u001b[0m\n\u001b[0;32m----> 1\u001b[0m dists \u001b[38;5;241m=\u001b[39m \u001b[43mcalc_penalty\u001b[49m\u001b[43m(\u001b[49m\u001b[38;5;241;43m1000\u001b[39;49m\u001b[43m)\u001b[49m\n",
      "Cell \u001b[0;32mIn[6], line 11\u001b[0m, in \u001b[0;36mcalc_penalty\u001b[0;34m(num_samples)\u001b[0m\n\u001b[1;32m      9\u001b[0m \u001b[38;5;28;01mwith\u001b[39;00m create_viewer(obj_name) \u001b[38;5;28;01mas\u001b[39;00m viewer:\n\u001b[1;32m     10\u001b[0m     \u001b[38;5;28;01mfor\u001b[39;00m pos1, pos2 \u001b[38;5;129;01min\u001b[39;00m tqdm(\u001b[38;5;28mzip\u001b[39m(positions1, positions2), total\u001b[38;5;241m=\u001b[39mnum_samples):\n\u001b[0;32m---> 11\u001b[0m         img1, img2 \u001b[38;5;241m=\u001b[39m \u001b[43mget_views\u001b[49m\u001b[43m(\u001b[49m\u001b[43mviewer\u001b[49m\u001b[43m,\u001b[49m\u001b[43m \u001b[49m\u001b[43mpos1\u001b[49m\u001b[43m,\u001b[49m\u001b[43m \u001b[49m\u001b[43mpos2\u001b[49m\u001b[43m,\u001b[49m\u001b[43m \u001b[49m\u001b[43mdepth\u001b[49m\u001b[38;5;241;43m=\u001b[39;49m\u001b[38;5;28;43;01mTrue\u001b[39;49;00m\u001b[43m)\u001b[49m\n\u001b[1;32m     12\u001b[0m         pad_shape \u001b[38;5;241m=\u001b[39m np\u001b[38;5;241m.\u001b[39mmaximum(img1\u001b[38;5;241m.\u001b[39mshape, img2\u001b[38;5;241m.\u001b[39mshape)\n\u001b[1;32m     13\u001b[0m         img1 \u001b[38;5;241m=\u001b[39m ImageUtils\u001b[38;5;241m.\u001b[39mpad_to_shape(img1, pad_shape, pad_value\u001b[38;5;241m=\u001b[39m\u001b[38;5;241m0\u001b[39m)\n",
      "Cell \u001b[0;32mIn[5], line 4\u001b[0m, in \u001b[0;36mget_views\u001b[0;34m(viewer, pos1, pos2, depth)\u001b[0m\n\u001b[1;32m      1\u001b[0m \u001b[38;5;28;01mdef\u001b[39;00m \u001b[38;5;21mget_views\u001b[39m(\n\u001b[1;32m      2\u001b[0m     viewer: ViewSampler, pos1: ObjectPosition, pos2: ObjectPosition, depth: \u001b[38;5;28mbool\u001b[39m\n\u001b[1;32m      3\u001b[0m ) \u001b[38;5;241m-\u001b[39m\u001b[38;5;241m>\u001b[39m \u001b[38;5;28mtuple\u001b[39m[np\u001b[38;5;241m.\u001b[39mndarray, np\u001b[38;5;241m.\u001b[39mndarray]:\n\u001b[0;32m----> 4\u001b[0m     img1, _ \u001b[38;5;241m=\u001b[39m \u001b[43mviewer\u001b[49m\u001b[38;5;241;43m.\u001b[39;49m\u001b[43mget_view_cropped\u001b[49m\u001b[43m(\u001b[49m\u001b[43mpos1\u001b[49m\u001b[43m,\u001b[49m\u001b[43m \u001b[49m\u001b[43mdepth\u001b[49m\u001b[38;5;241;43m=\u001b[39;49m\u001b[43mdepth\u001b[49m\u001b[43m)\u001b[49m\n\u001b[1;32m      5\u001b[0m     img2, _ \u001b[38;5;241m=\u001b[39m viewer\u001b[38;5;241m.\u001b[39mget_view_cropped(pos2, depth\u001b[38;5;241m=\u001b[39mdepth)\n\u001b[1;32m      6\u001b[0m     \u001b[38;5;28;01mreturn\u001b[39;00m img1, img2\n",
      "File \u001b[0;32m~/source/Robotics-Proj/view_sampler.py:74\u001b[0m, in \u001b[0;36mViewSampler.get_view_cropped\u001b[0;34m(self, position, depth, margin_factor)\u001b[0m\n\u001b[1;32m     67\u001b[0m \u001b[38;5;28;01mdef\u001b[39;00m \u001b[38;5;21mget_view_cropped\u001b[39m(\n\u001b[1;32m     68\u001b[0m     \u001b[38;5;28mself\u001b[39m,\n\u001b[1;32m     69\u001b[0m     position: ObjectPosition,\n\u001b[1;32m     70\u001b[0m     depth: \u001b[38;5;28mbool\u001b[39m \u001b[38;5;241m=\u001b[39m \u001b[38;5;28;01mFalse\u001b[39;00m,\n\u001b[1;32m     71\u001b[0m     margin_factor: \u001b[38;5;28mfloat\u001b[39m \u001b[38;5;241m=\u001b[39m \u001b[38;5;241m1.2\u001b[39m,\n\u001b[1;32m     72\u001b[0m ) \u001b[38;5;241m-\u001b[39m\u001b[38;5;241m>\u001b[39m \u001b[38;5;28mtuple\u001b[39m[np\u001b[38;5;241m.\u001b[39mndarray, ObjectPosition]:\n\u001b[0;32m---> 74\u001b[0m     image, position \u001b[38;5;241m=\u001b[39m \u001b[38;5;28;43mself\u001b[39;49m\u001b[38;5;241;43m.\u001b[39;49m\u001b[43mget_view\u001b[49m\u001b[43m(\u001b[49m\u001b[43mposition\u001b[49m\u001b[43m,\u001b[49m\u001b[43m \u001b[49m\u001b[43mdepth\u001b[49m\u001b[43m)\u001b[49m\n\u001b[1;32m     75\u001b[0m     mask \u001b[38;5;241m=\u001b[39m ImageUtils\u001b[38;5;241m.\u001b[39mcalc_mask(image, bg_value\u001b[38;5;241m=\u001b[39m\u001b[38;5;241m0\u001b[39m)\n\u001b[1;32m     76\u001b[0m     x1, y1, x2, y2 \u001b[38;5;241m=\u001b[39m ImageUtils\u001b[38;5;241m.\u001b[39mcalc_bboxes(mask, margin_factor)\n",
      "File \u001b[0;32m~/source/Robotics-Proj/view_sampler.py:56\u001b[0m, in \u001b[0;36mViewSampler.get_view\u001b[0;34m(self, position, depth)\u001b[0m\n\u001b[1;32m     54\u001b[0m \u001b[38;5;28mself\u001b[39m\u001b[38;5;241m.\u001b[39msimulator\u001b[38;5;241m.\u001b[39mset_object_location(position\u001b[38;5;241m.\u001b[39mlocation)\n\u001b[1;32m     55\u001b[0m \u001b[38;5;28mself\u001b[39m\u001b[38;5;241m.\u001b[39msimulator\u001b[38;5;241m.\u001b[39mset_object_orientation(position\u001b[38;5;241m.\u001b[39morientation)\n\u001b[0;32m---> 56\u001b[0m image \u001b[38;5;241m=\u001b[39m \u001b[38;5;28;43mself\u001b[39;49m\u001b[38;5;241;43m.\u001b[39;49m\u001b[43m_render_image\u001b[49m\u001b[43m(\u001b[49m\u001b[43mdepth\u001b[49m\u001b[38;5;241;43m=\u001b[39;49m\u001b[38;5;28;43;01mFalse\u001b[39;49;00m\u001b[43m)\u001b[49m\n\u001b[1;32m     58\u001b[0m \u001b[38;5;28;01mif\u001b[39;00m depth:\n\u001b[1;32m     59\u001b[0m     segm \u001b[38;5;241m=\u001b[39m ImageUtils\u001b[38;5;241m.\u001b[39mcalc_mask(image, bg_value\u001b[38;5;241m=\u001b[39m\u001b[38;5;241m0\u001b[39m, orig_dims\u001b[38;5;241m=\u001b[39m\u001b[38;5;28;01mFalse\u001b[39;00m)\n",
      "File \u001b[0;32m~/source/Robotics-Proj/view_sampler.py:46\u001b[0m, in \u001b[0;36mViewSampler._render_image\u001b[0;34m(self, depth)\u001b[0m\n\u001b[1;32m     44\u001b[0m     image \u001b[38;5;241m=\u001b[39m np\u001b[38;5;241m.\u001b[39mexpand_dims(image, axis\u001b[38;5;241m=\u001b[39m\u001b[38;5;241m-\u001b[39m\u001b[38;5;241m1\u001b[39m)\n\u001b[1;32m     45\u001b[0m     \u001b[38;5;28;01mreturn\u001b[39;00m image\n\u001b[0;32m---> 46\u001b[0m \u001b[38;5;28;01mreturn\u001b[39;00m \u001b[38;5;28;43mself\u001b[39;49m\u001b[38;5;241;43m.\u001b[39;49m\u001b[43msimulator\u001b[49m\u001b[38;5;241;43m.\u001b[39;49m\u001b[43mrender\u001b[49m\u001b[43m(\u001b[49m\u001b[38;5;28;43mself\u001b[39;49m\u001b[38;5;241;43m.\u001b[39;49m\u001b[43mcamera_config\u001b[49m\u001b[38;5;241;43m.\u001b[39;49m\u001b[43mrotation\u001b[49m\u001b[43m,\u001b[49m\u001b[43m \u001b[49m\u001b[38;5;28;43mself\u001b[39;49m\u001b[38;5;241;43m.\u001b[39;49m\u001b[43mcamera_config\u001b[49m\u001b[38;5;241;43m.\u001b[39;49m\u001b[43mlocation\u001b[49m\u001b[43m)\u001b[49m\n",
      "File \u001b[0;32m~/source/Robotics-Proj/simulator.py:46\u001b[0m, in \u001b[0;36mSimulator.render\u001b[0;34m(self, cam_rot, cam_pos)\u001b[0m\n\u001b[1;32m     43\u001b[0m \u001b[38;5;28mself\u001b[39m\u001b[38;5;241m.\u001b[39m_data\u001b[38;5;241m.\u001b[39mcam_xmat \u001b[38;5;241m=\u001b[39m Rotation\u001b[38;5;241m.\u001b[39mfrom_euler(\u001b[38;5;124m\"\u001b[39m\u001b[38;5;124mxyz\u001b[39m\u001b[38;5;124m\"\u001b[39m, cam_rot)\u001b[38;5;241m.\u001b[39mas_matrix()\u001b[38;5;241m.\u001b[39mflatten()\n\u001b[1;32m     45\u001b[0m \u001b[38;5;28mself\u001b[39m\u001b[38;5;241m.\u001b[39m_renderer\u001b[38;5;241m.\u001b[39mupdate_scene(\u001b[38;5;28mself\u001b[39m\u001b[38;5;241m.\u001b[39m_data, camera\u001b[38;5;241m=\u001b[39m\u001b[38;5;241m0\u001b[39m)\n\u001b[0;32m---> 46\u001b[0m image \u001b[38;5;241m=\u001b[39m \u001b[38;5;28;43mself\u001b[39;49m\u001b[38;5;241;43m.\u001b[39;49m\u001b[43m_renderer\u001b[49m\u001b[38;5;241;43m.\u001b[39;49m\u001b[43mrender\u001b[49m\u001b[43m(\u001b[49m\u001b[43m)\u001b[49m\n\u001b[1;32m     47\u001b[0m \u001b[38;5;28;01mreturn\u001b[39;00m image\n",
      "File \u001b[0;32m~/miniforge3/envs/robo-proj/lib/python3.11/site-packages/mujoco/renderer.py:239\u001b[0m, in \u001b[0;36mRenderer.render\u001b[0;34m(self, out)\u001b[0m\n\u001b[1;32m    237\u001b[0m   np\u001b[38;5;241m.\u001b[39mcopyto(\u001b[38;5;28mself\u001b[39m\u001b[38;5;241m.\u001b[39m_scene\u001b[38;5;241m.\u001b[39mflags, original_flags)\n\u001b[1;32m    238\u001b[0m \u001b[38;5;28;01melse\u001b[39;00m:\n\u001b[0;32m--> 239\u001b[0m   \u001b[43m_render\u001b[49m\u001b[38;5;241;43m.\u001b[39;49m\u001b[43mmjr_readPixels\u001b[49m\u001b[43m(\u001b[49m\u001b[43mout\u001b[49m\u001b[43m,\u001b[49m\u001b[43m \u001b[49m\u001b[38;5;28;43;01mNone\u001b[39;49;00m\u001b[43m,\u001b[49m\u001b[43m \u001b[49m\u001b[38;5;28;43mself\u001b[39;49m\u001b[38;5;241;43m.\u001b[39;49m\u001b[43m_rect\u001b[49m\u001b[43m,\u001b[49m\u001b[43m \u001b[49m\u001b[38;5;28;43mself\u001b[39;49m\u001b[38;5;241;43m.\u001b[39;49m\u001b[43m_mjr_context\u001b[49m\u001b[43m)\u001b[49m\n\u001b[1;32m    241\u001b[0m out[:] \u001b[38;5;241m=\u001b[39m np\u001b[38;5;241m.\u001b[39mflipud(out)\n\u001b[1;32m    243\u001b[0m \u001b[38;5;28;01mreturn\u001b[39;00m out\n",
      "\u001b[0;31mKeyboardInterrupt\u001b[0m: "
     ]
    }
   ],
   "source": [
    "dists = calc_penalty(1000)"
   ]
  },
  {
   "cell_type": "code",
   "execution_count": null,
   "metadata": {},
   "outputs": [],
   "source": [
    "for obj, dist_list in dists.items():\n",
    "    print(f\"=== {obj} ===\")\n",
    "    # print(type(dist_list[0]))\n",
    "    # dist_list = np.asanyarray(dist_list)\n",
    "    print(f\"Mean: {np.mean(dist_list)}\")\n",
    "    print(f\"Median: {np.median(dist_list)}\")\n",
    "    print(f\"Max: {np.max(dist_list)}\")\n",
    "    print(f\"Min: {np.min(dist_list)}\")"
   ]
  },
  {
   "cell_type": "code",
   "execution_count": null,
   "metadata": {},
   "outputs": [],
   "source": [
    "import matplotlib.pyplot as plt\n",
    "import math\n",
    "%matplotlib qt\n",
    "\n",
    "def heatmap(data, row_labels, col_labels, ax=None,\n",
    "            cbar_kw=None, cbarlabel=\"\", **kwargs):\n",
    "    \"\"\"\n",
    "    Create a heatmap from a numpy array and two lists of labels.\n",
    "\n",
    "    Parameters\n",
    "    ----------\n",
    "    data\n",
    "        A 2D numpy array of shape (M, N).\n",
    "    row_labels\n",
    "        A list or array of length M with the labels for the rows.\n",
    "    col_labels\n",
    "        A list or array of length N with the labels for the columns.\n",
    "    ax\n",
    "        A `matplotlib.axes.Axes` instance to which the heatmap is plotted.  If\n",
    "        not provided, use current axes or create a new one.  Optional.\n",
    "    cbar_kw\n",
    "        A dictionary with arguments to `matplotlib.Figure.colorbar`.  Optional.\n",
    "    cbarlabel\n",
    "        The label for the colorbar.  Optional.\n",
    "    **kwargs\n",
    "        All other arguments are forwarded to `imshow`.\n",
    "    \"\"\"\n",
    "\n",
    "    if ax is None:\n",
    "        plt.figure()\n",
    "        ax = plt.gca()\n",
    "\n",
    "    if cbar_kw is None:\n",
    "        cbar_kw = {}\n",
    "\n",
    "    # Plot the heatmap\n",
    "    im = ax.imshow(data, **kwargs)\n",
    "\n",
    "    # Create colorbar\n",
    "    cbar = ax.figure.colorbar(im, ax=ax, **cbar_kw)\n",
    "    cbar.ax.set_ylabel(cbarlabel, rotation=-90, va=\"bottom\")\n",
    "\n",
    "    # Show all ticks and label them with the respective list entries.\n",
    "    ax.set_xticks(np.arange(data.shape[1]), labels=col_labels)\n",
    "    ax.set_yticks(np.arange(data.shape[0]), labels=row_labels)\n",
    "\n",
    "    # Let the horizontal axes labeling appear on top.\n",
    "    ax.tick_params(top=True, bottom=False,\n",
    "                   labeltop=True, labelbottom=False)\n",
    "\n",
    "    # Rotate the tick labels and set their alignment.\n",
    "    plt.setp(ax.get_xticklabels(), rotation=-30, ha=\"right\",\n",
    "             rotation_mode=\"anchor\")\n",
    "\n",
    "    # Turn spines off and create white grid.\n",
    "    ax.spines[:].set_visible(False)\n",
    "\n",
    "    ax.set_xticks(np.arange(data.shape[1]+1)-.5, minor=True)\n",
    "    ax.set_yticks(np.arange(data.shape[0]+1)-.5, minor=True)\n",
    "    ax.grid(which=\"minor\", color=\"w\", linestyle='-', linewidth=3)\n",
    "    ax.tick_params(which=\"minor\", bottom=False, left=False)\n",
    "\n",
    "    for i in range(len(col_labels)):\n",
    "        for j in range(len(row_labels)):\n",
    "            text = ax.text(j, i, round(data[i, j],2),\n",
    "                        ha=\"center\", va=\"center\", color=\"w\")\n",
    "            \n",
    "    return im, cbar\n"
   ]
  },
  {
   "cell_type": "code",
   "execution_count": null,
   "metadata": {},
   "outputs": [],
   "source": [
    "import numpy as np\n",
    "\n",
    "n = 24\n",
    "\n",
    "init_pos = np.array([0, 0, 0.3])\n",
    "uni_orients = [list(init_pos)]\n",
    "\n",
    "q = np.array([1, 0, 0])\n",
    "delta = np.linspace(0, np.pi / 2, num=n + 1)\n",
    "\n",
    "for i in range(n):\n",
    "    uni_orients.append(list(init_pos + delta[i + 1] * q))\n",
    "\n",
    "uni_orients = OrientUtils.generate_random(20)\n",
    "uni_positions = [ObjectPosition(orient, INIT_LOCATION) for orient in uni_orients]\n",
    "len(uni_positions)"
   ]
  },
  {
   "cell_type": "code",
   "execution_count": null,
   "metadata": {},
   "outputs": [],
   "source": [
    "object_name = OBJECTS[1]\n",
    "viewer = create_viewer(object_name, False)"
   ]
  },
  {
   "cell_type": "code",
   "execution_count": null,
   "metadata": {},
   "outputs": [],
   "source": [
    "nrows, ncols = (4, 5)\n",
    "fig, axes = plt.subplots(nrows, ncols)\n",
    "for idx, pos in enumerate(uni_positions):\n",
    "    col = idx % ncols\n",
    "    row = math.floor(idx / ncols)\n",
    "    ax = axes[row, col]\n",
    "    ax.imshow(viewer.get_view_cropped(pos, depth=False)[0])\n",
    "    # print(pos)\n",
    "    ax.set_title(f\"{idx}::{np.round(pos.orientation, 4)}\")"
   ]
  },
  {
   "cell_type": "code",
   "execution_count": null,
   "metadata": {},
   "outputs": [],
   "source": [
    "# Evaluate XorDiff\n",
    "from evaluate import eval_funcs\n",
    "from itertools import product\n",
    "\n",
    "eval_func = eval_funcs.XorDiff(0.1)\n",
    "eval_results = []\n",
    "\n",
    "for pos1, pos2 in product(uni_positions, uni_positions):\n",
    "    img1, img2 = get_views(viewer, pos1, pos2, depth=True)\n",
    "    result = eval_func(img1, img2)\n",
    "    eval_results.append(result)\n",
    "results = np.array(eval_results).reshape(len(uni_positions), -1)"
   ]
  },
  {
   "cell_type": "code",
   "execution_count": null,
   "metadata": {},
   "outputs": [],
   "source": [
    "import seaborn as sns\n",
    "\n",
    "deltas = np.round(delta, 2)\n",
    "fig, axes = plt.subplots(figsize=(13, 10))\n",
    "sns.heatmap(results, ax=axes, annot=True, fmt=\".2f\", xticklabels=(deltas), yticklabels=deltas)\n",
    "axes.set_title(f\"XorDiff as function of rotation\\n Initial orientation {init_pos}\")\n",
    "axes.set_xlabel(\"angel change (radians)\")\n",
    "axes.set_ylabel(\"angel change (radians)\")\n",
    "\n",
    "axes.tick_params(axis=\"x\", rotation=90)\n",
    "axes.tick_params(axis=\"y\", rotation=0)\n",
    "axes.autoscale()\n",
    "fig.tight_layout()"
   ]
  },
  {
   "cell_type": "code",
   "execution_count": null,
   "metadata": {},
   "outputs": [],
   "source": [
    "heatmap(results, range(len(uni_positions)), range(len(uni_positions)))"
   ]
  },
  {
   "cell_type": "code",
   "execution_count": null,
   "metadata": {},
   "outputs": [],
   "source": [
    "import seaborn as sns\n",
    "\n",
    "fig, ax = plt.subplots()\n",
    "sns.lineplot(x=delta, y=results[0])\n",
    "\n",
    "ax.set_title(\"XorDiff as function of rotation\")\n",
    "ax.set_xlabel(\"angel change (radians)\")\n",
    "ax.set_ylabel(\"XorDiff value\")"
   ]
  },
  {
   "cell_type": "code",
   "execution_count": 7,
   "metadata": {},
   "outputs": [],
   "source": [
    "N = 100\n",
    "positions1 = generate_positions(N)\n",
    "positions2 = generate_positions(N)"
   ]
  },
  {
   "cell_type": "code",
   "execution_count": 8,
   "metadata": {},
   "outputs": [
    {
     "data": {
      "application/vnd.jupyter.widget-view+json": {
       "model_id": "1df1f6154e714482a926d40273df2ed1",
       "version_major": 2,
       "version_minor": 0
      },
      "text/plain": [
       "  0%|          | 0/8 [00:00<?, ?it/s]"
      ]
     },
     "metadata": {},
     "output_type": "display_data"
    },
    {
     "name": "stderr",
     "output_type": "stream",
     "text": [
      "warning: queue 0x562cef2c6070 destroyed while proxies still attached:\n",
      "  wl_display@1 still attached\n"
     ]
    },
    {
     "data": {
      "application/vnd.jupyter.widget-view+json": {
       "model_id": "8f485fc029fb4cb4828d08642dd40803",
       "version_major": 2,
       "version_minor": 0
      },
      "text/plain": [
       "  0%|          | 0/100 [00:00<?, ?it/s]"
      ]
     },
     "metadata": {},
     "output_type": "display_data"
    },
    {
     "data": {
      "application/vnd.jupyter.widget-view+json": {
       "model_id": "3050c4f8f8f04ef29cb58c3b453fe4ef",
       "version_major": 2,
       "version_minor": 0
      },
      "text/plain": [
       "  0%|          | 0/100 [00:00<?, ?it/s]"
      ]
     },
     "metadata": {},
     "output_type": "display_data"
    },
    {
     "data": {
      "application/vnd.jupyter.widget-view+json": {
       "model_id": "3c3ef5d52b9b45b781b5a35e13514595",
       "version_major": 2,
       "version_minor": 0
      },
      "text/plain": [
       "  0%|          | 0/100 [00:00<?, ?it/s]"
      ]
     },
     "metadata": {},
     "output_type": "display_data"
    },
    {
     "data": {
      "application/vnd.jupyter.widget-view+json": {
       "model_id": "89d016878d684f85850b1a866874b24a",
       "version_major": 2,
       "version_minor": 0
      },
      "text/plain": [
       "  0%|          | 0/100 [00:00<?, ?it/s]"
      ]
     },
     "metadata": {},
     "output_type": "display_data"
    },
    {
     "data": {
      "application/vnd.jupyter.widget-view+json": {
       "model_id": "79e9cc96ba37451f8f644c50b14ea765",
       "version_major": 2,
       "version_minor": 0
      },
      "text/plain": [
       "  0%|          | 0/100 [00:00<?, ?it/s]"
      ]
     },
     "metadata": {},
     "output_type": "display_data"
    },
    {
     "data": {
      "application/vnd.jupyter.widget-view+json": {
       "model_id": "adfef10a6d4046b2ab09b291a5a4a090",
       "version_major": 2,
       "version_minor": 0
      },
      "text/plain": [
       "  0%|          | 0/100 [00:00<?, ?it/s]"
      ]
     },
     "metadata": {},
     "output_type": "display_data"
    },
    {
     "data": {
      "application/vnd.jupyter.widget-view+json": {
       "model_id": "00c4e956f151429b897e102403636f0f",
       "version_major": 2,
       "version_minor": 0
      },
      "text/plain": [
       "  0%|          | 0/100 [00:00<?, ?it/s]"
      ]
     },
     "metadata": {},
     "output_type": "display_data"
    },
    {
     "data": {
      "application/vnd.jupyter.widget-view+json": {
       "model_id": "ea53181578434aaababd2fecc9ef9b96",
       "version_major": 2,
       "version_minor": 0
      },
      "text/plain": [
       "  0%|          | 0/100 [00:00<?, ?it/s]"
      ]
     },
     "metadata": {},
     "output_type": "display_data"
    }
   ],
   "source": [
    "from evaluate import eval_funcs\n",
    "import config\n",
    "\n",
    "eval_func = eval_funcs.XorDiff(0.1)\n",
    "eval_results = []\n",
    "\n",
    "for obj_name in tqdm(OBJECTS):\n",
    "    eval_func = eval_funcs.XorDiff(config.XORDIFF_PENALTY[obj_name])\n",
    "    with create_viewer(obj_name) as sim_viewer:\n",
    "        for pos1, pos2 in tqdm(zip(positions1, positions2), total=N):\n",
    "            img1, img2 = get_views(sim_viewer, pos1, pos2, depth=True)\n",
    "            result = eval_func(img1, img2)\n",
    "            eval_results.append(result)"
   ]
  },
  {
   "cell_type": "code",
   "execution_count": 9,
   "metadata": {},
   "outputs": [
    {
     "data": {
      "application/vnd.jupyter.widget-view+json": {
       "model_id": "580210abbd8047f1828e7b9660a0dfd8",
       "version_major": 2,
       "version_minor": 0
      },
      "text/plain": [
       "  0%|          | 0/8 [00:00<?, ?it/s]"
      ]
     },
     "metadata": {},
     "output_type": "display_data"
    },
    {
     "data": {
      "application/vnd.jupyter.widget-view+json": {
       "model_id": "6f50f202a2474ac6b03a5fc20cb558be",
       "version_major": 2,
       "version_minor": 0
      },
      "text/plain": [
       "  0%|          | 0/100 [00:00<?, ?it/s]"
      ]
     },
     "metadata": {},
     "output_type": "display_data"
    },
    {
     "data": {
      "application/vnd.jupyter.widget-view+json": {
       "model_id": "f5da2fb6ed0a4eb2a92c9adcafcb2d35",
       "version_major": 2,
       "version_minor": 0
      },
      "text/plain": [
       "  0%|          | 0/100 [00:00<?, ?it/s]"
      ]
     },
     "metadata": {},
     "output_type": "display_data"
    },
    {
     "data": {
      "application/vnd.jupyter.widget-view+json": {
       "model_id": "e3590d3de0504226bfc9dca64696d401",
       "version_major": 2,
       "version_minor": 0
      },
      "text/plain": [
       "  0%|          | 0/100 [00:00<?, ?it/s]"
      ]
     },
     "metadata": {},
     "output_type": "display_data"
    },
    {
     "data": {
      "application/vnd.jupyter.widget-view+json": {
       "model_id": "ea414657a6c14a279e41bb2386e71127",
       "version_major": 2,
       "version_minor": 0
      },
      "text/plain": [
       "  0%|          | 0/100 [00:00<?, ?it/s]"
      ]
     },
     "metadata": {},
     "output_type": "display_data"
    },
    {
     "data": {
      "application/vnd.jupyter.widget-view+json": {
       "model_id": "1125f7e333f14aa3ac309151ff6f71c9",
       "version_major": 2,
       "version_minor": 0
      },
      "text/plain": [
       "  0%|          | 0/100 [00:00<?, ?it/s]"
      ]
     },
     "metadata": {},
     "output_type": "display_data"
    },
    {
     "data": {
      "application/vnd.jupyter.widget-view+json": {
       "model_id": "c1bc23b33eb849b8a5ae46e39794023a",
       "version_major": 2,
       "version_minor": 0
      },
      "text/plain": [
       "  0%|          | 0/100 [00:00<?, ?it/s]"
      ]
     },
     "metadata": {},
     "output_type": "display_data"
    },
    {
     "data": {
      "application/vnd.jupyter.widget-view+json": {
       "model_id": "0c8fedb4dfda4a7782266b3228f99efd",
       "version_major": 2,
       "version_minor": 0
      },
      "text/plain": [
       "  0%|          | 0/100 [00:00<?, ?it/s]"
      ]
     },
     "metadata": {},
     "output_type": "display_data"
    },
    {
     "data": {
      "application/vnd.jupyter.widget-view+json": {
       "model_id": "f12f624f9e5f46e68457b725bf6a95c4",
       "version_major": 2,
       "version_minor": 0
      },
      "text/plain": [
       "  0%|          | 0/100 [00:00<?, ?it/s]"
      ]
     },
     "metadata": {},
     "output_type": "display_data"
    }
   ],
   "source": [
    "loss_results = defaultdict(list)\n",
    "\n",
    "for obj_name in tqdm(OBJECTS):\n",
    "    with create_viewer(obj_name) as sim_viewer:\n",
    "        for pos1, pos2 in tqdm(zip(positions1, positions2), total=N):\n",
    "            img1, img2 = get_views(sim_viewer, pos1, pos2, depth=False)\n",
    "            for loss_func in LOSS_FUNCTIONS:\n",
    "                result = loss_func(img1, img2)\n",
    "                loss_results[loss_func.get_name()].append(result)"
   ]
  },
  {
   "cell_type": "code",
   "execution_count": 10,
   "metadata": {},
   "outputs": [
    {
     "name": "stdout",
     "output_type": "stream",
     "text": [
      "IOU 0.5850558814404224\n",
      "MSE 0.2863102475842799\n",
      "RMSE 0.505121388304349\n",
      "NMI 0.506604833211717\n",
      "PSNR 0.3085654264344736\n",
      "SSIM -0.1244261672562479\n",
      "Hausdorff 0.42737074209030085\n",
      "ARE 0.15014054153411913\n",
      "VI 0.41339695699363654\n"
     ]
    }
   ],
   "source": [
    "# pearsons correlation\n",
    "for k, loss_vals in loss_results.items():\n",
    "    eval_vals = np.asanyarray(eval_results)\n",
    "    loss_vals = np.asanyarray(loss_vals)\n",
    "    print(k, np.corrcoef(eval_vals, loss_vals)[0, 1])"
   ]
  },
  {
   "cell_type": "code",
   "execution_count": 11,
   "metadata": {},
   "outputs": [
    {
     "name": "stdout",
     "output_type": "stream",
     "text": [
      "IOU: spearman: 0.6312127204371377 kendall: 0.4412366101954871\n",
      "MSE: spearman: 0.3285787946543667 kendall: 0.21538798498122655\n",
      "RMSE: spearman: 0.5839511467986669 kendall: 0.41070713391739677\n",
      "NMI: spearman: 0.5283557161808066 kendall: 0.3617146433041302\n",
      "PSNR: spearman: 0.3285787946543667 kendall: 0.21538798498122655\n",
      "SSIM: spearman: -0.13032749269920735 kendall: -0.0873404255319149\n",
      "Hausdorff: spearman: 0.622763707443293 kendall: 0.431683354192741\n",
      "ARE: spearman: 0.09896989682796381 kendall: 0.06794743429286608\n",
      "VI: spearman: 0.4504409538139904 kendall: 0.3022528160200251\n"
     ]
    }
   ],
   "source": [
    "from scipy.stats import spearmanr, kendalltau\n",
    "\n",
    "# spearmanr correlation\n",
    "for k, loss_vals in loss_results.items():\n",
    "    eval_vals = np.asanyarray(eval_results)\n",
    "    loss_vals = np.asanyarray(loss_vals)\n",
    "    print(f\"{k}: spearman: {spearmanr(eval_vals, loss_vals).statistic} kendall: {kendalltau(eval_vals, loss_vals).statistic}\")"
   ]
  },
  {
   "cell_type": "code",
   "execution_count": 12,
   "metadata": {},
   "outputs": [
    {
     "name": "stdout",
     "output_type": "stream",
     "text": [
      "defaultdict(<class 'list'>, {'IOU': [0.7117977528089887, 0.5127829002514669, 0.6845738942826322, 0.6847487001733102, 0.6761498340445709, 0.6525901863566421, 0.6702516233766234, 0.7465419039869813, 0.6769825918762089, 0.7020345093999485, 0.8010710035700119, 0.7398547629218283, 0.5860976518822214, 0.6704980842911877, 0.6692061557214688, 0.4817749603803486, 0.7885779122541603, 0.6192482177576151, 0.6421267893660532, 0.7734164070612669, 0.6880040322580645, 0.6750691669228405, 0.7629609093429442, 0.634432466708941, 0.7529510961214165, 0.6571918647390346, 0.7444069227522161, 0.7263761879146495, 0.6338788594567235, 0.5660919540229885, 0.6648103028193526, 0.6759898292771522, 0.7924739195230999, 0.545995670995671, 0.6393474842767295, 0.5149527006408301, 0.7613422359185071, 0.8407265774378585, 0.5942418426103646, 0.7679979648944288, 0.7017779268701778, 0.5122216186854971, 0.8019525801952581, 0.7128712871287128, 0.7226950354609929, 0.7975206611570248, 0.7722852512155591, 0.717103026181571, 0.7346625766871165, 0.6326164874551972, 0.7282913165266107, 0.8224622910721565, 0.7124896949711459, 0.623454157782516, 0.6688223281143635, 0.6177431906614785, 0.7160831509846828, 0.6455696202531646, 0.8188185140073081, 0.5525672371638142, 0.8290322580645162, 0.6271111111111112, 0.6832814122533748, 0.5864978902953586, 0.5896285663018124, 0.6644448342396071, 0.5899035734543392, 0.657243816254417, 0.7020660359142692, 0.8302265557786063, 0.7391212056888135, 0.7402781051143059, 0.6431662000509035, 0.6362862010221465, 0.6518673780487805, 0.7506936187078874, 0.6706625980819529, 0.7042991960852849, 0.676573068251691, 0.8286036036036036, 0.8044096728307255, 0.6183923110528615, 0.6358855700462769, 0.7260055754679411, 0.7583158874156781, 0.6065446650124069, 0.6818299974005719, 0.7406776452773045, 0.6417857142857143, 0.546744762333859, 0.8040985147584132, 0.7697555429221148, 0.6969376979936642, 0.7303760496531582, 0.6247615009539962, 0.6151272997584092, 0.7041254433451558, 0.6058595909342178, 0.5688003066308931, 0.8268140589569161, 0.7601556798832401, 0.8109854604200323, 0.9145038167938931, 0.9031439447342451, 0.8792416759598535, 0.867851020726196, 0.7636022514071295, 0.6032319795874974, 0.7238202247191011, 0.7676902536715621, 0.949443413729128, 0.945406742963192, 0.7729865771812081, 0.9325567136725935, 0.9242783433272905, 0.9462486002239642, 0.8766483057920214, 0.8958691910499139, 0.7452796579978624, 0.8960534828552944, 0.8667486674866749, 0.5612903225806452, 0.7907899960301707, 0.8086540552293977, 0.9427962337893054, 0.9090059790732437, 0.6072175732217573, 0.8306211723534558, 0.7828162291169452, 0.7120772946859903, 0.875484496124031, 0.9485445457218465, 0.9183720395493217, 0.8891101240618777, 0.7843001042028482, 0.9442799461641992, 0.9094707520891365, 0.7893453385856313, 0.7936881771078662, 0.770042194092827, 0.8834713278135541, 0.9360042545647935, 0.8798352025635157, 0.7899373985624856, 0.8133006782215524, 0.9458685162846804, 0.85457550092956, 0.6984795750137388, 0.9450586264656616, 0.9430258099945085, 0.7516778523489933, 0.9488899536815205, 0.7543378995433789, 0.5661303517862013, 0.8286992649408756, 0.932937181663837, 0.9167667753561008, 0.5509154494959885, 0.94375, 0.8996478873239436, 0.8489433863814244, 0.3565865221808331, 0.8217217026150029, 0.8674981923355025, 0.855446163463041, 0.8540625, 0.6624315443592552, 0.8987610042386697, 0.9434049791247874, 0.8721461187214612, 0.9437394893747133, 0.7834847886210984, 0.7249091951825655, 0.7991953182150695, 0.7961344537815126, 0.8479874951152794, 0.9442564846141454, 0.83672670321065, 0.8937123169681309, 0.9465971996092478, 0.841855561412757, 0.9512889901723401, 0.8868078175895766, 0.9466259453170448, 0.939064023399415, 0.9467821782178217, 0.69773145309626, 0.9110280373831776, 0.7329392799570124, 0.8790225434520736, 0.7815335349581924, 0.9467819967746665, 0.8867533446391558, 0.9291770573566085, 0.925288264097299, 0.6106077765194413, 0.7998136067101584, 0.9556289488799541, 0.7042801556420233, 0.9216921692169217, 0.5642439431913115, 0.6639566395663956, 0.3772102161100196, 0.3591461901216183, 0.5506912442396313, 0.6638323116472217, 0.5763424421937703, 0.7263269639065817, 0.31587869655302314, 0.6137542277339346, 0.5216210097351144, 0.4854857142857143, 0.43241224794622857, 0.36518910126067505, 0.5109170305676856, 0.37676705593116167, 0.5260964912280701, 0.575741935483871, 0.47791867074770444, 0.5830721003134796, 0.6211393273850377, 0.46802325581395354, 0.3195392491467577, 0.3404438698556346, 0.6023001298460398, 0.695979020979021, 0.5810914681014604, 0.7138987641780938, 0.4421588144215881, 0.5775031420192711, 0.30151549423207424, 0.5193123465059165, 0.5195032359629176, 0.4670753860127157, 0.7047799174690509, 0.24032951289398286, 0.4960665318049, 0.4292897548711502, 0.41880341880341876, 0.5320050869012294, 0.4923383084577114, 0.35222319093286836, 0.4691856199559794, 0.37183308494783907, 0.4637554585152839, 0.44275314361350104, 0.5791121753545773, 0.6107152282924254, 0.4226594301221167, 0.5576592082616179, 0.37299318231801193, 0.569592681333043, 0.5177144841959014, 0.5645514223194749, 0.6358267716535433, 0.5849292256452956, 0.37875375375375375, 0.3949453844506319, 0.5157199930519367, 0.3736182756079587, 0.6137823294566915, 0.4020377839099979, 0.2747507535358219, 0.49439505218399693, 0.5019388194743645, 0.38282969781869125, 0.2963709677419355, 0.5395720108695652, 0.4991997439180538, 0.6386839481555334, 0.5349657605312306, 0.2860725308641975, 0.3539377289377289, 0.28274907749077494, 0.5248868778280543, 0.41758241758241754, 0.40032080659945, 0.5962745495039481, 0.5140449438202247, 0.42471655328798186, 0.5943482224247949, 0.559778305621536, 0.6488648648648649, 0.5026636225266362, 0.44772057155817646, 0.5211697948494107, 0.5135802469135802, 0.4541459686664119, 0.6562831108285654, 0.3138082673702727, 0.3940081706763504, 0.6379274611398964, 0.2536461636017755, 0.46353711790393015, 0.45797922568460814, 0.5645495340006903, 0.7349453615438271, 0.41886879925822906, 0.29379562043795615, 0.7022751510842518, 0.5885619100499722, 0.46914446002805044, 0.6913760701607852, 0.7383196310407059, 0.7836185819070904, 0.65143128261901, 0.6938046777361185, 0.7988886897293421, 0.4642282033586381, 0.6523957004918929, 0.9736694677871148, 0.8961943319838057, 0.6796254834113576, 0.8291069459757442, 0.7119789710852422, 0.42287968441814594, 0.7962242117555469, 0.5021800947867299, 0.4655015887426237, 0.806063967461638, 0.6497326203208555, 0.426025390625, 0.6390427215189873, 0.5391079508726568, 0.8790138802568883, 0.8834712198556592, 0.7658589288470443, 0.6492661522166743, 0.6724681170292572, 0.6833036244800951, 0.7774424146147736, 0.9244775174160862, 0.7289073305670817, 0.6842355929512621, 0.7104085462682258, 0.6075563680682511, 0.8178025034770515, 0.74932502596054, 0.4432314410480349, 0.7441510695187166, 0.672541216600341, 0.6424501424501424, 0.8195149464184998, 0.6023571611580836, 0.7605716523101018, 0.9, 0.7646031437997283, 0.75, 0.8447786131996659, 0.6232786266742124, 0.6619328661010697, 0.8687782805429864, 0.6859489988019853, 0.5070869990224829, 0.7307247812448407, 0.6411416637660982, 0.7992707383773929, 0.6111580726965342, 0.8823207443897099, 0.6921705300697034, 0.8460645909882034, 0.5079443892750745, 0.6251455180442375, 0.6864269517330741, 0.7636526410026858, 0.7383635472807447, 0.48403467963628677, 0.6311692906421369, 0.7508718726307809, 0.7658604977216965, 0.7592385218365062, 0.7574366507528462, 0.6825230511316009, 0.6700755891507337, 0.6963979416809605, 0.6971347383376747, 0.6504943244232881, 0.6749053219055212, 0.8525963149078727, 0.8976115208991922, 0.8440820813484793, 0.729162656400385, 0.7802060568217296, 0.8663041440090006, 0.8463397790055249, 0.5568025652771416, 0.6879813302217036, 0.8312384473197783, 0.7262514455641831, 0.5766850643920388, 0.7281611487834065, 0.80339985218034, 0.4953726254262055, 0.8196319018404907, 0.6705562038117464, 0.6914210439650914, 0.6631106988249845, 0.7073976221928666, 0.4801960784313726, 0.8220228080014956, 0.5284572535722936, 0.43069412014434305, 0.44428416877028487, 0.23695450324976786, 0.4791044776119403, 0.38052926405254006, 0.4014300306435138, 0.417297076262523, 0.3067371202113607, 0.44994450610432857, 0.6919347017940845, 0.5972670335927122, 0.2512180861430521, 0.705831719388853, 0.38654767806974055, 0.49233099791706114, 0.4117995264404104, 0.522111269614836, 0.37936737647302043, 0.5829596412556054, 0.45386939344643273, 0.28563815614175325, 0.3681481481481481, 0.3759254181519057, 0.7020540980272524, 0.5837552742616035, 0.4176424668227947, 0.24522858411007542, 0.3948265490274714, 0.1867381764992686, 0.5111624326404927, 0.6254651350914091, 0.6339241752831117, 0.3172559569561876, 0.3466807165437302, 0.5647630261995878, 0.4710208369812642, 0.4163158949689316, 0.34123624047417445, 0.46390736634639074, 0.444144903117102, 0.5061860068259385, 0.5499454148471616, 0.4624901289813109, 0.48557787945096476, 0.603921568627451, 0.5052459780834693, 0.32454895601054123, 0.66038400563678, 0.525920245398773, 0.5754250053798149, 0.6498417457937697, 0.3351212186226131, 0.31006864988558347, 0.2616313023165272, 0.44804976462676527, 0.6150920736589272, 0.25047801147227533, 0.7210822589431632, 0.5026837324525186, 0.6525037936267071, 0.15093729799612154, 0.37040595724237324, 0.4437640334762196, 0.5081911262798635, 0.4782146652497343, 0.3177134445534838, 0.34592363261093906, 0.5341240875912409, 0.6162089752176825, 0.5494117647058824, 0.33253012048192776, 0.3199914383561644, 0.3423204419889503, 0.29224930083899325, 0.4579284190566485, 0.5090945836701697, 0.25414965986394555, 0.5400461729710531, 0.6868159622832126, 0.6638852672750978, 0.6302325581395349, 0.6293682217249097, 0.5575533523777516, 0.6387591104466455, 0.4960084350052719, 0.2482853223593965, 0.6644945403311024, 0.3105939004815409, 0.4335554684437476, 0.4862127180641531, 0.6132614731340846, 0.5417292426517915, 0.4266082453694483, 0.4961613997500446, 0.2327464076097956, 0.36000911992704054, 0.5279246530072703, 0.2641399416909621, 0.6902078637615827, 0.2254983388704319, 0.2786309784993418, 0.30909729539866526, 0.23040293040293036, 0.3481906443071492, 0.22658748286888986, 0.28248811410459584, 0.25890826383623955, 0.2255947497949139, 0.27187132208709297, 0.47582501918649267, 0.3767094902610858, 0.3973214285714286, 0.3582887700534759, 0.3299587551556056, 0.3371907422186752, 0.34373663958956824, 0.21479019526381382, 0.16199616122840688, 0.377172195892575, 0.29854254818993886, 0.241178751454052, 0.29979123173277666, 0.34793597304128054, 0.4213883677298311, 0.2983143865150921, 0.15402956604673346, 0.17098445595854928, 0.22985216976633283, 0.290774620474893, 0.31585845347313235, 0.32317778634785965, 0.3500219587176109, 0.1322277005826984, 0.13160377358490571, 0.4611154752553024, 0.24849699398797598, 0.2951561792666365, 0.19305673158340386, 0.32347588717015474, 0.2582781456953642, 0.15905017921146958, 0.324032403240324, 0.24865757951259815, 0.2562776957163959, 0.272196261682243, 0.32499999999999996, 0.23667850799289525, 0.27851964898893555, 0.2661567877629063, 0.3163913595933926, 0.3513194170933438, 0.3257355988396188, 0.29826784959864805, 0.3168757588021044, 0.3390313390313391, 0.24126139817629177, 0.1787624140565317, 0.43557804593226934, 0.26142232816845445, 0.3357433348395843, 0.22330508474576272, 0.32078559738134205, 0.3403908794788274, 0.2691818567189487, 0.2031630170316302, 0.25698324022346364, 0.29317575295463205, 0.26076649545634134, 0.3514767932489451, 0.2860912174896344, 0.3329233292332924, 0.2768505079825835, 0.23748544819557627, 0.23372549019607847, 0.25450733752620547, 0.3084415584415584, 0.30795119899032397, 0.20771756978653533, 0.39335180055401664, 0.36408864767073723, 0.3007623007623008, 0.21556173084557362, 0.29856247696277183, 0.39853111712408196, 0.3229088168801808, 0.3481012658227848, 0.2750197005516154, 0.2915747684164094, 0.21737305916911454, 0.24187153053132437, 0.28365566932119834, 0.41549844236760125, 0.19991289198606277, 0.3296282100421617, 0.2490945674044266, 0.2748513169073916, 0.255644852659778, 0.2195593351372246, 0.27833753148614615, 0.4632932393197843, 0.703806015960712, 0.5709653280119731, 0.4076792772444946, 0.707563025210084, 0.7228195937873357, 0.5854971500949968, 0.39763912310286675, 0.38227146814404434, 0.36422267481330617, 0.8284974093264249, 0.7980609418282548, 0.29336043360433606, 0.7865601762599834, 0.6602615425673872, 0.7622068965517241, 0.5150017649135192, 0.7616845180136319, 0.4056766055045872, 0.7260083449235049, 0.6587646076794658, 0.2649572649572649, 0.5856443719412725, 0.6604231703087062, 0.7876175548589341, 0.6285618504860878, 0.3717357910906298, 0.5252669039145907, 0.649135711658698, 0.3412821306906163, 0.7356857523302264, 0.7786640079760718, 0.7122517796927688, 0.6699029126213591, 0.6488745980707395, 0.8359042553191489, 0.6563011456628478, 0.5553987297106563, 0.5552736498731424, 0.5975150602409638, 0.6621691748832381, 0.6469897209985316, 0.6078767123287672, 0.526390364860078, 0.5188735769922109, 0.7397362527992037, 0.6898954703832753, 0.4540798907476955, 0.7621009268795057, 0.7607712449416806, 0.7362637362637363, 0.7748244734202607, 0.43676522978268617, 0.4358678955453149, 0.50390625, 0.7490347490347491, 0.6391184573002755, 0.2179000632511069, 0.8138465262648269, 0.4798280423280423, 0.6596447748864106, 0.3406263406263407, 0.6232514765309294, 0.7329906259449652, 0.7457817772778403, 0.5337939321117453, 0.5385382059800665, 0.31446335078534027, 0.6789146410401357, 0.6348993288590604, 0.6913319238900635, 0.4808859223300971, 0.44610866372980906, 0.24112021857923494, 0.5166145981255326, 0.49706336939721796, 0.7511789181692095, 0.4738732854343566, 0.5765347885402456, 0.8102153229844767, 0.6784160139251523, 0.7592592592592593, 0.7227899846704139, 0.7103280680437425, 0.7844850410378608, 0.749139203148057, 0.3108192620387742, 0.7305300562629553, 0.39427157001414426, 0.6038868248070877, 0.4947305028605842, 0.7428177430475753, 0.5786688944583682, 0.44682422451994097, 0.634340991535671, 0.2393347794649313, 0.4801943198804185, 0.7164396887159533, 0.35045987947986046, 0.7061649319455565, 0.8333569505455576, 0.4374185136897001, 0.7730730223123732, 0.34103211836881997, 0.6096269554753309, 0.8126357711803042, 0.6592237061769616, 0.7986174276878297, 0.6114035087719298, 0.8310895709926405, 0.8143221058590433, 0.5949977053694355, 0.7383228626058453, 0.8689243027888446, 0.8122789287518949, 0.4825646794150731, 0.7805479452054794, 0.5137170521785906, 0.6955508968087585, 0.8753001440691532, 0.830651714610759, 0.6865203761755485, 0.46241299303944317, 0.48550411077455646, 0.8946879643387816, 0.8762266540044318, 0.8545998291085161, 0.8392357875116496, 0.35264133456904545, 0.47804878048780486, 0.6602564102564102, 0.704304869442484, 0.862940992819232, 0.772573997751967, 0.8437990580847724, 0.47351778656126486, 0.7960021905805038, 0.750345590268178, 0.35086916742909424, 0.8596787827557059, 0.5314579552329098, 0.6414417814682015, 0.8482338230697093, 0.7055622732769045, 0.8181646525679758, 0.8024183174684847, 0.819773095623987, 0.7853729482651153, 0.8644788301309301, 0.8249336870026525, 0.7945838837516512, 0.8608994839026788, 0.8460258780036969, 0.5276478094427903, 0.8097165991902834, 0.667239263803681, 0.850049983338887, 0.6546093946244662, 0.88906784779545, 0.8232793853196011, 0.8824689111313315, 0.37209302325581395, 0.4957559073181922, 0.5044894550010441, 0.40664318067438354, 0.8354406491790904, 0.43986562150055986, 0.8403392330383481, 0.84940665218118, 0.8833916375145761, 0.8451514638686749, 0.3821181479510378, 0.338358458961474, 0.5466112698000519, 0.75, 0.711167866264221, 0.757913597451722, 0.44956843403205915, 0.8666666666666667, 0.7982126058325494, 0.886643367269412, 0.8846927374301676, 0.8711939472227348, 0.8574884539256653, 0.7283174327840416, 0.7919921875, 0.5259671436142024, 0.8613898179115571, 0.8057781526781949, 0.489247311827957, 0.8472719612386771, 0.8756302521008403, 0.717835578262889, 0.8083317035008801, 0.8089500860585198, 0.8363917326637048, 0.8367022123189559, 0.8227103353598745, 0.5989329621897472, 0.886466591166478], 'MSE': [2826.2344839030866, 2664.526640711902, 3238.8188781014023, 3798.5461103867883, 4670.977133032452, 4320.821410216878, 4107.08204605896, 3403.6671825216204, 1970.2390058730841, 2055.345683878597, 3354.097834274953, 3865.7669034846067, 3504.5452125375696, 724.3959854014598, 4243.743313815477, 2829.1780273180984, 4499.851691660941, 5057.184206037865, 2467.9666100735712, 3206.406697781053, 2628.165808080808, 3499.6829118370215, 3666.0067447881183, 3223.6853677621284, 976.7508520431468, 2611.2141792527823, 3885.538585680751, 4562.752478448276, 4320.806854066366, 1867.4411627906977, 4067.670379394361, 3394.1030196035163, 1947.206238615665, 3585.38341995842, 3377.9531298180696, 3080.652269074245, 4471.278652123101, 5145.673662072669, 1974.0958592547997, 3909.098164201938, 4142.985017786148, 2218.06835016835, 2119.685443583118, 2158.14280726257, 3170.1929050279327, 4274.57134048003, 3375.467741935484, 5199.9093182282095, 2673.9746072186836, 3913.7059546514092, 4309.957057466443, 3457.2953195448363, 3491.1081170363377, 1600.6774453823236, 4090.185635844498, 4172.510967140922, 2268.511866751809, 2515.2299000434596, 1397.2658313688764, 1907.370127345193, 2013.0186349962887, 2826.321820701418, 2744.291185280274, 3173.229167778786, 3679.2748907899527, 3666.545589893977, 2283.9791666666665, 2307.6684464785153, 4051.682896637095, 2035.4134814814815, 3270.879135580139, 2982.281750801282, 2989.46090588696, 2362.9611523352246, 3471.829995342338, 2239.756235738453, 3154.035690913667, 2200.0770663228764, 2700.3270495951415, 2950.1239942377288, 1908.3050449590196, 1694.9532894517024, 3511.241821093571, 3350.207344341245, 2713.2144798429713, 3571.195034955058, 2825.632622739018, 3562.8958976795757, 4477.273110066589, 2663.7911511723814, 4708.1352506801395, 3615.9088350673715, 2067.629077212806, 4415.409343117953, 2080.234380032206, 3598.798105876639, 3873.3897044237256, 3506.3943260120586, 2721.0840765514677, 2685.901449275362, 1684.4251052199138, 2218.3751832899425, 2232.8006666666665, 3142.3878549413075, 2203.9473742399114, 2346.6517342095653, 1486.4227263913128, 1422.5904325425354, 2889.7530117690667, 2030.7356634304208, 1794.9545732661716, 2112.507873423906, 2061.0240552138303, 1560.4166645363057, 2133.4213115316056, 2278.9934249510006, 2010.1531851851853, 2450.4036881007587, 1968.381353856467, 2257.2809706815733, 1816.0686015499195, 1455.4277149916961, 1940.268205660729, 2410.404398716899, 1415.6263869503307, 1918.6033246696988, 1342.3773406766327, 2467.7911711711713, 1869.6810685743292, 1461.7192121583862, 2563.877358244736, 1898.1466407798407, 1662.3066797455938, 2094.75999873032, 2395.2780151946818, 2175.3403061144722, 1916.5008346688035, 1574.9221029741864, 1769.2096913477073, 1631.054675894054, 1841.1368092691623, 2275.4308592174266, 1836.4768148148148, 2316.0727886870386, 1986.0632398753894, 2468.0064301192865, 2141.5006090314914, 1412.5421445639188, 1611.0088959477873, 2221.879754875649, 1424.4588595484117, 1790.8247597597597, 1618.2634934080493, 1010.1099405523365, 2577.395512820513, 2029.5183874442223, 1765.214190010925, 1595.4968522845274, 1472.1401117169837, 1952.8779274359908, 1891.7372683730607, 1157.3540152301834, 2027.094864232956, 1720.728051555033, 1924.6233972389496, 1610.2936936936937, 1215.157230817107, 1816.179401225292, 2068.2253186570806, 1771.0120216747669, 1981.5804843734297, 1913.4221392135598, 1592.3767901234569, 1924.255260831123, 1930.5812862623993, 2435.9482668696523, 2240.9299253049953, 2183.821998709424, 1514.340822440087, 1735.6090332756999, 1760.6669271904566, 1641.8282020552663, 1877.1684714375392, 1893.0761429879076, 1661.19367003367, 2055.084032145353, 2473.586905039211, 1700.821319018405, 1530.0620015948964, 1725.027937542604, 1793.0979221927498, 2115.5391974464205, 2885.451647113409, 2012.8495983935743, 1828.8720198917654, 1353.4966666666667, 2049.45393820907, 2391.633344096437, 1390.2229171905121, 1695.0286441052865, 782.3513791079812, 924.9981027667984, 486.4430465539882, 664.760518395676, 802.4607277852521, 1101.9335476252952, 796.7847515808492, 1288.2156690997567, 539.1811050615044, 1093.4439721999465, 925.4027777777778, 699.9502243110446, 608.2433543911804, 722.84025439581, 895.2534650482094, 594.310536558243, 880.6405531064055, 924.8990931832395, 764.2268655316354, 908.7002202726824, 989.5763920071846, 851.2683940661091, 542.1175563021028, 595.0394012822454, 794.7044447575657, 1064.2202361782072, 956.4539315601955, 1187.743905141844, 744.9152601443864, 794.1749915859912, 454.4214844926227, 893.3816586426464, 794.4469781426303, 762.8375657744223, 955.1435202093986, 393.26986702727066, 755.4994499449945, 798.4381305039284, 797.1228175797712, 859.7792412704946, 892.6288001439108, 615.2978692772818, 735.0112991334365, 710.0748851995761, 593.1885317824712, 733.7109117235159, 1042.5786810094407, 797.2994985350462, 807.7362412810688, 1008.2603142536476, 513.7139126305793, 833.2867303936684, 844.1157754547279, 689.7453208137715, 953.4609053497942, 1023.9227289949796, 651.412091503268, 687.5213432400932, 843.7603191680115, 613.1049891720806, 890.8136181956604, 736.580675162758, 418.61962973431315, 735.9440356744705, 715.4287073012789, 553.3966185511895, 442.9807162534435, 759.8058184700753, 1001.2412126360069, 927.8529131396324, 742.6664710485134, 532.6039713541667, 470.4111467236467, 456.1352068442712, 912.9207070707071, 739.4628753090781, 536.7979882260232, 1041.3020198638544, 1115.4591199208917, 747.5063775176135, 874.0319143268155, 688.1893611651885, 1073.5190800330033, 678.5686295313882, 753.8161041856694, 881.4509936766034, 983.3033850356063, 763.2891734279918, 1206.2367301174731, 511.34784506273866, 677.8170545009185, 1085.0967901234567, 463.15365792759053, 888.4790864197531, 592.9157234251968, 866.9430231758477, 943.6150991507866, 760.5467296407614, 553.3401873137506, 1060.4744429015407, 1917.3976480990275, 1663.496551724138, 2954.7195072900954, 2257.295507755341, 2980.279235253772, 2197.80134061649, 2776.025500292348, 2598.845936981758, 1679.9157415972866, 2114.3915624884758, 3424.5384998340523, 3178.109262966956, 1840.455464267084, 2677.001989009186, 1930.504032004032, 1567.5234234832878, 2293.7433486054174, 1362.331352357532, 1388.0505434209138, 2948.938331475288, 2519.4301280016925, 1713.2489531348592, 2670.260538011696, 2675.525603231794, 2749.9362431187506, 3255.6352281147456, 2726.584397824398, 2583.318576195773, 2363.688408612595, 2425.517653040472, 3126.0472968172776, 3572.408056481382, 2749.5783095472443, 2472.2331770833334, 2561.1735336735337, 1749.59332897556, 2307.824887387387, 2017.245650823237, 1610.6154220923022, 2927.1164243155736, 1767.2331254733247, 2682.533673903789, 3055.7878300803673, 2660.967148407148, 3110.7247228980805, 2610.233978581805, 3230.248478814028, 2405.025721040189, 2987.4714387464387, 1932.700680992202, 2145.431670096022, 2752.334628334628, 2196.88436063801, 1768.3372019793073, 2308.0165742303675, 1894.7474641307974, 2890.366582780447, 1837.626913138541, 3056.926890432099, 2707.2758822308983, 2880.6179866644984, 2448.8085294117645, 2447.2813855483605, 2973.0696380427926, 3167.013985624338, 2378.584820031299, 1822.4899469594177, 1936.1610274396535, 3114.233422939068, 2516.946976744186, 3257.040567657585, 2679.6891886720246, 2616.762910798122, 2346.1381905357516, 2809.372992461488, 3643.9049284678895, 2263.8322666205386, 2677.9624884188643, 2828.714078531204, 3234.650921177588, 3031.6067778375473, 2265.2847422486097, 3107.314585337332, 2608.877235931584, 3100.6647293447295, 1358.4051347713319, 3037.299181578582, 2929.596800556425, 2318.7281656656655, 1961.9457307745793, 2319.473036615104, 2310.6038574950453, 1655.495093599034, 2485.971492045737, 2013.0353419364246, 2075.7893358876117, 2601.5580985915494, 2105.8113016819952, 1362.0495443880613, 2754.4936880708065, 522.4238331202046, 573.5979003072721, 652.3499066815976, 334.4301101197653, 653.0275106837607, 472.5023776223776, 433.91992653810837, 624.962599469496, 444.86205673758866, 502.22957746478875, 941.8249680306906, 789.7084291187739, 315.9853179046908, 796.2106382978724, 499.6878860672615, 583.2831482243247, 536.9747201155652, 767.0287838353031, 536.5185648727576, 847.1868370718136, 500.96496883730924, 320.78225883705335, 438.0034797017399, 434.7739240260371, 668.908785008024, 649.2367941712204, 443.33850638772185, 313.60719131614655, 494.8391812865497, 189.03524904214558, 771.9045776918117, 845.4997022359374, 668.0284386108832, 405.2641374373658, 372.0119214070204, 905.0157798792299, 547.7221618263706, 518.3245588826944, 370.29328591990514, 558.2375328083989, 562.7336145360156, 611.744055944056, 715.5118676122931, 592.087852112676, 693.1440101281848, 893.075936752591, 552.1206357048749, 396.74448419797255, 733.6183823529411, 727.3352846648302, 668.8373377520022, 785.8570767807586, 370.374767744333, 260.38359375, 373.2490640672459, 572.7224263633713, 616.4219947318007, 296.68817204301075, 777.7301858466635, 563.5776056338028, 741.3805878750766, 191.38985507246377, 433.70696003592275, 546.1123836793128, 721.40625, 510.5477248104009, 363.05421867950065, 375.8870892797876, 658.5255788539034, 601.7216157878507, 673.9017533690769, 490.9005366726297, 433.2587101556709, 385.2136715997181, 407.59146835033187, 607.6363414037662, 690.4145299145299, 326.99333333333334, 569.5486767485822, 907.6418379957308, 807.6762187088274, 737.2315597287428, 811.6201234567901, 655.2759479956663, 734.6361702127659, 631.4892835272504, 371.9814497716895, 858.7147586372938, 400.2245114198258, 498.8780039581566, 657.1082836670462, 769.8373372249663, 877.4559790934487, 525.9450085637387, 593.2600902643455, 250.4650394101195, 404.7260220125786, 706.575753728975, 291.70527697195746, 663.938164893617, 1427.4696815718157, 3493.3232753301245, 2200.8689585730726, 1897.1289212988443, 2162.3892951775306, 2411.4431306306305, 1979.0643627450982, 2363.4213026819925, 2205.1971343095574, 2601.48633960047, 3032.6346220828977, 2979.4100135975136, 3022.8719696969697, 1769.321062441752, 2399.3799048174046, 1866.013348698742, 2706.1966028380016, 3349.177684441198, 1007.2795893719807, 2453.9132144227083, 2350.0858710562416, 2173.870435120435, 2920.890606060606, 2779.313306283812, 2704.017217630854, 2714.002830091592, 1531.4983733733734, 2605.402735042735, 2167.3325515947467, 2298.1533312577835, 2178.0151637796125, 2221.954214559387, 2539.086776431604, 1070.0932763532765, 2044.1852486047692, 3071.0564523483813, 1704.478660933093, 2184.230352303523, 2063.9082238899314, 2938.8108943089433, 2468.749402199904, 2282.2379564879566, 2832.780505050505, 2126.542237442922, 2118.3430397727275, 2748.5569696969696, 2633.165493133583, 2658.540787623066, 1925.5875681883433, 1945.610246806876, 1666.153812187224, 1988.0159861149173, 2149.778050778051, 1892.3487517146777, 1753.00139048715, 2377.848254423721, 1439.0175009589566, 1664.6374243733794, 1851.6421906693713, 2340.3177023398543, 3252.854170350722, 2398.874230587121, 2766.7304438584924, 2021.295584045584, 1473.770689293945, 977.8765216547844, 2728.244017094017, 1918.3877459749554, 1331.2502434274586, 3629.95092404778, 2620.1082662063673, 1985.0668583347426, 1982.5603146853148, 2315.4411533549464, 2643.3540010598836, 1805.4600289945117, 2983.620466392318, 1915.741350717676, 1930.9292381812706, 2109.917480842912, 3268.2370046620044, 2203.133324723406, 2201.677686770911, 2483.5818124888174, 2638.9351123595507, 2431.7016452558037, 1866.088217430914, 3519.1514043455218, 2419.7105438772105, 1386.0278590785908, 2080.6017781707437, 2455.682893120393, 1896.4419433801618, 2886.2936562464215, 1597.6949125596184, 1822.4171904462603, 2086.3383871676556, 3241.4496021947875, 1238.745945945946, 2678.456468456948, 175.58712811171827, 274.65316938732246, 237.49267872523686, 209.85859728506787, 252.6151578217135, 252.97307725285089, 182.4052165812762, 190.43839238498148, 238.21373820754718, 170.56687411289442, 327.16437007874015, 326.23271164325735, 115.58147290412228, 343.5006114130435, 298.85483870967744, 275.4565692204301, 242.75746087294644, 359.85445544554455, 191.90185546875, 383.96891835888937, 290.4698162729659, 107.51444845790498, 247.056081921715, 326.47271126760563, 302.4448043699187, 192.2876572327044, 107.28110661268556, 207.53149401353463, 207.89825422804145, 115.42909946236558, 310.81391147244807, 268.91921131809744, 316.06556566455697, 223.12503987240828, 269.82908878504674, 293.15259720441924, 236.06319137168143, 187.74056773266258, 205.70782654680065, 229.48833333333334, 258.4564630681818, 229.5367467781261, 399.00296875, 240.89812077702703, 217.0468105065666, 394.3149497051682, 280.7055362654321, 150.84265649102866, 239.53129657228018, 287.82562756578506, 224.92508865248226, 310.72265243704044, 143.4385646973541, 140.14343434343434, 261.40177595628415, 265.871266427718, 221.26556451612902, 99.02398003472223, 320.58984375, 202.69591318402217, 421.95341435185185, 165.39426185344828, 266.5081300813008, 252.18, 259.3891250839114, 175.87483660130718, 187.4414610546686, 130.9432494718648, 229.4856474762135, 284.31416015625, 233.0371662621359, 189.60937775427465, 190.4564153678869, 87.69284712482468, 190.03558003321967, 236.7636242378049, 281.23302180685357, 216.74912109375, 193.45870206489676, 317.6067073170732, 421.0912485065711, 274.0903846153846, 271.68395256916995, 306.95896541262135, 275.89486834518544, 285.8771152829191, 185.88467292261663, 286.65030250648226, 139.64399483426604, 218.16168879056048, 179.9093318780697, 327.1580154422445, 327.0368456311609, 168.00697192387412, 229.3070381637168, 87.14291393361161, 153.32084155161078, 304.31777956556715, 120.85311852270586, 371.17307978012184, 2076.6695273472524, 1091.91702284451, 1572.9138728323699, 959.0382595648912, 1702.0478379298604, 1894.3306737927085, 2063.6599477600907, 3069.493458980044, 2034.2647883732789, 1740.8745409649234, 1818.2484093900835, 1386.5577052006513, 1850.046755311461, 1540.2039366410436, 1597.0627462716345, 1670.6231392500472, 2167.4447091522734, 1883.5596774193548, 2183.450406504065, 2086.3683333333333, 2141.383863831879, 2367.5289719626167, 1753.6561423650976, 1642.7859341700214, 1385.0246332275972, 2458.275882352941, 2311.2374012291484, 2379.1219837261506, 911.9357530864197, 1101.4472723367699, 2528.961169005065, 1679.760498582357, 1906.885313019528, 2276.379165512785, 1914.5015825619587, 1174.244863400316, 2067.333782051282, 1430.0801675977655, 837.6523913043478, 2801.1183339298495, 1343.335016025641, 2195.9659781898586, 1996.0983637138897, 2119.692357772436, 1906.2724172076137, 1763.5945959803116, 2705.2739763779527, 1808.1841228329185, 1972.0669471434771, 2148.8029629629627, 2289.332605455617, 1588.25715193897, 1853.3526811594204, 1019.2516697024894, 2015.061553030303, 2159.4503271861986, 1831.8937048192772, 1833.9992818905862, 1255.3639096978036, 1805.9415947035118, 1861.2852073173524, 2024.912074704142, 958.2838393421885, 1624.8576508940037, 865.4770634037819, 1847.221247771836, 997.8289005076912, 1681.2864942353444, 2544.7430739880556, 1632.0891042247908, 2514.2695726287593, 721.0090693257359, 695.2031136103301, 1011.1349905303031, 2457.468085106383, 1887.7593791136464, 1578.4876344479403, 1114.8682216433815, 1760.365685449958, 1608.2316822547498, 1884.5444397542328, 1129.6460825358852, 2280.10538814281, 1578.7598473282442, 1574.3041377861794, 1745.7352075360611, 2142.143015521064, 2003.3009251471824, 1930.3726725335803, 1019.8734354942234, 1874.4891480816884, 1579.7699652777778, 2250.212495974235, 2346.6691774771007, 1605.0363028606964, 1717.287987358983, 2393.304196859903, 1804.698551316058, 1248.0098493100943, 1973.4850072912868], 'RMSE': [1.2195078163444295, 0.8674629081726812, 1.2991786856580572, 0.945851265716629, 0.9338287621802713, 0.9806339872764518, 1.159776714239818, 0.9538573445310673, 1.1521536412894462, 1.4062380121962401, 0.9175194273719949, 0.8989438231869316, 0.8005964313016808, 1.0747138379043253, 0.9481829834091708, 0.7632310148001732, 0.9146531581917111, 0.9779453296400669, 1.0061120843294014, 1.0993854991801233, 1.3039162585831297, 1.1093429095195766, 1.8151355790014023, 0.8408282647951377, 1.3560172374817736, 1.026166121215162, 0.9943699382783248, 1.0721909908067933, 0.9018939060686947, 0.8258354957574398, 1.245379788876427, 0.8579758721744913, 0.9315390166389622, 0.9578355840432956, 1.0493792229109107, 0.8709155997919741, 1.8746886481367013, 0.9416900955348654, 1.2300149443734028, 0.9142886161642232, 0.89746355036834, 0.7858256027382783, 0.9806340389687551, 1.262910783319843, 1.2743147606059637, 2.1203764472698996, 1.356222523349127, 1.5447890537998652, 0.9046817531753184, 1.060644508120471, 1.2510732612433848, 2.301215481518623, 0.8812418157123637, 0.8330216021204033, 0.8761020164358809, 1.0406263574058816, 1.1071479611199921, 1.2459672816631964, 0.9512562621988215, 0.8704375885120718, 1.005525376864875, 0.845465298058845, 0.8664937549144514, 0.9823875357800409, 1.1382236330988642, 0.9229096803400131, 0.9135699003917506, 1.2496553890103466, 1.21285249352124, 0.9483701672908675, 1.1840401025839578, 1.7364183843675716, 0.8854801120189554, 1.4738864193630585, 0.8736467286491857, 1.0373494229757594, 0.8870409306671804, 0.8760608690089835, 1.2924039301550931, 2.3729272030365647, 0.9619500289247155, 1.0036614734568714, 0.8771661806582117, 0.8934262669882261, 0.8890607572969864, 1.0995367545636592, 1.2807148674035984, 1.4215854725901598, 1.4913322569022767, 1.0210648875747022, 0.9597606374973436, 1.6421803426371349, 1.063155292093833, 1.6368400610565126, 0.9908827218751447, 0.850537300809706, 1.0642563450750688, 0.9548021373971052, 0.8673263047161281, 1.0585032653486561, 1.1373970266129876, 1.133064396722549, 1.349375417544835, 1.2528875044753907, 1.14028084016171, 1.2071768983039466, 1.2879088980238242, 0.8303567392118723, 1.0396851685086983, 1.1081015133266805, 1.2355497261115407, 1.312243660481755, 1.082545579545209, 1.2714308783087014, 1.3186100148335225, 1.4523165830845717, 1.1722043507493292, 1.294383921430581, 1.1344933323980733, 1.0781582262694358, 1.1722724141397458, 0.8468658131961901, 1.1446586093506088, 1.3660998746312563, 1.337072195432383, 1.4816581771381254, 0.874718962145861, 1.2551136421771443, 1.1272509491407436, 1.087981667166128, 1.4613532637680304, 1.225063817201186, 1.5535445465281328, 1.3938590537953048, 1.2037353214281399, 1.353342035613356, 1.4472870755314697, 1.056473358815552, 1.100816272343319, 1.2170027291259735, 1.1788528196210517, 1.4489902398357561, 1.4048788150461788, 1.0969107223443775, 1.3767170509163378, 1.454721348558815, 1.0950489257747122, 1.185469701845571, 1.2588837748600756, 1.4303173404883414, 1.2243655980451535, 1.4466555041998312, 1.0727172030531802, 0.9961345771339923, 1.130887965488445, 1.409731037151919, 1.3529156194122736, 0.9098868020606744, 1.3355861598088594, 1.1947790543085501, 1.5104661003235258, 0.7624380242822684, 1.293785758486568, 1.405036561734723, 1.328783994259645, 1.144209557219761, 1.1785121675843873, 1.231619228202937, 1.485831216095437, 1.3408883641584013, 1.2722185328556512, 1.2154133106714633, 1.0015346271855656, 1.2469768984542753, 1.0987780456951537, 1.2157147426905466, 1.4273889976389331, 1.2406521582351286, 1.4433251045983866, 1.4288246846604933, 1.464553772195293, 1.3626316684171373, 1.160417299006962, 1.2752065417155154, 1.3144745028031566, 1.4016423336039316, 1.0752308146445597, 1.6021250343300633, 1.2230259083592583, 1.2749299675985828, 1.0738036910215563, 1.3962291430866118, 1.3093519318601916, 1.6597369164260942, 1.3084453440696704, 0.9008698279997928, 1.2586033383253081, 1.3895895149484276, 1.0215119717175398, 1.4198302711106539, 0.7881562039604494, 1.0187285722744324, 0.6127768406088353, 0.7109851805838436, 0.9574238241427743, 1.2286940142303298, 0.8233271629830538, 1.259548781943161, 0.6392442882447184, 0.8564512184819025, 1.0516352223654837, 0.919436513351198, 0.9018585887326066, 0.6924430722146839, 0.8503728750522029, 0.681475695924073, 0.9348479550096828, 0.97342500243427, 0.8393207123110672, 0.8722470714187072, 0.9916130465799041, 0.7913229383884828, 0.5691055237589765, 0.659381891983255, 0.9046855260096731, 0.9609164343516979, 1.153889534756095, 1.0454938741748807, 0.7005803646491623, 1.018062039423383, 0.5775305071333849, 1.0465616052292148, 0.8267780375895065, 0.7325859373464735, 1.0441904423587451, 0.5102931388459611, 0.6979729704448887, 0.8673011981038865, 0.6617163550480336, 0.9679892492778261, 0.9521986088043657, 0.650759838313386, 0.7580124274192276, 0.6652329355494397, 0.7378773049146019, 0.7141654625480388, 0.8842796509208266, 0.8422668640163893, 0.7596311178320542, 0.8114460116984142, 0.5927955924001248, 0.8120717499913047, 0.8954373673297691, 0.904281912872949, 0.9852371199896232, 0.7992872297909386, 0.6145954735896831, 0.6401757858156917, 0.8347336358736186, 0.6259708565980304, 0.9723065026054121, 0.7511032648560446, 0.5968827272479434, 0.7686311525862682, 0.7835383086332726, 0.6333626932746999, 0.5381870045708813, 0.9039283267808554, 0.8089774193071065, 1.1364921890011281, 0.88483485904746, 0.6204134035632326, 0.6283112614562802, 0.5345757424915509, 0.9117370249955657, 0.6991057007244001, 0.7585828459622572, 1.0768052907075294, 0.7954899015144995, 0.6709797450945524, 0.9461429511365153, 0.8430868200270879, 0.943396740552044, 0.8017869524561149, 0.8542216981545943, 0.7427945699321463, 0.7715394792584909, 0.7066392866798321, 1.090313686587865, 0.6065494061674619, 0.869722237514127, 0.9128440553323166, 0.546324681676969, 0.7087387478556499, 0.7569736062922247, 1.0211044156999969, 1.0171306600534287, 0.7268376452641488, 0.6155988733487948, 1.007318032373662, 0.9209308402678388, 0.8203020886638015, 1.086161856396065, 1.1441098199274116, 1.2737888819613237, 1.0726154241043373, 0.9810489229085967, 1.2274031566896917, 0.7991615988285625, 1.044129526853187, 1.3998514525386843, 1.1957528489505687, 1.0272323587692607, 1.1741594375134428, 1.0280282725800518, 0.6774412036219326, 1.1811104667532575, 0.8062605071024461, 0.7788708767047079, 1.2635256008200442, 1.128434842618941, 0.7453809301209839, 1.1236122482556254, 0.7824882853014278, 1.2631510676025857, 1.2003745898525793, 1.1014309227941326, 0.9533372357495351, 1.0637413883440021, 0.9855946268087986, 1.0395715537384285, 1.355912835376208, 0.9489972535277431, 0.9875960844898476, 1.0215331182461234, 0.9459600399711772, 1.1899369940878544, 1.1211688447908683, 0.8517955556592649, 0.9944574092717986, 1.0095995105031697, 0.9078307534601163, 1.0682522003892332, 0.9631582631967822, 1.112132489655757, 1.3121470831205297, 1.2366390869008637, 1.0608642080843373, 1.1716277377550237, 0.943714250397655, 0.9335524510724906, 1.269889197599948, 0.9891802336409535, 0.8198912641213768, 1.115519500198893, 0.9419298779989218, 1.1523607521519492, 0.9391647958493269, 1.216728507179935, 1.1180729853024063, 1.0978828144415123, 0.7905527316301263, 0.8776088238793232, 0.9826129157997312, 1.0498289489673507, 1.1993647269290049, 0.7502221722879749, 1.0342974777790312, 1.0440068605738262, 0.987694884838974, 1.2104451260937825, 1.2264075292558088, 1.064855066327142, 1.109372284972511, 1.1093113002250923, 1.1219961543335066, 0.8950652005084437, 0.9522009584052403, 1.1336151423824679, 1.3500000654174389, 1.0842644526463097, 1.0534693011008225, 1.258872646578462, 1.250155347056105, 1.1368002437581475, 0.8984722498531602, 1.0755407755294937, 1.157845274029515, 1.0732580383525907, 0.9477927132620935, 1.0623956468389468, 1.2101429632262661, 0.8157380217437442, 1.1769125614832698, 1.0614672887092853, 1.030835058879125, 0.9392866174260419, 1.0210360209567002, 0.8194687793560903, 1.131140698759756, 0.8439053842645239, 0.7357066002613661, 0.7979756326589977, 0.4680530783712861, 0.7145239200533511, 0.6508123783198918, 0.8932346102525943, 0.6567149980766559, 0.5351024798061285, 0.7255839544507157, 0.9158393959236003, 0.8916084678134443, 0.4854064739041728, 1.0326326732416748, 0.6602436484300072, 0.8345142253105058, 0.633024817232876, 0.8705615332259108, 0.6978182792232597, 0.762061274021768, 0.7076552442134287, 0.5465797633671513, 0.6526015861338315, 0.7015576565069829, 1.0182618807842172, 1.16698470007334, 0.6548561134911964, 0.5487398930016804, 0.6539693152414762, 0.42672603340678555, 1.1854314966217105, 0.8626756504937974, 1.1119209257707592, 0.6897946770161245, 0.6586100235602834, 0.8831740302788323, 0.9348088422091718, 0.6414259952085826, 0.5988460428358695, 0.7907421174702318, 0.6946630014170134, 0.9061711954562859, 1.0499889859138751, 0.7362869443550023, 0.9629173563967137, 1.032925183070721, 0.7089454050122446, 0.8029221549866158, 0.916143446020555, 0.8878964592995217, 1.3105177295173829, 1.0942747732112006, 0.5982139159397175, 0.5883478283080956, 0.5091063578392124, 0.7807284356625651, 1.0158241251530822, 0.5264037066521651, 1.01929956308138, 0.7487858118515505, 1.132577202179655, 0.4271722335690058, 0.6647052259423568, 0.8864065467759956, 0.9721060887468305, 0.70837502594284, 0.7660981209808178, 0.6295447322856691, 0.9584712423295888, 0.9681524464593974, 0.8251902677381955, 0.6578922824078981, 0.6094088355046218, 0.6702003913547928, 0.5285336818030795, 0.7578474557301962, 0.8748600218526489, 0.5592044131445716, 1.0253743382809317, 1.1337372644621986, 1.1281120938772589, 0.9708432629880781, 0.8546535841280294, 0.7922727948685263, 0.9160153626363313, 0.8292479815524052, 0.5662724717058062, 1.431694832593651, 0.782011023488037, 0.7558255846225118, 0.745013998571272, 1.0196629914106434, 0.8640530023807945, 0.976758920290057, 0.774717296395029, 0.46242042250748905, 0.7004924594446167, 0.8877773423285514, 0.5017627014036135, 1.24089292209629, 0.48514360145198804, 0.989792381686811, 0.7688862391347602, 0.6020587411209436, 0.70908578146757, 0.763003571262409, 0.7255801671375441, 0.6322159326874667, 0.8621679702089621, 0.9021929430207445, 0.8356552596017482, 0.8187343010710219, 0.7674423078743112, 0.8172012882393831, 0.7550228248194422, 0.6496737979077828, 0.8041497746151712, 0.8680849465092828, 0.5021801931735065, 0.7080083887486165, 1.137347587305029, 0.6814530820760855, 1.0408408952650392, 0.8508109674558464, 1.0949603037699855, 0.8202320253268417, 0.522253253336218, 0.6866999363152344, 0.6901288074168985, 0.9932603763345015, 0.6585620051848479, 0.7458097978341477, 0.8308254917079563, 0.4144543601355031, 0.6990402532800938, 0.7795198986725852, 0.6680990684473649, 0.7368307090398183, 0.8045640095654616, 0.8164513309033021, 0.6852872137103156, 0.743454918794229, 0.763923878687165, 0.8742494163275742, 0.6387585644237167, 0.954976592009336, 0.8412985693581156, 1.01539228507479, 0.7924382523967198, 0.6035537357454905, 0.6326882622777295, 0.8956177201079456, 0.7159765847657436, 0.7925861744700513, 0.6325121292907172, 0.804986535691351, 0.5442972493533145, 0.6901818531267822, 0.9653332065012622, 0.6897587584974568, 0.7675882693591428, 0.5994543336743575, 0.8313584246433938, 0.6513716721451014, 0.648380899197539, 0.4234353382720529, 0.6894655371884464, 0.7258837535491585, 0.46927249331447496, 0.7687339743395382, 0.7699163784299415, 1.0742708061715436, 0.6362914660096068, 0.864991599424509, 0.9303501693964717, 0.7230608459638054, 0.81779332679749, 0.8701532352173066, 0.8773004564418657, 0.9249044482876276, 0.8068304544260888, 0.7283070701240386, 0.6136524427860001, 0.7019907055012634, 0.8800487040615188, 0.6881275256804691, 0.7175333143111592, 0.7624095178825582, 0.9942290533150033, 0.7339619604103278, 0.786144623227893, 0.7816486365638856, 1.04399752366854, 0.9764217342837652, 0.8528329396751194, 0.6785289526745786, 0.6446238824266193, 1.0109731758529414, 0.43890170003488493, 0.7904005281200608, 0.7201482703028009, 0.97132718422825, 0.9005424777790364, 0.7039960196640919, 0.9761810975041929, 0.9702252269126309, 1.2708661789599003, 0.644643899585396, 0.655263701316336, 0.6471994665495243, 1.220422951389515, 1.3129593826118915, 0.5847232389186326, 1.1549935310047055, 1.037388476530756, 1.3891981465619192, 0.8656449202033442, 1.1526431477455288, 0.7503954071268059, 0.8629275325043645, 0.8536426027405413, 0.5129483794075345, 0.8430801341629287, 1.4342762648513785, 1.1305469748767552, 1.4609689067359535, 0.6459634753897979, 0.949867116698203, 0.9276724828636349, 0.6649188395593476, 1.539501483896015, 1.0830756803668642, 1.6370443602762013, 1.1579507972726375, 1.0453975436126204, 1.1580837637958576, 1.0193777207683663, 0.8978223233577551, 0.8082833952051687, 1.2675815881731078, 1.0083558276124318, 1.2010691540262644, 1.5221335990647085, 0.7974643420402591, 1.0126291773932445, 1.103276572654205, 0.8825527334752533, 0.8421996459314067, 1.0856047978516783, 1.216719127836892, 1.660051280614953, 1.1343036348780429, 0.810107060591349, 0.9186034753470946, 0.7851026189715072, 1.1329904580281955, 1.0244870968345186, 0.4987145065827612, 1.1729832514671648, 0.7427754591711456, 1.6582418236287202, 0.7967105323356802, 1.2205819748721283, 1.4515285553033914, 1.261083395294701, 0.788150303001745, 1.2621285053475675, 0.5942437466223353, 1.2004003547238, 1.2277449684269137, 0.942287015945708, 0.7659030759047616, 0.7541241310650826, 0.5258015147752513, 0.7816294060283117, 0.8172265801156726, 1.382912738095004, 0.8822195081397782, 1.0372782780272807, 1.1488341096508659, 1.6305093545289968, 1.1178180554725132, 0.9521024796869673, 1.0612427181983342, 1.2536799651199146, 1.098511869025414, 0.6232657464142568, 1.5000603262218426, 0.7458226069777282, 0.8794304997029673, 0.8322300889633947, 1.0884064826870308, 0.9469182182211459, 0.9441853436959486, 0.9321763426359648, 0.5375438642440904, 0.9172484804564944, 1.0573694598874765, 0.6283244009702903, 1.624450471476993, 1.2608411825093568, 0.7524569699545967, 1.0268760799165504, 0.6485583847409393, 1.374702753639725, 1.3075861616803688, 0.8402693628989905, 1.4935938002719824, 0.9705134474783261, 1.2525685499131685, 1.681919170878195, 0.8765278011334433, 1.2649060787528692, 1.2546958007842115, 1.1724911389897632, 0.704784450866361, 1.6676518879079498, 0.7692600673230098, 0.9847251252675366, 1.6860384425076247, 1.4515918519258095, 1.1111829898810803, 0.8517608526238668, 0.694552865883438, 1.2912001870407614, 1.070796381326451, 1.3684224903175022, 1.1325325004316922, 0.7236890837052847, 0.7510695069695004, 0.8316868808360923, 1.369157818192096, 1.0766765590248715, 1.010941050551645, 1.1524941453674877, 0.7577374871822568, 0.954954618698653, 1.5409582218878675, 0.7251400247341055, 1.145222171175014, 1.0125861336329502, 0.9062410216164222, 1.0647879390643953, 1.112376355776408, 1.0096069815760984, 1.025740624607828, 1.5003004222187264, 0.9847689513855403, 1.3570824287330991, 1.0054886422148686, 0.9771108044247798, 1.0833873043586149, 1.2556068134231093, 0.7449267125882876, 1.3513063727531873, 0.9056132541982072, 1.1591990741480256, 0.9168085723837265, 1.3308380573249015, 1.3265762230469922, 1.0946984706055278, 0.6340185202296316, 0.7157883699183951, 0.7276634701438325, 0.641506981314889, 1.5148422278008538, 0.6587540151345195, 1.316890053016795, 1.0863216936506914, 1.155526801092439, 1.365326420038453, 0.6568293913482568, 0.7666595092269571, 0.7860188652085879, 1.2978693787429567, 1.0563927644771833, 1.009996046111556, 0.6728220661625586, 1.0399185339180304, 1.070802416584019, 1.1045395836856648, 1.2056042053375664, 1.7912812308397128, 1.4185922384859504, 1.110102339503324, 0.9952279293556032, 0.7485470832463804, 0.988958610714436, 1.0141613983905937, 0.8132506463959515, 1.4537304987207214, 1.1544456462045751, 1.0642802977195118, 0.9668199839439245, 1.1966791910878651, 1.3486424985844405, 1.127690656508338, 1.1713970440046815, 0.9747562900723779, 1.1282262531858394], 'NMI': [0.9324975759061795, 0.8966541277935658, 0.9287732517366505, 0.9361297084975844, 0.9297270504321418, 0.9399371252130355, 0.9397520081662647, 0.9438423878046427, 0.9083924004212443, 0.9112031380478545, 0.9250370782050419, 0.9319155203213167, 0.8918358572093372, 0.8530833455301674, 0.9366447566007823, 0.8816317255690485, 0.9432286432078016, 0.9394225856487552, 0.8911447012714291, 0.9449690805825561, 0.9238218803471567, 0.9261846964675606, 0.926919125259946, 0.9088254650802512, 0.8949423746888208, 0.9064374064387761, 0.9471055957455836, 0.9615515975033606, 0.9340344234671598, 0.8814273857751889, 0.9381896402212262, 0.9023720606144643, 0.9266285454969507, 0.9114395040508554, 0.9207197149987889, 0.8824617764645146, 0.9484645989068021, 0.9526545945617588, 0.8836697652915695, 0.9425879689406029, 0.9452412014253879, 0.8775276866457655, 0.9327856196289757, 0.9109607496440355, 0.9375975314482798, 0.9380888365146447, 0.9511797647250848, 0.950849097554832, 0.9260084726081672, 0.9228853544641189, 0.9479184338420323, 0.9384813388677513, 0.9292804666262791, 0.8867433223514196, 0.9368524021858828, 0.9321220730953947, 0.9239190329669147, 0.9127567544067954, 0.9283417263114206, 0.8670786352772821, 0.9371827065530927, 0.9059803751942954, 0.9173310560658117, 0.9138974121280912, 0.9035043659933495, 0.9178065021671897, 0.8993750735172674, 0.903249237908025, 0.9250927925124672, 0.9378396945746668, 0.9483810369310179, 0.9297234039407283, 0.9201461769118584, 0.8805093670516402, 0.931142488060954, 0.919835683420291, 0.9244279263250768, 0.908629798741384, 0.9154973128951793, 0.9228654416079793, 0.9365999674609644, 0.8872598016220272, 0.9012468228969248, 0.9306725854063398, 0.910500900553221, 0.9167387522361186, 0.9268621367691026, 0.9359650236570183, 0.9226095219113402, 0.8949491755519063, 0.9497259758481218, 0.9503764499900831, 0.9138758614085638, 0.9426928797369605, 0.9099062161887435, 0.9155436872403016, 0.9424954566298394, 0.9267091459531815, 0.8913198945664034, 0.9536371347942201, 0.9442005115380219, 0.9748978906565464, 0.9864194810833871, 0.9854925111456818, 0.9792414882242655, 0.9822904032998505, 0.9396489308459528, 0.8912816802254859, 0.9541476084227745, 0.9566490503177796, 0.9926082805151146, 0.9917364185325328, 0.9493491365478939, 0.9900431416049682, 0.9896287888081765, 0.9875517594574525, 0.9782124363335918, 0.9892426074251439, 0.9509040977754661, 0.9787901107782593, 0.9735959169371078, 0.8883158565929372, 0.9640308839078933, 0.9570074142121141, 0.9903697648718031, 0.9820079486266482, 0.8934137250915448, 0.9781982392640354, 0.9656807136896071, 0.9384016259485566, 0.9807448026139933, 0.9908336351928939, 0.9834954239219829, 0.9836706594520637, 0.9667588402163902, 0.9911734427723271, 0.988000007901239, 0.9546051373069604, 0.9502395978081848, 0.9469928797501974, 0.9817654280799499, 0.9854950803933604, 0.9728237200665228, 0.9615616843902473, 0.9655379521812708, 0.9937176729559509, 0.9744889605549261, 0.9290361420017454, 0.9925085381885312, 0.99225652205021, 0.9375863986599136, 0.9932310029288041, 0.9513772222028303, 0.8784043896355473, 0.9803562249826054, 0.9892214424719876, 0.9866304657519922, 0.8863455801634261, 0.9908466388201171, 0.9828311265367107, 0.9598636471405717, 0.8039092884775567, 0.9687553616517641, 0.9776956359465514, 0.9764808746398466, 0.9766379608790958, 0.9084435469357406, 0.9853638439855477, 0.9905799170722085, 0.9802345354081092, 0.9910679378110665, 0.9600855283687209, 0.9386883657560994, 0.9388274633524822, 0.9638821882328297, 0.978555350227762, 0.9901341687523224, 0.9692943250280879, 0.9827544791006306, 0.9906814129788422, 0.964037327627945, 0.9932534400050868, 0.9824924736226881, 0.9929574255288067, 0.9898677951960237, 0.9932845519655009, 0.9522767017659153, 0.9735490661880302, 0.9365060534129468, 0.9812488580494201, 0.9609963760853089, 0.9918908633905734, 0.9853040226766687, 0.9842869727062029, 0.9874313773254844, 0.8826331559624137, 0.9612883679787969, 0.9920631079525133, 0.9371533891152737, 0.985698770082255, 0.900962815803074, 0.9335885562137702, 0.829044576053551, 0.8638230458451404, 0.9112216509166731, 0.936892284395322, 0.8967059271786757, 0.957283234865256, 0.8289720876749318, 0.9303291077960398, 0.8921876951341139, 0.8654304071148811, 0.8284210900609212, 0.8553597230578445, 0.8949801993015554, 0.8524966615103493, 0.9072313662221143, 0.9180332210268594, 0.8833290009046231, 0.9144180018495023, 0.932506857097644, 0.8844464883164749, 0.8237844637080298, 0.8535665300075441, 0.9171837846793218, 0.9442479180232641, 0.9135298965655849, 0.9561807601393011, 0.8699227330640946, 0.9078903394573044, 0.829818885475643, 0.8769383962828996, 0.8988311176884889, 0.8772381690649098, 0.9465608318723759, 0.8043777295389696, 0.8681585990390992, 0.8793908810956672, 0.8610368455941411, 0.9070661967266926, 0.8923210204709067, 0.8639301418192975, 0.8780378009033025, 0.8567444665752557, 0.8644126348853982, 0.8800825695815058, 0.924968707187078, 0.905455377297574, 0.8791755396062897, 0.9028053099261379, 0.8186015258334767, 0.906807062362077, 0.8981180822242649, 0.9003657004553165, 0.9271044050650046, 0.907404789005106, 0.8467644326587387, 0.8545552699191488, 0.8998063934828016, 0.8546497034948042, 0.9246534903331396, 0.8505826025583516, 0.8187841118238215, 0.8896487057680489, 0.8841079386064508, 0.8498494674749535, 0.798193770823646, 0.8983290932008878, 0.9104856713044363, 0.9285740991090172, 0.8911145218809489, 0.832112560483228, 0.8325684045610471, 0.807985709545781, 0.905354160370182, 0.8657954903439546, 0.849660639487992, 0.9232265119150449, 0.9091067248502076, 0.8703040903354669, 0.9204443566212979, 0.8917316173613872, 0.9329721058773586, 0.8926915172922232, 0.8812138071874824, 0.89668657461264, 0.9018732482202783, 0.8803365515975445, 0.9462651043359485, 0.8338062761238321, 0.8409627137316789, 0.9346358400541019, 0.814831818833714, 0.8551896386480053, 0.8737163569985655, 0.9119318782568226, 0.9583898746205539, 0.8742749037448827, 0.8368960279413911, 0.9484708395534185, 0.8847344984489465, 0.8730416992497414, 0.938470482295997, 0.9441261685570943, 0.9567593647081754, 0.9251668090490208, 0.9310862323560969, 0.9474487981138913, 0.8525934642226727, 0.9212356228365548, 0.9858886728102534, 0.9711399103375307, 0.9178886203285699, 0.9598139873694562, 0.9346140638389477, 0.8436125137036234, 0.9526329621970042, 0.8730461397332685, 0.8662907463511984, 0.9478319066975407, 0.914547211260029, 0.8367282377418352, 0.9057426672771658, 0.879718446314083, 0.9611428204368633, 0.9745255605933709, 0.9528367728153833, 0.9307533553585028, 0.9368587903719643, 0.9283579301159357, 0.9537310874356804, 0.9748405603125876, 0.9253530529918583, 0.9320894227052519, 0.9411299041175465, 0.911776901215116, 0.9536948681338548, 0.9348957757762173, 0.8329952808691203, 0.9457188919728807, 0.9218702140257622, 0.9287730988868668, 0.9509220924238015, 0.9044801088290082, 0.9451205316133384, 0.9722521299079765, 0.9494471959143451, 0.946342226985698, 0.9656312902149413, 0.9087260585873993, 0.9156974159371207, 0.9653877106354936, 0.9251812920190092, 0.8701014648739058, 0.9449750254258711, 0.9222755612941427, 0.9563815530522379, 0.9066586323556951, 0.9632419275185142, 0.9342122060282934, 0.9430561926220149, 0.8696873754588526, 0.8994230480240117, 0.9301562251110824, 0.9518878233684462, 0.9349990335863025, 0.8523751324143181, 0.9126960753289994, 0.9522366223054157, 0.9392188877694809, 0.9531501586567293, 0.9429041196986105, 0.9268110729720926, 0.9020346797636316, 0.9325008407281155, 0.9258167270160376, 0.9138401496524344, 0.9258207199319561, 0.9727746057590314, 0.9717355734109889, 0.9504989305466938, 0.9344925016178354, 0.9545779630828035, 0.9679803336924886, 0.9622701797531288, 0.8794311396611278, 0.9240807948901539, 0.9543181161403631, 0.942480278638471, 0.898557489909888, 0.9275111648970531, 0.946932796435495, 0.8759780760065266, 0.9598036078429486, 0.9268571806645396, 0.932322434497032, 0.9314311034047034, 0.9318420237621925, 0.8661386989444761, 0.9400714710126175, 0.8844312104332948, 0.8675914101291402, 0.8936292083787925, 0.7860861020277137, 0.8867676590134035, 0.861478734094554, 0.8349296688292136, 0.8608383609715924, 0.8284293434697425, 0.8801175583428189, 0.9443205307676921, 0.9290082456668194, 0.7700339928974209, 0.9476711651746161, 0.8663174569015175, 0.8824403749973215, 0.8370086781981045, 0.9192402177860561, 0.8438475971751653, 0.9122443025226716, 0.8784277277578687, 0.7986744225651898, 0.8396070965655271, 0.8352436697871519, 0.9387014968368426, 0.9018595130007381, 0.8597303209342602, 0.8073917723998638, 0.8451565127721434, 0.7507416651665906, 0.8687073687970912, 0.9252647417478086, 0.9205389234213244, 0.811806719171071, 0.8455990118652474, 0.9262434960297476, 0.8684787083077936, 0.838332594178794, 0.8279238630164398, 0.8934232921196128, 0.872405378919954, 0.8919281642537107, 0.9118163360681208, 0.8852869232137217, 0.8808407334397943, 0.9338538534127017, 0.8790726708423253, 0.7894151579198014, 0.9346770705998184, 0.917823357775065, 0.8694605003897071, 0.9388707235627425, 0.8425273560361015, 0.7683796887148784, 0.8089113617595083, 0.869244129359307, 0.9208259349167898, 0.79455709918413, 0.955412015066593, 0.8960903590807769, 0.9275098044625756, 0.7408407479684551, 0.8428801477875685, 0.8667850265245769, 0.9008580290920745, 0.8724418536828651, 0.8030660959799665, 0.8300259496296636, 0.9074085296560819, 0.9218357258010295, 0.9069848164955836, 0.8322884625018416, 0.794274100984246, 0.809456732106608, 0.8283034461463206, 0.8886362838747022, 0.9022474104770835, 0.8040628512538139, 0.8996875180310118, 0.947237571552566, 0.9417309930163589, 0.9432295948452987, 0.9292494009149033, 0.9146027913787578, 0.9213319303508456, 0.9021475147223272, 0.780512643603595, 0.9246233001380386, 0.7746610814656287, 0.8616874431186707, 0.8886215594819693, 0.9351300341795787, 0.9360408595013914, 0.8193398120082158, 0.9052493484596316, 0.7968195892954351, 0.8523635837877541, 0.910535839956905, 0.8046181903562484, 0.9307677100288287, 0.8218409132968039, 0.8510596191896089, 0.8659173463956404, 0.839816663767541, 0.8586786835760383, 0.8354284221410531, 0.8465408114402666, 0.8584549847242899, 0.8073425933657097, 0.8315036212343458, 0.8771384445428974, 0.8700626291706959, 0.8796651201349399, 0.786177794324894, 0.8775668718995611, 0.8294884448222262, 0.8624760677828855, 0.8602228702074222, 0.708032053186084, 0.8696000395989423, 0.8175114333220679, 0.8372481279502171, 0.8449953112084216, 0.8672993592893607, 0.8461426590018581, 0.8400382937217732, 0.8056908098249393, 0.8183772371748614, 0.8318407608908582, 0.7905391149094854, 0.8601967119557614, 0.8527987138326238, 0.8600017734212928, 0.8035826784993603, 0.816329745193491, 0.9044546198242311, 0.8334338164190667, 0.8418547352179568, 0.7906394666902099, 0.8356356757228214, 0.8496500706675358, 0.816653921292035, 0.847411747075526, 0.8050368206650151, 0.8505528128739985, 0.8337088953652678, 0.8347535783404496, 0.8352844173105747, 0.8589716177514617, 0.85457821289149, 0.8119480911571759, 0.861075700158954, 0.8465280597292899, 0.8369895623930446, 0.8433969373447474, 0.8705893174097881, 0.8248339185578859, 0.8024591335670648, 0.833357738341526, 0.8390247125706374, 0.8699096615019275, 0.7956397534197417, 0.8715006267659575, 0.8433306148235751, 0.8241716654803921, 0.75550184198567, 0.8440054688387393, 0.8484320943690737, 0.8135678809348641, 0.8838629696758515, 0.8615703333659359, 0.871106542400641, 0.8538029280496855, 0.8112501225691573, 0.8449017557724898, 0.7467754457317148, 0.8579408150877554, 0.8410282380041996, 0.8178627542898615, 0.8623622765857462, 0.8660561761342171, 0.8536081516088181, 0.826208712888145, 0.8316447368044118, 0.8623338745464324, 0.8773098294243906, 0.869675547414914, 0.8519424275731791, 0.8632775319891626, 0.793751554655789, 0.8476952886496032, 0.8526057332079904, 0.8762860061006459, 0.8363108478469039, 0.8633165777565421, 0.8428516586101358, 0.8551676221549116, 0.8610406554920049, 0.7935109183102702, 0.8497906298285669, 0.873377633605201, 0.9448391695006819, 0.9264604052228509, 0.8752958803375062, 0.9415724071452194, 0.9381556218699585, 0.8710035789022317, 0.8201699821224009, 0.854693913062208, 0.8257394066001047, 0.9781360400463477, 0.9752476980562796, 0.7300714835798525, 0.9729969079285199, 0.9443434358912561, 0.9601147956344225, 0.8781578452960133, 0.9792821239832281, 0.8509063480110104, 0.9102438477276575, 0.9066210914890263, 0.7363811056328096, 0.9189080630391804, 0.9246898873594187, 0.975986103761683, 0.87687699800746, 0.7733399390611713, 0.8831207151441669, 0.9122121056467072, 0.7974079701095667, 0.9522503220506533, 0.9708087060406496, 0.9422127587018254, 0.9366336229786114, 0.9313223399583042, 0.9774053395912186, 0.9400803180985366, 0.8742150934715602, 0.8930208890013573, 0.8991748440462481, 0.9442861536246439, 0.928188764168526, 0.9075343139551457, 0.8888244538898196, 0.8805867434754133, 0.9763675709085295, 0.9336752067864336, 0.837956337519264, 0.9681166664909375, 0.9739579584589058, 0.9046793175012262, 0.9758210710222979, 0.8165545959849465, 0.8075643795532641, 0.9051833742865361, 0.9606136755277424, 0.9398745293236319, 0.7190571245939308, 0.9832650008959509, 0.8762732759515091, 0.9309148912971161, 0.7788229026228359, 0.9060149639350428, 0.9417357377651221, 0.9591523496061136, 0.8948110200473627, 0.8552991984308778, 0.7973052145911164, 0.9424944759784815, 0.934916623308486, 0.9493694728817672, 0.8553825499388792, 0.8232681161571707, 0.6705281122498938, 0.8915431443067143, 0.8878126419859653, 0.9491654928974098, 0.8821311736139088, 0.9121492703743654, 0.9799660158144032, 0.9303173094119297, 0.9769561769708863, 0.9577507409766752, 0.9633427057159138, 0.9675535621881282, 0.9672298842778084, 0.8159307002891132, 0.9481161422141899, 0.7938080869115582, 0.9328475839446206, 0.886446828141193, 0.9756839943945859, 0.93639632921212, 0.8287214540132506, 0.9408792470244431, 0.6840326252258477, 0.8378037432403587, 0.9710454033167171, 0.793087841402393, 0.9255677849990764, 0.9787895186265874, 0.8604651552602196, 0.9627278540485678, 0.7908478942871708, 0.8937360594178403, 0.973808962027038, 0.9114554492579565, 0.9707054212864716, 0.9243934370535025, 0.974789493493011, 0.9598420265211574, 0.9127516902465156, 0.9521914416836614, 0.978708908289915, 0.9621568673645258, 0.8699717503876097, 0.9524381519591947, 0.907663003806167, 0.9487008401573032, 0.9810653505687492, 0.974325441350866, 0.9536531256287644, 0.8718261266092562, 0.8654745073531904, 0.9823664529369112, 0.9841690274468595, 0.9826868387381686, 0.9755610743938417, 0.816581297700739, 0.8592267847721524, 0.9003224005478416, 0.9375703712061458, 0.980390257059542, 0.9558276525941114, 0.9778663250607871, 0.8430249161074788, 0.9516036971817072, 0.9399457061814398, 0.8114102233977205, 0.9852249405086637, 0.8944254810154715, 0.9382454253791148, 0.9779591056508246, 0.9526402239864074, 0.9718419336945439, 0.964525898414232, 0.977914346656062, 0.9548197744907692, 0.9836166827535588, 0.9741023110501217, 0.9699082291523045, 0.9728272084050147, 0.9783863768333136, 0.8533009815077173, 0.9684806558376697, 0.9392791580417812, 0.9789095684679636, 0.9375122216390164, 0.9817244653094415, 0.9732698774239736, 0.9825713345366525, 0.8529905806087421, 0.8429124313213898, 0.8789176336222022, 0.8019513534309093, 0.9707781615157429, 0.8012363476157514, 0.9775874000773763, 0.9821147718341077, 0.9829731177697802, 0.9825294026932647, 0.8330692046941814, 0.7942205502742099, 0.8955358641268241, 0.9580215661409621, 0.9532559259745985, 0.9565900427257219, 0.8187605190794838, 0.980440408872963, 0.9619512305621944, 0.9852438992560468, 0.9802879243511693, 0.9832229112287356, 0.9757171713207724, 0.947937766951529, 0.9408261049743942, 0.9052215633584317, 0.9780609706973356, 0.9635119004937152, 0.8709629850857454, 0.9757160099485951, 0.9839571263693645, 0.9587242058447778, 0.9653508248287515, 0.967260895376274, 0.9721062456685328, 0.9797444790133387, 0.9740612587788526, 0.9055603222497164, 0.9848131013498433], 'PSNR': [-13.618721697953495, -13.874602940667977, -13.026936988844389, -12.334629582136944, -11.436726196820615, -11.775140446053246, -11.99546982145069, -12.811332735742958, -15.18561448089188, -15.001954855193954, -12.875046346592395, -12.258446973063553, -12.684486936295517, -19.531043260768342, -11.85331253490834, -13.614200843726564, -11.598821605491628, -11.091715879336492, -14.207410811788673, -13.070617538291796, -13.934275999561942, -12.690516639113058, -12.488871012178262, -13.0472771288148, -18.232965621254515, -13.962378655088639, -12.236291347509706, -11.538534511922876, -11.7751550767586, -15.41833433420832, -12.037346079176256, -12.823553407512122, -15.236684085521661, -12.58544755043108, -12.844267415661935, -13.244376810985305, -11.626486247264642, -11.016381210175092, -15.177121233070338, -12.210037844147028, -11.957669980993215, -14.67105435987327, -14.86808943454211, -14.790001817100467, -13.119946711926843, -11.82187791230206, -12.847463989108265, -10.970845908747446, -13.859230820994497, -12.204921678212164, -11.786074178065455, -12.743438826356526, -12.70117062066565, -16.087765353844915, -12.013373416641455, -11.926828740037381, -14.573393054336732, -14.125026737594313, -16.678013218877553, -15.326453843052262, -15.092325655924707, -13.61858749357749, -13.746501702139843, -13.115789232749611, -12.473181242481665, -12.488232714772899, -14.543882226964515, -14.499069490221427, -12.054449127358657, -15.044277141445068, -12.984158643492885, -13.385316898803852, -13.374874824790549, -14.39623779085364, -12.725219098854474, -14.628796064776806, -13.142137573920971, -14.706424669127227, -13.816639940301044, -13.43240091031593, -15.32432562432027, -15.839226267140003, -12.67619620280367, -12.880086745126626, -13.79596234732363, -12.602667917471614, -13.619646648871424, -12.612772277461415, -11.62066774061585, -13.875801889615904, -11.402314305324612, -12.548628884357917, -14.976077298155364, -11.681093885791277, -14.949680911839458, -12.569228776390455, -12.24989167014668, -12.682196059894178, -13.783383999708258, -13.839902873159637, -15.86628655205159, -14.670453626737459, -14.64230407716245, -13.158205732686174, -14.69879140629214, -14.426317199842478, -16.40938024100685, -16.600004772905258, -13.522196358309731, -15.054269649790271, -15.590268989449239, -14.882820246056202, -14.98997300197062, -16.198397811369524, -14.84003731763902, -14.55337288654458, -15.098512064595193, -14.238427234126021, -15.1897111848453, -14.594947404601008, -15.539481110045092, -16.500897201482484, -15.25218593727635, -14.309904496633077, -16.621317116777092, -15.300951681620525, -16.8520574821028, -14.207719547146576, -15.413128302518281, -16.48216405702893, -14.041831137775414, -15.347506001836706, -15.923692108335445, -14.919460887912976, -14.337244324878458, -14.755531540568697, -15.305713481348436, -16.15821282796317, -15.653010511926684, -16.006118412494118, -15.479943000645351, -14.560167172094342, -15.490949110406945, -14.483281567501717, -15.150872877600838, -14.207340739987298, -14.82362158624242, -16.630789465863433, -16.059824222796244, -14.663598090565099, -16.59430450169999, -15.600272706039558, -16.040311239276864, -18.08711715821159, -14.018992927805542, -15.056873704871425, -15.662829509197024, -16.101844091461587, -16.451312146913345, -15.224052640715456, -15.362195410743116, -17.496141381786636, -15.062062875331307, -15.773681221739295, -15.287345997517011, -16.06175268737762, -17.28447885354687, -15.539216151883705, -14.974825105277477, -15.648588516658116, -15.160686444251045, -15.312695662164002, -16.110345220203868, -15.288176782923351, -15.273922687477734, -14.2641230008097, -14.626520846671568, -14.73863124330042, -16.328567309831413, -15.736284590445337, -15.674031544546253, -15.977526494991285, -15.395771095932151, -15.359122784337293, -15.926600933028638, -15.00250776042252, -14.197531877420115, -15.824216699715993, -16.28371331092825, -15.762842278224785, -15.594763535663347, -14.87659284366762, -13.528665598415888, -15.09269035570913, -15.508970452217117, -16.81623170321825, -15.014421989406529, -14.343857611540267, -16.699959174888917, -15.839033191714327, -19.196785084048763, -18.469395188950998, -21.260483611047544, -19.90415143040221, -19.086565735274508, -17.70924955798449, -19.117393466566625, -17.030917835125617, -20.813456963898066, -17.742838260665298, -18.467495620820845, -19.6801320381889, -20.29002988299178, -19.54038030793104, -18.611343502586365, -20.39066930915036, -18.6828168021588, -18.46986007225295, -19.29858060115546, -18.54659727540605, -18.176310349413757, -18.830138516826295, -20.78986888872938, -20.385346368319517, -19.12874718848518, -17.860488480787055, -18.324163041742487, -17.38357550334913, -19.40973489656355, -19.13164153772392, -21.55621504767018, -18.620433288190124, -19.13015443425808, -19.306482892275177, -18.330117271355963, -22.18389689528401, -19.348462083886844, -19.108390917669244, -19.115551199136654, -18.78693405677187, -18.624094658809902, -20.23994949701093, -19.46786345438704, -19.6177620860802, -20.398876147215034, -19.475553829324678, -17.94971520782014, -19.114588699258523, -19.05810791747527, -18.095076874403915, -21.023590332263645, -18.9228589487412, -18.866783441085737, -19.743915979314778, -18.337774704485888, -18.028131773114108, -19.99224545195381, -19.75794176027398, -18.868612635854863, -20.255455106335354, -18.63293513235567, -19.45860040294538, -21.9126077163492, -19.46235570880772, -19.585139981994963, -20.70043859747556, -21.66695539852522, -19.3237774587957, -18.125416433316108, -18.456012252468128, -19.422865434789188, -20.866759604421002, -21.406027567640805, -21.539867662676397, -18.52647302914242, -19.441639857170564, -20.832694813224258, -17.955036500540228, -17.65626702266075, -19.394654585752658, -18.71553070152293, -19.753724063623743, -17.8227059315814, -19.81486582682787, -19.35814949584699, -18.678821891758055, -18.203928266384025, -19.303912585201495, -17.316478121893933, -21.043639307961737, -19.819678689802124, -17.776118820919386, -21.47355262465412, -18.644331513032853, -20.40087393393151, -18.750898049527592, -18.38285479284489, -19.319544576641075, -20.70088148100339, -17.87580154248784, -15.30368170542689, -15.920584559147859, -13.425641014435243, -14.594919435771816, -13.38823403956582, -14.710919269083714, -13.696569096811347, -13.982998261540725, -15.87792861211703, -14.878949437995, -12.784783078073215, -13.10911536754286, -15.48155048108353, -13.854316670005918, -15.274096478499438, -16.17866321659553, -14.52535538636608, -16.787976093862447, -16.706750803909, -13.434146702354152, -14.117780424087417, -15.792598857500778, -13.86526723210984, -13.8567124959087, -13.737577359768089, -13.004446216812884, -13.774614156240418, -14.00902393969669, -14.394901354180636, -14.282759210770642, -13.180848162981892, -12.601193007531537, -13.738142677211016, -14.19990930557624, -14.0464135554919, -15.701432467566116, -14.498775084321219, -15.083215730661745, -16.060885076006862, -13.46640364285757, -15.657865174005, -13.845351784875884, -13.279571639171815, -13.880408479676177, -13.202187800439786, -13.964009220919023, -13.038444302311643, -14.319606354819307, -13.37776598896356, -15.269157611895528, -14.815656736341793, -13.733791266516642, -14.712731636918505, -15.655152772297075, -14.498414376359733, -15.35529026375431, -13.5212743341158, -15.488230181335048, -13.277953086192799, -13.80547846499119, -13.535946927589556, -14.2412553159078, -14.243964539741418, -13.39875279088631, -13.124303796349107, -14.367617179500218, -15.524152194839846, -15.261388868106831, -13.197291994903019, -14.12206294286559, -13.002571929692603, -13.849959367915767, -13.953159852653025, -14.427267718353727, -13.644709577952183, -12.515133234067973, -14.582361151978471, -13.852758715327688, -13.614913089187299, -13.032529417631654, -13.314074915101983, -14.57957561046669, -13.206951373007376, -13.966267175714036, -13.216255517629103, -16.800510463318133, -13.305927877480986, -13.462725082076158, -14.47830523429248, -15.203933706430949, -14.476910325655513, -14.493548668172123, -15.941524628991363, -14.175842168190083, -15.092289612036808, -14.958970843812256, -13.978468317636764, -14.896609086954966, -16.78887455594372, -13.730385793443244, -20.95057379514198, -20.544728079686866, -19.985997562725466, -22.887749890202702, -19.981488832888846, -21.38676362656109, -21.75670766542257, -20.172263328518838, -21.64854995470993, -21.121780751284156, -18.391101613462354, -19.15613587296744, -23.134134570504884, -19.12052384902929, -21.14381539898234, -20.47200931564429, -20.831265205552146, -19.282686991010873, -20.83495606639937, -18.8510116144493, -21.13273003009788, -23.06870019654255, -21.716028001143556, -21.74816871891553, -19.877134611397434, -20.00677236262213, -21.66344907065897, -23.166943479489042, -21.18616281182343, -25.36537567080183, -19.255167443965117, -18.85966901881887, -19.882854096664893, -22.05342186936641, -22.425235034636266, -18.564242092265427, -20.745200472457135, -20.984785741110485, -22.445345232834182, -20.66261328171416, -20.62777502633279, -20.26510602677738, -19.584635194237027, -20.406942101296913, -19.722568862755864, -18.621919730762137, -20.710463815139036, -22.14569463245777, -19.476101559071097, -19.51345704186719, -19.877598513307355, -19.177367924487204, -22.444389687183413, -23.974667441373075, -22.410816334753754, -20.55136171546848, -20.23202234357816, -23.407801280625115, -19.22251405422847, -20.62126633249069, -19.430391504841946, -25.311614472955117, -21.758839691988783, -20.757983361312814, -19.549004603006562, -21.050440157122907, -22.531088732560804, -22.380229517564874, -19.94507712110192, -20.336847478326835, -19.84483774539947, -21.220868539792157, -21.763330584155508, -22.27378668617513, -22.028552760319293, -20.294366206950333, -19.739704382486742, -22.985414624157592, -20.575495136821004, -18.551658542721366, -19.058430652040855, -19.454764424561585, -19.037275543968242, -19.966561334648972, -19.470080536063918, -20.127143759598876, -22.42559078143721, -18.792314337329525, -22.10776677746154, -21.150860049948513, -19.954434188208857, -19.266813902517875, -18.6985502321308, -20.921400230370256, -20.398352273643575, -24.143332464366036, -22.059192324507567, -19.639216304047768, -23.481360752529547, -19.909527271263826, -16.585134679541504, -12.698415833620732, -14.704861757715506, -15.349835160592566, -14.78146478129533, -14.308033365111214, -15.16620442391428, -14.395392151470958, -14.696329414332324, -13.978588111093176, -13.312602720778413, -13.389500878005807, -13.32660607349241, -15.652737133765136, -14.329813436198373, -15.421656146806509, -13.807210163424202, -12.881421720245767, -18.099303269894488, -14.232211615493796, -14.41996629385735, -14.758467047372594, -13.47565068897402, -13.691428542054613, -13.810709082513206, -13.794700646729613, -16.279638209955397, -13.972054961544975, -14.771548070737964, -14.517013597107447, -14.750194617921002, -14.66345255214041, -14.084028171893808, -17.83658725575284, -15.025601108918636, -13.257925611236187, -15.814887923795728, -14.737819230536617, -14.983899793198795, -13.449087197427033, -14.20603353060439, -14.547194369110649, -13.608674358844908, -14.854063477627445, -14.870840707163923, -13.73975617794789, -13.926022057131991, -13.884370331732356, -15.285170874462999, -15.24024516001439, -15.913652697390797, -15.146604885261421, -14.806867364397663, -15.360791828256133, -15.692981002899984, -14.368962247859134, -16.55014285121934, -15.917607066540373, -15.455232930095985, -14.438055431981983, -13.008157671315866, -14.33072881717849, -13.711135119717744, -15.074505336794989, -16.446504459483947, -18.22796341816041, -13.77197149378334, -15.301439692334743, -16.888206606716196, -12.531796073357421, -13.947611235769674, -15.153052222036061, -15.158539522999305, -14.484466129372569, -13.909250326163106, -15.564924828263473, -13.383367832987428, -15.30743487408632, -15.273140021742211, -14.888148905538065, -12.987668178775776, -14.70039581175319, -14.703266198481613, -14.18001890063053, -13.916516491967979, -14.27170072244056, -15.42148190140253, -12.666424089922788, -14.293169439434777, -16.71308401210804, -14.94891395549426, -14.229080760288614, -15.351408088755383, -13.52739846030236, -16.09586508569282, -15.524325575126365, -14.936956120213193, -13.023410872531757, -17.200981146913787, -13.851957684612781, -25.68587685259953, -23.742957458976317, -24.37430134857504, -24.91153595197538, -24.10620954629504, -24.10006057173066, -25.520431063707623, -25.333258542137173, -24.361135564680936, -25.811856704190674, -22.98314360247465, -22.99552854887478, -27.50192136302031, -22.7715284645029, -23.37620069050559, -23.730272267718817, -24.279077745385038, -22.56953476705491, -25.300011869873433, -22.287842904887963, -23.49979350844322, -27.816135295103116, -24.20284811233739, -22.992334749235553, -23.324342326059778, -25.29128952696844, -27.8255711622101, -24.959963483093972, -24.95229518397007, -27.507650534102176, -23.205799120630036, -23.83458531975171, -23.133031774499425, -24.645320498032817, -23.819915941167014, -23.45986614669963, -24.40052086751522, -25.395222340175785, -24.998295452965415, -24.523197489804467, -24.00692964082706, -24.522281387704066, -22.12104233835431, -24.312469487456596, -24.765269525848097, -22.172371180290718, -23.648293826979632, -26.345561887039644, -24.337180955571572, -23.539509006109824, -24.610424605428417, -23.20707445334858, -26.564144300132938, -26.665076047952198, -23.957718270289156, -23.884089566171145, -24.681665307829395, -28.17339983081892, -23.071306010319365, -25.062353684626196, -21.87815855419823, -25.9455992269257, -23.873698987413796, -24.113697204788295, -23.991285965795694, -25.678766539115824, -25.402147000596944, -26.959972467487923, -24.52324831852135, -23.592818707709313, -24.456551702481278, -25.35220547875262, -25.332847547717204, -28.701161903172355, -25.34245440096884, -24.387653815936353, -23.64014047555297, -24.77123015757302, -25.264920911488936, -23.111906954502736, -21.88704145248641, -23.751865605773233, -23.790163739644864, -23.26000038439531, -23.723367382071206, -23.56900969777633, -25.43836779270043, -23.557279564393138, -26.680580965660603, -24.74301874045894, -25.58026670129135, -22.98322795794302, -22.984836756301426, -25.87753056491804, -24.52662976051816, -28.72848282843002, -26.274791665116734, -23.297530343998247, -27.308224993412157, -22.435038904302033, -14.957129706730562, -17.748907242299296, -16.163754180142963, -18.31244427746806, -15.821085986228674, -15.356245692690234, -14.98442225557288, -13.260136486221592, -15.046728790241172, -15.723128867809697, -15.534271445465679, -16.711424122849188, -15.458976566177729, -16.255021317886072, -16.097583815959208, -15.902018684867961, -14.771323332969821, -15.381009762206663, -14.739370287856023, -14.93689378439436, -14.823858350957014, -14.387850586048454, -15.69135920135108, -15.974993851781964, -16.716228632943878, -14.22449740470382, -14.492358040739951, -14.366636508604904, -18.5311611800319, -17.71116649105396, -14.101381998573515, -15.878329967366561, -15.327557870775676, -14.55835758779733, -15.310246311883084, -17.433216917799456, -14.976697594219758, -16.57719976990646, -18.900165282252914, -13.657489047800752, -16.848960254388757, -14.7145475350464, -15.128984222303878, -14.868075268339387, -15.328953969705854, -15.666816014799707, -13.808691060634946, -15.558377093641035, -15.181587067122743, -14.8088376669853, -14.533714671796458, -16.12159541223503, -15.451222902230079, -18.0479892929708, -15.087920440219907, -14.78737142239913, -15.501800906352736, -15.496811995835355, -17.14310721852242, -15.563766600222815, -15.432674350914066, -15.066741907492425, -18.315861966721748, -16.022650411771142, -18.758247980373927, -15.46561445432053, -18.140242824420895, -15.874386365634987, -14.074364198461677, -16.003364954103784, -14.126685212376383, -19.55139633272823, -19.70968652345659, -18.082712213710064, -14.225924744663578, -15.371337241806973, -16.14839176801258, -17.658568244212496, -15.674774665331142, -16.067317473778072, -15.378739777915033, -17.601379602844464, -14.551254399941607, -16.147642884354937, -16.15991723948579, -15.711019901277506, -14.82231898677288, -15.1133416928047, -15.274392000462715, -18.045340809461216, -15.40197430349809, -16.14486508143689, -14.608568287692359, -14.426284917733582, -16.075955011028597, -15.782372288793207, -14.340824584845443, -15.566756911543987, -17.168623480502347, -15.178465294905166], 'SSIM': [0.28147921519727104, 0.34480100608253383, 0.3686099880322793, 0.3508504757666939, 0.35957128448731923, 0.4020316988732767, 0.3916632638676725, 0.31128699085555045, 0.3032958879939942, 0.24637022740331316, 0.22889276807204462, 0.3324382564083018, 0.3073454927593908, 0.14098531209483411, 0.3478782028936377, 0.37840494493402255, 0.31340454843590615, 0.4752655023111769, 0.36319775036801594, 0.28470067980039315, 0.2993603707674942, 0.4317413574458856, 0.36683982435121754, 0.3621092756341271, 0.14891323603201112, 0.2990937248412062, 0.32959383342089943, 0.4114836641169962, 0.39475246279467346, 0.29976594284325275, 0.3349504466317734, 0.2703010193421759, 0.19311895793688139, 0.34782088504574626, 0.3408220586559568, 0.274576575983316, 0.32385584216329144, 0.3544962910474383, 0.2610910946000553, 0.3821699562904475, 0.34762657244945583, 0.3484115377125996, 0.2001945208234459, 0.3342547906107479, 0.3489244224380873, 0.3579764365282144, 0.34961256132512697, 0.414916704585617, 0.27992324880141695, 0.3539195217272847, 0.36700302518468286, 0.26746742774174015, 0.3266408417139729, 0.2225035694889027, 0.3441480015730307, 0.3522714185187369, 0.2990770372120398, 0.30020458139000084, 0.1791800503700539, 0.26431136577689784, 0.1795595100674855, 0.38564424779550777, 0.2969035754375614, 0.35041871929486745, 0.3280866339261098, 0.3518547779919362, 0.2795581756162143, 0.26491624924068724, 0.37826071447150267, 0.2039464598180517, 0.3587428849070119, 0.3173250234327222, 0.3828251293696616, 0.2865725838690256, 0.3720915409858465, 0.3573680422226916, 0.3314803857595935, 0.33578167213387144, 0.30118305652137545, 0.23384442024264962, 0.1801456398139537, 0.2185611769308684, 0.39799871038076073, 0.3145823213080644, 0.23181367377337914, 0.303467211726125, 0.3807561528238056, 0.2967081693905981, 0.36791617393343323, 0.3564685788114742, 0.38248271285595714, 0.3389159258812202, 0.3974877393027595, 0.34477564784309445, 0.27546475901695244, 0.34957839221793063, 0.36677754524604456, 0.3900406877825511, 0.31427667864542996, 0.23189194669342983, 0.30067025147028825, 0.35692995783879455, 0.28456676270224934, 0.4028073491251837, 0.2943621887659882, 0.332343622757603, 0.21809619521612067, 0.268308595871091, 0.4425867023761779, 0.3112262955633128, 0.19663932125817218, 0.2650368262407299, 0.27933656892082936, 0.1864039207384739, 0.2629830836769843, 0.31450545337978386, 0.23244189830344153, 0.32669610968437823, 0.29239409820530904, 0.30724766540109627, 0.26946923821681035, 0.3332603343357011, 0.2795502743507331, 0.3343348431485148, 0.17168042403752548, 0.2575171531473325, 0.2668996315525408, 0.403649354190054, 0.28612386967338876, 0.2334980243019973, 0.3451202314169871, 0.23435548705727582, 0.20603972870667686, 0.2929760494700827, 0.3857550630932175, 0.24676738517026564, 0.22921232837672123, 0.19728056747573686, 0.2549873548298377, 0.24199702876701545, 0.23686941362467273, 0.33848884483465824, 0.23556317735503995, 0.32192622874288535, 0.2885956195062457, 0.2989823523645948, 0.31391524226842193, 0.2183521169502266, 0.22362790712880543, 0.27995655299499356, 0.23426860768111546, 0.20829526859539393, 0.24411884108417325, 0.18738374327139784, 0.3629953535662397, 0.25809153833615905, 0.25716701546925436, 0.30046261304897326, 0.17905867793449703, 0.29963490590003283, 0.23831436296586317, 0.2762374050536308, 0.2917598221033083, 0.2581714391478599, 0.2777151958790046, 0.23507927198648704, 0.20459534879957086, 0.25455272302926835, 0.29409763513809806, 0.24344149381315738, 0.28155316792107377, 0.28185935251464855, 0.25415025977930117, 0.2549429109622353, 0.2840233886615665, 0.30573593877843075, 0.30042212999445794, 0.29828361542641446, 0.2130542396334728, 0.2014628514991531, 0.23473879255832486, 0.20842910710562512, 0.2637277954668441, 0.23938652103357594, 0.20763669501845905, 0.23930453645077898, 0.3788087208322741, 0.23174774640777096, 0.2301672884567484, 0.2612258752264527, 0.2548635391199041, 0.2708123457930912, 0.3866560639900398, 0.2575394625729256, 0.25084855897428093, 0.24991461206056131, 0.33821001674190654, 0.32806436256297555, 0.23470344923256636, 0.21844508611941882, 0.3241350388135936, 0.3977545494374244, 0.2758906192151641, 0.4092103376810544, 0.42287339449287487, 0.41896378691243596, 0.3167100924798639, 0.43479065737899913, 0.28667304658946524, 0.44298919120311564, 0.3563445511053085, 0.3276532119855632, 0.2882254235317493, 0.3301281117013374, 0.38329186761233425, 0.3083260584087587, 0.3822718006510739, 0.44459689075744446, 0.35163572818634037, 0.37712856585690957, 0.38879692138662314, 0.39812401275684517, 0.3095462555905154, 0.34599942123517635, 0.2889312635259128, 0.37140407604974235, 0.3783920048645607, 0.4137012099731977, 0.37096053121362094, 0.3348741608293838, 0.344604560061208, 0.37079156910124766, 0.31569368793219565, 0.36478795710546585, 0.33278736822134347, 0.3611791338694753, 0.34158864960708546, 0.3750307240990356, 0.37149708652836555, 0.38936564630691706, 0.37587479384430555, 0.3459127402775054, 0.29925439644036944, 0.3625413591912049, 0.3002520031011864, 0.34705370733008445, 0.4265589109555642, 0.3787954631888365, 0.3561735683002101, 0.40866899243535937, 0.288640116257202, 0.33403709677130866, 0.34356511021716185, 0.2769617888299196, 0.3549773265918862, 0.4036509467966197, 0.36361007781290267, 0.3458766370457297, 0.3367057150094336, 0.33313275119349495, 0.32050251871692426, 0.33732806426613327, 0.2804098777792333, 0.3522408955534764, 0.3118740903771111, 0.33630826787949386, 0.2761726670867364, 0.31776254752007593, 0.4259418119298575, 0.34798987449020835, 0.3416684849248651, 0.3459650466682307, 0.2823413902443619, 0.29783003513090345, 0.43669144864353737, 0.35661801627078404, 0.30922661773262605, 0.40034696086989985, 0.4331253653257745, 0.3841164683656232, 0.3411905905756959, 0.2907596843702275, 0.42335505225395753, 0.31277889147996396, 0.3527060219087318, 0.4073837843020113, 0.42394201163867085, 0.3588142942265721, 0.4613588311999802, 0.2963740227514218, 0.3513809659114745, 0.3906638327405837, 0.2866995754888966, 0.35833644109442087, 0.2845998334022136, 0.34299172151286406, 0.37728614086371104, 0.38819362158431403, 0.33931696300122705, 0.34072383961201747, 0.338744360745621, 0.3870437231680296, 0.4813966229244805, 0.38293814837581575, 0.46326365147278015, 0.40962336165604607, 0.4050255781758464, 0.38687436473893544, 0.406633176584799, 0.38945929964482895, 0.45435265500654554, 0.44262978725242863, 0.32604689560517064, 0.3829178125624416, 0.351506310393649, 0.3701459060597245, 0.35780754499596135, 0.3330800156890853, 0.32635347453479424, 0.4131560834248952, 0.42076179709323425, 0.3884284396095694, 0.44954618695438153, 0.4676049538654081, 0.3669425910777827, 0.41987006404466776, 0.3961096991435893, 0.4654567925044849, 0.42511047766275034, 0.40169499783635787, 0.447393227310079, 0.4850991861293745, 0.3942971309844202, 0.432858514275416, 0.4058008786980193, 0.35845062752423107, 0.3396604293175841, 0.31767301698052686, 0.32733834942103435, 0.45575072213534507, 0.34689324901579954, 0.4484168542403073, 0.3950272402674818, 0.4707885299240161, 0.4541732984813234, 0.37623755823163674, 0.4490855782557497, 0.41347637579853613, 0.4429467028553322, 0.3576044220163781, 0.35344391689920607, 0.39765144429798316, 0.3947787549086771, 0.34227539498900306, 0.40362608639522635, 0.37879526993101986, 0.40607636756804455, 0.34805071581325464, 0.4419818851418318, 0.42923420511064647, 0.37323273880725105, 0.4755233082876321, 0.4119405090211776, 0.4470884759135324, 0.4782955839750124, 0.3885506560984595, 0.3482944564763356, 0.3713531388623962, 0.4986149791844521, 0.39627232434361004, 0.5162151391285523, 0.4303756969721504, 0.4023828370200714, 0.37435583355923896, 0.4690810154226791, 0.5298904964639692, 0.40747301290580895, 0.43363573430828584, 0.4189126972851934, 0.46010972767022495, 0.37961075797702604, 0.3880432370607655, 0.49528945948302383, 0.377785470707633, 0.4469485860136261, 0.31560556957635255, 0.46094589409923914, 0.39830796969015003, 0.4057301178388918, 0.3804147229908311, 0.38426024253904256, 0.3684185850052094, 0.37045340538219396, 0.378080669368004, 0.3712716687987897, 0.38306025568151814, 0.4681257431879985, 0.40042539753711004, 0.343739380815855, 0.364803023259026, 0.34928613760954763, 0.36712941828000556, 0.37018077342745626, 0.2845549375030605, 0.33131472713156873, 0.31256073169872545, 0.2663038583603702, 0.39841291944250556, 0.36473676772318164, 0.3221747456309082, 0.3612342113222552, 0.3597260028278745, 0.2189439081403579, 0.31791003278366714, 0.28156671605270345, 0.34109460600800956, 0.2591395305538233, 0.39240328984024675, 0.33805233932434164, 0.4152559097491917, 0.3044313886606608, 0.2951491252486814, 0.30886484793043956, 0.3074732575010457, 0.2884436183552316, 0.3443872019537346, 0.31561324340628205, 0.29515789712099283, 0.29451223125973414, 0.23621924420874285, 0.3751569452460405, 0.34935704742020546, 0.3175721272609261, 0.2650562202308905, 0.30026101850091136, 0.3745160821810761, 0.27401765835154945, 0.2597928213826681, 0.2581501397502941, 0.3197972435177957, 0.28233401797465774, 0.36093622727597297, 0.38431818374211013, 0.3396596846912089, 0.3792548795937307, 0.4099589384290153, 0.352570034546012, 0.2414064289403175, 0.3451696933951889, 0.35547683737119695, 0.35410199605852466, 0.3328003423690449, 0.2593958095071912, 0.23125604489141482, 0.2483297732418338, 0.30378346231763353, 0.32967443904896143, 0.27481560092345114, 0.31976052885720796, 0.3308474402060627, 0.34854354432476464, 0.21568749871840665, 0.32903696555501816, 0.3255794975147728, 0.35152488633645407, 0.28815321035693275, 0.2642354503418266, 0.2819545427390193, 0.37410970072459404, 0.2959336859627353, 0.3770747178002901, 0.31571221415613326, 0.28553134778509237, 0.2833802649590075, 0.315642725584814, 0.3402341368639161, 0.37017337699229025, 0.2881414640511233, 0.29035612141525424, 0.3692664529497499, 0.36165443916562134, 0.3445665087651637, 0.38386256500776583, 0.3229912087828102, 0.33447648035315014, 0.31177816450043705, 0.32275042549556143, 0.37059505909730606, 0.23507792447283082, 0.32516412179222554, 0.3514969371805954, 0.3580669434306357, 0.45021829002051783, 0.258525097664036, 0.346561429249868, 0.23780211591005973, 0.2871362686955693, 0.36743630667598626, 0.2768284436504853, 0.35404303080306054, 0.4401683657896368, 0.602792694786336, 0.5178313037159843, 0.4590811529545499, 0.4268722595999057, 0.5317831630194494, 0.434874803390095, 0.4572594013866057, 0.480527752759323, 0.4682442150826086, 0.49130150277342544, 0.4782988593522566, 0.5644535317619994, 0.41748460354113515, 0.4972232452853348, 0.4415790580032454, 0.5369275902389323, 0.6106146646274164, 0.28222366978712865, 0.4907142953424789, 0.45746551186047146, 0.44413541113005406, 0.4873479128021079, 0.5144160862400757, 0.4629657221110649, 0.5335644566784696, 0.38139640457250257, 0.4761797460963805, 0.44491907676763676, 0.4977252749830322, 0.45411350246965465, 0.45523589686112853, 0.4983764173760147, 0.3175992290831139, 0.47619558438581344, 0.48040351817367366, 0.4532234494631947, 0.4678094733810675, 0.44732279628123983, 0.49828566093071414, 0.4526282658403842, 0.529001063669919, 0.4625602620088949, 0.4821769788225869, 0.4716421687168184, 0.5405413193785131, 0.4828682379649223, 0.49116415871860863, 0.44075376671431854, 0.3938425993428777, 0.392087565997818, 0.48369412468773343, 0.49504257097314686, 0.5034094220507599, 0.40690931531863095, 0.47377644963207144, 0.4453545274808167, 0.4298528132883269, 0.4173802185840706, 0.4590223582866765, 0.5476706824896829, 0.478036823160629, 0.5462114462420102, 0.44788555857580414, 0.405704058062096, 0.31357756359521594, 0.5209258376503283, 0.4921041606014609, 0.41220267264721255, 0.5505955095179189, 0.46352576464988837, 0.518761862429393, 0.49531871129595195, 0.4947474531920648, 0.5132243656290227, 0.4175562954635057, 0.5506254922893954, 0.5293631871988052, 0.4391756625554287, 0.5047375766765958, 0.5538603284901271, 0.48148092573007206, 0.42290267603826004, 0.47532974470773903, 0.4862507049141461, 0.46308409129156336, 0.5069396977432941, 0.5369553698875318, 0.5156868094272984, 0.39171428621789894, 0.47343674800415003, 0.5309663664502182, 0.5105801929305911, 0.5223592899896781, 0.5234663838505256, 0.4820159459053923, 0.449942262496244, 0.5657857790901355, 0.3954180768125064, 0.4949039006975876, 0.4075492415251063, 0.4175060522084505, 0.32829267594431366, 0.3416540724440785, 0.31727463534292755, 0.3439446014635852, 0.2664952538159283, 0.3732317366226272, 0.42835992212604157, 0.31391594537616074, 0.3180510864203975, 0.3698123263704468, 0.2222670267013248, 0.3425947087359381, 0.36138255749640824, 0.3716734441770291, 0.30967946317145323, 0.45373787391001197, 0.3275604566580036, 0.5080697273486943, 0.37652706110034895, 0.30456215407572074, 0.34882727699934934, 0.41418543315852807, 0.325957622087929, 0.270379018165699, 0.26788025320305875, 0.37572139042371533, 0.2893041850326198, 0.25069724853947817, 0.3803047887391289, 0.3134775987871571, 0.3691264483735539, 0.3077744028450896, 0.4244462883552279, 0.2909035528893288, 0.3008649271906316, 0.23994078656263584, 0.29570085257171674, 0.28890483035107184, 0.3128672748124449, 0.3452675879952264, 0.4870344053205894, 0.3493805237213411, 0.3333392514355238, 0.44797201073533377, 0.38434003599875943, 0.24089682381568378, 0.3279649618895415, 0.3379042291674097, 0.3127653685002856, 0.3355238073018052, 0.2629231791414638, 0.2433166616191823, 0.42679201057436167, 0.3322202371200884, 0.34265067256869697, 0.2539262501730081, 0.3417519542232843, 0.3528501800514183, 0.4974084951187381, 0.2709976452747159, 0.37042439790170734, 0.35297461306699995, 0.3181052283077084, 0.27824722683308767, 0.26504583425386563, 0.2533968672963399, 0.3235230543130281, 0.3713520748707635, 0.32892219394164746, 0.30254187675010724, 0.32002366037383034, 0.21518769470723098, 0.2990942389510337, 0.3445350860705325, 0.35310052422678273, 0.3345392558449476, 0.29067258998068557, 0.3319609792822952, 0.49017014150948357, 0.32678641693813615, 0.36539303307179816, 0.3823084889940096, 0.3135274385718795, 0.322190335017177, 0.3905964791996549, 0.3598552128197179, 0.23466701782160326, 0.35371111097851715, 0.2798548237862176, 0.40964872857231904, 0.41916819942190453, 0.2670670916134924, 0.309167863399772, 0.23391498188379678, 0.29698232459795426, 0.42326811533119946, 0.23538941186415274, 0.5169693258528356, 0.22848885748180592, 0.22407112823422637, 0.2891034167883507, 0.32705678734419896, 0.27290059517280874, 0.26679829637552066, 0.2853237013173654, 0.40774221151499856, 0.3638093198848865, 0.23511958778121134, 0.2807478018956333, 0.26329481098271346, 0.3747445620265981, 0.20621610600108353, 0.26556794015045815, 0.30539364039633776, 0.34843996639546904, 0.44228279624310385, 0.38073245518964105, 0.22905039545105088, 0.24874990618125625, 0.32786741966334765, 0.34105039822936856, 0.29641221476833934, 0.18345672616793562, 0.2777650225438002, 0.2612595991801253, 0.2910575008130968, 0.18454497516349377, 0.2613590898130883, 0.3265771997186592, 0.28665409315754664, 0.21055808648301666, 0.3086675182160944, 0.23910747528893284, 0.3367687971352903, 0.32886154781240673, 0.23570647761037, 0.1927364118831475, 0.3648906290440145, 0.3275680303808568, 0.328741012101888, 0.22478982023671834, 0.3262828942828063, 0.2617710605347069, 0.2867521797588387, 0.3216438027727221, 0.2689515270704631, 0.2630175511772337, 0.37052873903902483, 0.2654301347088047, 0.23183539062503034, 0.2638569586095927, 0.17938660314182753, 0.30223921466280856, 0.37599296318939834, 0.24027468682216446, 0.34478198022917694, 0.17704320885892388, 0.2270119624054424, 0.19773520311329806, 0.3770882440165665, 0.1909312004089685, 0.2546740296549236, 0.15634150640712052, 0.2440035192922837, 0.1849228791945472, 0.22032973340878348, 0.330660198091261, 0.19820705143358597, 0.3233524692886375, 0.19681609051526927, 0.17781953106981374, 0.226249985281612, 0.37925258382451477, 0.3268715880018672, 0.23957217980814105, 0.2522665499791913, 0.23887728661788687, 0.24614987802966048, 0.20316550940376177, 0.1892255385664786, 0.3067028772869792, 0.2403518676009253, 0.2538332648078353, 0.3250481682798746, 0.49986660252015946, 0.2427121333058131, 0.2951157159603802, 0.19954394432095468, 0.2823783893074573, 0.25214300549464486, 0.3885791214673253, 0.30914246507770793, 0.24666038068480411, 0.24707440628250554, 0.3076908377806281, 0.2723809377622223, 0.23224993532016802, 0.20734267751734825], 'Hausdorff': [5.934992049555741, 2.2858098861187788, 5.750157349035832, 4.822275832327305, 5.765674377318784, 3.9817141881525266, 5.615474804604802, 9.339917215951063, 3.920742920274296, 6.060321226105727, 11.484585825476609, 8.188420177255527, 5.645404542464499, 10.420523574526888, 4.71444308349399, 1.4715330658144943, 10.08717992401002, 2.924029490531426, 3.5580475842524732, 11.153675883287464, 6.786302892442788, 3.734057666001186, 8.314604877969698, 4.254390219395623, 10.606858018507634, 10.49621909746879, 11.092173055389734, 6.132941394865706, 3.8517450146868097, 2.765890396543523, 6.088748126738217, 8.784803394928305, 12.572377931045786, 3.262188587032543, 5.714017597401564, 2.7739941089972593, 10.059966375604915, 11.874913156745231, 2.9885664148686515, 9.173785353250471, 6.5526859693492465, 2.5715985489302646, 12.65212466512007, 6.118514730618354, 7.760688233001192, 12.257005151224181, 7.75979948763319, 7.827997314351696, 10.60182797869949, 4.854256448462309, 8.73368350382559, 12.341830637582962, 6.879857800500494, 3.6423040690314177, 7.014936448847512, 3.71783149385565, 7.910309734479719, 3.9022148601372795, 11.113370142158503, 4.518318868453269, 11.984035306422928, 2.9224072341954583, 5.372271270572514, 3.6345751649143256, 4.600734925614408, 6.093755109450295, 2.3905399099158244, 4.6326946280851455, 7.546520906363782, 12.495964628534828, 5.740049002028671, 6.813918702092555, 4.43845029735483, 5.476225368010562, 5.893719040207786, 6.434506764640299, 4.8135734014399425, 5.694348897552174, 9.601968556050773, 12.065077124940068, 11.373324162132675, 5.613361876838824, 8.979052987004016, 9.842762193931547, 9.656374539832695, 5.240613941244082, 4.943447160540464, 10.64366752276637, 6.793592707406132, 3.3176689252258362, 10.255633919945009, 10.063078491639837, 5.930145862604977, 10.193729286685501, 4.70220675870646, 4.6332486630509075, 5.227550487926772, 4.467459881668985, 2.5587546826647394, 11.450501318501914, 7.0616385171153615, 14.009817948614089, 17.20840923185116, 17.668489713694893, 16.12813969799448, 17.080440072240314, 12.021048652785643, 6.118503891320138, 4.984357382946968, 6.444256401049344, 36.70880442444614, 22.114975893969977, 7.035698299095854, 23.353581562116048, 20.41379702666789, 22.278731351176148, 12.635662752143336, 23.592158169416386, 5.532798951639455, 29.086623403004413, 16.553636492874375, 2.384941800838385, 8.920983058626524, 8.995824637804313, 29.500562908247073, 29.06563984472986, 5.502819143037115, 15.441951365573374, 11.177720256014947, 5.373711835304877, 19.42535535227456, 34.49109269983, 27.454875647096177, 19.292380382669908, 11.969898847454647, 32.42670462289594, 19.486789643123902, 10.523319301832515, 7.310043135769902, 9.887760565862074, 18.313252810229216, 24.23848745984455, 18.101133625904488, 6.622106520032927, 11.959100608727253, 28.547102111149652, 19.247882160652185, 6.59626095334043, 31.713450951724436, 29.566648255949143, 10.442762542028033, 31.33189397606391, 8.65216540555163, 3.3728361132830864, 9.356842418766023, 27.238891189119688, 19.389765089171824, 2.798348478837122, 33.08529847498169, 18.322225668840417, 22.519964362622417, 1.6573953385840334, 8.72155738675079, 18.198433675997332, 17.310952445575232, 16.89287428740837, 6.218278977253662, 13.377563866846986, 23.28732453257727, 17.713966895286553, 25.92756596593454, 9.444920693239675, 5.582451929391691, 6.333694807996468, 11.564424938941144, 9.672809623384508, 25.167578128377073, 8.973325475148174, 18.988082771912843, 32.959444199553474, 23.9847500289794, 33.54224514423538, 26.705792043493428, 27.61311310368083, 30.051882523528725, 24.351595642265305, 4.81301997877183, 28.25301974782807, 6.453349010434936, 14.090578460695184, 10.513588069469826, 27.38556518804483, 12.195597919212371, 12.529802320578998, 21.152800564264226, 4.002748504950727, 10.85110401134, 26.55782149274795, 4.5597261740115815, 30.161698023220456, 4.908715851173077, 3.961424354854316, 1.4927759065045785, 1.07499526715433, 3.9299170547588385, 6.8694435515044825, 5.454398286591017, 6.546683853566842, 1.1317067916363548, 5.262882475649903, 4.858554476162607, 3.9284058071511483, 3.5552687482857883, 0.9231885722755152, 3.1122104979603153, 1.4248812548141185, 4.3640218435847355, 3.7803424858314063, 2.1479619369318828, 5.715789587164374, 5.740100584915029, 2.695307681851082, 1.311216654201071, 1.219498925396117, 5.304297249367627, 7.00286124578211, 6.222904715772027, 7.5490989045055885, 2.2355527763677943, 3.7078060835820277, 0.8138722441648795, 5.007706699806402, 2.675049630371337, 3.22581021403614, 7.849611518571197, 0.6946526570517135, 4.5136256495775084, 2.9627849817658216, 2.4253218572600908, 4.433922551650206, 4.595329636359565, 1.300127346910981, 2.2924741600718015, 1.2927213525929222, 2.5265781567187844, 2.4816536757091567, 3.9629464344283276, 5.388139025093968, 1.8898242794067963, 5.181593527427342, 1.221604578291529, 5.600461779680344, 3.245700077851569, 4.371504116350947, 5.692944538248578, 6.7532431373732855, 1.6810988854187725, 1.9970466267306046, 2.414649302155668, 1.8848608439094314, 6.14163920820071, 2.043876685237489, 1.0790787528396786, 2.791514482094089, 3.1474209235884008, 2.0512643649261335, 1.03952917163531, 3.7639342060448953, 3.318378990160672, 7.3844789149144185, 3.139647514517847, 0.950771902375517, 1.2383806534361297, 0.710434045366847, 4.648597225006337, 1.5797479690105303, 2.762281328766119, 4.2851831175687165, 4.394214706405971, 1.4706515437431626, 5.3543018069865616, 4.0076998608502565, 5.445670988582467, 3.0373860439204106, 3.191140500630742, 3.7132794514456466, 3.9898470478368937, 2.8589167557518493, 4.617450291147149, 0.9695800265893849, 2.627278220778923, 6.352659729765919, 0.4857826988442698, 4.082534693978759, 1.8916628986104207, 5.668290121239076, 6.864439026802774, 1.6323208229334705, 0.9887941220497423, 5.955027977668889, 3.6983324754998086, 1.6778878991722241, 6.59223338145216, 6.001221105922106, 5.470507068960816, 4.17241831503544, 4.954400326137034, 10.1398006026496, 1.749091632261204, 5.145625500946215, 13.633066409157824, 11.068170359094523, 7.261065446042033, 8.449748626513408, 5.123477960054886, 2.4606530405547575, 8.360516527843453, 2.519996882115492, 1.6299968625401648, 11.459723546557749, 6.606307195972201, 1.5986985811762189, 5.417211645660049, 3.3930614084796376, 11.452068739104353, 12.375410683924239, 8.950909601922413, 3.204792284610312, 3.394395489095512, 6.165823278474608, 7.7666492602843675, 12.217721341367287, 7.161077698926789, 4.461408276490782, 5.455998685490799, 3.07980127569564, 12.053779065640157, 8.739421560971904, 3.065805170365142, 8.072403091111, 4.48073738389331, 4.59454273257659, 9.26760381705052, 2.708098186716008, 7.30389302231611, 14.913206264576155, 7.0112925437245295, 6.331431115411458, 12.612749823880163, 5.014204091176631, 6.6131050025964235, 10.484800892289103, 5.521084660165913, 2.4987353297400143, 6.754979661492771, 3.6765237907646102, 7.3097952688888395, 2.840254874305184, 12.439418175838563, 5.113644835888484, 10.45645231397664, 2.6159337988675544, 5.0198824228670516, 5.654371274860277, 5.956129768657032, 5.825852272154211, 2.703701812459371, 4.112627980570903, 5.9060793707739965, 11.981366485931122, 5.316963362597298, 9.293605878206897, 5.369439213389184, 5.720500125551972, 5.20508950770998, 4.9989414116174915, 7.317406004535021, 5.7448445773970205, 9.999577351130778, 12.439207301483215, 12.049067106819015, 6.659435406180547, 7.9081008246547695, 12.321491046228319, 11.463588738566592, 2.6614273871059546, 4.252271770689326, 12.172901532867947, 5.847831938678352, 3.5517842450161115, 9.936448345427907, 12.361914054315417, 2.7089904015778203, 9.67106179132754, 5.598777810727722, 3.6656405438784563, 4.060113539603719, 5.1150619422855526, 1.5504768552112274, 11.627199993582913, 2.7128814750441603, 2.877673878784301, 3.11331413220664, 0.9443918480757693, 3.274200140316459, 1.7260859991303674, 2.542026878606834, 2.7003068756489923, 0.7348968459107039, 2.190450017325527, 9.543871410635074, 4.540669854875244, 1.0854644935056927, 6.790763148706296, 1.9651847475821431, 3.5795849148880787, 3.184401251864318, 3.612080779433258, 1.733896676540511, 7.295496523130705, 2.6888239372785376, 1.049397286805389, 1.6593909858934126, 1.741838182120738, 8.398188290225983, 6.805781848103607, 2.211528188256267, 0.7055559831247398, 2.08480996524269, 0.35165090015118217, 5.012867293927947, 6.72538871995856, 5.540017667965992, 1.4465949447610715, 1.956057046287167, 4.074999664152367, 4.09828616256787, 3.3044097117407984, 0.9088493664462505, 2.1259425858705328, 3.2935367679587424, 3.577596697317593, 4.462150838337566, 1.7424297140839924, 4.352588643964907, 6.725401778910099, 4.4616148714762645, 1.5388672471128146, 7.9148612389688875, 4.090353916735504, 5.3818687104379395, 8.125935902482006, 1.5805799027879477, 0.7702144598721967, 1.3267249234271237, 2.4788360064247015, 4.688856891293026, 0.9217068954996266, 9.647220839275716, 3.797454814167426, 6.742139159032472, 0.23332931303336693, 1.2928132887315302, 3.659610360086531, 4.119998634078496, 3.4551973852868474, 1.4910321765719003, 1.1914030268934481, 4.262485884621545, 5.077610051080112, 4.583188947561508, 2.7597046393843763, 1.4473474245003324, 1.4081696534706114, 2.0058214566575114, 2.2293957471820085, 3.4974709086156817, 0.7305341249844957, 5.023201915330055, 8.813068476005638, 7.510732106154253, 5.524795332392256, 7.666376394591016, 5.449746149360296, 6.240089294699966, 3.260537244020926, 0.9755967945392322, 9.226879892100134, 1.4953205757158283, 2.003538668861604, 4.116704552242682, 6.216277952908188, 2.8369123918576378, 3.3451676925213834, 2.8855392738124945, 0.695956896093439, 2.1553148043207675, 3.3965101989624147, 0.5999392633454582, 9.087888948443588, 0.4537047054171381, 0.7307865242233879, 0.712851129095536, 0.41704481407742516, 0.7525807633160634, 0.6462694568122442, 0.9798398004946044, 0.6245065908079335, 0.5467030740848895, 0.5162859934839651, 1.8414493196785584, 1.4215224305789331, 1.3897368459899346, 1.0556334352230907, 0.8688818618414038, 1.4944430333287317, 0.8488944433775024, 0.345156428208046, 0.4303773471498932, 1.6115301945348066, 1.009878106018588, 0.41452585842584644, 0.6893729112009959, 1.0900670964892736, 1.9501890740704482, 1.0260764085498477, 0.29361560681374554, 0.37879868823047175, 0.39483796160663515, 0.5852483204629757, 1.119878811701679, 0.8071028815122114, 0.7090080333004669, 0.43023804565589885, 0.15128372161989703, 1.6154336766817419, 0.48394161813883646, 0.6918862943368574, 0.26788999075764947, 1.0855394342154014, 0.37068463729367573, 0.23866773740957653, 0.7771956802571618, 0.7043814956108795, 0.662388846146239, 0.8737949240327955, 0.9637281483359917, 0.424979304636061, 0.5704343282550383, 0.656535021266903, 1.2723519658113418, 0.9091160101865348, 1.1515376448479016, 0.6505534059014914, 0.917308205422982, 0.8788027631869992, 0.5173848238984785, 0.29677499481052255, 1.5668912283677665, 0.69464014040853, 0.8434079789606928, 0.637863446305161, 0.8967544463543976, 1.464496940913488, 0.5325056967652775, 0.47222439897649154, 0.8959465678923993, 0.750985888004077, 0.6767493194725962, 1.0209644153070707, 0.7159515596981565, 0.8965946018587623, 0.8623596326502269, 0.4744687934775001, 0.38861174135863086, 0.7579640353286651, 1.1727306219501092, 0.9163406043100041, 0.5079613160440136, 1.7560759784272824, 0.9829544638623492, 0.568946144683732, 0.7096259676648012, 0.8245277323349003, 1.0986470577718592, 0.800181267827644, 0.7900597349599502, 0.6566665561679234, 0.6311730787775736, 0.46339801433744615, 0.4414408937038679, 0.7509489053667308, 1.4276400361227777, 0.2817801581889972, 0.8632891786001848, 0.537495109105386, 0.8803248133694532, 0.7149086525481649, 0.33934228915070586, 1.0465115158493068, 1.7537448986108597, 7.059903118549811, 3.4382734315717056, 1.654414721087599, 5.706002078705946, 8.10448432553076, 5.345073955799256, 1.5538560633010476, 0.9166368625548028, 1.0127059865822532, 10.405393050196718, 10.236843397889535, 1.0382558943660856, 7.2160534319735845, 5.5135656245729825, 10.568454519873194, 2.7410317668347584, 8.417642116717959, 1.3299918879015533, 8.531473842721736, 6.836463333343615, 0.812159382864166, 2.478706996400302, 6.693000328454129, 8.353811348798555, 6.774091278181842, 1.2009896390745318, 3.2866893743720005, 4.2503834682546175, 0.97589566803096, 9.66287422945179, 9.011873353717075, 8.156268024971505, 5.911020084101075, 4.330755286574094, 12.301297299849285, 4.970085565396665, 2.588035582654672, 2.841820622807204, 4.051700896096661, 5.286472516705639, 6.37199984762531, 5.412590881256649, 1.5967447081687232, 2.8909411199499, 6.520699675866201, 7.750230738564223, 1.5854183875081296, 8.200540824848373, 9.074025714617724, 10.876725716426433, 8.153261678616254, 2.1541234369567706, 1.186753620137589, 2.809198620435245, 6.939577883880549, 4.99514414605685, 0.3698232251292508, 10.230726353190539, 3.095289223927207, 6.165221798009172, 1.088925184587131, 4.968737883986068, 9.649721322016672, 8.238893319138, 2.8938250267320367, 4.4370925000706, 1.1582883925979046, 6.769318422624235, 4.4009212628570245, 7.401416740803413, 2.514687913877853, 1.5136375989339526, 0.4253142693690622, 2.5142242502573375, 2.0650424088898363, 9.687952241726764, 1.3197791553216702, 4.085442340850255, 9.516518158289772, 7.844978117787103, 8.50174172247245, 8.81532321254388, 6.279565943567406, 8.814032530902841, 7.719970134191583, 0.8896429612322659, 8.968653341227585, 1.357912797804974, 4.645684585343749, 2.0408885893276163, 7.356793434249373, 2.8834128808295976, 1.5106332265979108, 4.3784072842358706, 0.43947704714036684, 3.0592795109717157, 6.34128835856868, 0.9949493203380969, 9.06944343003548, 14.343264021465723, 1.8084862978445508, 8.971196073436293, 1.7124156204413237, 7.965258431711008, 13.187658357692026, 6.648304046027153, 14.563474284573335, 4.688372819004288, 12.818937795741723, 17.448102402401286, 3.4533484212835615, 10.331905066985781, 16.036083538618026, 10.871167815070846, 2.3752497613242602, 17.166720618255713, 3.117752447161487, 6.637596168228164, 22.876941531205834, 16.26184625460733, 5.925530040954851, 2.467398127546281, 3.2873005310586674, 21.317887166537272, 22.65508961067137, 20.906026492524767, 16.21773509500208, 1.3378519603728893, 1.5695963266265722, 8.039296546862413, 10.848285861582722, 19.73060701786193, 11.341223898272931, 17.688618662336882, 2.2093061026119654, 16.412594642471802, 14.01839361480887, 1.4836294185735217, 16.67554240437497, 5.001856627439805, 5.5212601716229255, 17.185269447573685, 6.594476373235345, 13.914752174593783, 14.073440000340938, 13.764254773821115, 15.986676277033732, 19.599217931825127, 13.888452964595224, 14.006884409091194, 19.966567822725537, 16.834849584413558, 3.035924034210158, 16.240192039208733, 7.079010614660846, 15.156723941970682, 5.307420025923041, 19.6728093711477, 14.043640780754924, 23.85042984499346, 2.540333890751983, 2.94947126083743, 3.825111983695062, 3.5922850647759383, 17.640512497849965, 2.4380637014043494, 14.571290352203828, 19.184170573701927, 21.932811511617658, 15.602201655316247, 0.907274484621644, 1.2351723605943883, 2.8191860360806227, 9.612278824851986, 6.132399343232746, 9.35445868510472, 1.9029659939808277, 20.446034977738844, 11.62379244411838, 24.883406272791103, 18.73791474274288, 21.90298738352897, 19.529913187983755, 7.070305186301586, 14.239962614121108, 3.504676959108483, 21.334640768746127, 17.62231663066082, 2.539851151792371, 18.922073502442636, 20.51276098989249, 6.6302625413853855, 18.975443607565666, 9.746349374773725, 17.287916082424843, 16.032267280788822, 12.523879049474669, 3.826438918150779, 24.253885588792876], 'ARE': [0.15467638697160246, 0.17209916466870812, 0.19492114463927934, 0.1960371019997591, 0.21244369161281906, 0.23286146138115504, 0.2169544143008646, 0.18252551621706092, 0.13958554112992372, 0.13047647795295603, 0.13252294196239467, 0.1824932675816422, 0.15953915563272925, 0.05207575983617985, 0.2008717127780466, 0.18303022115425116, 0.17860274976512203, 0.26876438880483233, 0.18427619907172177, 0.16385658159509298, 0.15393932432498592, 0.2245747159772281, 0.20170678244995277, 0.18205581005937654, 0.06519105128072422, 0.1508354518990317, 0.18927144859753497, 0.24711357865718864, 0.2340884880762908, 0.13465704406319434, 0.19118742333364336, 0.15296128099984196, 0.1010856063220068, 0.19800721672729493, 0.19662665015324332, 0.14130778092162155, 0.18750860084548493, 0.20262822154016302, 0.11789862441068011, 0.2077676777811861, 0.19733555963841443, 0.1585900050297141, 0.10323810535719424, 0.14456593273260732, 0.18965727462188264, 0.19373869768805518, 0.18942947848088942, 0.24278435206506144, 0.15486657757488353, 0.19423756062112818, 0.21288652376604644, 0.15032661780725576, 0.1812073610512548, 0.10048349910751653, 0.19881163518447476, 0.20121208313257766, 0.15342592640568586, 0.1545114575894897, 0.08960257077687128, 0.1297442198510007, 0.09318284232593688, 0.17533794316538964, 0.15725782278524025, 0.17878311940059366, 0.1795151635471567, 0.19780774967248038, 0.13175809011050488, 0.1418439878919261, 0.21316051392810176, 0.1108441983355597, 0.19843766357975157, 0.17121056294943415, 0.19239906192368694, 0.1378807890349827, 0.2073662912196158, 0.1617408900457009, 0.176400053804454, 0.15932106284146186, 0.1561518981781892, 0.133791771509843, 0.09341302455494682, 0.1056004565926566, 0.20403399729385063, 0.1723093667218918, 0.13087463507116293, 0.16410453549113346, 0.1929296861486709, 0.1687893820403158, 0.2061257399516998, 0.17666784631815402, 0.22040305925026604, 0.18707586128544462, 0.1669911021559094, 0.19724578091143596, 0.1352828350674632, 0.19122509224870188, 0.21268490612641167, 0.21560594701973457, 0.16663918290809976, 0.133771707517653, 0.17063926333208534, 0.21643097893611085, 0.1839081419832479, 0.25450478958466427, 0.18830920882563518, 0.2103850100518746, 0.12619848649998433, 0.14828236474589462, 0.25433237825570976, 0.188813206368323, 0.1315365730624869, 0.17257344513211414, 0.1668228328802691, 0.117713866784101, 0.1721210114578291, 0.2015799541434603, 0.14538423772086928, 0.20812187368127277, 0.177375230280147, 0.18431693575145858, 0.16490781770193652, 0.17450083002047445, 0.1700543733577764, 0.2030247379392902, 0.11294949789785669, 0.16041863180902727, 0.14054057004661524, 0.24645036574188417, 0.1747919258574373, 0.13748713462386664, 0.21813040029339537, 0.15691272091030872, 0.1280344225485227, 0.188731715735573, 0.2330021101536599, 0.16503056331477584, 0.14954555042543805, 0.1164765442672615, 0.14957871388797406, 0.14149836926143677, 0.15195474460788116, 0.2128923120878684, 0.14616710494357266, 0.19238316234915964, 0.1780420243835955, 0.19028050706077282, 0.19161597172155131, 0.12451662016995102, 0.1474991539230751, 0.1845655130652396, 0.1382753386470279, 0.1343035780085271, 0.14507516022891065, 0.0876264841951967, 0.22929751878689997, 0.17025005074974442, 0.16736668901603102, 0.15827896811919784, 0.11785080634434564, 0.18958923786435888, 0.1413850588569836, 0.12385294609497144, 0.18124267898132362, 0.16178666113589946, 0.17477479320148748, 0.14871377519798024, 0.11088929236480383, 0.16257834047083075, 0.1939651576848035, 0.1516926560023827, 0.18621201343071336, 0.17087632329896163, 0.1500251013307593, 0.15368041692158074, 0.17763151487062434, 0.191670541828882, 0.19329630505920026, 0.18879692594057518, 0.13525201044657098, 0.13284157756954962, 0.13647172021503995, 0.13842164856306916, 0.1642339204952039, 0.1572372808849607, 0.1382545355025696, 0.15734427850156718, 0.22824252088978958, 0.14583779125052698, 0.13242512314778365, 0.16788813053218765, 0.15572159045189726, 0.1768024477169725, 0.2391294509949211, 0.16954069133208327, 0.16230593637361745, 0.13135404625855718, 0.2043314738562919, 0.21281367535595486, 0.13751489087232227, 0.1374292530889858, 0.20599714870264563, 0.2527200083323382, 0.15280077764717548, 0.20030845190263924, 0.23637675786398737, 0.25994374418846844, 0.20158799685877637, 0.28399425813166246, 0.1503150535561264, 0.2699274094764931, 0.21553650530348778, 0.19987195098622168, 0.17358733858786235, 0.1850602578619036, 0.21886624948291866, 0.16758437840308993, 0.22641065208648636, 0.2676044180040117, 0.20626821336347623, 0.23968084111161436, 0.24865991425386713, 0.25226165405952583, 0.16976138140149655, 0.17950076743597232, 0.18236893311129232, 0.24705520935777137, 0.23381940784716082, 0.2680944256138438, 0.20594792077257007, 0.20149158510963683, 0.1518734319537859, 0.2350349009890561, 0.19273051353407777, 0.21347120529413133, 0.21269249850971395, 0.14800632203402064, 0.20189047479837474, 0.2040179227107506, 0.215099028423425, 0.223152403439127, 0.22264492396403934, 0.1700215746731103, 0.18021853319724368, 0.21120217496425786, 0.1708551324237253, 0.19613325327646536, 0.27459292244694267, 0.24029468525655728, 0.20813695340478255, 0.2517745855171688, 0.1733647423418183, 0.19908979620457734, 0.21250007494464518, 0.1606680557561111, 0.22177453296079286, 0.24697186714805752, 0.23008467177779413, 0.1915184460453283, 0.20765783967346285, 0.183822527773849, 0.20218394305570275, 0.2055926720149358, 0.12522766942762997, 0.20557301102991765, 0.1819681503853786, 0.18394888201925785, 0.13384450990602947, 0.18988942829946664, 0.25876064931871967, 0.21758488962410116, 0.21607009100753838, 0.1478820714338207, 0.14574850755891933, 0.15511907926295287, 0.2726273221619352, 0.2155800160675132, 0.16832837467741157, 0.24497620666628495, 0.26561420737136876, 0.2072324595687295, 0.21308462548901996, 0.18942114417356626, 0.2811055000273879, 0.17992402890056092, 0.20678072540379555, 0.23426240008983124, 0.2678037254408253, 0.2062092924718344, 0.28525209018854036, 0.14313795105183424, 0.1880109568581121, 0.24988929392343673, 0.1428810487633616, 0.21205063687565306, 0.15467077615591662, 0.21067172613033303, 0.24232725755133933, 0.22379661237148596, 0.15871402328363238, 0.2238422633213324, 0.20698599348504165, 0.20641449770278053, 0.29287761125614753, 0.22559206661613196, 0.28748078680933964, 0.23692499924958021, 0.255148592031607, 0.2389654975358423, 0.21227583371033087, 0.23496779225715625, 0.27653305665444794, 0.28439396517033566, 0.18633672791648814, 0.24468380560533398, 0.20172183082094441, 0.19927473994867984, 0.21224393708393674, 0.17320393255442168, 0.17028150163296352, 0.2610363245425251, 0.25736123994001603, 0.2128442005913399, 0.2735437586285836, 0.2673833187610807, 0.244582205657346, 0.2706990675177581, 0.2549024223898375, 0.28987954227758184, 0.2569725241713481, 0.2444351592580779, 0.28508956835031385, 0.30699862748343165, 0.2561402997363863, 0.26296712991803617, 0.2675663604922506, 0.1958494555395689, 0.20511080812308013, 0.18428629466457347, 0.18158035866397837, 0.28612088333697616, 0.19776296093308665, 0.28010532011816835, 0.2659748157332896, 0.27570595609285153, 0.2916711922159887, 0.2248211217456394, 0.28891837831210077, 0.24695836814651506, 0.28121696391297246, 0.20934159563520394, 0.21616415642792974, 0.246380609794972, 0.23542301831902657, 0.17889392635202717, 0.24056217102288113, 0.21918512249744648, 0.27061461121371644, 0.2083848655484002, 0.284036284527337, 0.28271101712550484, 0.2480313825911855, 0.27400337461139523, 0.23908273117828216, 0.2857097735416153, 0.315707353477401, 0.23760435392417345, 0.1841855679395148, 0.22016357951259458, 0.31036470507483527, 0.24732729755780147, 0.3268967276419471, 0.2617667068714299, 0.24807721148101902, 0.21941492627881265, 0.2916324889685643, 0.3263942940205403, 0.2432761517666282, 0.2693761468049176, 0.2692136289486885, 0.29163795829897954, 0.25915220851736154, 0.24172194799605307, 0.3084420235147176, 0.233978357653722, 0.2893231916721879, 0.1428068077078607, 0.28845886791279984, 0.24781633260047453, 0.23261243336529291, 0.2251889204621308, 0.22901289663219937, 0.22530708735085192, 0.20230056659615225, 0.23176603618345748, 0.21949115038990197, 0.23222610577994307, 0.2925648666123515, 0.24415568298563028, 0.17368097212336486, 0.24696344686963756, 0.22769115020191621, 0.25162772925139454, 0.265295453262289, 0.1740495314511562, 0.23419916179193723, 0.2024686908339992, 0.16480699353331119, 0.2647014695162613, 0.22370526235426624, 0.20697601468282112, 0.2635524519776896, 0.2506120115267084, 0.12310588119355981, 0.22080836099442647, 0.19395586370321616, 0.24255867914876594, 0.1718117869853958, 0.28375076362153717, 0.23150464314395613, 0.2950632575350509, 0.1886055188980852, 0.16035761191877052, 0.1790751506156999, 0.1954193751704838, 0.20249494150694514, 0.24068464025416525, 0.19210489575698908, 0.15310238556045142, 0.19131633724219488, 0.10747629356709854, 0.2509730977933876, 0.2550083990782923, 0.2093957955740805, 0.16159196058960323, 0.18035978619009874, 0.2852478278725433, 0.183375940326572, 0.16040096185555353, 0.14673830393938758, 0.21087003400116, 0.19495650543876875, 0.24830732881592832, 0.24670750099850713, 0.21156834766560617, 0.26604184059024616, 0.2939210390070901, 0.2386557843814493, 0.13659830756046798, 0.25085739586963585, 0.26285726264147247, 0.22658248037686524, 0.23712933708373785, 0.13742930871034453, 0.13780295731832692, 0.15093094465306534, 0.21645449741022726, 0.22345038964183106, 0.14336381348327099, 0.23194435031562965, 0.22842305880636293, 0.23450258590132178, 0.09711185033493563, 0.20703522553371834, 0.2162702829522759, 0.25414180568796774, 0.19365276573667645, 0.14157223339929192, 0.16213427427238514, 0.2644601284154522, 0.2043402283124771, 0.2660246905643989, 0.21030013429347094, 0.16691819859878643, 0.1578643009383388, 0.1895203746261772, 0.21723306933465292, 0.2552239146323664, 0.1431794219907644, 0.20200501539847981, 0.2659173336205073, 0.2478475562714636, 0.2589187729198764, 0.2751870822872601, 0.2283541869753969, 0.24240650901870975, 0.22534658029909804, 0.17143282612063981, 0.26586609201932154, 0.13136460977025277, 0.22175030712528132, 0.23498395949644302, 0.2604294168281699, 0.3056862388640177, 0.17738478339019226, 0.2433547085965977, 0.11299949969522549, 0.18224471187086455, 0.2718456704140523, 0.1483119512412484, 0.23434959698139957, 0.15496284141794514, 0.19234891001680665, 0.20199261761619858, 0.1421513733577986, 0.18844072169032755, 0.1561730349935424, 0.16497981083489188, 0.17222847622089665, 0.14345453796627505, 0.16263651771919607, 0.22036892427665689, 0.19359025440917943, 0.24109265092489007, 0.1848103025875929, 0.1982701662949452, 0.18287344478868728, 0.1927344695674913, 0.16346017197917984, 0.09968399808731265, 0.20078628397312714, 0.16045639774829656, 0.1478234919603174, 0.16906396485172503, 0.1950047461948814, 0.20474669539746804, 0.18570301284419977, 0.10574611578287674, 0.10444060323177484, 0.1184662623906434, 0.18675581453060042, 0.18055211765982548, 0.18546443617319952, 0.18491667149604685, 0.08843524565945637, 0.094799760533119, 0.22172549509666473, 0.1360032972271864, 0.14901898417334347, 0.1192550311706897, 0.1756524963693109, 0.14091432841663254, 0.1233934248817693, 0.16334209280513112, 0.15198919124447785, 0.16026926224720728, 0.17083310606246038, 0.1891294153202877, 0.14020020275885692, 0.1669381444939727, 0.16099557352684335, 0.16543590136126984, 0.18141819152527172, 0.18474406956823286, 0.18448848183842814, 0.1711006542509843, 0.17954714238977143, 0.14935491501451603, 0.11449128098662942, 0.212293541229845, 0.15036278096272937, 0.20356625361981673, 0.15896543523186712, 0.2034486101533166, 0.21132467206182648, 0.15919790911109877, 0.1200005142279893, 0.16921609772566026, 0.1826748058463893, 0.17671179760452282, 0.21684317329784342, 0.17350109569354732, 0.21526524478373077, 0.18045973540347637, 0.1476970099088063, 0.15876820399137148, 0.15161857859700323, 0.1979563169010412, 0.2003170062889057, 0.1259520592779716, 0.20822279704874525, 0.21299179567817617, 0.17551824722110565, 0.13365531245206863, 0.16928869121133794, 0.21084372128936657, 0.1766266689573538, 0.2202239674562595, 0.18059446575913907, 0.17405691947891255, 0.14083225819968226, 0.14609001666515686, 0.18604387841976244, 0.251502600407279, 0.1340043411750046, 0.21577318725432804, 0.15930609183506306, 0.1707605816670109, 0.1842531598818331, 0.16537335452768054, 0.16871933817899853, 0.23622795973935828, 0.2803736751103122, 0.2256094510727792, 0.2416706432853556, 0.20664658159881033, 0.23346440690816483, 0.17103576751486338, 0.22912726151206286, 0.2484415352256779, 0.16893033723808992, 0.2077863441167087, 0.23802480267593773, 0.11461979694819768, 0.2097514110697387, 0.25488401718146025, 0.25501573299483615, 0.18025740934033585, 0.3127352311272563, 0.1970556630419371, 0.309412694907517, 0.24209611641336104, 0.1494945980046315, 0.21199444712338722, 0.24686171355143305, 0.2066694984819395, 0.17010140840013588, 0.13323262466610053, 0.2548193009308475, 0.18657851979304885, 0.1289932431741252, 0.24787406993317285, 0.21752952417106952, 0.21204067875519517, 0.21082450589738155, 0.28621935231539086, 0.20165965106020123, 0.19324574161999686, 0.13391717193945607, 0.16429127842617963, 0.16433232507121465, 0.21157909968335908, 0.22743039752927863, 0.27281792725040455, 0.20127716878885316, 0.21028208155992678, 0.2909681968403044, 0.2411731663792831, 0.13758184224848347, 0.22024394364334576, 0.23735581974931297, 0.2009314780789091, 0.21916959896673038, 0.14431071262498973, 0.12065693003069944, 0.2908823364720865, 0.22495317383027358, 0.22327755169045838, 0.12019880923224424, 0.22557927182209414, 0.22693099133222838, 0.27389017197887433, 0.15490525661849486, 0.22900963155006626, 0.23909682722818126, 0.21955490479123219, 0.18220801578027024, 0.15933050013281336, 0.13330200665138547, 0.2246481604841566, 0.22098998667770775, 0.22854045156753877, 0.18312124951990572, 0.1864857748627513, 0.08909903630599536, 0.2064544228581886, 0.2012668177989898, 0.232872502348759, 0.18766616991085427, 0.19057269473780636, 0.21935588077694168, 0.2694221373046567, 0.23686507177704286, 0.2535234335680827, 0.2543509455176952, 0.20530907383845087, 0.22312252136001232, 0.21798929719241844, 0.23755910508374511, 0.1264516968019359, 0.2407165582515054, 0.16275951553032453, 0.27799022575882093, 0.2525951393290422, 0.1478072494662419, 0.21648842253214295, 0.09695441182615727, 0.1839860919988071, 0.3033934927894205, 0.14804011264886563, 0.29397287345137935, 0.15771042551882242, 0.12565284358016227, 0.17286951634313352, 0.17536043872122753, 0.16836244222215713, 0.18174583791783272, 0.17781700675611467, 0.2612916394838072, 0.21528078132320638, 0.1534360672001902, 0.16622952538869018, 0.14499087269181954, 0.21748002088387075, 0.13070363665260243, 0.16975810908146138, 0.1741678120866763, 0.2030413626930384, 0.25929052785810136, 0.22281588978208122, 0.15603758651577848, 0.16452998431263954, 0.20601980331367575, 0.19159270035515852, 0.1705865013799296, 0.12175565958593515, 0.18595588447338351, 0.1826847589765499, 0.19884922580456976, 0.09775374409421655, 0.12279604180161674, 0.20727542487366235, 0.17905876150482913, 0.1414877566947017, 0.20698476985819214, 0.16751775228276167, 0.17700671800278378, 0.19819196496395663, 0.1357195985580375, 0.08448502203209662, 0.23593864363665906, 0.17577943105783744, 0.20093891807293573, 0.15015254583580773, 0.19789868148104373, 0.16740807754096898, 0.1698190221114405, 0.21078490112465853, 0.17061913090329905, 0.17572908297065948, 0.2323006127431868, 0.17790141952009564, 0.14373577809026972, 0.17305342482441088, 0.09651168663401877, 0.20173993030368542, 0.2369764961263292, 0.15982649118969994, 0.19838898723790155, 0.11487939069185715, 0.1521595191286481, 0.1364470395475088, 0.21907777611253132, 0.10076038427422906, 0.1476925463614851, 0.0878449896041158, 0.1650513705262281, 0.0890989334586999, 0.14475472655260635, 0.21992975643910717, 0.13530283650231656, 0.2120512242558803, 0.08438025597521948, 0.07993166979315092, 0.1165114573411723, 0.23905533210038798, 0.18842174515954124, 0.1501219406015455, 0.1379420391588806, 0.15782983945601847, 0.15094486143600072, 0.1399859094172179, 0.12109865240810003, 0.1989394763810225, 0.15414617841768152, 0.15459258378211738, 0.1915076605315159, 0.29865124540326593, 0.16083092285704204, 0.1882738872809102, 0.1094168332990968, 0.17918130815751665, 0.16195823297397505, 0.2253633731720165, 0.20395250681813404, 0.15442948017399727, 0.16656636491392374, 0.20858669869932067, 0.1807446939906877, 0.13549910731488612, 0.14609905352864327], 'VI': [7564.780737979438, 9161.831471327569, 8567.22592011207, 14026.353115438631, 15099.852722062447, 12663.411983656468, 9072.779795676302, 13647.94132601469, 5634.363086723315, 6972.149316087183, 17472.77045397498, 13435.546869946038, 13289.43196663592, 4101.055663614364, 15411.653705567509, 8481.647076445752, 16166.560162291, 12089.069420384185, 8397.399574421694, 13473.951402123857, 8462.825602878393, 6932.252426401139, 4153.095615706894, 7969.954192214492, 4383.684260716031, 8246.18774884425, 12782.427053234143, 12042.604894622758, 12837.226671109334, 8511.671579754147, 10300.529081106644, 15531.440708955352, 9662.603294669412, 10106.476404528334, 10186.003773157418, 13176.900830859066, 9242.099654757301, 15965.711213575243, 4141.331582460275, 10967.373337416786, 15405.888493337705, 7455.5209518718675, 10030.991577455468, 3833.3488592362246, 7751.628517490959, 6285.836784697818, 8376.55593370601, 9698.163688437036, 13475.04084913162, 12585.287993956263, 9193.64573827212, 5783.887481761421, 13314.137597636673, 6855.97966890413, 14603.984520229398, 12986.075009086408, 8409.3067198134, 8141.042108431606, 12917.312665863612, 9112.430947929686, 10517.274963898526, 5661.250513943137, 10740.328938633584, 9192.19445850811, 9849.313652943416, 13538.18354761216, 7872.913632215856, 8677.122373437425, 10188.221923578347, 12923.857902261823, 10608.525966905645, 6328.336277438959, 9661.844651167416, 4162.706474203215, 12392.584246966944, 7044.040875271229, 11760.999666951662, 8246.989287329281, 8680.329195831913, 3947.817216444646, 10343.638403897992, 10663.13169059656, 11318.046576314608, 14216.099033455976, 14240.870041682107, 12816.055314064408, 6804.682096224231, 8681.723305981066, 8615.074202690583, 7821.96187409901, 14761.200026948434, 9260.514034202291, 6805.6566309917425, 8031.975860074816, 10761.042516829424, 12646.49543491194, 11657.37325765801, 10993.349026720742, 11222.01028594072, 10258.794330885485, 9919.676478148736, 13479.126039636089, 15443.10716649769, 15990.76586902859, 16447.92341984432, 15541.032362802503, 12415.978147840015, 11831.596879023607, 9663.096116932367, 12162.225213097037, 19885.631444720297, 17210.16436374134, 15376.242217933122, 13648.635123098964, 18125.432585145758, 14101.515697231873, 17272.36933900134, 16564.71779193643, 13397.376116532387, 14271.00187975477, 13129.77187309842, 8950.23532046554, 11204.454652645996, 10222.662100152971, 14758.808460456961, 11049.917324155693, 9777.474956628115, 12268.39567808521, 14523.339610857274, 12962.354698591718, 13147.066945860493, 18815.72393693214, 10984.835476617796, 15159.222206602895, 12555.567240883775, 18997.052682505087, 15815.219149146027, 16399.17165264373, 11050.907911020415, 12296.091604676632, 18271.641902152427, 12447.414159321135, 10580.323328071334, 10145.854246142713, 11612.172404989256, 14412.286731363878, 13332.300755131917, 12660.281061086813, 16993.5130719009, 17524.74815211217, 10193.327579481596, 15047.731924663147, 14776.843562926639, 8185.301480372915, 14681.546558677368, 17325.700434070815, 14417.312638132084, 9451.275724083322, 17024.025878062894, 14950.50845460877, 8833.665364704228, 4282.9014075089835, 12776.025221203134, 12470.461244208538, 15105.290512453217, 17505.15517699438, 9846.08112031842, 15897.116401224648, 14591.567055400665, 13710.433711227843, 16471.01348451244, 11267.126871722734, 13597.821349141497, 12863.18245785264, 15085.34976918405, 12923.87047393107, 14636.846070296027, 13091.88754706107, 14495.30098490774, 14356.098315808164, 8497.20031082717, 18834.76422170525, 16761.006535059158, 18646.602534226684, 17846.65273258037, 18653.537922699903, 10317.68136477937, 11195.291106609258, 13214.058922662733, 14590.482422916399, 15448.332910725612, 16361.268780061033, 11765.324361425752, 12669.718256784889, 16032.502017070155, 12862.246672932244, 11797.25536758572, 15652.093494789367, 14206.588265914183, 9597.969498272081, 12776.809590736244, 8098.81213970257, 7730.280278210423, 5689.556437359131, 6108.64087739459, 8460.455936768602, 11233.257698803105, 8893.837564896921, 6700.5401178214415, 9298.31913371894, 6569.298825106698, 6769.086272320613, 4724.855084968233, 7428.505381160204, 9603.367408412356, 7916.157366200876, 8001.1873756714485, 6668.493565788031, 7655.580575619075, 11488.740596551734, 11186.491508983723, 7993.052621978084, 6711.824848650329, 6693.4832062027845, 11731.864047518802, 12656.638581752006, 8019.2749662883425, 12779.781469555834, 8132.378608722738, 8568.24136467987, 6007.644769911414, 5466.239606165829, 11450.735710613362, 8165.551748124031, 12878.113077366133, 3228.035030036628, 8752.650054234311, 7028.784022287836, 8113.77280395802, 8251.308704576777, 7338.482013580666, 7166.480907372048, 10435.816041713022, 7753.465390511768, 8147.260246086258, 8187.072896080968, 10177.311120364991, 7985.553894995258, 9848.02605667675, 10600.378598311829, 7403.748670369108, 10142.567813295522, 10213.563047934735, 10050.297771733702, 10753.948560496285, 10051.080436286795, 8022.396482887561, 7773.712869388555, 11237.497455456662, 8758.911068182713, 12069.07542736064, 6690.62809893437, 5312.756636334674, 9905.99398312127, 9286.600023897317, 8117.730877310735, 7109.045425143503, 10634.54947448045, 11074.689703618445, 9263.475775010638, 8270.1651749244, 6116.138024445518, 6925.633045753019, 5593.995093739953, 7804.711761272865, 8296.278023278626, 6299.596026263478, 8571.707657813913, 10622.249344722326, 7667.745726092137, 11125.247929435165, 10201.184257361265, 9538.193047476072, 10401.67643738031, 6807.066388653349, 8954.349116815845, 9663.61425989479, 9600.114867518321, 8886.121879224816, 8189.580737916649, 4620.04785795842, 10557.514408142306, 5697.860260641922, 8131.060422653669, 8321.188770404484, 9809.350694414647, 10095.550984518894, 7029.766959474489, 7139.351385666535, 12951.923107733897, 10551.612091354127, 9902.349305978503, 9178.996414285026, 10562.189520376398, 12738.526329539578, 12634.392647681987, 12345.68602843197, 12717.244872537576, 7028.1302509106445, 10356.740503044874, 10739.743596864473, 14764.6455435876, 11617.024712890001, 10289.269627141015, 12972.383459323042, 8887.700851869347, 12181.717799803133, 10452.960502468071, 8234.157064394116, 11852.41360064544, 8630.674083507425, 6470.7384680565165, 8082.144009611382, 8885.15223111185, 10662.074046761652, 12078.904515313732, 15027.522137097778, 13190.561519022387, 13479.330214998758, 11736.918937030681, 14326.639474224676, 12945.58250556493, 11812.556591997616, 13612.817622834204, 14554.94966699064, 10664.389010686698, 11990.547457644414, 12007.02953909864, 6259.777574488801, 13655.271138517688, 11736.584939720355, 11683.941640195682, 12358.232705273684, 7350.09301265077, 10282.658486409027, 10880.364029655588, 9791.333360335857, 14333.64535668721, 14000.69517638709, 11921.673486313006, 11636.007509191557, 11569.763952581052, 13382.59057784203, 8246.825169229276, 13199.977356262025, 12791.671848294998, 11678.2044544188, 9942.062785002441, 12539.702591455361, 12032.137604152544, 12324.136928934997, 7251.435888285927, 11639.896047418912, 13107.300647740529, 14123.90453541589, 12583.404650133638, 9487.296686070442, 10572.823555050974, 13900.74762657821, 14204.52362455248, 11706.737839351683, 9984.21046108902, 10380.234180784786, 8726.644372428409, 11540.285726572942, 7981.348459743558, 12447.41735923713, 11278.59196734237, 15368.97106675088, 10751.476125480684, 12983.279405627509, 11318.068807086658, 11955.26196193916, 12865.215281709208, 13676.882925859787, 9787.055948224443, 8332.112423618066, 12317.636719988206, 13796.295818580144, 11416.664262963424, 12067.605845012742, 11284.521608928428, 7431.992002781379, 12802.54081704282, 10136.894747493398, 13320.475129230039, 13140.17865320663, 13080.760697416967, 9243.463371824853, 11240.247781822949, 7567.328434608768, 7744.734248379364, 8185.4177482972245, 5916.705779159742, 9876.140232411177, 8245.468971456667, 5180.454984969487, 7482.329876193668, 4814.910796285254, 7336.562304743322, 14299.440482556758, 10940.363045140193, 6404.679433270074, 10048.76061030964, 9565.313341162482, 8819.481372059496, 8778.96105881439, 10843.469323845427, 7001.797501233777, 8645.785770971557, 8032.847907446484, 4983.256290125664, 5345.238956900763, 5255.868632823933, 10202.900239525206, 6818.685432471927, 6738.637366717678, 4916.625630280456, 8353.047982839274, 4066.218413927907, 6074.9897259781665, 13375.892994620306, 8369.295633476933, 6646.4914167612915, 6547.062295896882, 12608.596686110297, 8334.67710981002, 8818.872934902582, 5427.916978447397, 7173.93143139233, 10856.26982139872, 7675.370540641495, 6353.5171893328625, 6552.477886934863, 7121.040110459198, 9062.951057497728, 8179.862589960645, 5078.982709551388, 12842.354052141054, 11160.227304665435, 4570.42852273913, 9850.617639337179, 7387.698918818485, 4898.12896746654, 6396.7739391743235, 10055.886561244264, 9839.20945394762, 4814.882006309081, 13306.860207939175, 9316.390277871302, 7804.882331722007, 2368.061238911563, 6254.496235809105, 6826.271956617173, 9232.361718857699, 10991.955012147857, 4199.892624157078, 6884.445650329211, 8893.106378661409, 9898.634440384249, 9719.212228750883, 4736.000737020548, 6703.955600574055, 4667.3011489234, 6324.6553628885085, 7545.869518767348, 8504.243972653283, 4511.082454109128, 9269.88714162528, 9882.360819270893, 7243.055710845133, 12771.833247342025, 12379.31522031643, 12361.202518458982, 11939.162555684787, 11676.597811905573, 4030.5527335362017, 8147.495209878743, 5017.564552617424, 8212.816418109087, 9942.169060599046, 11015.190594115342, 8190.244699914609, 5055.105625919883, 9998.533185269433, 5936.335619317691, 5726.817187679112, 10521.9839653131, 6451.168209190387, 7119.586852464601, 2604.3223496662113, 2796.570634445824, 3660.066486543632, 2987.0776571692986, 3186.616153121656, 2153.732038554666, 2584.900166756812, 3154.99286009595, 2464.9758654127236, 3125.9634943173396, 4725.831978095769, 3374.1757769708447, 3732.928786814371, 3380.2915424836665, 3297.221814960164, 2765.5875343039334, 3070.7157024677363, 2427.2234952960193, 2257.486006321764, 3877.6645502401257, 2927.463671483594, 2988.0229651155532, 3073.083671914045, 3252.4475568945536, 4018.651771781905, 2701.7328155918394, 1438.400362177306, 1676.7496079393186, 2459.8406524625425, 3166.8889211994137, 2775.7759457996217, 3377.971419659621, 3384.7109558050342, 1569.4999188868042, 1572.5711976319044, 4534.52251415701, 3048.629395967263, 2788.7834262821802, 2307.1852514825096, 2705.490340790615, 2886.2392130150943, 1812.1344734250733, 3047.109288417253, 2558.765202191345, 3072.950763411947, 2966.660667733865, 3582.703094316228, 2616.7932776688813, 3250.271756367277, 3075.4321434300173, 2239.0273688711914, 3550.146143244602, 2901.745974961802, 3118.10658444527, 2740.744504659212, 3638.5640195567944, 2979.451652083958, 2330.5812654342326, 4474.058039662153, 3129.068279581518, 3083.725349639725, 2505.9563050007155, 3132.428841547615, 2657.1016626198966, 2837.1576666393057, 2583.6693577749143, 2580.2828603321104, 3439.3508137525014, 2849.938366310333, 3447.9419453222745, 3458.0948472068203, 3087.417698664878, 3439.0592264884135, 2653.421903949143, 2757.111275381196, 2898.7097129409403, 2732.2584761038743, 3164.8472972289346, 2436.8291130943026, 3655.1100734855963, 3152.0821198921753, 3810.0692979338037, 2666.344900647909, 3591.142057225853, 4125.255742186779, 3823.2260290565036, 3821.1912417790822, 3027.646908107357, 2999.7885237255505, 2543.295446316246, 2842.949414761115, 3329.188101718373, 3849.9243831690956, 2304.096573583809, 3554.9479779684957, 2606.779565939868, 2391.2810661392923, 2952.591311336349, 2691.6640354030346, 2560.720408221292, 4228.028194766415, 7279.889534211362, 7720.401500496977, 5425.874524916396, 6749.688538192915, 8239.648200948212, 4577.214446650589, 4676.363643326319, 4291.75522122451, 4629.5017660100475, 9386.380040517271, 7318.240766584078, 3270.311739352265, 8166.858804019434, 6981.648275957966, 6391.528570754455, 5086.7170384660385, 8201.315739026342, 5577.120502990961, 5869.066357290713, 7010.156230558483, 3224.597883606431, 6127.870565321986, 4800.450842073769, 8264.974707558566, 3534.4101625518333, 3367.203225493581, 4529.703871763128, 6354.047522243087, 4895.599030851256, 5238.942087000525, 9053.093564538232, 5106.103573361028, 6951.186949681724, 6155.974295076874, 9573.385561705145, 8445.617466915297, 5846.017989730259, 6117.233387188202, 4541.783162487421, 7786.027997569185, 6200.537572797788, 3318.95252709296, 5395.683501823152, 5260.705518019188, 7961.7625155624355, 7613.378465477454, 5762.813669202296, 9406.323961279764, 8904.125392717588, 3088.2569076802097, 8555.543802559372, 3844.7411734710277, 4472.422789250768, 4690.284158513436, 8402.670523493545, 7309.657876841842, 3352.95408746033, 10392.89377250176, 5647.474048024909, 3848.277314212254, 2931.360108961406, 5879.256291380589, 5438.060553914505, 7777.939122310588, 6933.340232715471, 4170.287173431872, 4609.514961186949, 6959.61153865762, 6146.381643858866, 8783.171391408014, 5816.079681269317, 6288.710868104672, 2776.299242407973, 6841.589049850083, 6268.459775720179, 6524.878644288571, 5803.164091432642, 6805.804742265633, 8445.394028970379, 3238.3594727252616, 10386.1827317338, 9086.773635872672, 8741.554979859433, 8954.488479858745, 9668.290952850894, 3912.146542372621, 5332.430637321286, 5238.010758438701, 7291.012779934873, 6533.431249497769, 9102.353257601022, 6917.533341258125, 4306.41758657408, 8852.146421814236, 2806.4426108955945, 3871.0073025182346, 8276.99715778826, 4939.127566410275, 3098.4388081990846, 17404.118313620722, 8158.706389026953, 10299.37858243288, 3199.9530595940723, 6184.404368742675, 12453.002756185853, 12593.940353225722, 10025.903277615644, 8639.54952262985, 13370.758396519925, 6493.36688212598, 10356.941239756357, 7540.038629539278, 13480.280854342254, 10424.39959410203, 9070.278618094364, 6311.726142520636, 6919.665961919895, 9790.00397661102, 12470.682230123264, 12966.000332965765, 12104.461235747061, 6647.613441912496, 9546.802375947673, 14395.321568853795, 18169.573800251972, 16315.141175765635, 16205.248598351467, 6123.01937832259, 8340.45221450121, 11675.620404974736, 7907.707914549959, 19701.076223528562, 13665.7374293257, 16744.190083111243, 5014.25243364059, 10554.214263525218, 7054.366683624536, 5419.025534732629, 14741.344355645922, 5703.354240043117, 12389.23782155473, 19191.16785440774, 10389.008654197329, 15355.152274799904, 10980.378738493026, 12060.814255693946, 13622.002298766067, 13884.551943681618, 10946.924798372365, 17164.03092027329, 12323.068688615343, 13789.70905399423, 11883.306532752591, 10638.461267152135, 9438.60462321275, 15978.704484183667, 9081.525330013152, 13888.770722273282, 14272.853065712461, 20620.53730362879, 6338.190257625823, 10431.332596718528, 10643.852808752894, 8375.772394470783, 11229.91557184816, 10058.023827846613, 12759.484723552003, 15352.334395664435, 18112.79993930269, 12617.17020654727, 6447.209049677556, 3792.7799270206365, 8902.086314672306, 9322.953468502945, 9956.8121940763, 14082.763475498161, 8164.4679097565895, 15952.919091960668, 11590.888148349028, 20395.419202724835, 12996.826031425382, 10123.131747526508, 10542.63826937215, 11559.549867178388, 8629.20191796237, 6773.053000020658, 17122.611989156845, 12977.275969310771, 9097.266059861959, 10419.399162634678, 12869.28291988391, 9444.656750975806, 14285.551356724836, 11293.886312181221, 12323.942989859548, 15740.900484170774, 12615.574818753827, 9237.41774146068, 20808.318411006374]})\n"
     ]
    }
   ],
   "source": [
    "print(loss_results)"
   ]
  },
  {
   "cell_type": "code",
   "execution_count": 13,
   "metadata": {},
   "outputs": [],
   "source": [
    "from matplotlib import pyplot as plt\n",
    "\n",
    "font = {\"weight\": \"normal\", \"size\": 10}\n",
    "\n",
    "plt.rc(\"font\", **font)\n",
    "plt.rcParams[\"text.usetex\"] = False\n",
    "\n",
    "plt.cla()\n",
    "fig, axes = plt.subplots(4, 3, sharex=False, figsize=(20, 20))\n",
    "\n",
    "\n",
    "for i, (loss, values) in enumerate(loss_results.items()):\n",
    "    ax = axes[i // 3, i % 3]\n",
    "    ax.set_xlabel(\"Eval Error\")\n",
    "    ax.set_ylabel(loss)\n",
    "    ax.set_title(f\"{loss} Objective Function\", fontweight=\"bold\")\n",
    "\n",
    "    x = eval_results\n",
    "    y = np.polyval(np.polyfit(x, values, 1), x)\n",
    "\n",
    "    ax.plot(x, values, \".\", label=loss, markersize=6)\n",
    "    ax.plot(x, y, \":\", linewidth=5)\n",
    "plt.show()"
   ]
  },
  {
   "cell_type": "code",
   "execution_count": null,
   "metadata": {},
   "outputs": [],
   "source": [
    "from algs.algorithm import RunConfig\n",
    "from algs.uniform_sampling import UniformSampling\n",
    "from evaluate import eval_funcs\n",
    "\n",
    "run_config = RunConfig(max_time=1000, silent=True)\n",
    "\n",
    "eval_positions = generate_positions(100)\n",
    "\n",
    "results = defaultdict(lambda: defaultdict(list))\n",
    "\n",
    "SELECTED_LOSSES = [\n",
    "    loss_funcs.IOU(),\n",
    "    loss_funcs.RMSE(),\n",
    "    loss_funcs.WeightedSum(loss_funcs.IOU(), loss_funcs.RMSE()),\n",
    "    loss_funcs.NMI(50),\n",
    "    loss_funcs.Hausdorff(),\n",
    "]\n",
    "\n",
    "LOSS_NAMES = [l.get_name() for l in SELECTED_LOSSES]\n",
    "\n",
    "for obj_name in tqdm(OBJECTS):\n",
    "    with create_viewer(obj_name, True) as sim_viewer, create_viewer(obj_name, False) as world_viewer:\n",
    "        for loss_func, loss_name in zip(SELECTED_LOSSES, LOSS_NAMES):\n",
    "            alg = UniformSampling(sim_viewer, loss_func=loss_func, num_samples=512)\n",
    "            evaluator = Evaluator(world_viewer, sim_viewer, eval_func=eval_funcs.XorDiff(0.1))\n",
    "            losses = evaluator.evaluate(alg, run_config, eval_positions)\n",
    "            results[obj_name][loss_name].extend(losses)"
   ]
  },
  {
   "cell_type": "code",
   "execution_count": null,
   "metadata": {},
   "outputs": [],
   "source": [
    "from utils.io import save_pickle\n",
    "\n",
    "res_dict = dict()\n",
    "\n",
    "for k, v in results.items():\n",
    "    res_dict[k] = dict(v)\n",
    "\n",
    "# save_pickle(\"plots/loss_eval_results.pkl\", results)"
   ]
  },
  {
   "cell_type": "code",
   "execution_count": null,
   "metadata": {},
   "outputs": [],
   "source": [
    "from matplotlib import pyplot as plt\n",
    "\n",
    "font = {\"weight\": \"bold\", \"size\": 10}\n",
    "\n",
    "plt.rc(\"font\", **font)\n",
    "\n",
    "fig, axes = plt.subplots(3, 3, sharex=False, figsize=(30, 30))\n",
    "\n",
    "for i, object_name in enumerate(OBJECTS):\n",
    "    ax = axes[i // 3, i % 3]\n",
    "    ax.set_title(object_name.upper(), fontweight=\"bold\", fontsize=15)\n",
    "\n",
    "    ax.boxplot(results[object_name].values(), labels=LOSS_NAMES, sym=\"\", patch_artist=False, autorange=True)\n",
    "    # ax.set_ylabel(\"Eval Error\")"
   ]
  },
  {
   "cell_type": "code",
   "execution_count": null,
   "metadata": {},
   "outputs": [],
   "source": [
    "from matplotlib import pyplot as plt\n",
    "\n",
    "font = {\"weight\": \"bold\", \"size\": 10}\n",
    "\n",
    "plt.rc(\"font\", **font)\n",
    "\n",
    "labels = [l.get_name() for l in SELECTED_LOSSES]\n",
    "\n",
    "fig, axes = plt.subplots(3, 3, sharex=False, figsize=(30, 30))\n",
    "\n",
    "medianprops = dict(linestyle=None, linewidth=0)\n",
    "whiskerprops = dict(linewidth=0)\n",
    "capprops = dict(linewidth=0)\n",
    "\n",
    "for i, object_name in enumerate(OBJECTS):\n",
    "    ax = axes[i // 3, i % 3]\n",
    "    ax.set_title(object_name.upper(), fontweight=\"bold\", fontsize=15)\n",
    "    bp = ax.boxplot(\n",
    "        results[object_name].values(),\n",
    "        widths=0.1,\n",
    "        sym=\"\",\n",
    "        patch_artist=True,\n",
    "        # whis=[5, 95],\n",
    "        # bootstrap=10000,\n",
    "        medianprops=medianprops,\n",
    "        whiskerprops=whiskerprops,\n",
    "        capprops=capprops,\n",
    "    )\n",
    "\n",
    "    violin = ax.violinplot(results[object_name].values(), showmeans=False)\n",
    "    ax.set_xticks([y + 1 for y in range(len(labels))], labels=LOSS_NAMES)"
   ]
  }
 ],
 "metadata": {
  "kernelspec": {
   "display_name": "robo-proj",
   "language": "python",
   "name": "python3"
  },
  "language_info": {
   "codemirror_mode": {
    "name": "ipython",
    "version": 3
   },
   "file_extension": ".py",
   "mimetype": "text/x-python",
   "name": "python",
   "nbconvert_exporter": "python",
   "pygments_lexer": "ipython3",
   "version": "3.11.8"
  }
 },
 "nbformat": 4,
 "nbformat_minor": 2
}
