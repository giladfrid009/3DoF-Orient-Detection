{
 "cells": [
  {
   "cell_type": "code",
   "execution_count": 1,
   "metadata": {},
   "outputs": [],
   "source": [
    "from typing import Iterable\n",
    "import numpy as np\n",
    "\n",
    "from view_sampler import *\n",
    "from algs import *\n",
    "\n",
    "import loss_funcs\n",
    "from evaluate import eval_funcs\n",
    "from eval_process import evaluate\n",
    "\n",
    "from evaluate.dataset import Dataset\n",
    "from evaluate.eval_log import EvalLog\n",
    "from evaluate.evaluator import Evaluator\n",
    "from evaluate.dataset import Dataset\n",
    "from utils.concurrent import TqdmPool\n",
    "\n",
    "import mealpy\n",
    "\n",
    "import config\n",
    "import concurrent\n",
    "\n",
    "\n",
    "OPTIMIZERS = [\n",
    "    mealpy.swarm_based.PSO.OriginalPSO(c1=1, c2=2.05, w=0.2),\n",
    "    mealpy.swarm_based.MSA.OriginalMSA(),\n",
    "    mealpy.swarm_based.SCSO.OriginalSCSO(),\n",
    "    mealpy.physics_based.SA.OriginalSA(),\n",
    "    mealpy.physics_based.EVO.OriginalEVO(),\n",
    "    mealpy.physics_based.EFO.DevEFO(),\n",
    "    mealpy.physics_based.EO.ModifiedEO(),\n",
    "    mealpy.human_based.ICA.OriginalICA(\n",
    "        empire_count=7,\n",
    "        assimilation_coeff=1.5,\n",
    "        revolution_prob=0.4,\n",
    "        revolution_rate=0.05,\n",
    "        revolution_step_size=0.175,\n",
    "    ),\n",
    "    mealpy.human_based.FBIO.DevFBIO(),\n",
    "    mealpy.human_based.SARO.OriginalSARO(se=0.5, mu=5),\n",
    "    mealpy.evolutionary_based.GA.BaseGA(),\n",
    "    mealpy.evolutionary_based.CRO.OCRO(),\n",
    "    mealpy.evolutionary_based.DE.OriginalDE(strategy=0),\n",
    "    mealpy.math_based.PSS.OriginalPSS(acceptance_rate=0.925),\n",
    "    mealpy.math_based.SCA.DevSCA(),\n",
    "    mealpy.math_based.HC.OriginalHC(neighbour_size=200),\n",
    "]\n",
    "\n"
   ]
  },
  {
   "cell_type": "code",
   "execution_count": 2,
   "metadata": {},
   "outputs": [
    {
     "data": {
      "application/vnd.jupyter.widget-view+json": {
       "model_id": "a22f429db79043c6a6dd2e2b6496f3b7",
       "version_major": 2,
       "version_minor": 0
      },
      "text/plain": [
       "  0%|          | 0/1 [00:00<?, ?it/s]"
      ]
     },
     "metadata": {},
     "output_type": "display_data"
    }
   ],
   "source": [
    "exec = TqdmPool(max_workers=30)\n",
    "\n",
    "run_config = MealRunConfig(max_time=15, silent=True, seed=0)\n",
    "\n",
    "futures = []\n",
    "\n",
    "for alg_name in [\"UniformSampling\", \"IDUniformSampling\", \"RandomSampling\"]:\n",
    "    for obj_name in config.OBJECT_NAMES:\n",
    "\n",
    "        future = exec.submit(\n",
    "            evaluate,\n",
    "            alg_name=alg_name,\n",
    "            run_config=run_config,\n",
    "            obj_name=obj_name,\n",
    "            eval_data=config.EVAL_DATASET,\n",
    "            log_folder=f\"AllOptimizers2/{obj_name}\",\n",
    "        )\n",
    "\n",
    "        futures.append(future)\n",
    "\n",
    "# evaluate(alg_name='UniformSampling',\n",
    "#         run_config=run_config,\n",
    "#         obj_name='mug',\n",
    "#         eval_data=config.EVAL_DATASET,\n",
    "#         log_folder=f\"runs/test\"\n",
    "#         )\n",
    "for future in concurrent.futures.as_completed(futures):\n",
    "    try:\n",
    "        future.result()\n",
    "    except Exception as e:\n",
    "        print(e)\n",
    "\n",
    "exec.shutdown(wait=True)\n"
   ]
  }
 ],
 "metadata": {
  "kernelspec": {
   "display_name": "Python 3 (ipykernel)",
   "language": "python",
   "name": "python3"
  },
  "language_info": {
   "codemirror_mode": {
    "name": "ipython",
    "version": 3
   },
   "file_extension": ".py",
   "mimetype": "text/x-python",
   "name": "python",
   "nbconvert_exporter": "python",
   "pygments_lexer": "ipython3",
   "version": "3.12.2"
  }
 },
 "nbformat": 4,
 "nbformat_minor": 2
}
