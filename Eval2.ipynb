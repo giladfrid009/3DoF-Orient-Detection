{
 "cells": [
  {
   "cell_type": "code",
   "execution_count": null,
   "metadata": {},
   "outputs": [],
   "source": [
    "from typing import Iterable\n",
    "import numpy as np\n",
    "\n",
    "from view_sampler import *\n",
    "from algs import *\n",
    "\n",
    "import loss_funcs\n",
    "from evaluate import eval_funcs\n",
    "from eval_process import evaluate\n",
    "\n",
    "from evaluate.dataset import Dataset\n",
    "from evaluate.eval_log import EvalLog\n",
    "from evaluate.evaluator import Evaluator\n",
    "from evaluate.dataset import Dataset\n",
    "from utils.concurrent import TqdmPool\n",
    "\n",
    "import mealpy\n",
    "\n",
    "import config\n",
    "import concurrent\n",
    "from itertools import product\n",
    "\n"
   ]
  },
  {
   "cell_type": "code",
   "execution_count": null,
   "metadata": {},
   "outputs": [],
   "source": [
    "\n",
    "exec = TqdmPool(max_workers=30)\n",
    "\n",
    "run_config = MealRunConfig(max_time=15, silent=True, seed=0)\n",
    "\n",
    "# dataset = Dataset.create_random(location=config.OBJ_LOCATION, num_samples=20, seed=0)\n",
    "# dataset = Dataset.load(\"eval_dataset.pkl\")\n",
    "# dataset.save(\"AllOptimizersDataset.pkl\")\n",
    "\n",
    "dataset = config.EVAL_DATASET\n",
    "\n",
    "futures = []\n",
    "optimizers = ['OriginalFFA','OriginalPSO', 'OriginalDE']\n",
    "\n",
    "for idx, alg_name in enumerate(optimizers):\n",
    "    for alg_config in product(*config.ALGORITHM_PARAMS[alg_name].values()):\n",
    "        keys = config.ALGORITHM_PARAMS[alg_name].keys()\n",
    "        alg_config = dict(zip(keys, alg_config))\n",
    "        print(f\"{alg_name}::{alg_config}\")\n",
    "        for obj_name in config.OBJECT_NAMES:\n",
    "            future = exec.submit(\n",
    "                evaluate,\n",
    "                alg_name=alg_name,\n",
    "                run_config=run_config,\n",
    "                obj_name=obj_name,\n",
    "                eval_data=config.EVAL_DATASET,\n",
    "                log_folder=f\"AlgTuning/Eval2/{obj_name}\",\n",
    "                alg_config=alg_config,\n",
    "            )\n",
    "\n",
    "            futures.append(future)\n",
    "\n",
    "        \n",
    "for future in concurrent.futures.as_completed(futures):\n",
    "    try:\n",
    "        future.result()\n",
    "    except Exception as e:\n",
    "        print(e)\n",
    "\n",
    "exec.shutdown(wait=True)\n"
   ]
  }
 ],
 "metadata": {
  "kernelspec": {
   "display_name": "Python 3 (ipykernel)",
   "language": "python",
   "name": "python3"
  },
  "language_info": {
   "codemirror_mode": {
    "name": "ipython",
    "version": 3
   },
   "file_extension": ".py",
   "mimetype": "text/x-python",
   "name": "python",
   "nbconvert_exporter": "python",
   "pygments_lexer": "ipython3",
   "version": "3.12.2"
  }
 },
 "nbformat": 4,
 "nbformat_minor": 2
}
