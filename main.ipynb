{
 "cells": [
  {
   "cell_type": "code",
   "execution_count": null,
   "metadata": {},
   "outputs": [],
   "source": [
    "import numpy as np\n",
    "from view_sampler import ViewSampler, CameraConfig\n",
    "from manipulated_object import ObjectPosition\n",
    "import loss_funcs\n",
    "from evaluate import eval_funcs\n",
    "from algs import *\n",
    "\n",
    "from utils.orient import OrientUtils\n",
    "from evaluate.evaluator import Evaluator\n",
    "from utils.visualize import SearchPlotter\n",
    "from utils.image import ImageUtils\n",
    "\n",
    "import mealpy\n",
    "import cv2 as cv\n",
    "\n",
    "plotter = SearchPlotter(update_freq=100)\n",
    "\n",
    "# Create a camera configuration\n",
    "cam_config = CameraConfig(location=(0, 0, 0.1), rotation=(np.pi / 2, 0, 0), fov=60)\n",
    "world_viewer = ViewSampler(\"data/mug/world.xml\", cam_config, simulation_time=5)\n",
    "sim_viewer = ViewSampler(\"data/mug/world_sim.xml\", cam_config)\n",
    "\n",
    "loss_func = loss_funcs.IOU()\n",
    "\n",
    "alg = UniformSampling(sim_viewer, loss_func=loss_func)\n",
    "alg_config = UniformSampling.Config(time_limit=200, min_samples=350)\n",
    "\n",
    "eval_func=eval_funcs.XorDiff(0.1)\n",
    "evaluator = Evaluator(world_viewer, eval_func=eval_func)\n",
    "\n",
    "init_location = (0, 1.3, 0.3)\n",
    "random_orientations = OrientUtils.generate_random(80)\n",
    "eval_positions = [ObjectPosition(orient, init_location) for orient in random_orientations]\n",
    "\n",
    "for pos in eval_positions:\n",
    "    orig_img, new_pos = world_viewer.get_view_cropped(pos)\n",
    "    orient, loss = alg.solve(orig_img, new_pos.location, alg_config)\n",
    "    pred_img, _ = world_viewer.get_view_cropped(ObjectPosition(orient, new_pos.location))\n",
    "\n",
    "    cv.imshow(\"Original\", orig_img)\n",
    "    cv.waitKey(0)\n",
    "    cv.imshow(\"Predicted\", pred_img)\n",
    "    cv.waitKey(0)\n",
    "\n",
    "    orig_depth, _ = world_viewer.get_view_cropped(new_pos, depth=True, allow_simulation=False)\n",
    "    pred_depth, _ = world_viewer.get_view_cropped(ObjectPosition(orient, new_pos.location), depth=True, allow_simulation=False)\n",
    "\n",
    "    eval_loss = eval_func(orig_depth, pred_depth)\n",
    "    print(eval_loss)\n",
    "\n",
    "for alg, config in [(alg, alg_config)]:\n",
    "    eval_losses = evaluator.evaluate(alg, config, eval_positions)\n",
    "    print(f\"{type(alg).__name__}: {eval_losses}\")\n"
   ]
  }
 ],
 "metadata": {
  "kernelspec": {
   "display_name": "robo-proj",
   "language": "python",
   "name": "python3"
  },
  "language_info": {
   "codemirror_mode": {
    "name": "ipython",
    "version": 3
   },
   "file_extension": ".py",
   "mimetype": "text/x-python",
   "name": "python",
   "nbconvert_exporter": "python",
   "pygments_lexer": "ipython3",
   "version": "3.11.7"
  }
 },
 "nbformat": 4,
 "nbformat_minor": 2
}
