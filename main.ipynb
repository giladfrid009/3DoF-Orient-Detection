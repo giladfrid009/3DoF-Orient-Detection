{
 "cells": [
  {
   "cell_type": "code",
   "execution_count": null,
   "metadata": {},
   "outputs": [],
   "source": [
    "import cv2 as cv\n",
    "import numpy as np"
   ]
  },
  {
   "cell_type": "code",
   "execution_count": null,
   "metadata": {},
   "outputs": [],
   "source": [
    "from view_sampler import ViewSampler, CameraConfig\n",
    "from manipulated_object import ObjectPosition\n",
    "import loss_funcs\n",
    "from evaluate import eval_funcs\n",
    "from algs import *\n",
    "\n",
    "from evaluate.evaluator import Evaluator\n",
    "from visualize import SearchPlotter\n",
    "\n",
    "plotter = SearchPlotter()\n",
    "\n",
    "# Create a camera configuration\n",
    "cam_config = CameraConfig(location=(0, 0, 0.1), rotation=(np.pi / 2, 0, 0), fov=60)\n",
    "world_viewer = ViewSampler(\"data/world_mug.xml\", cam_config, simulation_time=5)\n",
    "sim_viewer = ViewSampler(\"data/world_mug_sim.xml\", cam_config)\n",
    "\n",
    "loss_func = loss_funcs.StructuralSimilarity()\n",
    "\n",
    "alg1 = ParticleSwarm(sim_viewer, loss_func=loss_func)\n",
    "alg1_config = ParticleSwarm.Config(time_limit=100, population=30, num_iters=300)\n",
    "\n",
    "alg2 = SimulatedAnnealing(sim_viewer, loss_func=loss_func)\n",
    "alg2_config = SimulatedAnnealing.Config(time_limit=100, num_iters=100, samples_per_temp=150)\n",
    "\n",
    "alg3 = RandomSampling(sim_viewer, loss_func=loss_func)\n",
    "alg3_config = RandomSampling.Config(time_limit=100, num_samples=10000)\n",
    "\n",
    "alg4 = DifferentialEvolution(sim_viewer, loss_func=loss_func)\n",
    "alg4_config = DifferentialEvolution.Config(time_limit=100, population=30, mut_prob=0.3)\n",
    "\n",
    "alg5 = UniformSampling(sim_viewer, loss_func=loss_func)\n",
    "alg5_config = UniformSampling.Config(time_limit=100, min_samples=10000, randomized=False)\n",
    "\n",
    "evaluator = Evaluator(world_viewer, eval_func=eval_funcs.IOU_Diff(obj_depth=1.0, method=\"mae\"))\n",
    "\n",
    "init_location = (0, 1.3, 0.3)\n",
    "random_orientations = np.random.uniform(0, 2 * np.pi, size=(5, 3))\n",
    "eval_positions = [ObjectPosition(orient, init_location) for orient in random_orientations]\n",
    "\n",
    "alg5.register_callback(plotter.add_data)\n",
    "\n",
    "for alg, config in [(alg5, alg5_config)]:\n",
    "    eval_losses = evaluator.evaluate(alg, config, eval_positions)\n",
    "    print(f\"{type(alg).__name__}: {eval_losses}\")\n",
    "\n",
    "plotter.close()"
   ]
  }
 ],
 "metadata": {
  "kernelspec": {
   "display_name": "robo-proj",
   "language": "python",
   "name": "python3"
  },
  "language_info": {
   "codemirror_mode": {
    "name": "ipython",
    "version": 3
   },
   "file_extension": ".py",
   "mimetype": "text/x-python",
   "name": "python",
   "nbconvert_exporter": "python",
   "pygments_lexer": "ipython3",
   "version": "3.11.7"
  }
 },
 "nbformat": 4,
 "nbformat_minor": 2
}
