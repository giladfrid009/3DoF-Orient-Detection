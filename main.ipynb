{
 "cells": [
  {
   "cell_type": "code",
   "execution_count": null,
   "metadata": {},
   "outputs": [],
   "source": [
    "import config\n",
    "\n",
    "print(config.ALGORITHM_NAMES)\n",
    "print(config.OBJECT_NAMES)"
   ]
  },
  {
   "cell_type": "code",
   "execution_count": null,
   "metadata": {},
   "outputs": [],
   "source": [
    "import mealpy\n",
    "\n",
    "mealpy.FFA.OriginalFFA"
   ]
  },
  {
   "cell_type": "code",
   "execution_count": null,
   "metadata": {},
   "outputs": [],
   "source": [
    "from eval.dataset import Dataset\n",
    "from view_sampler import ViewSampler\n",
    " \n",
    "ds = Dataset.create_random(config.OBJ_LOCATION, 100, 1)\n",
    "\n",
    "viewer = ViewSampler(\"data/mug/world.xml\", camera_config=config.CAMERA_CONFIG)\n",
    "\n",
    "ds.visualize(viewer, depth=False, annotate=False)\n",
    "\n",
    "viewer.close()"
   ]
  },
  {
   "cell_type": "code",
   "execution_count": null,
   "metadata": {},
   "outputs": [],
   "source": [
    "import numpy as np\n",
    "import config as config\n",
    "from view_sampler import ViewSampler\n",
    "from algs import *\n",
    "import config\n",
    "\n",
    "from eval import eval_funcs\n",
    "\n",
    "from eval.evaluator import Evaluator\n",
    "from utils.visualize import *\n",
    "from eval.eval_log import EvalLog\n",
    "\n",
    "\n",
    "obj_name = \"stack_rings\"\n",
    "alg_name = \"OriginalICA\"\n",
    "\n",
    "plotter = SearchPlotter(update_freq=100, history=None, alpha=0.5)\n",
    "\n",
    "# Create a camera configuration\n",
    "world_viewer = ViewSampler(f\"data/{obj_name}/world.xml\", config.CAMERA_CONFIG)\n",
    "sim_viewer = ViewSampler(f\"data/{obj_name}/world_sim.xml\", config.CAMERA_CONFIG)\n",
    "\n",
    "alg = config.create_algorithm(alg_name, sim_viewer)\n",
    "\n",
    "eval_func = eval_funcs.XorDiff(config.XORDIFF_PENALTY[obj_name])\n",
    "evaluator = Evaluator(world_viewer, sim_viewer, eval_func=eval_func)\n",
    "\n",
    "run_config = MealRunConfig(15)\n",
    "log = EvalLog(alg)\n",
    "evaluator.evaluate(alg, run_config, config.EVAL_DATASET, log=log, plot=None)"
   ]
  },
  {
   "cell_type": "code",
   "execution_count": null,
   "metadata": {},
   "outputs": [],
   "source": [
    "world_viewer.close()\n",
    "sim_viewer.close()\n",
    "plotter.close()"
   ]
  },
  {
   "cell_type": "markdown",
   "metadata": {},
   "source": [
    "# ANALYSIS"
   ]
  },
  {
   "cell_type": "code",
   "execution_count": null,
   "metadata": {},
   "outputs": [],
   "source": [
    "import matplotlib.pyplot as plt\n",
    "import seaborn as sns\n",
    "import pandas as pd"
   ]
  },
  {
   "cell_type": "code",
   "execution_count": null,
   "metadata": {},
   "outputs": [],
   "source": [
    "from eval.eval_log import EvalLog\n",
    "from mealpy.utils.history import History\n",
    "from utils.file import LogFiles\n",
    "import pandas as pd\n",
    "\n",
    "path = \"grid_search/airplane\"\n",
    "\n",
    "files = LogFiles(path)"
   ]
  },
  {
   "cell_type": "code",
   "execution_count": null,
   "metadata": {},
   "outputs": [],
   "source": [
    "data = []\n",
    "for _ in files:\n",
    "    try:\n",
    "        data.append(files.to_dataframe(add_params=True))\n",
    "    except:\n",
    "        pass\n",
    "\n",
    "df = pd.concat(data, axis=0, ignore_index=True)"
   ]
  },
  {
   "cell_type": "code",
   "execution_count": null,
   "metadata": {},
   "outputs": [],
   "source": [
    "df.columns"
   ]
  },
  {
   "cell_type": "code",
   "execution_count": null,
   "metadata": {},
   "outputs": [],
   "source": [
    "df.drop(columns=[\"alg\", \"sample\", \"ref_pos\", \"pred_pos\", \"epoch\"], inplace=True)"
   ]
  },
  {
   "cell_type": "code",
   "execution_count": null,
   "metadata": {},
   "outputs": [],
   "source": [
    "param_cols = ['empire_count', 'assimilation_coeff', 'revolution_prob',\n",
    "       'revolution_rate', 'revolution_step_size']"
   ]
  },
  {
   "cell_type": "code",
   "execution_count": null,
   "metadata": {},
   "outputs": [],
   "source": [
    "import pandas as pd\n",
    "\n",
    "grouped = df.groupby(param_cols) \n",
    "\n",
    "means = grouped[[\"eval_loss\"]].mean()\n",
    "print(len(df) / len(means))\n",
    "\n",
    "sorted_means = means.sort_values(\"eval_loss\")\n",
    "top_indices = sorted_means.index[:20]\n",
    "\n",
    "display(sorted_means)\n",
    "\n",
    "top_group_keys = grouped.groups.keys() & top_indices\n",
    "\n",
    "top = []\n",
    "\n",
    "for group_key in top_group_keys:\n",
    "    corresponding_group = grouped.get_group(group_key)\n",
    "    param_column = pd.Series([str(group_key)] * len(corresponding_group), index=corresponding_group.index)\n",
    "    corresponding_group[\"params\"] = param_column\n",
    "    top.append(corresponding_group)\n",
    "\n",
    "top_df = pd.concat(top, axis=0)\n",
    "\n",
    "display(top_df)"
   ]
  },
  {
   "cell_type": "code",
   "execution_count": null,
   "metadata": {},
   "outputs": [],
   "source": [
    "g = sns.catplot(\n",
    "    data=top_df,\n",
    "    x=\"params\",\n",
    "    y=\"eval_loss\",\n",
    "    kind=\"box\",\n",
    "    hue=\"params\",\n",
    "    errorbar=\"sd\",\n",
    "    showmeans=True,\n",
    "    aspect=2,\n",
    ")\n",
    "g.ax.title.set_text(path)\n",
    "g.ax.tick_params(axis=\"x\", rotation=90)"
   ]
  },
  {
   "cell_type": "code",
   "execution_count": null,
   "metadata": {},
   "outputs": [],
   "source": [
    "algs = pd.unique(df[\"revolution_rate\"])\n",
    "medians = {\"alg\": [], \"median\": []}\n",
    "for alg_name in algs:\n",
    "    mask = df[\"alg\"] == alg_name\n",
    "    # print(dataframe[mask][['eval_loss']])\n",
    "    median = df[mask][[\"eval_loss\"]].median()\n",
    "    # medians[alg] = median.item()\n",
    "    medians[\"alg\"].append(alg_name)\n",
    "    medians[\"median\"].append(median.item())"
   ]
  },
  {
   "cell_type": "code",
   "execution_count": null,
   "metadata": {},
   "outputs": [],
   "source": [
    "display(df)"
   ]
  },
  {
   "cell_type": "code",
   "execution_count": null,
   "metadata": {},
   "outputs": [],
   "source": [
    "medians = pd.DataFrame(medians)\n",
    "medians.sort_values(by=\"median\", inplace=True)"
   ]
  },
  {
   "cell_type": "code",
   "execution_count": null,
   "metadata": {},
   "outputs": [],
   "source": [
    "# fig, ax = plt.subplots(figsize=(10,40))\n",
    "g = sns.catplot(\n",
    "    data=df,\n",
    "    x=\"alg\",\n",
    "    y=\"eval_loss\",\n",
    "    hue=\"alg\",\n",
    "    kind=\"box\",\n",
    "    errorbar=\"sd\",\n",
    "    aspect=8,\n",
    "    order=medians.alg,\n",
    "    hue_order=medians.alg,\n",
    ")\n",
    "g.ax.tick_params(axis=\"x\", rotation=90)"
   ]
  },
  {
   "cell_type": "code",
   "execution_count": null,
   "metadata": {},
   "outputs": [],
   "source": [
    "print(medians.alg.to_list())"
   ]
  }
 ],
 "metadata": {
  "kernelspec": {
   "display_name": "robo-proj",
   "language": "python",
   "name": "python3"
  },
  "language_info": {
   "codemirror_mode": {
    "name": "ipython",
    "version": 3
   },
   "file_extension": ".py",
   "mimetype": "text/x-python",
   "name": "python",
   "nbconvert_exporter": "python",
   "pygments_lexer": "ipython3",
   "version": "3.11.8"
  }
 },
 "nbformat": 4,
 "nbformat_minor": 2
}
