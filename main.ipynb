{
 "cells": [
  {
   "cell_type": "code",
   "execution_count": null,
   "metadata": {},
   "outputs": [],
   "source": [
    "import cv2 as cv\n",
    "import numpy as np"
   ]
  },
  {
   "cell_type": "code",
   "execution_count": null,
   "metadata": {},
   "outputs": [],
   "source": [
    "from view_sampler import ViewSampler, CameraConfig\n",
    "from manipulated_object import ObjectPosition\n",
    "import loss_funcs\n",
    "from evaluate import eval_funcs\n",
    "from algs import *\n",
    "\n",
    "from evaluate.evaluator import Evaluator\n",
    "from visualize import SearchPlotter\n",
    "\n",
    "\n",
    "from algs.mealpy_algorithm import MealpyAlgorithm\n",
    "from mealpy.physics_based.CDO import OriginalCDO\n",
    "\n",
    "plotter = SearchPlotter()\n",
    "\n",
    "# Create a camera configuration\n",
    "cam_config = CameraConfig(location=(0, 0, 0.1), rotation=(np.pi / 2, 0, 0), fov=60)\n",
    "world_viewer = ViewSampler(\"data/world_mug.xml\", cam_config, simulation_time=5)\n",
    "sim_viewer = ViewSampler(\"data/world_mug_sim.xml\", cam_config)\n",
    "\n",
    "loss_func = loss_funcs.StructuralSimilarity()\n",
    "\n",
    "alg = MealpyAlgorithm(sim_viewer, loss_func=loss_func, optimizer=OriginalCDO())\n",
    "alg_config = MealpyAlgorithm.Config(time_limit=10, seed=1, run_mode=\"single\")\n",
    "\n",
    "evaluator = Evaluator(world_viewer, eval_func=eval_funcs.NormXorDiff(obj_depth=1.0, method=\"mae\"))\n",
    "\n",
    "init_location = (0, 1.3, 0.3)\n",
    "random_orientations = np.random.uniform(0, 2 * np.pi, size=(5, 3))\n",
    "eval_positions = [ObjectPosition(orient, init_location) for orient in random_orientations]\n",
    "\n",
    "for alg, config in [(alg, alg_config)]:\n",
    "    eval_losses = evaluator.evaluate(alg, config, eval_positions)\n",
    "    print(f\"{type(alg).__name__}: {eval_losses}\")\n",
    "\n",
    "plotter.close()\n",
    "world_viewer.close()"
   ]
  }
 ],
 "metadata": {
  "kernelspec": {
   "display_name": "robo-proj",
   "language": "python",
   "name": "python3"
  },
  "language_info": {
   "codemirror_mode": {
    "name": "ipython",
    "version": 3
   },
   "file_extension": ".py",
   "mimetype": "text/x-python",
   "name": "python",
   "nbconvert_exporter": "python",
   "pygments_lexer": "ipython3",
   "version": "3.11.7"
  }
 },
 "nbformat": 4,
 "nbformat_minor": 2
}
