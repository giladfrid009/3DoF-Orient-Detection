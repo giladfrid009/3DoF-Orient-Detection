{
 "cells": [
  {
   "cell_type": "code",
   "execution_count": 1,
   "metadata": {},
   "outputs": [],
   "source": [
    "import cv2 as cv\n",
    "import numpy as np"
   ]
  },
  {
   "cell_type": "code",
   "execution_count": 2,
   "metadata": {},
   "outputs": [],
   "source": [
    "import numpy as np\n",
    "import tkinter as tk\n",
    "import matplotlib\n",
    "from matplotlib.figure import Figure\n",
    "from matplotlib.backends.backend_tkagg import FigureCanvasTkAgg\n",
    "\n",
    "matplotlib.use(\"TkAgg\")\n",
    "\n",
    "\n",
    "class Animator:\n",
    "    def __init__(\n",
    "        self,\n",
    "        update_freq: int = 100,\n",
    "        fig_size: tuple[int, int] = (10, 10),\n",
    "        alpha: float = 0.25,\n",
    "        point_size: float = 40,\n",
    "    ) -> None:\n",
    "\n",
    "        self.point_size = point_size\n",
    "        self.alpha = alpha\n",
    "\n",
    "        self.update_freq = update_freq\n",
    "        self.call_num = 0\n",
    "\n",
    "        # Create the main window\n",
    "        self.plot_window = tk.Tk()\n",
    "\n",
    "        # Create a figure and axis\n",
    "        fig = Figure(figsize=fig_size, dpi=100)\n",
    "        self.ax = fig.add_subplot(111, projection=\"3d\")\n",
    "\n",
    "        # Create a canvas to display the plot\n",
    "        self.canvas = FigureCanvasTkAgg(fig, master=self.plot_window)\n",
    "        self.canvas.get_tk_widget().pack(side=tk.TOP, fill=tk.BOTH, expand=1)\n",
    "\n",
    "        self.list_x = []\n",
    "        self.list_y = []\n",
    "        self.list_z = []\n",
    "        self.list_losses = []\n",
    "\n",
    "    def reset(self):\n",
    "        self.list_x = []\n",
    "        self.list_y = []\n",
    "        self.list_z = []\n",
    "        self.list_losses = []\n",
    "\n",
    "    # Define the callback function\n",
    "    def callback_func(self, orient, loss):\n",
    "        x, y, z = orient\n",
    "\n",
    "        self.list_x.append(x)\n",
    "        self.list_y.append(y)\n",
    "        self.list_z.append(z)\n",
    "        self.list_losses.append(loss)\n",
    "\n",
    "        if self.call_num % self.update_freq == 0:\n",
    "            self.update_plot()\n",
    "\n",
    "        self.call_num = (self.call_num + 1) % self.update_freq\n",
    "\n",
    "    # Define the function to update the plot\n",
    "    def update_plot(self, event=None):\n",
    "        self.ax.clear()\n",
    "\n",
    "        self.ax.scatter(\n",
    "            self.list_x,\n",
    "            self.list_y,\n",
    "            self.list_z,\n",
    "            c=self.list_losses,\n",
    "            cmap=\"hot\",            \n",
    "            s=self.point_size,\n",
    "            alpha=self.alpha,\n",
    "        )\n",
    "\n",
    "        self.ax.set_xlabel(\"X\")\n",
    "        self.ax.set_ylabel(\"Y\")\n",
    "        self.ax.set_zlabel(\"Z\")\n",
    "        self.canvas.draw()\n",
    "        self.plot_window.update()"
   ]
  },
  {
   "cell_type": "code",
   "execution_count": 3,
   "metadata": {},
   "outputs": [
    {
     "name": "stdout",
     "output_type": "stream",
     "text": [
      "Evaluating Algorithm: DifferentialEvolution | Config: DifferentialEvolution.Config(time_limit=100, num_iters=100, population=30, mut_prob=0.3, F=0.5, silent=False)\n"
     ]
    },
    {
     "data": {
      "application/vnd.jupyter.widget-view+json": {
       "model_id": "a4bb8d9cff7e44e1940f13a0deefd244",
       "version_major": 2,
       "version_minor": 0
      },
      "text/plain": [
       "Evaluating:   0%|          | 0/5 [00:00<?, ?it/s]"
      ]
     },
     "metadata": {},
     "output_type": "display_data"
    },
    {
     "data": {
      "application/vnd.jupyter.widget-view+json": {
       "model_id": "1a9eb1f5c8c746288bc9cd3cc7ef4b91",
       "version_major": 2,
       "version_minor": 0
      },
      "text/plain": [
       "  0%|          | 0/100 [00:00<?, ?it/s]"
      ]
     },
     "metadata": {},
     "output_type": "display_data"
    },
    {
     "ename": "KeyboardInterrupt",
     "evalue": "",
     "output_type": "error",
     "traceback": [
      "\u001b[0;31m---------------------------------------------------------------------------\u001b[0m",
      "\u001b[0;31mKeyboardInterrupt\u001b[0m                         Traceback (most recent call last)",
      "Cell \u001b[0;32mIn[3], line 42\u001b[0m\n\u001b[1;32m     39\u001b[0m alg4\u001b[38;5;241m.\u001b[39mregister_loss_callback(animator\u001b[38;5;241m.\u001b[39mcallback_func)\n\u001b[1;32m     41\u001b[0m \u001b[38;5;28;01mfor\u001b[39;00m alg, config \u001b[38;5;129;01min\u001b[39;00m [(alg4, alg4_config)]:\n\u001b[0;32m---> 42\u001b[0m     losses \u001b[38;5;241m=\u001b[39m \u001b[43mevaluator\u001b[49m\u001b[38;5;241;43m.\u001b[39;49m\u001b[43mevaluate\u001b[49m\u001b[43m(\u001b[49m\u001b[43malg\u001b[49m\u001b[43m,\u001b[49m\u001b[43m \u001b[49m\u001b[43mconfig\u001b[49m\u001b[43m,\u001b[49m\u001b[43m \u001b[49m\u001b[43minit_positions\u001b[49m\u001b[43m)\u001b[49m\n\u001b[1;32m     43\u001b[0m     \u001b[38;5;28mprint\u001b[39m(\u001b[38;5;124mf\u001b[39m\u001b[38;5;124m\"\u001b[39m\u001b[38;5;132;01m{\u001b[39;00m\u001b[38;5;28mtype\u001b[39m(alg)\u001b[38;5;241m.\u001b[39m\u001b[38;5;18m__name__\u001b[39m\u001b[38;5;132;01m}\u001b[39;00m\u001b[38;5;124m: \u001b[39m\u001b[38;5;132;01m{\u001b[39;00mlosses\u001b[38;5;132;01m}\u001b[39;00m\u001b[38;5;124m\"\u001b[39m)\n",
      "File \u001b[0;32m~/source/Robotics-Proj/evaluate/evaluator.py:26\u001b[0m, in \u001b[0;36mEvaluator.evaluate\u001b[0;34m(self, alg, alg_config, eval_positions)\u001b[0m\n\u001b[1;32m     22\u001b[0m \u001b[38;5;28;01mfor\u001b[39;00m init_position \u001b[38;5;129;01min\u001b[39;00m tqdm(eval_positions, desc\u001b[38;5;241m=\u001b[39m\u001b[38;5;124mf\u001b[39m\u001b[38;5;124m\"\u001b[39m\u001b[38;5;124mEvaluating: \u001b[39m\u001b[38;5;124m\"\u001b[39m):\n\u001b[1;32m     24\u001b[0m     ref_img, ref_pos \u001b[38;5;241m=\u001b[39m \u001b[38;5;28mself\u001b[39m\u001b[38;5;241m.\u001b[39mworld_viewer\u001b[38;5;241m.\u001b[39mget_view_cropped(init_position, depth\u001b[38;5;241m=\u001b[39m\u001b[38;5;28;01mFalse\u001b[39;00m)\n\u001b[0;32m---> 26\u001b[0m     pred_orient, _ \u001b[38;5;241m=\u001b[39m \u001b[43malg\u001b[49m\u001b[38;5;241;43m.\u001b[39;49m\u001b[43mfind_orientation\u001b[49m\u001b[43m(\u001b[49m\u001b[43mref_img\u001b[49m\u001b[43m,\u001b[49m\u001b[43m \u001b[49m\u001b[43mref_pos\u001b[49m\u001b[38;5;241;43m.\u001b[39;49m\u001b[43mlocation\u001b[49m\u001b[43m,\u001b[49m\u001b[43m \u001b[49m\u001b[43malg_config\u001b[49m\u001b[43m)\u001b[49m\n\u001b[1;32m     28\u001b[0m     ref_depth, _ \u001b[38;5;241m=\u001b[39m \u001b[38;5;28mself\u001b[39m\u001b[38;5;241m.\u001b[39mworld_viewer\u001b[38;5;241m.\u001b[39mget_view_cropped(\n\u001b[1;32m     29\u001b[0m         position\u001b[38;5;241m=\u001b[39mref_pos,\n\u001b[1;32m     30\u001b[0m         depth\u001b[38;5;241m=\u001b[39m\u001b[38;5;28;01mTrue\u001b[39;00m,\n\u001b[1;32m     31\u001b[0m         allow_simulation\u001b[38;5;241m=\u001b[39m\u001b[38;5;28;01mFalse\u001b[39;00m,\n\u001b[1;32m     32\u001b[0m     )\n\u001b[1;32m     34\u001b[0m     test_depth, _ \u001b[38;5;241m=\u001b[39m \u001b[38;5;28mself\u001b[39m\u001b[38;5;241m.\u001b[39mworld_viewer\u001b[38;5;241m.\u001b[39mget_view_cropped(\n\u001b[1;32m     35\u001b[0m         position\u001b[38;5;241m=\u001b[39mObjectPosition(pred_orient, ref_pos\u001b[38;5;241m.\u001b[39mlocation),\n\u001b[1;32m     36\u001b[0m         depth\u001b[38;5;241m=\u001b[39m\u001b[38;5;28;01mTrue\u001b[39;00m,\n\u001b[1;32m     37\u001b[0m         allow_simulation\u001b[38;5;241m=\u001b[39m\u001b[38;5;28;01mFalse\u001b[39;00m,\n\u001b[1;32m     38\u001b[0m     )\n",
      "File \u001b[0;32m~/source/Robotics-Proj/algs/differential_evolution.py:118\u001b[0m, in \u001b[0;36mDifferentialEvolution.find_orientation\u001b[0;34m(self, ref_img, ref_location, alg_config)\u001b[0m\n\u001b[1;32m    107\u001b[0m func \u001b[38;5;241m=\u001b[39m \u001b[38;5;28;01mlambda\u001b[39;00m test_orient: \u001b[38;5;28mself\u001b[39m\u001b[38;5;241m.\u001b[39mcalc_loss(ref_location, ref_img, test_orient)\n\u001b[1;32m    109\u001b[0m alg \u001b[38;5;241m=\u001b[39m TqdmDE(\n\u001b[1;32m    110\u001b[0m     func,\n\u001b[1;32m    111\u001b[0m     num_iters\u001b[38;5;241m=\u001b[39malg_config\u001b[38;5;241m.\u001b[39mnum_iters,\n\u001b[0;32m   (...)\u001b[0m\n\u001b[1;32m    115\u001b[0m     silent\u001b[38;5;241m=\u001b[39malg_config\u001b[38;5;241m.\u001b[39msilent,\n\u001b[1;32m    116\u001b[0m )\n\u001b[0;32m--> 118\u001b[0m orient, loss \u001b[38;5;241m=\u001b[39m \u001b[43malg\u001b[49m\u001b[38;5;241;43m.\u001b[39;49m\u001b[43mrun\u001b[49m\u001b[43m(\u001b[49m\u001b[43mtime_limit\u001b[49m\u001b[38;5;241;43m=\u001b[39;49m\u001b[43malg_config\u001b[49m\u001b[38;5;241;43m.\u001b[39;49m\u001b[43mtime_limit\u001b[49m\u001b[43m)\u001b[49m\n\u001b[1;32m    120\u001b[0m \u001b[38;5;28;01mreturn\u001b[39;00m orient, loss\n",
      "File \u001b[0;32m~/source/Robotics-Proj/algs/differential_evolution.py:64\u001b[0m, in \u001b[0;36mTqdmDE.run\u001b[0;34m(self, time_limit)\u001b[0m\n\u001b[1;32m     62\u001b[0m \u001b[38;5;28mself\u001b[39m\u001b[38;5;241m.\u001b[39mmutation()\n\u001b[1;32m     63\u001b[0m \u001b[38;5;28mself\u001b[39m\u001b[38;5;241m.\u001b[39mcrossover()\n\u001b[0;32m---> 64\u001b[0m \u001b[38;5;28;43mself\u001b[39;49m\u001b[38;5;241;43m.\u001b[39;49m\u001b[43mselection\u001b[49m\u001b[43m(\u001b[49m\u001b[43m)\u001b[49m\n\u001b[1;32m     66\u001b[0m \u001b[38;5;66;03m# record the best ones\u001b[39;00m\n\u001b[1;32m     67\u001b[0m generation_best_index \u001b[38;5;241m=\u001b[39m \u001b[38;5;28mself\u001b[39m\u001b[38;5;241m.\u001b[39mY\u001b[38;5;241m.\u001b[39margmin()\n",
      "File \u001b[0;32m~/miniforge3/envs/robo-proj/lib/python3.11/site-packages/sko/DE.py:74\u001b[0m, in \u001b[0;36mDE.selection\u001b[0;34m(self)\u001b[0m\n\u001b[1;32m     72\u001b[0m f_X \u001b[38;5;241m=\u001b[39m \u001b[38;5;28mself\u001b[39m\u001b[38;5;241m.\u001b[39mx2y()\u001b[38;5;241m.\u001b[39mcopy()\n\u001b[1;32m     73\u001b[0m \u001b[38;5;28mself\u001b[39m\u001b[38;5;241m.\u001b[39mX \u001b[38;5;241m=\u001b[39m U \u001b[38;5;241m=\u001b[39m \u001b[38;5;28mself\u001b[39m\u001b[38;5;241m.\u001b[39mU\n\u001b[0;32m---> 74\u001b[0m f_U \u001b[38;5;241m=\u001b[39m \u001b[38;5;28;43mself\u001b[39;49m\u001b[38;5;241;43m.\u001b[39;49m\u001b[43mx2y\u001b[49m\u001b[43m(\u001b[49m\u001b[43m)\u001b[49m\n\u001b[1;32m     76\u001b[0m \u001b[38;5;28mself\u001b[39m\u001b[38;5;241m.\u001b[39mX \u001b[38;5;241m=\u001b[39m np\u001b[38;5;241m.\u001b[39mwhere((f_X \u001b[38;5;241m<\u001b[39m f_U)\u001b[38;5;241m.\u001b[39mreshape(\u001b[38;5;241m-\u001b[39m\u001b[38;5;241m1\u001b[39m, \u001b[38;5;241m1\u001b[39m), X, U)\n\u001b[1;32m     77\u001b[0m \u001b[38;5;28;01mreturn\u001b[39;00m \u001b[38;5;28mself\u001b[39m\u001b[38;5;241m.\u001b[39mX\n",
      "File \u001b[0;32m~/miniforge3/envs/robo-proj/lib/python3.11/site-packages/sko/GA.py:51\u001b[0m, in \u001b[0;36mGeneticAlgorithmBase.x2y\u001b[0;34m(self)\u001b[0m\n\u001b[1;32m     50\u001b[0m \u001b[38;5;28;01mdef\u001b[39;00m \u001b[38;5;21mx2y\u001b[39m(\u001b[38;5;28mself\u001b[39m):\n\u001b[0;32m---> 51\u001b[0m     \u001b[38;5;28mself\u001b[39m\u001b[38;5;241m.\u001b[39mY_raw \u001b[38;5;241m=\u001b[39m \u001b[38;5;28;43mself\u001b[39;49m\u001b[38;5;241;43m.\u001b[39;49m\u001b[43mfunc\u001b[49m\u001b[43m(\u001b[49m\u001b[38;5;28;43mself\u001b[39;49m\u001b[38;5;241;43m.\u001b[39;49m\u001b[43mX\u001b[49m\u001b[43m)\u001b[49m\n\u001b[1;32m     52\u001b[0m     \u001b[38;5;28;01mif\u001b[39;00m \u001b[38;5;129;01mnot\u001b[39;00m \u001b[38;5;28mself\u001b[39m\u001b[38;5;241m.\u001b[39mhas_constraint:\n\u001b[1;32m     53\u001b[0m         \u001b[38;5;28mself\u001b[39m\u001b[38;5;241m.\u001b[39mY \u001b[38;5;241m=\u001b[39m \u001b[38;5;28mself\u001b[39m\u001b[38;5;241m.\u001b[39mY_raw\n",
      "File \u001b[0;32m~/miniforge3/envs/robo-proj/lib/python3.11/site-packages/sko/tools.py:113\u001b[0m, in \u001b[0;36mfunc_transformer.<locals>.func_transformed\u001b[0;34m(X)\u001b[0m\n\u001b[1;32m    112\u001b[0m \u001b[38;5;28;01mdef\u001b[39;00m \u001b[38;5;21mfunc_transformed\u001b[39m(X):\n\u001b[0;32m--> 113\u001b[0m     \u001b[38;5;28;01mreturn\u001b[39;00m np\u001b[38;5;241m.\u001b[39marray(\u001b[43m[\u001b[49m\u001b[43mfunc\u001b[49m\u001b[43m(\u001b[49m\u001b[43mx\u001b[49m\u001b[43m)\u001b[49m\u001b[43m \u001b[49m\u001b[38;5;28;43;01mfor\u001b[39;49;00m\u001b[43m \u001b[49m\u001b[43mx\u001b[49m\u001b[43m \u001b[49m\u001b[38;5;129;43;01min\u001b[39;49;00m\u001b[43m \u001b[49m\u001b[43mX\u001b[49m\u001b[43m]\u001b[49m)\n",
      "File \u001b[0;32m~/miniforge3/envs/robo-proj/lib/python3.11/site-packages/sko/tools.py:113\u001b[0m, in \u001b[0;36m<listcomp>\u001b[0;34m(.0)\u001b[0m\n\u001b[1;32m    112\u001b[0m \u001b[38;5;28;01mdef\u001b[39;00m \u001b[38;5;21mfunc_transformed\u001b[39m(X):\n\u001b[0;32m--> 113\u001b[0m     \u001b[38;5;28;01mreturn\u001b[39;00m np\u001b[38;5;241m.\u001b[39marray([\u001b[43mfunc\u001b[49m\u001b[43m(\u001b[49m\u001b[43mx\u001b[49m\u001b[43m)\u001b[49m \u001b[38;5;28;01mfor\u001b[39;00m x \u001b[38;5;129;01min\u001b[39;00m X])\n",
      "File \u001b[0;32m~/source/Robotics-Proj/algs/differential_evolution.py:107\u001b[0m, in \u001b[0;36mDifferentialEvolution.find_orientation.<locals>.<lambda>\u001b[0;34m(test_orient)\u001b[0m\n\u001b[1;32m    100\u001b[0m \u001b[38;5;28;01mdef\u001b[39;00m \u001b[38;5;21mfind_orientation\u001b[39m(\n\u001b[1;32m    101\u001b[0m     \u001b[38;5;28mself\u001b[39m,\n\u001b[1;32m    102\u001b[0m     ref_img: np\u001b[38;5;241m.\u001b[39mndarray,\n\u001b[1;32m    103\u001b[0m     ref_location: \u001b[38;5;28mtuple\u001b[39m[\u001b[38;5;28mfloat\u001b[39m, \u001b[38;5;28mfloat\u001b[39m, \u001b[38;5;28mfloat\u001b[39m],\n\u001b[1;32m    104\u001b[0m     alg_config: Config,\n\u001b[1;32m    105\u001b[0m ) \u001b[38;5;241m-\u001b[39m\u001b[38;5;241m>\u001b[39m \u001b[38;5;28mtuple\u001b[39m[\u001b[38;5;28mtuple\u001b[39m[\u001b[38;5;28mfloat\u001b[39m, \u001b[38;5;28mfloat\u001b[39m, \u001b[38;5;28mfloat\u001b[39m], \u001b[38;5;28mfloat\u001b[39m]:\n\u001b[0;32m--> 107\u001b[0m     func \u001b[38;5;241m=\u001b[39m \u001b[38;5;28;01mlambda\u001b[39;00m test_orient: \u001b[38;5;28;43mself\u001b[39;49m\u001b[38;5;241;43m.\u001b[39;49m\u001b[43mcalc_loss\u001b[49m\u001b[43m(\u001b[49m\u001b[43mref_location\u001b[49m\u001b[43m,\u001b[49m\u001b[43m \u001b[49m\u001b[43mref_img\u001b[49m\u001b[43m,\u001b[49m\u001b[43m \u001b[49m\u001b[43mtest_orient\u001b[49m\u001b[43m)\u001b[49m\n\u001b[1;32m    109\u001b[0m     alg \u001b[38;5;241m=\u001b[39m TqdmDE(\n\u001b[1;32m    110\u001b[0m         func,\n\u001b[1;32m    111\u001b[0m         num_iters\u001b[38;5;241m=\u001b[39malg_config\u001b[38;5;241m.\u001b[39mnum_iters,\n\u001b[0;32m   (...)\u001b[0m\n\u001b[1;32m    115\u001b[0m         silent\u001b[38;5;241m=\u001b[39malg_config\u001b[38;5;241m.\u001b[39msilent,\n\u001b[1;32m    116\u001b[0m     )\n\u001b[1;32m    118\u001b[0m     orient, loss \u001b[38;5;241m=\u001b[39m alg\u001b[38;5;241m.\u001b[39mrun(time_limit\u001b[38;5;241m=\u001b[39malg_config\u001b[38;5;241m.\u001b[39mtime_limit)\n",
      "File \u001b[0;32m~/source/Robotics-Proj/algs/algorithm.py:33\u001b[0m, in \u001b[0;36mAlgorithm.calc_loss\u001b[0;34m(self, ref_location, ref_img, test_orient)\u001b[0m\n\u001b[1;32m     27\u001b[0m \u001b[38;5;28;01mdef\u001b[39;00m \u001b[38;5;21mcalc_loss\u001b[39m(\n\u001b[1;32m     28\u001b[0m     \u001b[38;5;28mself\u001b[39m,\n\u001b[1;32m     29\u001b[0m     ref_location: \u001b[38;5;28mtuple\u001b[39m[\u001b[38;5;28mfloat\u001b[39m, \u001b[38;5;28mfloat\u001b[39m, \u001b[38;5;28mfloat\u001b[39m],\n\u001b[1;32m     30\u001b[0m     ref_img: np\u001b[38;5;241m.\u001b[39mndarray,\n\u001b[1;32m     31\u001b[0m     test_orient: \u001b[38;5;28mtuple\u001b[39m[\u001b[38;5;28mfloat\u001b[39m, \u001b[38;5;28mfloat\u001b[39m, \u001b[38;5;28mfloat\u001b[39m],\n\u001b[1;32m     32\u001b[0m ) \u001b[38;5;241m-\u001b[39m\u001b[38;5;241m>\u001b[39m \u001b[38;5;28mfloat\u001b[39m:\n\u001b[0;32m---> 33\u001b[0m     test_img, _ \u001b[38;5;241m=\u001b[39m \u001b[38;5;28;43mself\u001b[39;49m\u001b[38;5;241;43m.\u001b[39;49m\u001b[43m_test_viewer\u001b[49m\u001b[38;5;241;43m.\u001b[39;49m\u001b[43mget_view_cropped\u001b[49m\u001b[43m(\u001b[49m\u001b[43mObjectPosition\u001b[49m\u001b[43m(\u001b[49m\u001b[43mtest_orient\u001b[49m\u001b[43m,\u001b[49m\u001b[43m \u001b[49m\u001b[43mref_location\u001b[49m\u001b[43m)\u001b[49m\u001b[43m)\u001b[49m\n\u001b[1;32m     35\u001b[0m     pad_shape \u001b[38;5;241m=\u001b[39m np\u001b[38;5;241m.\u001b[39mmaximum(ref_img\u001b[38;5;241m.\u001b[39mshape, test_img\u001b[38;5;241m.\u001b[39mshape)\n\u001b[1;32m     36\u001b[0m     ref_img \u001b[38;5;241m=\u001b[39m ImageHelpers\u001b[38;5;241m.\u001b[39mpad_to_shape(ref_img, pad_shape)\n",
      "File \u001b[0;32m~/source/Robotics-Proj/view_sampler.py:79\u001b[0m, in \u001b[0;36mViewSampler.get_view_cropped\u001b[0;34m(self, position, depth, margin_factor, allow_simulation)\u001b[0m\n\u001b[1;32m     76\u001b[0m     cropped \u001b[38;5;241m=\u001b[39m image[x1:x2, y1:y2, :]\n\u001b[1;32m     77\u001b[0m     \u001b[38;5;28;01mreturn\u001b[39;00m cropped, position\n\u001b[0;32m---> 79\u001b[0m image, position \u001b[38;5;241m=\u001b[39m \u001b[38;5;28;43mself\u001b[39;49m\u001b[38;5;241;43m.\u001b[39;49m\u001b[43mget_view\u001b[49m\u001b[43m(\u001b[49m\u001b[43mposition\u001b[49m\u001b[43m,\u001b[49m\u001b[43m \u001b[49m\u001b[43mdepth\u001b[49m\u001b[43m)\u001b[49m\n\u001b[1;32m     80\u001b[0m mask \u001b[38;5;241m=\u001b[39m ImageHelpers\u001b[38;5;241m.\u001b[39mcalc_mask(image, bg_value\u001b[38;5;241m=\u001b[39m\u001b[38;5;241m0\u001b[39m)\n\u001b[1;32m     81\u001b[0m x1, y1, x2, y2 \u001b[38;5;241m=\u001b[39m ImageHelpers\u001b[38;5;241m.\u001b[39mcalc_bboxes(mask, margin_factor)\n",
      "File \u001b[0;32m~/source/Robotics-Proj/view_sampler.py:56\u001b[0m, in \u001b[0;36mViewSampler.get_view\u001b[0;34m(self, position, depth, allow_simulation)\u001b[0m\n\u001b[1;32m     54\u001b[0m \u001b[38;5;28mself\u001b[39m\u001b[38;5;241m.\u001b[39msimulator\u001b[38;5;241m.\u001b[39mset_object_orientation(position\u001b[38;5;241m.\u001b[39morientation)\n\u001b[1;32m     55\u001b[0m \u001b[38;5;28mself\u001b[39m\u001b[38;5;241m.\u001b[39msimulator\u001b[38;5;241m.\u001b[39msimulate_seconds(\u001b[38;5;28mself\u001b[39m\u001b[38;5;241m.\u001b[39m_simulation_time \u001b[38;5;28;01mif\u001b[39;00m allow_simulation \u001b[38;5;28;01melse\u001b[39;00m \u001b[38;5;241m0\u001b[39m)\n\u001b[0;32m---> 56\u001b[0m image \u001b[38;5;241m=\u001b[39m \u001b[38;5;28;43mself\u001b[39;49m\u001b[38;5;241;43m.\u001b[39;49m\u001b[43m_render_image\u001b[49m\u001b[43m(\u001b[49m\u001b[43mdepth\u001b[49m\u001b[43m)\u001b[49m\n\u001b[1;32m     57\u001b[0m position \u001b[38;5;241m=\u001b[39m \u001b[38;5;28mself\u001b[39m\u001b[38;5;241m.\u001b[39msimulator\u001b[38;5;241m.\u001b[39mget_object_position()\n\u001b[1;32m     58\u001b[0m \u001b[38;5;28;01mreturn\u001b[39;00m image, position\n",
      "File \u001b[0;32m~/source/Robotics-Proj/view_sampler.py:45\u001b[0m, in \u001b[0;36mViewSampler._render_image\u001b[0;34m(self, depth)\u001b[0m\n\u001b[1;32m     43\u001b[0m     image \u001b[38;5;241m=\u001b[39m np\u001b[38;5;241m.\u001b[39mexpand_dims(image, axis\u001b[38;5;241m=\u001b[39m\u001b[38;5;241m-\u001b[39m\u001b[38;5;241m1\u001b[39m)\n\u001b[1;32m     44\u001b[0m     \u001b[38;5;28;01mreturn\u001b[39;00m image\n\u001b[0;32m---> 45\u001b[0m \u001b[38;5;28;01mreturn\u001b[39;00m \u001b[38;5;28;43mself\u001b[39;49m\u001b[38;5;241;43m.\u001b[39;49m\u001b[43msimulator\u001b[49m\u001b[38;5;241;43m.\u001b[39;49m\u001b[43mrender\u001b[49m\u001b[43m(\u001b[49m\u001b[38;5;28;43mself\u001b[39;49m\u001b[38;5;241;43m.\u001b[39;49m\u001b[43mcamera_config\u001b[49m\u001b[38;5;241;43m.\u001b[39;49m\u001b[43mrotation\u001b[49m\u001b[43m,\u001b[49m\u001b[43m \u001b[49m\u001b[38;5;28;43mself\u001b[39;49m\u001b[38;5;241;43m.\u001b[39;49m\u001b[43mcamera_config\u001b[49m\u001b[38;5;241;43m.\u001b[39;49m\u001b[43mlocation\u001b[49m\u001b[43m)\u001b[49m\n",
      "File \u001b[0;32m~/source/Robotics-Proj/simulator.py:46\u001b[0m, in \u001b[0;36mSimulator.render\u001b[0;34m(self, cam_rot, cam_pos)\u001b[0m\n\u001b[1;32m     43\u001b[0m \u001b[38;5;28mself\u001b[39m\u001b[38;5;241m.\u001b[39m_data\u001b[38;5;241m.\u001b[39mcam_xmat \u001b[38;5;241m=\u001b[39m Rotation\u001b[38;5;241m.\u001b[39mfrom_euler(\u001b[38;5;124m\"\u001b[39m\u001b[38;5;124mxyz\u001b[39m\u001b[38;5;124m\"\u001b[39m, cam_rot)\u001b[38;5;241m.\u001b[39mas_matrix()\u001b[38;5;241m.\u001b[39mflatten()\n\u001b[1;32m     45\u001b[0m \u001b[38;5;28mself\u001b[39m\u001b[38;5;241m.\u001b[39m_renderer\u001b[38;5;241m.\u001b[39mupdate_scene(\u001b[38;5;28mself\u001b[39m\u001b[38;5;241m.\u001b[39m_data, camera\u001b[38;5;241m=\u001b[39m\u001b[38;5;241m0\u001b[39m)\n\u001b[0;32m---> 46\u001b[0m image \u001b[38;5;241m=\u001b[39m \u001b[38;5;28;43mself\u001b[39;49m\u001b[38;5;241;43m.\u001b[39;49m\u001b[43m_renderer\u001b[49m\u001b[38;5;241;43m.\u001b[39;49m\u001b[43mrender\u001b[49m\u001b[43m(\u001b[49m\u001b[43m)\u001b[49m\n\u001b[1;32m     47\u001b[0m \u001b[38;5;28;01mreturn\u001b[39;00m image\n",
      "File \u001b[0;32m~/miniforge3/envs/robo-proj/lib/python3.11/site-packages/mujoco/renderer.py:239\u001b[0m, in \u001b[0;36mRenderer.render\u001b[0;34m(self, out)\u001b[0m\n\u001b[1;32m    237\u001b[0m   np\u001b[38;5;241m.\u001b[39mcopyto(\u001b[38;5;28mself\u001b[39m\u001b[38;5;241m.\u001b[39m_scene\u001b[38;5;241m.\u001b[39mflags, original_flags)\n\u001b[1;32m    238\u001b[0m \u001b[38;5;28;01melse\u001b[39;00m:\n\u001b[0;32m--> 239\u001b[0m   \u001b[43m_render\u001b[49m\u001b[38;5;241;43m.\u001b[39;49m\u001b[43mmjr_readPixels\u001b[49m\u001b[43m(\u001b[49m\u001b[43mout\u001b[49m\u001b[43m,\u001b[49m\u001b[43m \u001b[49m\u001b[38;5;28;43;01mNone\u001b[39;49;00m\u001b[43m,\u001b[49m\u001b[43m \u001b[49m\u001b[38;5;28;43mself\u001b[39;49m\u001b[38;5;241;43m.\u001b[39;49m\u001b[43m_rect\u001b[49m\u001b[43m,\u001b[49m\u001b[43m \u001b[49m\u001b[38;5;28;43mself\u001b[39;49m\u001b[38;5;241;43m.\u001b[39;49m\u001b[43m_mjr_context\u001b[49m\u001b[43m)\u001b[49m\n\u001b[1;32m    241\u001b[0m out[:] \u001b[38;5;241m=\u001b[39m np\u001b[38;5;241m.\u001b[39mflipud(out)\n\u001b[1;32m    243\u001b[0m \u001b[38;5;28;01mreturn\u001b[39;00m out\n",
      "\u001b[0;31mKeyboardInterrupt\u001b[0m: "
     ]
    }
   ],
   "source": [
    "from view_sampler import ViewSampler, CameraConfig\n",
    "from manipulated_object import ObjectPosition\n",
    "from loss_funcs import *\n",
    "from algs import *\n",
    "\n",
    "from evaluate.eval_funcs import *\n",
    "from evaluate.evaluator import Evaluator\n",
    "\n",
    "animator = Animator()\n",
    "\n",
    "# Create a camera configuration\n",
    "cam_config = CameraConfig(location=(0, 0, 0.1), rotation=(np.pi / 2, 0, 0), fov=60)\n",
    "world_viewer = ViewSampler(\"data/world_mug.xml\", cam_config, simulation_time=5)\n",
    "sim_viewer = ViewSampler(\"data/world_mug_sim.xml\", cam_config)\n",
    "\n",
    "loss_func = StructuralSimilarity()\n",
    "\n",
    "alg1 = ParticleSwarm(sim_viewer, loss_func=loss_func)\n",
    "alg1_config = ParticleSwarm.Config(time_limit=100, population=30, num_iters=300)\n",
    "\n",
    "alg2 = SimulatedAnnealing(sim_viewer, loss_func=loss_func)\n",
    "alg2_config = SimulatedAnnealing.Config(time_limit=100, num_iters=100, samples_per_temp=150)\n",
    "\n",
    "alg3 = RandomSampling(sim_viewer, loss_func=loss_func)\n",
    "alg3_config = RandomSampling.Config(time_limit=100, num_samples=10000)\n",
    "\n",
    "alg4 = DifferentialEvolution(sim_viewer, loss_func=loss_func)\n",
    "alg4_config = DifferentialEvolution.Config(time_limit=100, population=30, mut_prob=0.3)\n",
    "\n",
    "alg5 = UniformSampling(sim_viewer, loss_func=loss_func)\n",
    "alg5_config = UniformSampling.Config(time_limit=100, min_samples=10000, randomized=False)\n",
    "\n",
    "evaluator = Evaluator(world_viewer, eval_func=IOU_Diff(method=\"mae\"))\n",
    "\n",
    "init_location = (0, 1.3, 0.3)\n",
    "random_orientations = np.random.uniform(0, 2 * np.pi, size=(5, 3))\n",
    "init_positions = [ObjectPosition(orient, init_location) for orient in random_orientations]\n",
    "\n",
    "alg4.register_loss_callback(animator.callback_func)\n",
    "\n",
    "for alg, config in [(alg4, alg4_config)]:\n",
    "    losses = evaluator.evaluate(alg, config, init_positions)\n",
    "    print(f\"{type(alg).__name__}: {losses}\")"
   ]
  },
  {
   "cell_type": "code",
   "execution_count": null,
   "metadata": {},
   "outputs": [],
   "source": [
    "cv.destroyAllWindows()"
   ]
  }
 ],
 "metadata": {
  "kernelspec": {
   "display_name": "robo-proj",
   "language": "python",
   "name": "python3"
  },
  "language_info": {
   "codemirror_mode": {
    "name": "ipython",
    "version": 3
   },
   "file_extension": ".py",
   "mimetype": "text/x-python",
   "name": "python",
   "nbconvert_exporter": "python",
   "pygments_lexer": "ipython3",
   "version": "3.11.7"
  }
 },
 "nbformat": 4,
 "nbformat_minor": 2
}
