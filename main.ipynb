{
 "cells": [
  {
   "cell_type": "code",
   "execution_count": 3,
   "metadata": {},
   "outputs": [
    {
     "name": "stdout",
     "output_type": "stream",
     "text": [
      "Algorithm: OriginalSeaHO | Objective Func:  WeightedSum(IOU,RMSE)\n",
      "Config: MealRunConfig(time_limit=15, rnd_seed=None, silent=False, run_mode='single', n_workers=None, save_pop=None)\n"
     ]
    },
    {
     "data": {
      "application/vnd.jupyter.widget-view+json": {
       "model_id": "50c8261f89b540b5af2f16987e0b8d1d",
       "version_major": 2,
       "version_minor": 0
      },
      "text/plain": [
       "Running Evaluation:   0%|          | 0/1 [00:00<?, ?it/s]"
      ]
     },
     "metadata": {},
     "output_type": "display_data"
    },
    {
     "name": "stderr",
     "output_type": "stream",
     "text": [
      "2024/03/19 04:23:45 PM, INFO, mealpy.swarm_based.SeaHO.OriginalSeaHO: Solving single objective optimization problem.\n",
      "2024/03/19 04:23:47 PM, INFO, mealpy.swarm_based.SeaHO.OriginalSeaHO: >>>Problem: orient_detection, Epoch: 1, Current best: 0.408797779831754, Global best: 0.35016474589569957, Runtime: 0.83242 seconds\n",
      "2024/03/19 04:23:48 PM, INFO, mealpy.swarm_based.SeaHO.OriginalSeaHO: >>>Problem: orient_detection, Epoch: 2, Current best: 0.5317502250484514, Global best: 0.35016474589569957, Runtime: 0.89152 seconds\n",
      "2024/03/19 04:23:48 PM, INFO, mealpy.swarm_based.SeaHO.OriginalSeaHO: >>>Problem: orient_detection, Epoch: 3, Current best: 0.3760856729937347, Global best: 0.35016474589569957, Runtime: 0.78246 seconds\n",
      "2024/03/19 04:23:49 PM, INFO, mealpy.swarm_based.SeaHO.OriginalSeaHO: >>>Problem: orient_detection, Epoch: 4, Current best: 0.3481221013785121, Global best: 0.3481221013785121, Runtime: 0.79989 seconds\n",
      "2024/03/19 04:23:50 PM, INFO, mealpy.swarm_based.SeaHO.OriginalSeaHO: >>>Problem: orient_detection, Epoch: 5, Current best: 0.2782953828959601, Global best: 0.2782953828959601, Runtime: 0.86445 seconds\n",
      "2024/03/19 04:23:51 PM, INFO, mealpy.swarm_based.SeaHO.OriginalSeaHO: >>>Problem: orient_detection, Epoch: 6, Current best: 0.23186487574441472, Global best: 0.23186487574441472, Runtime: 0.87391 seconds\n",
      "2024/03/19 04:23:52 PM, INFO, mealpy.swarm_based.SeaHO.OriginalSeaHO: >>>Problem: orient_detection, Epoch: 7, Current best: 0.2690266441175627, Global best: 0.23186487574441472, Runtime: 0.76499 seconds\n",
      "2024/03/19 04:23:52 PM, INFO, mealpy.swarm_based.SeaHO.OriginalSeaHO: >>>Problem: orient_detection, Epoch: 8, Current best: 0.2760068903995274, Global best: 0.23186487574441472, Runtime: 0.81220 seconds\n",
      "2024/03/19 04:23:53 PM, INFO, mealpy.swarm_based.SeaHO.OriginalSeaHO: >>>Problem: orient_detection, Epoch: 9, Current best: 0.2705240955448045, Global best: 0.23186487574441472, Runtime: 0.72835 seconds\n",
      "2024/03/19 04:23:54 PM, INFO, mealpy.swarm_based.SeaHO.OriginalSeaHO: >>>Problem: orient_detection, Epoch: 10, Current best: 0.24385677088560176, Global best: 0.23186487574441472, Runtime: 0.85720 seconds\n",
      "2024/03/19 04:23:55 PM, INFO, mealpy.swarm_based.SeaHO.OriginalSeaHO: >>>Problem: orient_detection, Epoch: 11, Current best: 0.23050293874058025, Global best: 0.23050293874058025, Runtime: 0.73819 seconds\n",
      "2024/03/19 04:23:56 PM, INFO, mealpy.swarm_based.SeaHO.OriginalSeaHO: >>>Problem: orient_detection, Epoch: 12, Current best: 0.26898313024085474, Global best: 0.23050293874058025, Runtime: 0.91247 seconds\n",
      "2024/03/19 04:23:56 PM, INFO, mealpy.swarm_based.SeaHO.OriginalSeaHO: >>>Problem: orient_detection, Epoch: 13, Current best: 0.255779711711717, Global best: 0.23050293874058025, Runtime: 0.75940 seconds\n",
      "2024/03/19 04:23:57 PM, INFO, mealpy.swarm_based.SeaHO.OriginalSeaHO: >>>Problem: orient_detection, Epoch: 14, Current best: 0.23257888275773592, Global best: 0.23050293874058025, Runtime: 0.82836 seconds\n",
      "2024/03/19 04:23:58 PM, INFO, mealpy.swarm_based.SeaHO.OriginalSeaHO: >>>Problem: orient_detection, Epoch: 15, Current best: 0.26460598860395856, Global best: 0.23050293874058025, Runtime: 0.77854 seconds\n",
      "2024/03/19 04:23:59 PM, INFO, mealpy.swarm_based.SeaHO.OriginalSeaHO: >>>Problem: orient_detection, Epoch: 16, Current best: 0.2666890149988518, Global best: 0.23050293874058025, Runtime: 0.87377 seconds\n",
      "2024/03/19 04:24:00 PM, INFO, mealpy.swarm_based.SeaHO.OriginalSeaHO: >>>Problem: orient_detection, Epoch: 17, Current best: 0.26062024207160117, Global best: 0.23050293874058025, Runtime: 0.74916 seconds\n",
      "2024/03/19 04:24:01 PM, INFO, mealpy.swarm_based.SeaHO.OriginalSeaHO: >>>Problem: orient_detection, Epoch: 18, Current best: 0.2621761959833001, Global best: 0.23050293874058025, Runtime: 0.86075 seconds\n",
      "2024/03/19 04:24:01 PM, WARNING, mealpy.swarm_based.SeaHO.OriginalSeaHO: Stopping criterion with maximum running time/time bound (TB) (seconds) occurred. End program!\n"
     ]
    },
    {
     "name": "stdout",
     "output_type": "stream",
     "text": [
      "OriginalSeaHO: [0.01420965153318017]\n"
     ]
    }
   ],
   "source": [
    "import numpy as np\n",
    "from view_sampler import *\n",
    "from algs import *\n",
    "\n",
    "import loss_funcs\n",
    "from evaluate import eval_funcs\n",
    "\n",
    "from evaluate.eval_log import EvalLog\n",
    "from evaluate.evaluator import Evaluator\n",
    "from evaluate.dataset import Dataset\n",
    "from utils.visualize import *\n",
    "\n",
    "import mealpy\n",
    "\n",
    "plotter = SearchPlotter(update_freq=100, history=None, alpha=0.5)\n",
    "\n",
    "# Create a camera configuration\n",
    "cam_config = CameraConfig(location=(0, 0, 0.3), rotation=(np.pi / 2, 0, 0), fov=60)\n",
    "world_viewer = ViewSampler(\"data/hammer/world.xml\", cam_config, simulation_time=0)\n",
    "sim_viewer = ViewSampler(\"data/hammer/world_sim.xml\", cam_config)\n",
    "\n",
    "loss_func = loss_funcs.WeightedSum(loss_funcs.IOU(), loss_funcs.RMSE())\n",
    "\n",
    "algorithms: list[MealAlgorithm] = [\n",
    "    MealAlgorithm(sim_viewer, loss_func, mealpy.physics_based.SA.OriginalSA()),  # classic\n",
    "    MealAlgorithm(sim_viewer, loss_func, mealpy.physics_based.SA.SwarmSA(step_size=np.pi / 100)),  # pretty bad, classic\n",
    "    MealAlgorithm(sim_viewer, loss_func, mealpy.swarm_based.PSO.OriginalPSO()),  # very good\n",
    "    MealAlgorithm(sim_viewer, loss_func, mealpy.swarm_based.PSO.HPSO_TVAC()),  # very good\n",
    "    MealAlgorithm(\n",
    "        sim_viewer, loss_func, mealpy.music_based.HS.OriginalHS(c_r=0.5, pa_r=0.25)\n",
    "    ),  # interesting but pretty bad\n",
    "    MealAlgorithm(sim_viewer, loss_func, mealpy.system_based.GCO.DevGCO()),  # decent\n",
    "    MealAlgorithm(sim_viewer, loss_func, mealpy.QSA.OriginalQSA()),  # seems pretty good\n",
    "    MealAlgorithm(sim_viewer, loss_func, mealpy.BRO.DevBRO()),\n",
    "    MealAlgorithm(sim_viewer, loss_func, mealpy.math_based.CGO.OriginalCGO()),  # weird algorithm\n",
    "    MealAlgorithm(sim_viewer, loss_func, mealpy.math_based.CircleSA.OriginalCircleSA(c_factor=0.8)),  # interesting\n",
    "    MealAlgorithm(sim_viewer, loss_func, mealpy.math_based.HC.OriginalHC()),  # classic, pretty good\n",
    "    MealAlgorithm(sim_viewer, loss_func, mealpy.math_based.SCA.DevSCA()),  # very good\n",
    "    MealAlgorithm(sim_viewer, loss_func, mealpy.evolutionary_based.EP.LevyEP(bout_size=0.15)),  # very good\n",
    "    MealAlgorithm(sim_viewer, loss_func, mealpy.evolutionary_based.DE.OriginalDE()),  # very good\n",
    "    MealAlgorithm(sim_viewer, loss_func, mealpy.evolutionary_based.FPA.OriginalFPA()),  # very good\n",
    "    MealAlgorithm(sim_viewer, loss_func, mealpy.evolutionary_based.GA.EliteMultiGA()),  # decent\n",
    "    MealAlgorithm(sim_viewer, loss_func, mealpy.evolutionary_based.MA.OriginalMA()),  # very interesting\n",
    "    MealAlgorithm(sim_viewer, loss_func, mealpy.human_based.CA.OriginalCA()),  # interesting\n",
    "    MealAlgorithm(sim_viewer, loss_func, mealpy.human_based.FBIO.DevFBIO()),  # very very good\n",
    "    MealAlgorithm(\n",
    "        sim_viewer, loss_func, mealpy.human_based.ICA.OriginalICA(revolution_prob=0.4, empire_count=7)\n",
    "    ),  # very good and cool\n",
    "    MealAlgorithm(sim_viewer, loss_func, mealpy.physics_based.CDO.OriginalCDO()),  # legendary name\n",
    "    MealAlgorithm(sim_viewer, loss_func, mealpy.physics_based.EFO.DevEFO()),  # very good, fast convergance\n",
    "    MealAlgorithm(sim_viewer, loss_func, mealpy.physics_based.EO.ModifiedEO()),  # promosing\n",
    "    MealAlgorithm(sim_viewer, loss_func, mealpy.swarm_based.ARO.OriginalARO()),  # promising\n",
    "    MealAlgorithm(sim_viewer, loss_func, mealpy.swarm_based.BeesA.ProbBeesA()),  # interesting\n",
    "    MealAlgorithm(\n",
    "        sim_viewer, loss_func, mealpy.swarm_based.DO.OriginalDO()\n",
    "    ),  # interesting but pretty bad, builds a cube\n",
    "    MealAlgorithm(sim_viewer, loss_func, mealpy.swarm_based.EHO.OriginalEHO()),  # cool algorithm\n",
    "    MealAlgorithm(sim_viewer, loss_func, mealpy.swarm_based.MRFO.OriginalMRFO()),  # pretty good\n",
    "    MealAlgorithm(sim_viewer, loss_func, mealpy.swarm_based.MSA.OriginalMSA()),  # pretty good\n",
    "    MealAlgorithm(sim_viewer, loss_func, mealpy.swarm_based.SCSO.OriginalSCSO()),  # very good\n",
    "]\n",
    "\n",
    "algorithms: list[MealAlgorithm] = [\n",
    "    MealAlgorithm(sim_viewer, loss_func, mealpy.swarm_based.SeaHO.OriginalSeaHO()),\n",
    "]\n",
    "\n",
    "eval_func = eval_funcs.XorDiff(0.1)\n",
    "evaluator = Evaluator(world_viewer, sim_viewer, eval_func=eval_func)\n",
    "\n",
    "dataset = Dataset.create_random(location=(0, 1.3, 0.3), num_samples=1, seed=1)\n",
    "# dataset.visualize(sim_viewer)\n",
    "run_config = MealRunConfig(time_limit=15)\n",
    "\n",
    "for alg in algorithms:\n",
    "    # log = EvalLog(alg)\n",
    "    eval_losses = evaluator.evaluate(alg, run_config, dataset, log=None, plotter=plotter)\n",
    "    # log.save(\"logs/\")\n",
    "    print(f\"{alg.get_name()}: {eval_losses}\")"
   ]
  },
  {
   "cell_type": "code",
   "execution_count": 4,
   "metadata": {},
   "outputs": [],
   "source": [
    "world_viewer.close()\n",
    "sim_viewer.close()\n",
    "plotter.close()"
   ]
  }
 ],
 "metadata": {
  "kernelspec": {
   "display_name": "robo-proj",
   "language": "python",
   "name": "python3"
  },
  "language_info": {
   "codemirror_mode": {
    "name": "ipython",
    "version": 3
   },
   "file_extension": ".py",
   "mimetype": "text/x-python",
   "name": "python",
   "nbconvert_exporter": "python",
   "pygments_lexer": "ipython3",
   "version": "3.11.8"
  }
 },
 "nbformat": 4,
 "nbformat_minor": 2
}
