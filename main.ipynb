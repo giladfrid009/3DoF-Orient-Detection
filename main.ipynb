{
 "cells": [
  {
   "cell_type": "code",
   "execution_count": null,
   "metadata": {},
   "outputs": [],
   "source": [
    "import cv2 as cv\n",
    "import numpy as np"
   ]
  },
  {
   "cell_type": "code",
   "execution_count": null,
   "metadata": {},
   "outputs": [],
   "source": [
    "from view_sampler import ViewSampler, CameraConfig\n",
    "from manipulated_object import ObjectConfig\n",
    "from loss_funcs import *\n",
    "from algs.random_sampling import RandomSampling\n",
    "from algs.particle_swarm import ParticleSwarm\n",
    "from algs.simulated_annealing import SimulatedAnnealing\n",
    "from algs.random_restarts import RandomRestarts\n",
    "from algs.differential_evolution import DifferentialEvolution\n",
    "\n",
    "from eval_funcs import *\n",
    "from evaluator import Evaluator\n",
    "\n",
    "# Create a camera configuration\n",
    "cam_config = CameraConfig(position=(0, 0, 0.1), rotation=(np.pi / 2, 0, 0), fov=60)\n",
    "world_viewer = ViewSampler(\"data/world_mug.xml\", cam_config, simulation_time=5)\n",
    "sim_viewer = ViewSampler(\"data/world_mug_sim.xml\", cam_config)\n",
    "\n",
    "loss_func = MSE()\n",
    "\n",
    "alg1 = ParticleSwarm(sim_viewer, loss_func=loss_func)\n",
    "alg1_config = ParticleSwarm.Config(time_limit=3, population=30, num_iters=300)\n",
    "\n",
    "alg2 = SimulatedAnnealing(sim_viewer, loss_func=loss_func)\n",
    "alg2_config = SimulatedAnnealing.Config(time_limit=3, num_iters=100, samples_per_temp=150)\n",
    "\n",
    "alg3 = RandomSampling(sim_viewer, loss_func=loss_func)\n",
    "alg3_config = RandomSampling.Config(time_limit=3, num_samples=10000)\n",
    "\n",
    "alg4 = RandomRestarts(alg1)\n",
    "alg4_config = RandomRestarts.Config(time_limit=50, num_restarts=5, inner_config=alg1_config)\n",
    "\n",
    "alg5 = DifferentialEvolution(sim_viewer, loss_func=loss_func)\n",
    "alg5_config = DifferentialEvolution.Config(time_limit=50, population=30, mut_prob=0.3)\n",
    "\n",
    "evaluator = Evaluator(world_viewer, eval_func=IOU_Diff(method=\"mae\"))\n",
    "\n",
    "init_position = (0, 1.3, 0.3)\n",
    "random_orientations = np.random.uniform(0, 2 * np.pi, size=(5, 3))\n",
    "init_positions = [ObjectConfig(orient, init_position) for orient in random_orientations]\n",
    "\n",
    "for alg, config in [(alg5, alg5_config)]:\n",
    "    losses = evaluator.evaluate(alg, config, init_positions)\n",
    "    print(f\"{type(alg).__name__}: {losses}\")\n",
    "\n",
    "\"\"\" for orient in random_orientations:\n",
    "\n",
    "    img_world, obj_config = world_viewer.get_view_cropped(ObjectConfig(orient, init_position), depth=True)\n",
    "    print(img_world.shape)\n",
    "    print(img_world.dtype)\n",
    "    print(img_world.min(), img_world.max())\n",
    "\n",
    "    img_world, obj_config = world_viewer.get_view_cropped(ObjectConfig(orient, init_position))\n",
    "\n",
    "    best_orient = search_alg.find_orientation(\n",
    "        ref_img=img_world, ref_position=obj_config.position, alg_config=ParticleSwarm.Config(time_limit=100)\n",
    "    )\n",
    "\n",
    "    best_image, _ = sim_viewer.get_view_cropped(ObjectConfig(best_orient, obj_config.position))\n",
    "\n",
    "    cv.imshow(\"real_img\", img_world)\n",
    "    cv.imshow(\"sim_img\", best_image)\n",
    "    cv.waitKey(0) \"\"\""
   ]
  },
  {
   "cell_type": "code",
   "execution_count": null,
   "metadata": {},
   "outputs": [],
   "source": [
    "cv.destroyAllWindows()"
   ]
  }
 ],
 "metadata": {
  "kernelspec": {
   "display_name": "robo-proj",
   "language": "python",
   "name": "python3"
  },
  "language_info": {
   "codemirror_mode": {
    "name": "ipython",
    "version": 3
   },
   "file_extension": ".py",
   "mimetype": "text/x-python",
   "name": "python",
   "nbconvert_exporter": "python",
   "pygments_lexer": "ipython3",
   "version": "3.11.7"
  }
 },
 "nbformat": 4,
 "nbformat_minor": 2
}
