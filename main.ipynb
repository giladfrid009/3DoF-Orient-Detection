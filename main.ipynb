{
 "cells": [
  {
   "cell_type": "code",
   "execution_count": null,
   "metadata": {},
   "outputs": [],
   "source": [
    "import numpy as np\n",
    "from view_sampler import *\n",
    "from algs import *\n",
    "\n",
    "import loss_funcs\n",
    "from evaluate import eval_funcs\n",
    "\n",
    "from evaluate.eval_log import EvalLog\n",
    "from evaluate.evaluator import Evaluator\n",
    "from evaluate.dataset import Dataset\n",
    "from utils.visualize import *\n",
    "\n",
    "import mealpy\n",
    "\n",
    "plotter = SearchPlotter(update_freq=100, history=None, alpha=0.5)\n",
    "\n",
    "# Create a camera configuration\n",
    "cam_config = CameraConfig(location=(0, 0, 0.3), rotation=(np.pi / 2, 0, 0), fov=60)\n",
    "world_viewer = ViewSampler(\"data/hammer/world.xml\", cam_config, simulation_time=0)\n",
    "sim_viewer = ViewSampler(\"data/hammer/world_sim.xml\", cam_config)\n",
    "\n",
    "loss_func = loss_funcs.IOU()\n",
    "\n",
    "algorithms = [\n",
    "    MealAlgorithm(sim_viewer, loss_func, mealpy.swarm_based.PSO.OriginalPSO()),\n",
    "    MealAlgorithm(sim_viewer, loss_func, mealpy.swarm_based.MSA.OriginalMSA()),\n",
    "    MealAlgorithm(sim_viewer, loss_func, mealpy.swarm_based.SCSO.OriginalSCSO()),\n",
    "    MealAlgorithm(sim_viewer, loss_func, mealpy.physics_based.SA.OriginalSA()),\n",
    "    MealAlgorithm(sim_viewer, loss_func, mealpy.physics_based.EVO.OriginalEVO()),\n",
    "    MealAlgorithm(sim_viewer, loss_func, mealpy.physics_based.EFO.DevEFO()),\n",
    "    MealAlgorithm(sim_viewer, loss_func, mealpy.physics_based.EO.ModifiedEO()),\n",
    "    MealAlgorithm(sim_viewer, loss_func, mealpy.human_based.ICA.OriginalICA(revolution_prob=0.4, empire_count=7)),\n",
    "    MealAlgorithm(sim_viewer, loss_func, mealpy.human_based.FBIO.DevFBIO()),\n",
    "    MealAlgorithm(sim_viewer, loss_func, mealpy.human_based.SARO.OriginalSARO()),\n",
    "    MealAlgorithm(sim_viewer, loss_func, mealpy.evolutionary_based.GA.BaseGA()),\n",
    "    MealAlgorithm(sim_viewer, loss_func, mealpy.evolutionary_based.CRO.OCRO()),\n",
    "    MealAlgorithm(sim_viewer, loss_func, mealpy.evolutionary_based.DE.OriginalDE()),\n",
    "    MealAlgorithm(sim_viewer, loss_func, mealpy.math_based.PSS.OriginalPSS()),\n",
    "    MealAlgorithm(sim_viewer, loss_func, mealpy.math_based.SCA.DevSCA()),\n",
    "    MealAlgorithm(sim_viewer, loss_func, mealpy.math_based.HC.OriginalHC()),\n",
    "]\n",
    "\n",
    "from mealpy.tuner import Tuner\n",
    "\n",
    "eval_func = eval_funcs.XorDiff(0.1)\n",
    "evaluator = Evaluator(world_viewer, sim_viewer, eval_func=eval_func)\n",
    "\n",
    "dataset = Dataset.create_random(location=(0, 1.3, 0.3), num_samples=100, seed=1)\n",
    "# dataset.visualize(sim_viewer)\n",
    "run_config = MealRunConfig(time_limit=15, silent=True)\n",
    "\n",
    "for alg in algorithms:\n",
    "    log = EvalLog(alg)\n",
    "    eval_losses = evaluator.evaluate(alg, run_config, dataset, log=None, plotter=None)\n",
    "    log.save(\"logs/\")\n",
    "    print(f\"{alg.get_name()} {alg.loss_func.get_name()}: {eval_losses}\")"
   ]
  },
  {
   "cell_type": "code",
   "execution_count": null,
   "metadata": {},
   "outputs": [],
   "source": [
    "world_viewer.close()\n",
    "sim_viewer.close()\n",
    "plotter.close()"
   ]
  },
  {
   "cell_type": "markdown",
   "metadata": {},
   "source": [
    "# ANALYSIS"
   ]
  },
  {
   "cell_type": "code",
   "execution_count": null,
   "metadata": {},
   "outputs": [],
   "source": [
    "import matplotlib.pyplot as plt\n",
    "import seaborn as sns\n",
    "import pandas as pd"
   ]
  },
  {
   "cell_type": "code",
   "execution_count": null,
   "metadata": {},
   "outputs": [],
   "source": [
    "from evaluate.eval_log import MealLog\n",
    "from mealpy.utils.history import History\n",
    "from utils.file import LogFiles\n",
    "import pandas as pd\n",
    "\n",
    "hs_path = \"/Users/guycohen/Library/CloudStorage/OneDrive-Technion/1 Courses/Robotics/Robotics-Proj/Ealuations/UniformDet/Mug/IOU/DevHS_20240318-191420.pickle\"\n",
    "pso_path = \"/Users/guycohen/Library/CloudStorage/OneDrive-Technion/1 Courses/Robotics/Robotics-Proj/Ealuations/UniformDet/Mug/IOU/OriginalPSO_20240318-194706.pickle\"\n",
    "bro_path = \"/Users/guycohen/Library/CloudStorage/OneDrive-Technion/1 Courses/Robotics/Robotics-Proj/Ealuations/UniformDet/Mug/IOU/DevBRO_20240318-201942.pickle\"\n",
    "\n",
    "path = \"Evals/OverNight/UniformDet/Hammer/IOU\"\n",
    "\n",
    "# logHS = MealLog.load(hs_path)\n",
    "# logPSO = MealLog.load(pso_path)\n",
    "# logBRO = MealLog.load(bro_path)\n",
    "\n",
    "files = LogFiles(path)"
   ]
  },
  {
   "cell_type": "code",
   "execution_count": null,
   "metadata": {},
   "outputs": [],
   "source": [
    "data = []\n",
    "for _ in files:\n",
    "    data.append(files.to_dataframe())\n",
    "\n",
    "dataframe = pd.concat(data, axis=0, ignore_index=True)"
   ]
  },
  {
   "cell_type": "code",
   "execution_count": null,
   "metadata": {},
   "outputs": [],
   "source": [
    "dataframe.columns"
   ]
  },
  {
   "cell_type": "code",
   "execution_count": null,
   "metadata": {},
   "outputs": [],
   "source": [
    "algs = pd.unique(dataframe[\"alg\"])\n",
    "medians = {\"alg\": [], \"median\": []}\n",
    "for alg in algs:\n",
    "    mask = dataframe[\"alg\"] == alg\n",
    "    # print(dataframe[mask][['eval_loss']])\n",
    "    median = dataframe[mask][[\"eval_loss\"]].median()\n",
    "    # medians[alg] = median.item()\n",
    "    medians[\"alg\"].append(alg)\n",
    "    medians[\"median\"].append(median.item())"
   ]
  },
  {
   "cell_type": "code",
   "execution_count": null,
   "metadata": {},
   "outputs": [],
   "source": [
    "medians = pd.DataFrame(medians)\n",
    "medians.sort_values(by=\"median\", inplace=True)"
   ]
  },
  {
   "cell_type": "code",
   "execution_count": null,
   "metadata": {},
   "outputs": [],
   "source": [
    "# fig, ax = plt.subplots(figsize=(10,40))\n",
    "g = sns.catplot(\n",
    "    data=dataframe,\n",
    "    x=\"alg\",\n",
    "    y=\"eval_loss\",\n",
    "    hue=\"alg\",\n",
    "    kind=\"box\",\n",
    "    errorbar=\"sd\",\n",
    "    aspect=8,\n",
    "    order=medians.alg,\n",
    "    hue_order=medians.alg,\n",
    ")\n",
    "g.ax.tick_params(axis=\"x\", rotation=90)"
   ]
  },
  {
   "cell_type": "code",
   "execution_count": null,
   "metadata": {},
   "outputs": [],
   "source": [
    "print(medians.alg.to_list())"
   ]
  }
 ],
 "metadata": {
  "kernelspec": {
   "display_name": "robo-proj",
   "language": "python",
   "name": "python3"
  },
  "language_info": {
   "codemirror_mode": {
    "name": "ipython",
    "version": 3
   },
   "file_extension": ".py",
   "mimetype": "text/x-python",
   "name": "python",
   "nbconvert_exporter": "python",
   "pygments_lexer": "ipython3",
   "version": "3.11.8"
  }
 },
 "nbformat": 4,
 "nbformat_minor": 2
}
