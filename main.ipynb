{
 "cells": [
  {
   "cell_type": "code",
   "execution_count": 1,
   "metadata": {},
   "outputs": [],
   "source": [
    "import cv2 as cv\n",
    "import numpy as np"
   ]
  },
  {
   "cell_type": "code",
   "execution_count": 2,
   "metadata": {},
   "outputs": [],
   "source": [
    "import tkinter as tk\n",
    "import matplotlib\n",
    "from matplotlib.figure import Figure\n",
    "from matplotlib.backends.backend_tkagg import FigureCanvasTkAgg\n",
    "import numpy as np\n",
    "import threading\n",
    "\n",
    "matplotlib.use(\"TkAgg\")\n",
    "\n",
    "\n",
    "class Animator:\n",
    "    def __init__(\n",
    "        self,\n",
    "        update_freq: int = 100,\n",
    "        fig_size: tuple[int, int] = (10, 10),\n",
    "        point_size: float = 5,\n",
    "    ) -> None:\n",
    "\n",
    "        # Create the main window\n",
    "        self.plot_window = tk.Tk()\n",
    "\n",
    "        # Create a figure and axis\n",
    "        self.fig = Figure(figsize=fig_size, dpi=100)\n",
    "        self.ax = self.fig.add_subplot(111, projection=\"3d\")\n",
    "\n",
    "        # Create a canvas to display the plot\n",
    "        self.canvas = FigureCanvasTkAgg(self.fig, master=self.plot_window)\n",
    "        self.canvas.get_tk_widget().pack(side=tk.TOP, fill=tk.BOTH, expand=1)\n",
    "\n",
    "        self.plot_window.bind(\"<<PlotUpdate>>\", self.update_plot)\n",
    "\n",
    "        self.update_freq = update_freq\n",
    "        self.call_num = 0\n",
    "\n",
    "        self.point_size = point_size\n",
    "\n",
    "        self.list_x = []\n",
    "        self.list_y = []\n",
    "        self.list_z = []\n",
    "        self.list_losses = []\n",
    "\n",
    "    # Define the callback function\n",
    "    def callback_func(self, orient, loss):\n",
    "        x, y, z = orient\n",
    "        self.list_x.append(x)\n",
    "        self.list_y.append(y)\n",
    "        self.list_z.append(z)\n",
    "        self.list_losses.append(loss)\n",
    "\n",
    "        if self.call_num % self.update_freq == 0:\n",
    "            self.plot_window.event_generate(\"<<PlotUpdate>>\")  # Trigger the plot update event\n",
    "            self.plot_window.update()\n",
    "\n",
    "        self.call_num = (self.call_num + 1) % self.update_freq\n",
    "\n",
    "    # Define the function to update the plot\n",
    "    def update_plot(self, event=None):\n",
    "        self.ax.clear()\n",
    "        self.ax.scatter(self.list_x, self.list_y, self.list_z, c=self.list_losses, cmap=\"gist_heat\", s=self.point_size)\n",
    "        self.ax.set_xlabel(\"X\")\n",
    "        self.ax.set_ylabel(\"Y\")\n",
    "        self.ax.set_zlabel(\"Z\")\n",
    "        self.canvas.draw()"
   ]
  },
  {
   "cell_type": "code",
   "execution_count": 3,
   "metadata": {},
   "outputs": [
    {
     "name": "stdout",
     "output_type": "stream",
     "text": [
      "Evaluating Algorithm: SimulatedAnnealing | Config: SimulatedAnnealing.Config(time_limit=50, init_temp=10, num_iters=100, samples_per_temp=150, stay_counter=150)\n"
     ]
    },
    {
     "data": {
      "application/vnd.jupyter.widget-view+json": {
       "model_id": "0a61a88afaf64d7f9e3b4bec9b84d97f",
       "version_major": 2,
       "version_minor": 0
      },
      "text/plain": [
       "Evaluating:   0%|          | 0/5 [00:00<?, ?it/s]"
      ]
     },
     "metadata": {},
     "output_type": "display_data"
    },
    {
     "data": {
      "application/vnd.jupyter.widget-view+json": {
       "model_id": "50a66874646b450da1ea891dd999f39c",
       "version_major": 2,
       "version_minor": 0
      },
      "text/plain": [
       "  0%|          | 0/100 [00:00<?, ?it/s]"
      ]
     },
     "metadata": {},
     "output_type": "display_data"
    },
    {
     "ename": "KeyboardInterrupt",
     "evalue": "",
     "output_type": "error",
     "traceback": [
      "\u001b[0;31m---------------------------------------------------------------------------\u001b[0m",
      "\u001b[0;31mKeyboardInterrupt\u001b[0m                         Traceback (most recent call last)",
      "Cell \u001b[0;32mIn[3], line 42\u001b[0m\n\u001b[1;32m     39\u001b[0m init_positions \u001b[38;5;241m=\u001b[39m [ObjectConfig(orient, init_position) \u001b[38;5;28;01mfor\u001b[39;00m orient \u001b[38;5;129;01min\u001b[39;00m random_orientations]\n\u001b[1;32m     41\u001b[0m \u001b[38;5;28;01mfor\u001b[39;00m alg, config \u001b[38;5;129;01min\u001b[39;00m [(alg2, alg2_config)]:\n\u001b[0;32m---> 42\u001b[0m     losses \u001b[38;5;241m=\u001b[39m \u001b[43mevaluator\u001b[49m\u001b[38;5;241;43m.\u001b[39;49m\u001b[43mevaluate\u001b[49m\u001b[43m(\u001b[49m\u001b[43malg\u001b[49m\u001b[43m,\u001b[49m\u001b[43m \u001b[49m\u001b[43mconfig\u001b[49m\u001b[43m,\u001b[49m\u001b[43m \u001b[49m\u001b[43minit_positions\u001b[49m\u001b[43m)\u001b[49m\n\u001b[1;32m     43\u001b[0m     \u001b[38;5;28mprint\u001b[39m(\u001b[38;5;124mf\u001b[39m\u001b[38;5;124m\"\u001b[39m\u001b[38;5;132;01m{\u001b[39;00m\u001b[38;5;28mtype\u001b[39m(alg)\u001b[38;5;241m.\u001b[39m\u001b[38;5;18m__name__\u001b[39m\u001b[38;5;132;01m}\u001b[39;00m\u001b[38;5;124m: \u001b[39m\u001b[38;5;132;01m{\u001b[39;00mlosses\u001b[38;5;132;01m}\u001b[39;00m\u001b[38;5;124m\"\u001b[39m)\n",
      "File \u001b[0;32m~/source/Robotics-Proj/evaluator.py:25\u001b[0m, in \u001b[0;36mEvaluator.evaluate\u001b[0;34m(self, alg, alg_config, init_configs)\u001b[0m\n\u001b[1;32m     21\u001b[0m \u001b[38;5;28;01mfor\u001b[39;00m init_config \u001b[38;5;129;01min\u001b[39;00m tqdm(init_configs, desc\u001b[38;5;241m=\u001b[39m\u001b[38;5;124mf\u001b[39m\u001b[38;5;124m\"\u001b[39m\u001b[38;5;124mEvaluating: \u001b[39m\u001b[38;5;124m\"\u001b[39m):\n\u001b[1;32m     23\u001b[0m     ref_img, ref_config \u001b[38;5;241m=\u001b[39m \u001b[38;5;28mself\u001b[39m\u001b[38;5;241m.\u001b[39mworld_viewer\u001b[38;5;241m.\u001b[39mget_view_cropped(init_config, depth\u001b[38;5;241m=\u001b[39m\u001b[38;5;28;01mFalse\u001b[39;00m)\n\u001b[0;32m---> 25\u001b[0m     pred_orient, _ \u001b[38;5;241m=\u001b[39m \u001b[43malg\u001b[49m\u001b[38;5;241;43m.\u001b[39;49m\u001b[43mfind_orientation\u001b[49m\u001b[43m(\u001b[49m\u001b[43mref_img\u001b[49m\u001b[43m,\u001b[49m\u001b[43m \u001b[49m\u001b[43mref_config\u001b[49m\u001b[38;5;241;43m.\u001b[39;49m\u001b[43mposition\u001b[49m\u001b[43m,\u001b[49m\u001b[43m \u001b[49m\u001b[43malg_config\u001b[49m\u001b[43m)\u001b[49m\n\u001b[1;32m     27\u001b[0m     ref_depth, _ \u001b[38;5;241m=\u001b[39m \u001b[38;5;28mself\u001b[39m\u001b[38;5;241m.\u001b[39mworld_viewer\u001b[38;5;241m.\u001b[39mget_view_cropped(\n\u001b[1;32m     28\u001b[0m         config\u001b[38;5;241m=\u001b[39mref_config,\n\u001b[1;32m     29\u001b[0m         depth\u001b[38;5;241m=\u001b[39m\u001b[38;5;28;01mTrue\u001b[39;00m,\n\u001b[1;32m     30\u001b[0m         allow_simulation\u001b[38;5;241m=\u001b[39m\u001b[38;5;28;01mFalse\u001b[39;00m,\n\u001b[1;32m     31\u001b[0m     )\n\u001b[1;32m     33\u001b[0m     test_depth, _ \u001b[38;5;241m=\u001b[39m \u001b[38;5;28mself\u001b[39m\u001b[38;5;241m.\u001b[39mworld_viewer\u001b[38;5;241m.\u001b[39mget_view_cropped(\n\u001b[1;32m     34\u001b[0m         config\u001b[38;5;241m=\u001b[39mObjectConfig(pred_orient, ref_config\u001b[38;5;241m.\u001b[39mposition),\n\u001b[1;32m     35\u001b[0m         depth\u001b[38;5;241m=\u001b[39m\u001b[38;5;28;01mTrue\u001b[39;00m,\n\u001b[1;32m     36\u001b[0m         allow_simulation\u001b[38;5;241m=\u001b[39m\u001b[38;5;28;01mFalse\u001b[39;00m,\n\u001b[1;32m     37\u001b[0m     )\n",
      "File \u001b[0;32m~/source/Robotics-Proj/algs/simulated_annealing.py:128\u001b[0m, in \u001b[0;36mSimulatedAnnealing.find_orientation\u001b[0;34m(self, ref_img, ref_position, alg_config)\u001b[0m\n\u001b[1;32m    117\u001b[0m func \u001b[38;5;241m=\u001b[39m \u001b[38;5;28;01mlambda\u001b[39;00m x: \u001b[38;5;28mself\u001b[39m\u001b[38;5;241m.\u001b[39mcalc_loss(ref_position, ref_img, x)\n\u001b[1;32m    119\u001b[0m alg \u001b[38;5;241m=\u001b[39m TqdmSA(\n\u001b[1;32m    120\u001b[0m     func,\n\u001b[1;32m    121\u001b[0m     init_temp\u001b[38;5;241m=\u001b[39malg_config\u001b[38;5;241m.\u001b[39minit_temp,\n\u001b[0;32m   (...)\u001b[0m\n\u001b[1;32m    125\u001b[0m     silent\u001b[38;5;241m=\u001b[39malg_config\u001b[38;5;241m.\u001b[39msilent,\n\u001b[1;32m    126\u001b[0m )\n\u001b[0;32m--> 128\u001b[0m orient, loss \u001b[38;5;241m=\u001b[39m \u001b[43malg\u001b[49m\u001b[38;5;241;43m.\u001b[39;49m\u001b[43mrun\u001b[49m\u001b[43m(\u001b[49m\u001b[43mtime_limit\u001b[49m\u001b[38;5;241;43m=\u001b[39;49m\u001b[43malg_config\u001b[49m\u001b[38;5;241;43m.\u001b[39;49m\u001b[43mtime_limit\u001b[49m\u001b[43m)\u001b[49m\n\u001b[1;32m    130\u001b[0m \u001b[38;5;28;01mreturn\u001b[39;00m orient, loss\n",
      "File \u001b[0;32m~/source/Robotics-Proj/algs/simulated_annealing.py:62\u001b[0m, in \u001b[0;36mTqdmSA.run\u001b[0;34m(self, time_limit)\u001b[0m\n\u001b[1;32m     60\u001b[0m \u001b[38;5;28;01mfor\u001b[39;00m _ \u001b[38;5;129;01min\u001b[39;00m \u001b[38;5;28mrange\u001b[39m(\u001b[38;5;28mself\u001b[39m\u001b[38;5;241m.\u001b[39mL):\n\u001b[1;32m     61\u001b[0m     x_new \u001b[38;5;241m=\u001b[39m \u001b[38;5;28mself\u001b[39m\u001b[38;5;241m.\u001b[39mget_new_x(x_current)\n\u001b[0;32m---> 62\u001b[0m     y_new \u001b[38;5;241m=\u001b[39m \u001b[38;5;28;43mself\u001b[39;49m\u001b[38;5;241;43m.\u001b[39;49m\u001b[43mfunc\u001b[49m\u001b[43m(\u001b[49m\u001b[43mx_new\u001b[49m\u001b[43m)\u001b[49m\n\u001b[1;32m     64\u001b[0m     df \u001b[38;5;241m=\u001b[39m y_new \u001b[38;5;241m-\u001b[39m y_current\n\u001b[1;32m     65\u001b[0m     \u001b[38;5;28;01mif\u001b[39;00m df \u001b[38;5;241m<\u001b[39m \u001b[38;5;241m0\u001b[39m \u001b[38;5;129;01mor\u001b[39;00m np\u001b[38;5;241m.\u001b[39mexp(\u001b[38;5;241m-\u001b[39mdf \u001b[38;5;241m/\u001b[39m \u001b[38;5;28mself\u001b[39m\u001b[38;5;241m.\u001b[39mT) \u001b[38;5;241m>\u001b[39m np\u001b[38;5;241m.\u001b[39mrandom\u001b[38;5;241m.\u001b[39mrand():\n",
      "File \u001b[0;32m~/source/Robotics-Proj/algs/simulated_annealing.py:117\u001b[0m, in \u001b[0;36mSimulatedAnnealing.find_orientation.<locals>.<lambda>\u001b[0;34m(x)\u001b[0m\n\u001b[1;32m    110\u001b[0m \u001b[38;5;28;01mdef\u001b[39;00m \u001b[38;5;21mfind_orientation\u001b[39m(\n\u001b[1;32m    111\u001b[0m     \u001b[38;5;28mself\u001b[39m,\n\u001b[1;32m    112\u001b[0m     ref_img: np\u001b[38;5;241m.\u001b[39mndarray,\n\u001b[1;32m    113\u001b[0m     ref_position: \u001b[38;5;28mtuple\u001b[39m[\u001b[38;5;28mfloat\u001b[39m, \u001b[38;5;28mfloat\u001b[39m, \u001b[38;5;28mfloat\u001b[39m],\n\u001b[1;32m    114\u001b[0m     alg_config: Config,\n\u001b[1;32m    115\u001b[0m ) \u001b[38;5;241m-\u001b[39m\u001b[38;5;241m>\u001b[39m \u001b[38;5;28mtuple\u001b[39m[\u001b[38;5;28mtuple\u001b[39m[\u001b[38;5;28mfloat\u001b[39m, \u001b[38;5;28mfloat\u001b[39m, \u001b[38;5;28mfloat\u001b[39m], \u001b[38;5;28mfloat\u001b[39m]:\n\u001b[0;32m--> 117\u001b[0m     func \u001b[38;5;241m=\u001b[39m \u001b[38;5;28;01mlambda\u001b[39;00m x: \u001b[38;5;28;43mself\u001b[39;49m\u001b[38;5;241;43m.\u001b[39;49m\u001b[43mcalc_loss\u001b[49m\u001b[43m(\u001b[49m\u001b[43mref_position\u001b[49m\u001b[43m,\u001b[49m\u001b[43m \u001b[49m\u001b[43mref_img\u001b[49m\u001b[43m,\u001b[49m\u001b[43m \u001b[49m\u001b[43mx\u001b[49m\u001b[43m)\u001b[49m\n\u001b[1;32m    119\u001b[0m     alg \u001b[38;5;241m=\u001b[39m TqdmSA(\n\u001b[1;32m    120\u001b[0m         func,\n\u001b[1;32m    121\u001b[0m         init_temp\u001b[38;5;241m=\u001b[39malg_config\u001b[38;5;241m.\u001b[39minit_temp,\n\u001b[0;32m   (...)\u001b[0m\n\u001b[1;32m    125\u001b[0m         silent\u001b[38;5;241m=\u001b[39malg_config\u001b[38;5;241m.\u001b[39msilent,\n\u001b[1;32m    126\u001b[0m     )\n\u001b[1;32m    128\u001b[0m     orient, loss \u001b[38;5;241m=\u001b[39m alg\u001b[38;5;241m.\u001b[39mrun(time_limit\u001b[38;5;241m=\u001b[39malg_config\u001b[38;5;241m.\u001b[39mtime_limit)\n",
      "File \u001b[0;32m~/source/Robotics-Proj/algs/algorithm.py:33\u001b[0m, in \u001b[0;36mAlgorithm.calc_loss\u001b[0;34m(self, ref_position, ref_img, test_orient)\u001b[0m\n\u001b[1;32m     27\u001b[0m \u001b[38;5;28;01mdef\u001b[39;00m \u001b[38;5;21mcalc_loss\u001b[39m(\n\u001b[1;32m     28\u001b[0m     \u001b[38;5;28mself\u001b[39m,\n\u001b[1;32m     29\u001b[0m     ref_position: \u001b[38;5;28mtuple\u001b[39m[\u001b[38;5;28mfloat\u001b[39m, \u001b[38;5;28mfloat\u001b[39m, \u001b[38;5;28mfloat\u001b[39m],\n\u001b[1;32m     30\u001b[0m     ref_img: np\u001b[38;5;241m.\u001b[39mndarray,\n\u001b[1;32m     31\u001b[0m     test_orient: \u001b[38;5;28mtuple\u001b[39m[\u001b[38;5;28mfloat\u001b[39m, \u001b[38;5;28mfloat\u001b[39m, \u001b[38;5;28mfloat\u001b[39m],\n\u001b[1;32m     32\u001b[0m ) \u001b[38;5;241m-\u001b[39m\u001b[38;5;241m>\u001b[39m \u001b[38;5;28mfloat\u001b[39m:\n\u001b[0;32m---> 33\u001b[0m     test_img, _ \u001b[38;5;241m=\u001b[39m \u001b[38;5;28;43mself\u001b[39;49m\u001b[38;5;241;43m.\u001b[39;49m\u001b[43m_test_viewer\u001b[49m\u001b[38;5;241;43m.\u001b[39;49m\u001b[43mget_view_cropped\u001b[49m\u001b[43m(\u001b[49m\u001b[43mObjectConfig\u001b[49m\u001b[43m(\u001b[49m\u001b[43mtest_orient\u001b[49m\u001b[43m,\u001b[49m\u001b[43m \u001b[49m\u001b[43mref_position\u001b[49m\u001b[43m)\u001b[49m\u001b[43m)\u001b[49m\n\u001b[1;32m     35\u001b[0m     pad_shape \u001b[38;5;241m=\u001b[39m np\u001b[38;5;241m.\u001b[39mmaximum(ref_img\u001b[38;5;241m.\u001b[39mshape, test_img\u001b[38;5;241m.\u001b[39mshape)\n\u001b[1;32m     36\u001b[0m     ref_img \u001b[38;5;241m=\u001b[39m ImageHelpers\u001b[38;5;241m.\u001b[39mpad_to_shape(ref_img, pad_shape)\n",
      "File \u001b[0;32m~/source/Robotics-Proj/view_sampler.py:79\u001b[0m, in \u001b[0;36mViewSampler.get_view_cropped\u001b[0;34m(self, config, depth, margin_factor, allow_simulation)\u001b[0m\n\u001b[1;32m     76\u001b[0m     cropped \u001b[38;5;241m=\u001b[39m image[x1:x2, y1:y2, :]\n\u001b[1;32m     77\u001b[0m     \u001b[38;5;28;01mreturn\u001b[39;00m cropped, config\n\u001b[0;32m---> 79\u001b[0m image, config \u001b[38;5;241m=\u001b[39m \u001b[38;5;28;43mself\u001b[39;49m\u001b[38;5;241;43m.\u001b[39;49m\u001b[43mget_view\u001b[49m\u001b[43m(\u001b[49m\u001b[43mconfig\u001b[49m\u001b[43m,\u001b[49m\u001b[43m \u001b[49m\u001b[43mdepth\u001b[49m\u001b[43m)\u001b[49m\n\u001b[1;32m     80\u001b[0m mask \u001b[38;5;241m=\u001b[39m ImageHelpers\u001b[38;5;241m.\u001b[39mcalc_mask(image, bg_value\u001b[38;5;241m=\u001b[39m\u001b[38;5;241m0\u001b[39m)\n\u001b[1;32m     81\u001b[0m x1, y1, x2, y2 \u001b[38;5;241m=\u001b[39m ImageHelpers\u001b[38;5;241m.\u001b[39mcalc_bboxes(mask, margin_factor)\n",
      "File \u001b[0;32m~/source/Robotics-Proj/view_sampler.py:56\u001b[0m, in \u001b[0;36mViewSampler.get_view\u001b[0;34m(self, config, depth, allow_simulation)\u001b[0m\n\u001b[1;32m     54\u001b[0m \u001b[38;5;28mself\u001b[39m\u001b[38;5;241m.\u001b[39msimulator\u001b[38;5;241m.\u001b[39mset_object_orientation(config\u001b[38;5;241m.\u001b[39morientation)\n\u001b[1;32m     55\u001b[0m \u001b[38;5;28mself\u001b[39m\u001b[38;5;241m.\u001b[39msimulator\u001b[38;5;241m.\u001b[39msimulate_seconds(\u001b[38;5;28mself\u001b[39m\u001b[38;5;241m.\u001b[39m_simulation_time \u001b[38;5;28;01mif\u001b[39;00m allow_simulation \u001b[38;5;28;01melse\u001b[39;00m \u001b[38;5;241m0\u001b[39m)\n\u001b[0;32m---> 56\u001b[0m image \u001b[38;5;241m=\u001b[39m \u001b[38;5;28;43mself\u001b[39;49m\u001b[38;5;241;43m.\u001b[39;49m\u001b[43m_render_image\u001b[49m\u001b[43m(\u001b[49m\u001b[43mdepth\u001b[49m\u001b[43m)\u001b[49m\n\u001b[1;32m     57\u001b[0m config \u001b[38;5;241m=\u001b[39m \u001b[38;5;28mself\u001b[39m\u001b[38;5;241m.\u001b[39msimulator\u001b[38;5;241m.\u001b[39mget_object_config()\n\u001b[1;32m     58\u001b[0m \u001b[38;5;28;01mreturn\u001b[39;00m image, config\n",
      "File \u001b[0;32m~/source/Robotics-Proj/view_sampler.py:45\u001b[0m, in \u001b[0;36mViewSampler._render_image\u001b[0;34m(self, depth)\u001b[0m\n\u001b[1;32m     43\u001b[0m     image \u001b[38;5;241m=\u001b[39m np\u001b[38;5;241m.\u001b[39mexpand_dims(image, axis\u001b[38;5;241m=\u001b[39m\u001b[38;5;241m-\u001b[39m\u001b[38;5;241m1\u001b[39m)\n\u001b[1;32m     44\u001b[0m     \u001b[38;5;28;01mreturn\u001b[39;00m image\n\u001b[0;32m---> 45\u001b[0m \u001b[38;5;28;01mreturn\u001b[39;00m \u001b[38;5;28;43mself\u001b[39;49m\u001b[38;5;241;43m.\u001b[39;49m\u001b[43msimulator\u001b[49m\u001b[38;5;241;43m.\u001b[39;49m\u001b[43mrender\u001b[49m\u001b[43m(\u001b[49m\u001b[38;5;28;43mself\u001b[39;49m\u001b[38;5;241;43m.\u001b[39;49m\u001b[43mcamera_config\u001b[49m\u001b[38;5;241;43m.\u001b[39;49m\u001b[43mrotation\u001b[49m\u001b[43m,\u001b[49m\u001b[43m \u001b[49m\u001b[38;5;28;43mself\u001b[39;49m\u001b[38;5;241;43m.\u001b[39;49m\u001b[43mcamera_config\u001b[49m\u001b[38;5;241;43m.\u001b[39;49m\u001b[43mposition\u001b[49m\u001b[43m)\u001b[49m\n",
      "File \u001b[0;32m~/source/Robotics-Proj/simulator.py:46\u001b[0m, in \u001b[0;36mSimulator.render\u001b[0;34m(self, cam_rot, cam_pos)\u001b[0m\n\u001b[1;32m     43\u001b[0m \u001b[38;5;28mself\u001b[39m\u001b[38;5;241m.\u001b[39m_data\u001b[38;5;241m.\u001b[39mcam_xmat \u001b[38;5;241m=\u001b[39m Rotation\u001b[38;5;241m.\u001b[39mfrom_euler(\u001b[38;5;124m\"\u001b[39m\u001b[38;5;124mxyz\u001b[39m\u001b[38;5;124m\"\u001b[39m, cam_rot)\u001b[38;5;241m.\u001b[39mas_matrix()\u001b[38;5;241m.\u001b[39mflatten()\n\u001b[1;32m     45\u001b[0m \u001b[38;5;28mself\u001b[39m\u001b[38;5;241m.\u001b[39m_renderer\u001b[38;5;241m.\u001b[39mupdate_scene(\u001b[38;5;28mself\u001b[39m\u001b[38;5;241m.\u001b[39m_data, camera\u001b[38;5;241m=\u001b[39m\u001b[38;5;241m0\u001b[39m)\n\u001b[0;32m---> 46\u001b[0m image \u001b[38;5;241m=\u001b[39m \u001b[38;5;28;43mself\u001b[39;49m\u001b[38;5;241;43m.\u001b[39;49m\u001b[43m_renderer\u001b[49m\u001b[38;5;241;43m.\u001b[39;49m\u001b[43mrender\u001b[49m\u001b[43m(\u001b[49m\u001b[43m)\u001b[49m\n\u001b[1;32m     47\u001b[0m \u001b[38;5;28;01mreturn\u001b[39;00m image\n",
      "File \u001b[0;32m~/miniforge3/envs/robo-proj/lib/python3.11/site-packages/mujoco/renderer.py:239\u001b[0m, in \u001b[0;36mRenderer.render\u001b[0;34m(self, out)\u001b[0m\n\u001b[1;32m    237\u001b[0m   np\u001b[38;5;241m.\u001b[39mcopyto(\u001b[38;5;28mself\u001b[39m\u001b[38;5;241m.\u001b[39m_scene\u001b[38;5;241m.\u001b[39mflags, original_flags)\n\u001b[1;32m    238\u001b[0m \u001b[38;5;28;01melse\u001b[39;00m:\n\u001b[0;32m--> 239\u001b[0m   \u001b[43m_render\u001b[49m\u001b[38;5;241;43m.\u001b[39;49m\u001b[43mmjr_readPixels\u001b[49m\u001b[43m(\u001b[49m\u001b[43mout\u001b[49m\u001b[43m,\u001b[49m\u001b[43m \u001b[49m\u001b[38;5;28;43;01mNone\u001b[39;49;00m\u001b[43m,\u001b[49m\u001b[43m \u001b[49m\u001b[38;5;28;43mself\u001b[39;49m\u001b[38;5;241;43m.\u001b[39;49m\u001b[43m_rect\u001b[49m\u001b[43m,\u001b[49m\u001b[43m \u001b[49m\u001b[38;5;28;43mself\u001b[39;49m\u001b[38;5;241;43m.\u001b[39;49m\u001b[43m_mjr_context\u001b[49m\u001b[43m)\u001b[49m\n\u001b[1;32m    241\u001b[0m out[:] \u001b[38;5;241m=\u001b[39m np\u001b[38;5;241m.\u001b[39mflipud(out)\n\u001b[1;32m    243\u001b[0m \u001b[38;5;28;01mreturn\u001b[39;00m out\n",
      "\u001b[0;31mKeyboardInterrupt\u001b[0m: "
     ]
    }
   ],
   "source": [
    "from view_sampler import ViewSampler, CameraConfig\n",
    "from manipulated_object import ObjectConfig\n",
    "from loss_funcs import *\n",
    "from algs import *\n",
    "\n",
    "from eval_funcs import *\n",
    "from evaluator import Evaluator\n",
    "\n",
    "animator = Animator()\n",
    "\n",
    "# Create a camera configuration\n",
    "cam_config = CameraConfig(position=(0, 0, 0.1), rotation=(np.pi / 2, 0, 0), fov=60)\n",
    "world_viewer = ViewSampler(\"data/world_mug.xml\", cam_config, simulation_time=5)\n",
    "sim_viewer = ViewSampler(\"data/world_mug_sim.xml\", cam_config)\n",
    "\n",
    "loss_func = MSE()\n",
    "\n",
    "alg1 = ParticleSwarm(sim_viewer, loss_func=loss_func)\n",
    "alg1_config = ParticleSwarm.Config(time_limit=50, population=30, num_iters=300)\n",
    "\n",
    "alg2 = SimulatedAnnealing(sim_viewer, loss_func=loss_func)\n",
    "alg2_config = SimulatedAnnealing.Config(time_limit=50, num_iters=100, samples_per_temp=150)\n",
    "\n",
    "alg3 = RandomSampling(sim_viewer, loss_func=loss_func)\n",
    "alg3_config = RandomSampling.Config(time_limit=10, num_samples=10000)\n",
    "\n",
    "alg4 = DifferentialEvolution(sim_viewer, loss_func=loss_func)\n",
    "alg4_config = DifferentialEvolution.Config(time_limit=10, population=30, mut_prob=0.3)\n",
    "\n",
    "alg5 = UniformSampling(sim_viewer, loss_func=loss_func)\n",
    "alg5_config = UniformSampling.Config(time_limit=100, min_samples=10000, randomized=False)\n",
    "\n",
    "evaluator = Evaluator(world_viewer, eval_func=IOU_Diff(method=\"mae\"))\n",
    "\n",
    "alg2.register_loss_callback(animator.callback_func)\n",
    "\n",
    "init_position = (0, 1.3, 0.3)\n",
    "random_orientations = np.random.uniform(0, 2 * np.pi, size=(5, 3))\n",
    "init_positions = [ObjectConfig(orient, init_position) for orient in random_orientations]\n",
    "\n",
    "for alg, config in [(alg2, alg2_config)]:\n",
    "    losses = evaluator.evaluate(alg, config, init_positions)\n",
    "    print(f\"{type(alg).__name__}: {losses}\")"
   ]
  },
  {
   "cell_type": "code",
   "execution_count": null,
   "metadata": {},
   "outputs": [],
   "source": [
    "cv.destroyAllWindows()"
   ]
  }
 ],
 "metadata": {
  "kernelspec": {
   "display_name": "robo-proj",
   "language": "python",
   "name": "python3"
  },
  "language_info": {
   "codemirror_mode": {
    "name": "ipython",
    "version": 3
   },
   "file_extension": ".py",
   "mimetype": "text/x-python",
   "name": "python",
   "nbconvert_exporter": "python",
   "pygments_lexer": "ipython3",
   "version": "3.11.7"
  }
 },
 "nbformat": 4,
 "nbformat_minor": 2
}
