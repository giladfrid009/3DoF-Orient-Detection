{
 "cells": [
  {
   "cell_type": "code",
   "execution_count": null,
   "metadata": {},
   "outputs": [],
   "source": [
    "import cv2 as cv\n",
    "import numpy as np"
   ]
  },
  {
   "cell_type": "code",
   "execution_count": null,
   "metadata": {},
   "outputs": [],
   "source": [
    "from view_sampler import ViewSampler, CameraConfig\n",
    "from manipulated_object import ObjectConfig\n",
    "from image_helpers import ImageHelpers\n",
    "from tqdm.auto import tqdm\n",
    "from metric_funcs import *\n",
    "\n",
    "metric_func = Gaussian(MSE(), sigma=1)\n",
    "\n",
    "cam_config = CameraConfig(position=(0, 0, 0.1), rotation=(np.pi / 2, 0, 0), fov=60)\n",
    "world_viewer = ViewSampler(\"data/world_mug.xml\", cam_config, simulation_time=5)\n",
    "sim_viewer = ViewSampler(\"data/world_mug_sim.xml\", cam_config)\n",
    "\n",
    "object_init_position = (0, 1.3, 0.3)\n",
    "\n",
    "random_orientations = np.random.uniform(0, 2 * np.pi, size=(10, 3))\n",
    "for orient in random_orientations:\n",
    "    img_world, obj_config = world_viewer.get_view_cropped(ObjectConfig(orient, object_init_position))\n",
    "    random_orientations2 = np.random.uniform(0, 2 * np.pi, size=(1000, 3))\n",
    "    lowest_loss = np.inf\n",
    "    best_orient = None\n",
    "    best_image = None\n",
    "\n",
    "    for test_orient in tqdm(random_orientations2, leave=False):\n",
    "        img_sim, orient_sim = sim_viewer.get_view_cropped(ObjectConfig(test_orient, obj_config.position))\n",
    "\n",
    "        pad_shape = np.maximum(img_world.shape, img_sim.shape)\n",
    "        img_world = ImageHelpers.pad_to_shape(img_world, pad_shape)\n",
    "        img_sim = ImageHelpers.pad_to_shape(img_sim, pad_shape)\n",
    "\n",
    "        loss = metric_func(img_world, img_sim)\n",
    "\n",
    "        if loss < lowest_loss:\n",
    "            lowest_loss = loss\n",
    "            best_orient = orient_sim\n",
    "            best_image = img_sim\n",
    "\n",
    "    cv.imshow(\"real_img\", img_world)\n",
    "    cv.imshow(\"sim_img\", best_image)\n",
    "    cv.waitKey(0)"
   ]
  },
  {
   "cell_type": "code",
   "execution_count": null,
   "metadata": {},
   "outputs": [],
   "source": [
    "cv.destroyAllWindows()"
   ]
  }
 ],
 "metadata": {
  "kernelspec": {
   "display_name": "robo-proj",
   "language": "python",
   "name": "python3"
  },
  "language_info": {
   "codemirror_mode": {
    "name": "ipython",
    "version": 3
   },
   "file_extension": ".py",
   "mimetype": "text/x-python",
   "name": "python",
   "nbconvert_exporter": "python",
   "pygments_lexer": "ipython3",
   "version": "3.11.7"
  }
 },
 "nbformat": 4,
 "nbformat_minor": 2
}
