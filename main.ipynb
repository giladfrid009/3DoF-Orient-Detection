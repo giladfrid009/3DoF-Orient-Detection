{
 "cells": [
  {
   "cell_type": "code",
   "execution_count": 1,
   "metadata": {},
   "outputs": [],
   "source": [
    "import cv2 as cv\n",
    "import numpy as np"
   ]
  },
  {
   "cell_type": "code",
   "execution_count": 2,
   "metadata": {},
   "outputs": [
    {
     "name": "stderr",
     "output_type": "stream",
     "text": [
      "/home/yashlat/miniforge3/envs/robo-proj/lib/python3.11/site-packages/tqdm/auto.py:21: TqdmWarning: IProgress not found. Please update jupyter and ipywidgets. See https://ipywidgets.readthedocs.io/en/stable/user_install.html\n",
      "  from .autonotebook import tqdm as notebook_tqdm\n",
      "QStandardPaths: wrong permissions on runtime directory /run/user/1000/, 0755 instead of 0700\n",
      "                                                              \r"
     ]
    },
    {
     "ename": "KeyboardInterrupt",
     "evalue": "",
     "output_type": "error",
     "traceback": [
      "\u001b[0;31m---------------------------------------------------------------------------\u001b[0m",
      "\u001b[0;31mKeyboardInterrupt\u001b[0m                         Traceback (most recent call last)",
      "Cell \u001b[0;32mIn[2], line 28\u001b[0m\n\u001b[1;32m     26\u001b[0m cv\u001b[38;5;241m.\u001b[39mimshow(\u001b[38;5;124m\"\u001b[39m\u001b[38;5;124mreal_img\u001b[39m\u001b[38;5;124m\"\u001b[39m, img_world)\n\u001b[1;32m     27\u001b[0m cv\u001b[38;5;241m.\u001b[39mimshow(\u001b[38;5;124m\"\u001b[39m\u001b[38;5;124msim_img\u001b[39m\u001b[38;5;124m\"\u001b[39m, best_image)\n\u001b[0;32m---> 28\u001b[0m \u001b[43mcv\u001b[49m\u001b[38;5;241;43m.\u001b[39;49m\u001b[43mwaitKey\u001b[49m\u001b[43m(\u001b[49m\u001b[38;5;241;43m0\u001b[39;49m\u001b[43m)\u001b[49m\n",
      "\u001b[0;31mKeyboardInterrupt\u001b[0m: "
     ]
    }
   ],
   "source": [
    "from view_sampler import ViewSampler, CameraConfig\n",
    "from manipulated_object import ObjectConfig\n",
    "from metric_funcs import *\n",
    "from algs.random_sampling import RandomSampling\n",
    "from algs.uniform_sampling import UniformSampling\n",
    "\n",
    "# Create a camera configuration\n",
    "cam_config = CameraConfig(position=(0, 0, 0.1), rotation=(np.pi / 2, 0, 0), fov=60)\n",
    "world_viewer = ViewSampler(\"data/world_mug.xml\", cam_config, simulation_time=5)\n",
    "sim_viewer = ViewSampler(\"data/world_mug_sim.xml\", cam_config)\n",
    "\n",
    "object_init_position = (0, 1.3, 0.3)\n",
    "\n",
    "search_alg = UniformSampling(sim_viewer, RMSE())\n",
    "\n",
    "random_orientations = np.random.uniform(0, 2 * np.pi, size=(50, 3))\n",
    "\n",
    "for orient in random_orientations:\n",
    "    \n",
    "    img_world, obj_config = sim_viewer.get_view(ObjectConfig(orient, object_init_position))\n",
    "\n",
    "    best_orient = search_alg.find_orientation(ref_img=img_world, ref_position=obj_config.position, config=UniformSampling.Config(100, 1000))\n",
    "\n",
    "    best_image, _ = sim_viewer.get_view(ObjectConfig(best_orient, obj_config.position))\n",
    "\n",
    "    cv.imshow(\"real_img\", img_world)\n",
    "    cv.imshow(\"sim_img\", best_image)\n",
    "    cv.waitKey(0)"
   ]
  },
  {
   "cell_type": "code",
   "execution_count": null,
   "metadata": {},
   "outputs": [],
   "source": [
    "cv.destroyAllWindows()"
   ]
  }
 ],
 "metadata": {
  "kernelspec": {
   "display_name": "robo-proj",
   "language": "python",
   "name": "python3"
  },
  "language_info": {
   "codemirror_mode": {
    "name": "ipython",
    "version": 3
   },
   "file_extension": ".py",
   "mimetype": "text/x-python",
   "name": "python",
   "nbconvert_exporter": "python",
   "pygments_lexer": "ipython3",
   "version": "3.11.7"
  }
 },
 "nbformat": 4,
 "nbformat_minor": 2
}
