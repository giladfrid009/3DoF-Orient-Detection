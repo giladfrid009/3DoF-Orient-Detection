{
 "cells": [
  {
   "cell_type": "code",
   "execution_count": null,
   "metadata": {},
   "outputs": [],
   "source": [
    "import numpy as np\n",
    "from view_sampler import *\n",
    "from algs import *\n",
    "\n",
    "import loss_funcs\n",
    "from evaluate import eval_funcs\n",
    "\n",
    "from evaluate.eval_log import EvalLog\n",
    "from evaluate.evaluator import Evaluator\n",
    "from evaluate.dataset import Dataset\n",
    "from utils.visualize import *\n",
    "\n",
    "import mealpy\n",
    "\n",
    "plotter = SearchPlotter(update_freq=100, history=None, alpha=0.5)\n",
    "\n",
    "# Create a camera configuration\n",
    "cam_config = CameraConfig(location=(0, 0, 0.3), rotation=(np.pi / 2, 0, 0), fov=60)\n",
    "world_viewer = ViewSampler(\"data/hammer/world.xml\", cam_config, simulation_time=0)\n",
    "sim_viewer = ViewSampler(\"data/hammer/world_sim.xml\", cam_config)\n",
    "\n",
    "loss_func = loss_funcs.IOU()\n",
    "\n",
    "algorithms = [\n",
    "    MealAlgorithm(sim_viewer, loss_func, mealpy.swarm_based.PSO.OriginalPSO()),\n",
    "    MealAlgorithm(sim_viewer, loss_func, mealpy.swarm_based.MSA.OriginalMSA()),\n",
    "    MealAlgorithm(sim_viewer, loss_func, mealpy.swarm_based.SCSO.OriginalSCSO()),\n",
    "    MealAlgorithm(sim_viewer, loss_func, mealpy.physics_based.SA.OriginalSA()),\n",
    "    MealAlgorithm(sim_viewer, loss_func, mealpy.physics_based.EVO.OriginalEVO()),\n",
    "    MealAlgorithm(sim_viewer, loss_func, mealpy.physics_based.EFO.DevEFO()),\n",
    "    MealAlgorithm(sim_viewer, loss_func, mealpy.physics_based.EO.ModifiedEO()),\n",
    "    MealAlgorithm(sim_viewer, loss_func, mealpy.human_based.ICA.OriginalICA(revolution_prob=0.4, empire_count=7)),\n",
    "    MealAlgorithm(sim_viewer, loss_func, mealpy.human_based.FBIO.DevFBIO()),\n",
    "    MealAlgorithm(sim_viewer, loss_func, mealpy.human_based.SARO.OriginalSARO()),\n",
    "    MealAlgorithm(sim_viewer, loss_func, mealpy.evolutionary_based.GA.BaseGA()),\n",
    "    MealAlgorithm(sim_viewer, loss_func, mealpy.evolutionary_based.CRO.OCRO()),\n",
    "    MealAlgorithm(sim_viewer, loss_func, mealpy.evolutionary_based.DE.OriginalDE()),\n",
    "    MealAlgorithm(sim_viewer, loss_func, mealpy.math_based.PSS.OriginalPSS()),\n",
    "    MealAlgorithm(sim_viewer, loss_func, mealpy.math_based.SCA.DevSCA()),\n",
    "    MealAlgorithm(sim_viewer, loss_func, mealpy.math_based.HC.OriginalHC()),\n",
    "]\n",
    "\n",
    "from mealpy.tuner import Tuner\n",
    "\n",
    "eval_func = eval_funcs.XorDiff(0.1)\n",
    "evaluator = Evaluator(world_viewer, sim_viewer, eval_func=eval_func)\n",
    "\n",
    "dataset = Dataset.create_random(location=(0, 1.3, 0.3), num_samples=100, seed=1)\n",
    "# dataset.visualize(sim_viewer)\n",
    "run_config = MealRunConfig(time_limit=15, silent=True)\n",
    "\n",
    "for alg in algorithms:\n",
    "    log = EvalLog(alg)\n",
    "    eval_losses = evaluator.evaluate(alg, run_config, dataset, log=None, plotter=None)\n",
    "    log.save(\"logs/\")\n",
    "    print(f\"{alg.get_name()} {alg.loss_func.get_name()}: {eval_losses}\")"
   ]
  },
  {
   "cell_type": "code",
   "execution_count": null,
   "metadata": {},
   "outputs": [],
   "source": [
    "world_viewer.close()\n",
    "sim_viewer.close()\n",
    "plotter.close()"
   ]
  }
 ],
 "metadata": {
  "kernelspec": {
   "display_name": "robo-proj",
   "language": "python",
   "name": "python3"
  },
  "language_info": {
   "codemirror_mode": {
    "name": "ipython",
    "version": 3
   },
   "file_extension": ".py",
   "mimetype": "text/x-python",
   "name": "python",
   "nbconvert_exporter": "python",
   "pygments_lexer": "ipython3",
   "version": "3.11.8"
  }
 },
 "nbformat": 4,
 "nbformat_minor": 2
}
