{
 "cells": [
  {
   "cell_type": "code",
   "execution_count": null,
   "metadata": {},
   "outputs": [],
   "source": [
    "import numpy as np\n",
    "from view_sampler import ViewSampler, CameraConfig\n",
    "from manipulated_object import ObjectPosition\n",
    "import loss_funcs\n",
    "from evaluate import eval_funcs\n",
    "from algs import *\n",
    "\n",
    "from utils.orient import OrientUtils\n",
    "from evaluate.evaluator import Evaluator\n",
    "from utils.visualize import SearchPlotter\n",
    "from utils.image import ImageUtils\n",
    "\n",
    "import mealpy\n",
    "import cv2 as cv\n",
    "\n",
    "plotter = SearchPlotter(update_freq=100)\n",
    "\n",
    "# Create a camera configuration\n",
    "cam_config = CameraConfig(location=(0, 0, 0.1), rotation=(np.pi / 2, 0, 0), fov=60)\n",
    "world_viewer = ViewSampler(\"data/mug/world.xml\", cam_config, simulation_time=5)\n",
    "sim_viewer = ViewSampler(\"data/mug/world_sim.xml\", cam_config)\n",
    "\n",
    "loss_func = loss_funcs.IOU()\n",
    "\n",
    "alg = UniformSampling(sim_viewer, loss_func=loss_func)\n",
    "alg_config = UniformSampling.Config(time_limit=200, min_samples=350)\n",
    "\n",
    "eval_func=eval_funcs.XorDiff(0.1)\n",
    "evaluator = Evaluator(world_viewer, eval_func=eval_func)\n",
    "\n",
    "init_location = (0, 1.3, 0.3)\n",
    "random_orientations = OrientUtils.generate_random(80)\n",
    "eval_positions = [ObjectPosition(orient, init_location) for orient in random_orientations]\n",
    "\n",
    "for pos in eval_positions:\n",
    "    orig_img, new_pos = world_viewer.get_view_cropped(pos)\n",
    "    orient, loss = alg.solve(orig_img, new_pos.location, alg_config)\n",
    "    pred_img, _ = world_viewer.get_view_cropped(ObjectPosition(orient, new_pos.location))\n",
    "\n",
    "    cv.imshow(\"Original\", orig_img)\n",
    "    cv.waitKey(0)\n",
    "    cv.imshow(\"Predicted\", pred_img)\n",
    "    cv.waitKey(0)\n",
    "\n",
    "    orig_depth, _ = world_viewer.get_view_cropped(new_pos, depth=True, allow_simulation=False)\n",
    "    pred_depth, _ = world_viewer.get_view_cropped(ObjectPosition(orient, new_pos.location), depth=True, allow_simulation=False)\n",
    "\n",
    "    eval_loss = eval_func(orig_depth, pred_depth)\n",
    "    print(eval_loss)\n",
    "\n",
    "for alg, config in [(alg, alg_config)]:\n",
    "    eval_losses = evaluator.evaluate(alg, config, eval_positions)\n",
    "    print(f\"{type(alg).__name__}: {eval_losses}\")\n"
   ]
  },
  {
   "cell_type": "code",
   "execution_count": null,
   "metadata": {},
   "outputs": [],
   "source": [
    "import numpy as np\n",
    "from view_sampler import ViewSampler, CameraConfig\n",
    "from manipulated_object import ObjectPosition\n",
    "import loss_funcs\n",
    "from evaluate import eval_funcs\n",
    "from algs import *\n",
    "\n",
    "from utils.orient import OrientUtils\n",
    "from evaluate.evaluator import Evaluator\n",
    "# from utils.visualize import SearchPlotter\n",
    "from utils.image import ImageUtils\n",
    "\n",
    "import mealpy\n",
    "import cv2 as cv\n",
    "\n",
    "# plotter = SearchPlotter(update_freq=100, alpha=[0.985])\n",
    "\n",
    "# Create a camera configuration\n",
    "cam_config = CameraConfig(location=(0, 0, 0.3), rotation=(np.pi / 2, 0, 0), fov=60)\n",
    "world_viewer = ViewSampler(\"data/hammer/world.xml\", cam_config, simulation_time=5)\n",
    "sim_viewer = ViewSampler(\"data/hammer/world_sim.xml\", cam_config)\n",
    "\n",
    "loss_func = loss_funcs.IOU()\n",
    "alg_config = MealAlgorithm.Config(time_limit=15, silent=True)\n",
    "\n",
    "eval_func=eval_funcs.XorDiff(0.1)\n",
    "\n",
    "evaluator = Evaluator(world_viewer, eval_func=eval_func)\n",
    "# evaluator.register_callback(lambda x: plotter.reset())\n",
    "\n",
    "init_location = (0, 1.3, 0.3)\n",
    "random_orientations = OrientUtils.generate_uniform(3)\n",
    "eval_positions = [ObjectPosition(orient, init_location) for orient in random_orientations]\n",
    "\n",
    "algorithms: list[MealAlgorithm] = [\n",
    "    MealAlgorithm(sim_viewer, loss_func, mealpy.physics_based.SA.OriginalSA(temp_init=10 * 2 * np.pi, step_size=0.1)),\n",
    "    MealAlgorithm(sim_viewer, loss_func, mealpy.physics_based.SA.SwarmSA(temp_init=10 * 2 * np.pi, step_size=np.pi/100)),\n",
    "    MealAlgorithm(sim_viewer, loss_func, mealpy.swarm_based.PSO.OriginalPSO()),\n",
    "    MealAlgorithm(sim_viewer, loss_func, mealpy.swarm_based.PSO.AIW_PSO()),\n",
    "]\n",
    "# meal_alg = mealpy.human_based.BRO.DevBRO()\n",
    "# meal_alg = mealpy.math_based.CEM.OriginalCEM()\n",
    "# meal_alg = mealpy.music_based.HS.DevHS(pop_size=10)\n",
    "# meal_alg = mealpy.swarm_based.PSO.OriginalPSO()\n",
    "# meal_alg = mealpy.physics_based.SA.OriginalSA(pop_size=10, temp_init=10 * 2 * np.pi, step_size=0.2)\n",
    "# meal_alg = mealpy.human_based.ICA.OriginalICA(empire_count=7, revolution_rate=0.4) # best!!\n",
    "# meal_alg = mealpy.bio_based.BBO.DevBBO() # potentially good!\n",
    "meal_alg = mealpy.bio_based.TSA.OriginalTSA() # potentially good!\n",
    "\n",
    "algorithms: list[MealAlgorithm] = [\n",
    "    MealAlgorithm(sim_viewer, loss_func, meal_alg),\n",
    "]\n",
    "\n",
    "# evaluator.enable_logging(\"Ealuations/UniformDet/Mug/IOU/\")\n",
    "for alg in algorithms:\n",
    "    # alg.register_callback(plotter.add_data)\n",
    "    eval_losses = evaluator.evaluate(alg, alg_config, eval_positions)\n",
    "    print(f\"{alg.get_name()}: {eval_losses}\")\n",
    "\n",
    "world_viewer.close()\n",
    "sim_viewer.close()\n",
    "# plotter.close()"
   ]
  },
  {
   "cell_type": "code",
   "execution_count": null,
   "metadata": {},
   "outputs": [],
   "source": [
    "import loss_funcs\n",
    "from algs import *\n",
    "\n",
    "import mealpy\n",
    "from multiprocessing import Process\n",
    "import evaluation_process as ev\n",
    "\n",
    "loss_func = loss_funcs.IOU()\n",
    "alg_config = MealAlgorithm.Config(time_limit=15, silent=True)\n",
    "root_path = \"Ealuations/OverNight/UniformDet/Hammer/IOU/\"\n",
    "\n",
    "if __name__ == '__main__':\n",
    "    for idx, (alg_name, meal_alg) in enumerate(mealpy.get_all_optimizers().items()):\n",
    "        if \"DevSARO\" not in alg_name:\n",
    "            continue\n",
    "        print(f\"===================== Epoch {idx} =====================\")\n",
    "        print(f\"Starting Evaluation of: {alg_name}\")\n",
    "        p = Process(target=ev.evaluate, args=(meal_alg,alg_config,loss_func,root_path))\n",
    "        p.start()\n",
    "        p.join()\n"
   ]
  },
  {
   "cell_type": "code",
   "execution_count": null,
   "metadata": {},
   "outputs": [],
   "source": [
    "import numpy as np\n",
    "from utils.orient import OrientUtils\n",
    "len(OrientUtils.generate_uniform(9))"
   ]
  },
  {
   "cell_type": "markdown",
   "metadata": {},
   "source": [
    "# Analisys"
   ]
  },
  {
   "cell_type": "markdown",
   "metadata": {},
   "source": [
    "## Plotting Results"
   ]
  },
  {
   "cell_type": "code",
   "execution_count": null,
   "metadata": {},
   "outputs": [],
   "source": [
    "import matplotlib.pyplot as plt\n",
    "import seaborn as sns\n",
    "import pandas as pd\n"
   ]
  },
  {
   "cell_type": "code",
   "execution_count": null,
   "metadata": {},
   "outputs": [],
   "source": [
    "from evaluate.mealpy_log import MealLog\n",
    "from mealpy.utils.history import History\n",
    "from utils.file_utils import LogFiles\n",
    "import pandas as pd\n",
    "\n",
    "hs_path = \"/Users/guycohen/Library/CloudStorage/OneDrive-Technion/1 Courses/Robotics/Robotics-Proj/Ealuations/UniformDet/Mug/IOU/DevHS_20240318-191420.pickle\"\n",
    "pso_path = \"/Users/guycohen/Library/CloudStorage/OneDrive-Technion/1 Courses/Robotics/Robotics-Proj/Ealuations/UniformDet/Mug/IOU/OriginalPSO_20240318-194706.pickle\"\n",
    "bro_path = \"/Users/guycohen/Library/CloudStorage/OneDrive-Technion/1 Courses/Robotics/Robotics-Proj/Ealuations/UniformDet/Mug/IOU/DevBRO_20240318-201942.pickle\"\n",
    "\n",
    "path = \"Evals/OverNight/UniformDet/Hammer/IOU\"\n",
    "\n",
    "# logHS = MealLog.load(hs_path)\n",
    "# logPSO = MealLog.load(pso_path)\n",
    "# logBRO = MealLog.load(bro_path)\n",
    "\n",
    "files = LogFiles(path)\n",
    "\n",
    "\n"
   ]
  },
  {
   "cell_type": "code",
   "execution_count": null,
   "metadata": {},
   "outputs": [],
   "source": [
    "data = []\n",
    "for _ in files:\n",
    "    data.append(files.to_dataframe())\n",
    "\n",
    "dataframe = pd.concat(data, axis=0, ignore_index=True) "
   ]
  },
  {
   "cell_type": "code",
   "execution_count": null,
   "metadata": {},
   "outputs": [],
   "source": [
    "dataframe.columns"
   ]
  },
  {
   "cell_type": "code",
   "execution_count": null,
   "metadata": {},
   "outputs": [],
   "source": [
    "algs = pd.unique(dataframe['alg'])\n",
    "medians = {'alg': [], 'median':[]}\n",
    "for alg in algs:\n",
    "    mask = dataframe['alg']==alg\n",
    "    # print(dataframe[mask][['eval_loss']])\n",
    "    median = dataframe[mask][['eval_loss']].median()\n",
    "    # medians[alg] = median.item()\n",
    "    medians['alg'].append(alg)\n",
    "    medians['median'].append(median.item())\n"
   ]
  },
  {
   "cell_type": "code",
   "execution_count": null,
   "metadata": {},
   "outputs": [],
   "source": [
    "medians = pd.DataFrame(medians)\n",
    "medians.sort_values(by='median', inplace=True)"
   ]
  },
  {
   "cell_type": "code",
   "execution_count": null,
   "metadata": {},
   "outputs": [],
   "source": [
    "# fig, ax = plt.subplots(figsize=(10,40))\n",
    "g = sns.catplot(data=dataframe, x='alg', y='eval_loss', hue='alg', kind='box', errorbar='sd', aspect=8, order=medians.alg, hue_order=medians.alg)\n",
    "g.ax.tick_params(axis='x', rotation=90)"
   ]
  },
  {
   "cell_type": "code",
   "execution_count": null,
   "metadata": {},
   "outputs": [],
   "source": [
    "print(medians.alg.to_list())"
   ]
  }
 ],
 "metadata": {
  "kernelspec": {
   "display_name": "Python 3 (ipykernel)",
   "language": "python",
   "name": "python3"
  },
  "language_info": {
   "codemirror_mode": {
    "name": "ipython",
    "version": 3
   },
   "file_extension": ".py",
   "mimetype": "text/x-python",
   "name": "python",
   "nbconvert_exporter": "python",
   "pygments_lexer": "ipython3",
   "version": "3.12.2"
  }
 },
 "nbformat": 4,
 "nbformat_minor": 2
}
