{
 "cells": [
  {
   "cell_type": "code",
   "execution_count": 1,
   "metadata": {},
   "outputs": [],
   "source": [
    "import cv2 as cv\n",
    "import numpy as np"
   ]
  },
  {
   "cell_type": "code",
   "execution_count": 2,
   "metadata": {},
   "outputs": [
    {
     "name": "stdout",
     "output_type": "stream",
     "text": [
      "Evaluating Algorithm: MealpyAlgorithm\n",
      "Alg Config: MealpyAlgorithm.Config(time_limit=10, seed=1, run_mode='single', n_workers=None, log_dest='console')\n",
      "Loss Function: IOU\n"
     ]
    },
    {
     "data": {
      "application/vnd.jupyter.widget-view+json": {
       "model_id": "8e2f4c9f9a0d44f19627b1dda66887bc",
       "version_major": 2,
       "version_minor": 0
      },
      "text/plain": [
       "Evaluating:   0%|          | 0/5 [00:00<?, ?it/s]"
      ]
     },
     "metadata": {},
     "output_type": "display_data"
    },
    {
     "name": "stderr",
     "output_type": "stream",
     "text": [
      "2024/03/16 05:16:52 PM, INFO, mealpy.physics_based.CDO.OriginalCDO: Solving single objective optimization problem.\n",
      "2024/03/16 05:16:56 PM, INFO, mealpy.physics_based.CDO.OriginalCDO: >>>Problem: orient_detection, Epoch: 1, Current best: 0.19024725274725274, Global best: 0.16962384669978703, Runtime: 1.83966 seconds\n",
      "2024/03/16 05:16:56 PM, WARNING, mealpy.physics_based.CDO.OriginalCDO: Stopping criterion with maximum running time/time bound (TB) (seconds) occurred. End program!\n",
      "2024/03/16 05:16:56 PM, INFO, mealpy.physics_based.CDO.OriginalCDO: Solving single objective optimization problem.\n",
      "2024/03/16 05:17:00 PM, INFO, mealpy.physics_based.CDO.OriginalCDO: >>>Problem: orient_detection, Epoch: 1, Current best: 0.1319828115408226, Global best: 0.1319828115408226, Runtime: 1.96829 seconds\n",
      "2024/03/16 05:17:00 PM, WARNING, mealpy.physics_based.CDO.OriginalCDO: Stopping criterion with maximum running time/time bound (TB) (seconds) occurred. End program!\n",
      "2024/03/16 05:17:00 PM, INFO, mealpy.physics_based.CDO.OriginalCDO: Solving single objective optimization problem.\n",
      "2024/03/16 05:17:04 PM, INFO, mealpy.physics_based.CDO.OriginalCDO: >>>Problem: orient_detection, Epoch: 1, Current best: 0.184392699811202, Global best: 0.184392699811202, Runtime: 1.88707 seconds\n",
      "2024/03/16 05:17:04 PM, WARNING, mealpy.physics_based.CDO.OriginalCDO: Stopping criterion with maximum running time/time bound (TB) (seconds) occurred. End program!\n",
      "2024/03/16 05:17:04 PM, INFO, mealpy.physics_based.CDO.OriginalCDO: Solving single objective optimization problem.\n",
      "2024/03/16 05:17:08 PM, INFO, mealpy.physics_based.CDO.OriginalCDO: >>>Problem: orient_detection, Epoch: 1, Current best: 0.13425414364640886, Global best: 0.07402985074626867, Runtime: 1.92203 seconds\n",
      "2024/03/16 05:17:08 PM, WARNING, mealpy.physics_based.CDO.OriginalCDO: Stopping criterion with maximum running time/time bound (TB) (seconds) occurred. End program!\n",
      "2024/03/16 05:17:08 PM, INFO, mealpy.physics_based.CDO.OriginalCDO: Solving single objective optimization problem.\n",
      "2024/03/16 05:17:11 PM, INFO, mealpy.physics_based.CDO.OriginalCDO: >>>Problem: orient_detection, Epoch: 1, Current best: 0.1450028885037551, Global best: 0.14318840579710146, Runtime: 1.85179 seconds\n",
      "2024/03/16 05:17:11 PM, WARNING, mealpy.physics_based.CDO.OriginalCDO: Stopping criterion with maximum running time/time bound (TB) (seconds) occurred. End program!\n"
     ]
    },
    {
     "name": "stdout",
     "output_type": "stream",
     "text": [
      "MealpyAlgorithm: [0.6153972909063076, 0.6056629043602979, 0.7464269373367288, 0.5104934330998567, 0.6040009806965151]\n"
     ]
    },
    {
     "name": "stderr",
     "output_type": "stream",
     "text": [
      "can't invoke \"event\" command: application has been destroyed\n",
      "    while executing\n",
      "\"event generate $w <<ThemeChanged>>\"\n",
      "    (procedure \"ttk::ThemeChanged\" line 6)\n",
      "    invoked from within\n",
      "\"ttk::ThemeChanged\"\n"
     ]
    }
   ],
   "source": [
    "from view_sampler import ViewSampler, CameraConfig\n",
    "from manipulated_object import ObjectPosition\n",
    "import loss_funcs\n",
    "from evaluate import eval_funcs\n",
    "from algs import *\n",
    "\n",
    "from evaluate.evaluator import Evaluator\n",
    "from visualize import SearchPlotter\n",
    "\n",
    "\n",
    "from algs.mealpy_algorithm import MealpyAlgorithm\n",
    "from mealpy.physics_based.CDO import OriginalCDO\n",
    "\n",
    "plotter = SearchPlotter()\n",
    "\n",
    "# Create a camera configuration\n",
    "cam_config = CameraConfig(location=(0, 0, 0.1), rotation=(np.pi / 2, 0, 0), fov=60)\n",
    "world_viewer = ViewSampler(\"data/world_mug.xml\", cam_config, simulation_time=5)\n",
    "sim_viewer = ViewSampler(\"data/world_mug_sim.xml\", cam_config)\n",
    "\n",
    "loss_func = loss_funcs.IOU()\n",
    "\n",
    "alg = MealpyAlgorithm(sim_viewer, loss_func=loss_func, optimizer=OriginalCDO())\n",
    "alg_config = MealpyAlgorithm.Config(time_limit=10, seed=1)\n",
    "\n",
    "evaluator = Evaluator(world_viewer, eval_func=eval_funcs.NormXorDiff(obj_depth=1.0, method=\"mae\"))\n",
    "evaluator.enable_logging(\"Evals/test\", True)\n",
    "\n",
    "init_location = (0, 1.3, 0.3)\n",
    "random_orientations = np.random.uniform(0, 2 * np.pi, size=(5, 3))\n",
    "eval_positions = [ObjectPosition(orient, init_location) for orient in random_orientations]\n",
    "\n",
    "for alg, config in [(alg, alg_config)]:\n",
    "    eval_losses = evaluator.evaluate(alg, config, eval_positions)\n",
    "    print(f\"{type(alg).__name__}: {eval_losses}\")\n",
    "\n",
    "plotter.close()\n",
    "world_viewer.close()"
   ]
  },
  {
   "cell_type": "code",
   "execution_count": 3,
   "metadata": {},
   "outputs": [
    {
     "data": {
      "text/plain": [
       "{'list_global_best': [id: 212, target: Objectives: [0.16962385], Fitness: 0.16962384669978703, solution: [1.97376148 1.96693771 3.62351118]],\n",
       " 'list_current_best': [id: 128, target: Objectives: [0.19024725], Fitness: 0.19024725274725274, solution: [2.48223811 1.98625607 4.19906151]],\n",
       " 'list_epoch_time': [1.8396641351282597],\n",
       " 'list_global_best_fit': [0.16962384669978703],\n",
       " 'list_current_best_fit': [0.19024725274725274],\n",
       " 'list_population': [],\n",
       " 'list_diversity': [1.1793550958166101],\n",
       " 'list_exploitation': array([0.]),\n",
       " 'list_exploration': array([100.]),\n",
       " 'list_global_worst': [id: 213, target: Objectives: [0.47766528], Fitness: 0.4776652769505658, solution: [3.10120157 6.10473288 1.79363093]],\n",
       " 'list_current_worst': [id: 118, target: Objectives: [0.46278679], Fitness: 0.4627867935086738, solution: [6.28318531 3.05117119 6.28318531]],\n",
       " 'epoch': 1,\n",
       " 'log_to': 'console',\n",
       " 'log_file': None,\n",
       " 'logger': <Logger mealpy.utils.history.History (INFO)>}"
      ]
     },
     "execution_count": 3,
     "metadata": {},
     "output_type": "execute_result"
    }
   ],
   "source": [
    "from exp_logging import Experiment\n",
    "\n",
    "exp = Experiment.load(\"/home/guycoh/RoboticsAndAI/Robotics-Proj/Evals/test/OriginalCDO_0.res\")\n",
    "exp.history.__dict__\n",
    "\n",
    "\n"
   ]
  }
 ],
 "metadata": {
  "kernelspec": {
   "display_name": "robo-proj",
   "language": "python",
   "name": "python3"
  },
  "language_info": {
   "codemirror_mode": {
    "name": "ipython",
    "version": 3
   },
   "file_extension": ".py",
   "mimetype": "text/x-python",
   "name": "python",
   "nbconvert_exporter": "python",
   "pygments_lexer": "ipython3",
   "version": "3.11.7"
  }
 },
 "nbformat": 4,
 "nbformat_minor": 2
}
