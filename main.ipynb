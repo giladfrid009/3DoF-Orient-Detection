{
 "cells": [
  {
   "cell_type": "code",
   "execution_count": null,
   "metadata": {},
   "outputs": [],
   "source": [
    "import cv2 as cv\n",
    "import numpy as np"
   ]
  },
  {
   "cell_type": "code",
   "execution_count": null,
   "metadata": {},
   "outputs": [],
   "source": [
    "from view_sampler import ViewSampler, CameraConfig\n",
    "from manipulated_object import ObjectConfig\n",
    "from loss_funcs import *\n",
    "from algs.random_sampling import RandomSampling\n",
    "from algs.particle_swarm import ParticleSwarm\n",
    "from algs.simulated_annealing import SimulatedAnnealing\n",
    "\n",
    "# Create a camera configuration\n",
    "cam_config = CameraConfig(position=(0, 0, 0.1), rotation=(np.pi / 2, 0, 0), fov=60)\n",
    "world_viewer = ViewSampler(\"data/world_mug.xml\", cam_config, simulation_time=5)\n",
    "sim_viewer = ViewSampler(\"data/world_mug_sim.xml\", cam_config)\n",
    "\n",
    "object_init_position = (0, 1.3, 0.3)\n",
    "\n",
    "search_alg = ParticleSwarm(sim_viewer, MSE())\n",
    "\n",
    "random_orientations = np.random.uniform(0, 2 * np.pi, size=(50, 3))\n",
    "\n",
    "for orient in random_orientations:\n",
    "\n",
    "    img_world, obj_config = world_viewer.get_view(ObjectConfig(orient, object_init_position), depth=True)\n",
    "    print(img_world.shape)\n",
    "    print(img_world.dtype)\n",
    "    print(img_world.min(), img_world.max())\n",
    "\n",
    "    img_world, obj_config = world_viewer.get_view_cropped(ObjectConfig(orient, object_init_position))\n",
    "\n",
    "    best_orient = search_alg.find_orientation(\n",
    "        ref_img=img_world, ref_position=obj_config.position, config=ParticleSwarm.Config(time_limit=100)\n",
    "    )\n",
    "\n",
    "    best_image, _ = sim_viewer.get_view_cropped(ObjectConfig(best_orient, obj_config.position))\n",
    "\n",
    "    cv.imshow(\"real_img\", img_world)\n",
    "    cv.imshow(\"sim_img\", best_image)\n",
    "    cv.waitKey(0)"
   ]
  },
  {
   "cell_type": "code",
   "execution_count": null,
   "metadata": {},
   "outputs": [],
   "source": [
    "cv.destroyAllWindows()"
   ]
  }
 ],
 "metadata": {
  "kernelspec": {
   "display_name": "robo-proj",
   "language": "python",
   "name": "python3"
  },
  "language_info": {
   "codemirror_mode": {
    "name": "ipython",
    "version": 3
   },
   "file_extension": ".py",
   "mimetype": "text/x-python",
   "name": "python",
   "nbconvert_exporter": "python",
   "pygments_lexer": "ipython3",
   "version": "3.11.7"
  }
 },
 "nbformat": 4,
 "nbformat_minor": 2
}
