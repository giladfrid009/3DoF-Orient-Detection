{
 "cells": [
  {
   "cell_type": "code",
   "execution_count": 1,
   "metadata": {},
   "outputs": [],
   "source": [
    "from typing import Iterable\n",
    "import numpy as np\n",
    "\n",
    "from view_sampler import *\n",
    "from algs import *\n",
    "\n",
    "import loss_funcs\n",
    "from evaluate import eval_funcs\n",
    "from eval_process import evaluate\n",
    "\n",
    "from evaluate.dataset import Dataset\n",
    "from evaluate.eval_log import EvalLog\n",
    "from evaluate.evaluator import Evaluator\n",
    "from evaluate.dataset import Dataset\n",
    "from utils.concurrent import TqdmPool\n",
    "\n",
    "import mealpy\n",
    "\n",
    "import config\n",
    "import concurrent\n",
    "\n",
    "\n",
    "OPTIMIZERS = [\n",
    "    mealpy.swarm_based.PSO.OriginalPSO(c1=1, c2=2.05, w=0.2),\n",
    "    mealpy.swarm_based.MSA.OriginalMSA(),\n",
    "    mealpy.swarm_based.SCSO.OriginalSCSO(),\n",
    "    mealpy.physics_based.SA.OriginalSA(),\n",
    "    mealpy.physics_based.EVO.OriginalEVO(),\n",
    "    mealpy.physics_based.EFO.DevEFO(),\n",
    "    mealpy.physics_based.EO.ModifiedEO(),\n",
    "    mealpy.human_based.ICA.OriginalICA(\n",
    "        empire_count=7,\n",
    "        assimilation_coeff=1.5,\n",
    "        revolution_prob=0.4,\n",
    "        revolution_rate=0.05,\n",
    "        revolution_step_size=0.175,\n",
    "    ),\n",
    "    mealpy.human_based.FBIO.DevFBIO(),\n",
    "    mealpy.human_based.SARO.OriginalSARO(se=0.5, mu=5),\n",
    "    mealpy.evolutionary_based.GA.BaseGA(),\n",
    "    mealpy.evolutionary_based.CRO.OCRO(),\n",
    "    mealpy.evolutionary_based.DE.OriginalDE(strategy=0),\n",
    "    mealpy.math_based.PSS.OriginalPSS(acceptance_rate=0.925),\n",
    "    mealpy.math_based.SCA.DevSCA(),\n",
    "    mealpy.math_based.HC.OriginalHC(neighbour_size=200),\n",
    "]\n",
    "\n",
    "split_idx = 106\n",
    "\n"
   ]
  },
  {
   "cell_type": "code",
   "execution_count": 2,
   "metadata": {},
   "outputs": [
    {
     "data": {
      "application/vnd.jupyter.widget-view+json": {
       "model_id": "c529485a0023444aa58b0e4534968eb8",
       "version_major": 2,
       "version_minor": 0
      },
      "text/plain": [
       "  0%|          | 0/1 [00:00<?, ?it/s]"
      ]
     },
     "metadata": {},
     "output_type": "display_data"
    },
    {
     "name": "stderr",
     "output_type": "stream",
     "text": [
      "/home/guycoh/mambaforge/envs/robo-proj/lib/python3.12/site-packages/mealpy/swarm_based/MRFO.py:269: RuntimeWarning: divide by zero encountered in divide\n",
      "  a = f1 / ((x1 - x2) * (x1 - x3)) + f2 / ((x2 - x1) * (x2 - x3)) + f3 / ((x3 - x1) * (x3 - x2))\n",
      "/home/guycoh/mambaforge/envs/robo-proj/lib/python3.12/site-packages/mealpy/swarm_based/MRFO.py:270: RuntimeWarning: invalid value encountered in divide\n",
      "  gx = ((x3 ** 2 - x2 ** 2) * f1 + (x1 ** 2 - x3 ** 2) * f2 + (x2 ** 2 - x1 ** 2) * f3) / (2 * ((x3 - x2) * f1 + (x1 - x3) * f2 + (x2 - x1) * f3))\n"
     ]
    },
    {
     "name": "stdout",
     "output_type": "stream",
     "text": [
      "Error in WMQIMRFO for android: Found zero norm quaternions in `quat`.\n",
      "Error in WMQIMRFO for dino: Found zero norm quaternions in `quat`.\n"
     ]
    },
    {
     "name": "stderr",
     "output_type": "stream",
     "text": [
      "/home/guycoh/mambaforge/envs/robo-proj/lib/python3.12/site-packages/mealpy/swarm_based/MRFO.py:269: RuntimeWarning: divide by zero encountered in divide\n",
      "  a = f1 / ((x1 - x2) * (x1 - x3)) + f2 / ((x2 - x1) * (x2 - x3)) + f3 / ((x3 - x1) * (x3 - x2))\n",
      "/home/guycoh/mambaforge/envs/robo-proj/lib/python3.12/site-packages/mealpy/swarm_based/MRFO.py:270: RuntimeWarning: invalid value encountered in divide\n",
      "  gx = ((x3 ** 2 - x2 ** 2) * f1 + (x1 ** 2 - x3 ** 2) * f2 + (x2 ** 2 - x1 ** 2) * f3) / (2 * ((x3 - x2) * f1 + (x1 - x3) * f2 + (x2 - x1) * f3))\n"
     ]
    },
    {
     "name": "stdout",
     "output_type": "stream",
     "text": [
      "Error in WMQIMRFO for hammer: Found zero norm quaternions in `quat`.\n",
      "Error in WMQIMRFO for mug: Found zero norm quaternions in `quat`.\n"
     ]
    },
    {
     "name": "stderr",
     "output_type": "stream",
     "text": [
      "/home/guycoh/mambaforge/envs/robo-proj/lib/python3.12/site-packages/mealpy/swarm_based/MRFO.py:269: RuntimeWarning: divide by zero encountered in divide\n",
      "  a = f1 / ((x1 - x2) * (x1 - x3)) + f2 / ((x2 - x1) * (x2 - x3)) + f3 / ((x3 - x1) * (x3 - x2))\n",
      "/home/guycoh/mambaforge/envs/robo-proj/lib/python3.12/site-packages/mealpy/swarm_based/MRFO.py:270: RuntimeWarning: invalid value encountered in divide\n",
      "  gx = ((x3 ** 2 - x2 ** 2) * f1 + (x1 ** 2 - x3 ** 2) * f2 + (x2 ** 2 - x1 ** 2) * f3) / (2 * ((x3 - x2) * f1 + (x1 - x3) * f2 + (x2 - x1) * f3))\n"
     ]
    },
    {
     "name": "stdout",
     "output_type": "stream",
     "text": [
      "Error in WMQIMRFO for nescafe: Found zero norm quaternions in `quat`.\n",
      "Error in WMQIMRFO for screwdriver: Found zero norm quaternions in `quat`.\n"
     ]
    },
    {
     "name": "stderr",
     "output_type": "stream",
     "text": [
      "/home/guycoh/mambaforge/envs/robo-proj/lib/python3.12/site-packages/mealpy/swarm_based/MRFO.py:269: RuntimeWarning: divide by zero encountered in divide\n",
      "  a = f1 / ((x1 - x2) * (x1 - x3)) + f2 / ((x2 - x1) * (x2 - x3)) + f3 / ((x3 - x1) * (x3 - x2))\n"
     ]
    },
    {
     "name": "stdout",
     "output_type": "stream",
     "text": [
      "Error in WMQIMRFO for sofa: Found zero norm quaternions in `quat`.\n"
     ]
    },
    {
     "name": "stderr",
     "output_type": "stream",
     "text": [
      "/home/guycoh/mambaforge/envs/robo-proj/lib/python3.12/site-packages/mealpy/swarm_based/MRFO.py:270: RuntimeWarning: invalid value encountered in divide\n",
      "  gx = ((x3 ** 2 - x2 ** 2) * f1 + (x1 ** 2 - x3 ** 2) * f2 + (x2 ** 2 - x1 ** 2) * f3) / (2 * ((x3 - x2) * f1 + (x1 - x3) * f2 + (x2 - x1) * f3))\n"
     ]
    },
    {
     "name": "stdout",
     "output_type": "stream",
     "text": [
      "Error in WMQIMRFO for shoe: Found zero norm quaternions in `quat`.\n",
      "Error in WMQIMRFO for stack_rings: Found zero norm quaternions in `quat`.\n"
     ]
    },
    {
     "name": "stderr",
     "output_type": "stream",
     "text": [
      "/home/guycoh/RoboticsAndAI/Robotics-Proj/simulator.py:38: UserWarning: Gimbal lock detected. Setting third angle to zero since it is not possible to uniquely determine all angles.\n",
      "  return ObjectPosition.from_object(self._object)\n",
      "/home/guycoh/RoboticsAndAI/Robotics-Proj/simulator.py:38: UserWarning: Gimbal lock detected. Setting third angle to zero since it is not possible to uniquely determine all angles.\n",
      "  return ObjectPosition.from_object(self._object)\n",
      "/home/guycoh/RoboticsAndAI/Robotics-Proj/simulator.py:38: UserWarning: Gimbal lock detected. Setting third angle to zero since it is not possible to uniquely determine all angles.\n",
      "  return ObjectPosition.from_object(self._object)\n",
      "/home/guycoh/RoboticsAndAI/Robotics-Proj/simulator.py:38: UserWarning: Gimbal lock detected. Setting third angle to zero since it is not possible to uniquely determine all angles.\n",
      "  return ObjectPosition.from_object(self._object)\n",
      "/home/guycoh/RoboticsAndAI/Robotics-Proj/simulator.py:38: UserWarning: Gimbal lock detected. Setting third angle to zero since it is not possible to uniquely determine all angles.\n",
      "  return ObjectPosition.from_object(self._object)\n",
      "/home/guycoh/mambaforge/envs/robo-proj/lib/python3.12/site-packages/mealpy/optimizer.py:279: RuntimeWarning: invalid value encountered in divide\n",
      "  self.history.list_exploration = 100 * (np.array(self.history.list_diversity) / div_max)\n",
      "/home/guycoh/mambaforge/envs/robo-proj/lib/python3.12/site-packages/mealpy/optimizer.py:279: RuntimeWarning: invalid value encountered in divide\n",
      "  self.history.list_exploration = 100 * (np.array(self.history.list_diversity) / div_max)\n",
      "/home/guycoh/mambaforge/envs/robo-proj/lib/python3.12/site-packages/mealpy/optimizer.py:279: RuntimeWarning: invalid value encountered in divide\n",
      "  self.history.list_exploration = 100 * (np.array(self.history.list_diversity) / div_max)\n",
      "/home/guycoh/mambaforge/envs/robo-proj/lib/python3.12/site-packages/mealpy/optimizer.py:279: RuntimeWarning: invalid value encountered in divide\n",
      "  self.history.list_exploration = 100 * (np.array(self.history.list_diversity) / div_max)\n",
      "/home/guycoh/mambaforge/envs/robo-proj/lib/python3.12/site-packages/mealpy/bio_based/VCS.py:75: RuntimeWarning: invalid value encountered in log1p\n",
      "  factor_down = self.n_best * np.log1p(self.n_best + 1) - np.log1p(np.prod(range(1, self.n_best + 1)))\n"
     ]
    },
    {
     "name": "stdout",
     "output_type": "stream",
     "text": [
      "Error in DevVCS for android: Found zero norm quaternions in `quat`.\n",
      "Error in DevVCS for dino: Found zero norm quaternions in `quat`.\n",
      "Error in DevVCS for hammer: Found zero norm quaternions in `quat`.\n"
     ]
    },
    {
     "name": "stderr",
     "output_type": "stream",
     "text": [
      "/home/guycoh/mambaforge/envs/robo-proj/lib/python3.12/site-packages/mealpy/bio_based/VCS.py:75: RuntimeWarning: invalid value encountered in log1p\n",
      "  factor_down = self.n_best * np.log1p(self.n_best + 1) - np.log1p(np.prod(range(1, self.n_best + 1)))\n"
     ]
    },
    {
     "name": "stdout",
     "output_type": "stream",
     "text": [
      "Error in DevVCS for nescafe: Found zero norm quaternions in `quat`.\n"
     ]
    },
    {
     "name": "stderr",
     "output_type": "stream",
     "text": [
      "/home/guycoh/mambaforge/envs/robo-proj/lib/python3.12/site-packages/mealpy/bio_based/VCS.py:75: RuntimeWarning: invalid value encountered in log1p\n",
      "  factor_down = self.n_best * np.log1p(self.n_best + 1) - np.log1p(np.prod(range(1, self.n_best + 1)))\n"
     ]
    },
    {
     "name": "stdout",
     "output_type": "stream",
     "text": [
      "Error in DevVCS for mug: Found zero norm quaternions in `quat`.\n",
      "Error in DevVCS for screwdriver: Found zero norm quaternions in `quat`.\n",
      "Error in DevVCS for shoe: Found zero norm quaternions in `quat`.\n",
      "Error in DevVCS for sofa: Found zero norm quaternions in `quat`.\n",
      "Error in DevVCS for stack_rings: Found zero norm quaternions in `quat`.\n",
      "Error in OriginalVCS for android: Found zero norm quaternions in `quat`.\n"
     ]
    },
    {
     "name": "stderr",
     "output_type": "stream",
     "text": [
      "/home/guycoh/mambaforge/envs/robo-proj/lib/python3.12/site-packages/mealpy/bio_based/VCS.py:75: RuntimeWarning: invalid value encountered in log1p\n",
      "  factor_down = self.n_best * np.log1p(self.n_best + 1) - np.log1p(np.prod(range(1, self.n_best + 1)))\n"
     ]
    },
    {
     "name": "stdout",
     "output_type": "stream",
     "text": [
      "Error in OriginalVCS for hammer: Found zero norm quaternions in `quat`.\n",
      "Error in OriginalVCS for dino: Found zero norm quaternions in `quat`.\n",
      "Error in OriginalVCS for nescafe: Found zero norm quaternions in `quat`.\n",
      "Error in OriginalVCS for screwdriver: Found zero norm quaternions in `quat`.\n"
     ]
    },
    {
     "name": "stderr",
     "output_type": "stream",
     "text": [
      "/home/guycoh/mambaforge/envs/robo-proj/lib/python3.12/site-packages/mealpy/bio_based/VCS.py:75: RuntimeWarning: invalid value encountered in log1p\n",
      "  factor_down = self.n_best * np.log1p(self.n_best + 1) - np.log1p(np.prod(range(1, self.n_best + 1)))\n"
     ]
    },
    {
     "name": "stdout",
     "output_type": "stream",
     "text": [
      "Error in OriginalVCS for mug: Found zero norm quaternions in `quat`.\n",
      "Error in OriginalVCS for sofa: Found zero norm quaternions in `quat`.\n",
      "Error in OriginalVCS for stack_rings: Found zero norm quaternions in `quat`.\n",
      "Error in OriginalVCS for shoe: Found zero norm quaternions in `quat`.\n"
     ]
    }
   ],
   "source": [
    "\n",
    "# exec = TqdmPool(max_workers=30)\n",
    "\n",
    "run_config = MealRunConfig(max_time=15, silent=False, seed=0)\n",
    "\n",
    "# dataset = Dataset.create_random(location=config.OBJ_LOCATION, num_samples=20, seed=0)\n",
    "# dataset = Dataset.load(\"eval_dataset.pkl\")\n",
    "# dataset.save(\"AllOptimizersDataset.pkl\")\n",
    "\n",
    "dataset = config.EVAL_DATASET\n",
    "\n",
    "futures = []\n",
    "optimizers = [alg_name for alg_name in mealpy.get_all_optimizers().keys()][split_idx:]\n",
    "# for idx, alg_name in enumerate(optimizers):\n",
    "#     for obj_name in config.OBJECT_NAMES:\n",
    "#         future = exec.submit(\n",
    "#             evaluate,\n",
    "#             alg_name=alg_name,\n",
    "#             run_config=run_config,\n",
    "#             obj_name=obj_name,\n",
    "#             eval_data=config.EVAL_DATASET,\n",
    "#             log_folder=f\"AllOptimizers3/{obj_name}\",\n",
    "#         )\n",
    "\n",
    "#         futures.append(future)\n",
    "\n",
    "evaluate(alg_name='WMQIMRFO',\n",
    "            run_config=run_config,\n",
    "            obj_name='mug',\n",
    "            eval_data=config.EVAL_DATASET,\n",
    "            log_folder=f\"test/{'mug'}\")\n",
    "        \n",
    "# for future in concurrent.futures.as_completed(futures):\n",
    "#     try:\n",
    "#         future.result()\n",
    "#     except Exception as e:\n",
    "#         print(e)\n",
    "\n",
    "# exec.shutdown(wait=True)\n"
   ]
  }
 ],
 "metadata": {
  "kernelspec": {
   "display_name": "Python 3 (ipykernel)",
   "language": "python",
   "name": "python3"
  }
 },
 "nbformat": 4,
 "nbformat_minor": 2
}
