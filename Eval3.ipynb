{
 "cells": [
  {
   "cell_type": "code",
   "execution_count": 1,
   "metadata": {},
   "outputs": [],
   "source": [
    "from typing import Iterable\n",
    "import numpy as np\n",
    "\n",
    "from view_sampler import *\n",
    "from algs import *\n",
    "\n",
    "import loss_funcs\n",
    "from evaluate import eval_funcs\n",
    "from eval_process import evaluate\n",
    "\n",
    "from evaluate.dataset import Dataset\n",
    "from evaluate.eval_log import EvalLog\n",
    "from evaluate.evaluator import Evaluator\n",
    "from evaluate.dataset import Dataset\n",
    "from utils.concurrent import TqdmPool\n",
    "\n",
    "import mealpy\n",
    "\n",
    "import config\n",
    "import concurrent\n",
    "from itertools import product\n",
    "\n"
   ]
  },
  {
   "cell_type": "code",
   "execution_count": 2,
   "metadata": {},
   "outputs": [
    {
     "data": {
      "application/vnd.jupyter.widget-view+json": {
       "model_id": "311c317e319c44d38292a7945147dbb0",
       "version_major": 2,
       "version_minor": 0
      },
      "text/plain": [
       "  0%|          | 0/1 [00:00<?, ?it/s]"
      ]
     },
     "metadata": {},
     "output_type": "display_data"
    }
   ],
   "source": [
    "\n",
    "exec = TqdmPool(max_workers=20)\n",
    "\n",
    "run_config = MealRunConfig(max_time=60*4, silent=True, seed=1)\n",
    "\n",
    "dataset = config.EVAL_DATASET\n",
    "\n",
    "futures = []\n",
    "# all_optimizers = [alg_name for alg_name in mealpy.get_all_optimizers().keys()]\n",
    "optimizers = [\"UniformSampling\"] #config.ALGORITHM_NAMES[6:]\n",
    "\n",
    "\n",
    "for idx, alg_name in enumerate(optimizers):\n",
    "    for obj_name in config.OBJECT_NAMES:\n",
    "        future = exec.submit(\n",
    "            evaluate,\n",
    "            alg_name=alg_name,\n",
    "            run_config=run_config,\n",
    "            obj_name=obj_name,\n",
    "            eval_data=config.EVAL_DATASET,\n",
    "            log_folder=f\"Final_Evaluation2/Eval/{obj_name}\",\n",
    "            )\n",
    "\n",
    "        futures.append(future)\n",
    "\n",
    "        \n",
    "for future in concurrent.futures.as_completed(futures):\n",
    "    try:\n",
    "        future.result()\n",
    "    except Exception as e:\n",
    "        print(e)\n",
    "\n",
    "exec.shutdown(wait=True)\n"
   ]
  }
 ],
 "metadata": {
  "kernelspec": {
   "display_name": "Python 3 (ipykernel)",
   "language": "python",
   "name": "python3"
  },
  "language_info": {
   "codemirror_mode": {
    "name": "ipython",
    "version": 3
   },
   "file_extension": ".py",
   "mimetype": "text/x-python",
   "name": "python",
   "nbconvert_exporter": "python",
   "pygments_lexer": "ipython3",
   "version": "3.12.2"
  }
 },
 "nbformat": 4,
 "nbformat_minor": 2
}
