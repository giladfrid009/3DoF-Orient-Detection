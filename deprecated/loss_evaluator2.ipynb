{
 "cells": [
  {
   "cell_type": "code",
   "execution_count": 1,
   "metadata": {},
   "outputs": [],
   "source": [
    "import numpy as np\n",
    "from view_sampler import ViewSampler, CameraConfig\n",
    "from manipulated_object import ObjectPosition\n",
    "from utils.orient import OrientUtils\n",
    "from evaluate.evaluator import Evaluator\n",
    "import loss_funcs\n",
    "\n",
    "from utils.image import ImageUtils\n",
    "from tqdm.auto import tqdm\n",
    "from collections import defaultdict"
   ]
  },
  {
   "cell_type": "code",
   "execution_count": 2,
   "metadata": {},
   "outputs": [],
   "source": [
    "INIT_LOCATION = (0, 1.3, 0.3)\n",
    "\n",
    "LOSS_FUNCTIONS = [\n",
    "    loss_funcs.IOU(),\n",
    "    loss_funcs.MSE(),\n",
    "    loss_funcs.RMSE(norm=\"euclidean\"),\n",
    "    loss_funcs.NMI(bins=50),\n",
    "    loss_funcs.PSNR(),\n",
    "    loss_funcs.SSIM(),\n",
    "    loss_funcs.Hausdorff(),\n",
    "    loss_funcs.ARE(),\n",
    "    loss_funcs.VI(),\n",
    "]\n",
    "\n",
    "\n",
    "OBJECTS = [\"android\", \"dino\", \"hammer\", 'mug', 'nescafe', 'screwdriver', 'shoe', 'sofa', 'stack_rings']\n",
    "ZFAR = 5"
   ]
  },
  {
   "cell_type": "code",
   "execution_count": 3,
   "metadata": {},
   "outputs": [],
   "source": [
    "def create_viewer(obj_name: str, is_sim: bool = True) -> ViewSampler:\n",
    "    location = (INIT_LOCATION[0], INIT_LOCATION[2] - 1.3, INIT_LOCATION[2])\n",
    "    cam_config = CameraConfig(location, rotation=(np.pi / 2, 0, 0), fov=30, zfar=ZFAR)\n",
    "    if is_sim:\n",
    "        viewer = ViewSampler(f\"data/{obj_name}/world_sim.xml\", cam_config)\n",
    "    else:\n",
    "        viewer = ViewSampler(f\"data/{obj_name}/world.xml\", cam_config)\n",
    "    return viewer"
   ]
  },
  {
   "cell_type": "code",
   "execution_count": 4,
   "metadata": {},
   "outputs": [],
   "source": [
    "def generate_positions(\n",
    "    count: int,\n",
    ") -> list[ObjectPosition]:\n",
    "    orients = OrientUtils.generate_random(count)\n",
    "    positions = [ObjectPosition(orient, INIT_LOCATION) for orient in orients]\n",
    "    return positions"
   ]
  },
  {
   "cell_type": "code",
   "execution_count": 5,
   "metadata": {},
   "outputs": [],
   "source": [
    "def get_views(\n",
    "    viewer: ViewSampler, pos1: ObjectPosition, pos2: ObjectPosition, depth: bool\n",
    ") -> tuple[np.ndarray, np.ndarray]:\n",
    "    img1, _ = viewer.get_view_cropped(pos1, depth=depth)\n",
    "    img2, _ = viewer.get_view_cropped(pos2, depth=depth)\n",
    "    return img1, img2"
   ]
  },
  {
   "cell_type": "code",
   "execution_count": 6,
   "metadata": {},
   "outputs": [],
   "source": [
    "def calc_penalty(num_samples):\n",
    "    positions1 = generate_positions(num_samples)\n",
    "    positions2 = generate_positions(num_samples)\n",
    "    dists = {}\n",
    "    for obj_name in tqdm(OBJECTS):\n",
    "        total = 0\n",
    "        count = 0\n",
    "        dists[obj_name] = []\n",
    "        with create_viewer(obj_name) as viewer:\n",
    "            for pos1, pos2 in tqdm(zip(positions1, positions2), total=num_samples):\n",
    "                img1, img2 = get_views(viewer, pos1, pos2, depth=True)\n",
    "                pad_shape = np.maximum(img1.shape, img2.shape)\n",
    "                img1 = ImageUtils.pad_to_shape(img1, pad_shape, pad_value=0)\n",
    "                img2 = ImageUtils.pad_to_shape(img2, pad_shape, pad_value=0)\n",
    "                both = (img1 > 0) & (img2 > 0)\n",
    "\n",
    "                dists[obj_name].append(np.sum(np.abs(img1[both] - img2[both])) / np.sum(both))\n",
    "                total += np.sum(np.abs(img1[both] - img2[both]))\n",
    "                count += np.sum(both)\n",
    "        print(f\"Penalty for {obj_name}: {total / count}\")\n",
    "    return dists"
   ]
  },
  {
   "cell_type": "code",
   "execution_count": 7,
   "metadata": {},
   "outputs": [],
   "source": [
    "# dists = calc_penalty(1000)"
   ]
  },
  {
   "cell_type": "code",
   "execution_count": 8,
   "metadata": {},
   "outputs": [],
   "source": [
    "# for obj, dist_list in dists.items():\n",
    "#     print(f\"=== {obj} ===\")\n",
    "#     # print(type(dist_list[0]))\n",
    "#     # dist_list = np.asanyarray(dist_list)\n",
    "#     print(f\"Mean: {np.mean(dist_list)}\")\n",
    "#     print(f\"Median: {np.median(dist_list)}\")\n",
    "#     print(f\"Max: {np.max(dist_list)}\")\n",
    "#     print(f\"Min: {np.min(dist_list)}\")"
   ]
  },
  {
   "cell_type": "code",
   "execution_count": 9,
   "metadata": {},
   "outputs": [],
   "source": [
    "import matplotlib.pyplot as plt\n",
    "import math\n",
    "%matplotlib inline\n",
    "\n",
    "def heatmap(data, row_labels, col_labels, ax=None,\n",
    "            cbar_kw=None, cbarlabel=\"\", **kwargs):\n",
    "    \"\"\"\n",
    "    Create a heatmap from a numpy array and two lists of labels.\n",
    "\n",
    "    Parameters\n",
    "    ----------\n",
    "    data\n",
    "        A 2D numpy array of shape (M, N).\n",
    "    row_labels\n",
    "        A list or array of length M with the labels for the rows.\n",
    "    col_labels\n",
    "        A list or array of length N with the labels for the columns.\n",
    "    ax\n",
    "        A `matplotlib.axes.Axes` instance to which the heatmap is plotted.  If\n",
    "        not provided, use current axes or create a new one.  Optional.\n",
    "    cbar_kw\n",
    "        A dictionary with arguments to `matplotlib.Figure.colorbar`.  Optional.\n",
    "    cbarlabel\n",
    "        The label for the colorbar.  Optional.\n",
    "    **kwargs\n",
    "        All other arguments are forwarded to `imshow`.\n",
    "    \"\"\"\n",
    "\n",
    "    if ax is None:\n",
    "        plt.figure()\n",
    "        ax = plt.gca()\n",
    "\n",
    "    if cbar_kw is None:\n",
    "        cbar_kw = {}\n",
    "\n",
    "    # Plot the heatmap\n",
    "    im = ax.imshow(data, **kwargs)\n",
    "\n",
    "    # Create colorbar\n",
    "    cbar = ax.figure.colorbar(im, ax=ax, **cbar_kw)\n",
    "    cbar.ax.set_ylabel(cbarlabel, rotation=-90, va=\"bottom\")\n",
    "\n",
    "    # Show all ticks and label them with the respective list entries.\n",
    "    ax.set_xticks(np.arange(data.shape[1]), labels=col_labels)\n",
    "    ax.set_yticks(np.arange(data.shape[0]), labels=row_labels)\n",
    "\n",
    "    # Let the horizontal axes labeling appear on top.\n",
    "    ax.tick_params(top=True, bottom=False,\n",
    "                   labeltop=True, labelbottom=False)\n",
    "\n",
    "    # Rotate the tick labels and set their alignment.\n",
    "    plt.setp(ax.get_xticklabels(), rotation=-30, ha=\"right\",\n",
    "             rotation_mode=\"anchor\")\n",
    "\n",
    "    # Turn spines off and create white grid.\n",
    "    ax.spines[:].set_visible(False)\n",
    "\n",
    "    ax.set_xticks(np.arange(data.shape[1]+1)-.5, minor=True)\n",
    "    ax.set_yticks(np.arange(data.shape[0]+1)-.5, minor=True)\n",
    "    ax.grid(which=\"minor\", color=\"w\", linestyle='-', linewidth=3)\n",
    "    ax.tick_params(which=\"minor\", bottom=False, left=False)\n",
    "\n",
    "    for i in range(len(col_labels)):\n",
    "        for j in range(len(row_labels)):\n",
    "            text = ax.text(j, i, round(data[i, j],2),\n",
    "                        ha=\"center\", va=\"center\", color=\"w\")\n",
    "            \n",
    "    return im, cbar\n"
   ]
  },
  {
   "cell_type": "code",
   "execution_count": null,
   "metadata": {},
   "outputs": [],
   "source": [
    "import numpy as np\n",
    "\n",
    "n = 24\n",
    "\n",
    "init_pos = np.array([0, 0, 0.3])\n",
    "uni_orients = [list(init_pos)]\n",
    "\n",
    "q = np.array([1, 0, 0])\n",
    "delta = np.linspace(0, np.pi / 2, num=n + 1)\n",
    "\n",
    "for i in range(n):\n",
    "    uni_orients.append(list(init_pos + delta[i + 1] * q))\n",
    "\n",
    "uni_orients = OrientUtils.generate_random(20)\n",
    "uni_positions = [ObjectPosition(orient, INIT_LOCATION) for orient in uni_orients]\n",
    "len(uni_positions)"
   ]
  },
  {
   "cell_type": "code",
   "execution_count": null,
   "metadata": {},
   "outputs": [],
   "source": [
    "for obj_name in OBJECTS:\n",
    "    object_name = obj_name\n",
    "    viewer = create_viewer(obj_name, False)\n",
    "\n",
    "    nrows, ncols = (4, 5)\n",
    "    fig, axes = plt.subplots(nrows, ncols, figsize=(10,10))\n",
    "    for idx, pos in enumerate(uni_positions):\n",
    "        col = idx % ncols\n",
    "        row = math.floor(idx / ncols)\n",
    "        ax = axes[row, col]\n",
    "        ax.imshow(viewer.get_view_cropped(pos, depth=False)[0])\n",
    "        # print(pos)\n",
    "        ax.set_title(f\"{idx}::{np.round(pos.orientation, 4)}\")"
   ]
  },
  {
   "cell_type": "code",
   "execution_count": null,
   "metadata": {},
   "outputs": [],
   "source": [
    "nrows, ncols = (4, 5)\n",
    "fig, axes = plt.subplots(nrows, ncols)\n",
    "for idx, pos in enumerate(uni_positions):\n",
    "    col = idx % ncols\n",
    "    row = math.floor(idx / ncols)\n",
    "    ax = axes[row, col]\n",
    "    ax.imshow(viewer.get_view_cropped(pos, depth=False)[0])\n",
    "    # print(pos)\n",
    "    ax.set_title(f\"{idx}::{np.round(pos.orientation, 4)}\")"
   ]
  },
  {
   "cell_type": "code",
   "execution_count": null,
   "metadata": {},
   "outputs": [],
   "source": [
    "# Evaluate XorDiff\n",
    "from evaluate import eval_funcs\n",
    "from itertools import product\n",
    "\n",
    "eval_func = eval_funcs.XorDiff(0.1)\n",
    "eval_results = []\n",
    "\n",
    "for pos1, pos2 in product(uni_positions, uni_positions):\n",
    "    img1, img2 = get_views(viewer, pos1, pos2, depth=True)\n",
    "    result = eval_func(img1, img2)\n",
    "    eval_results.append(result)\n",
    "results = np.array(eval_results).reshape(len(uni_positions), -1)"
   ]
  },
  {
   "cell_type": "code",
   "execution_count": null,
   "metadata": {},
   "outputs": [],
   "source": [
    "import seaborn as sns\n",
    "\n",
    "deltas = np.round(delta, 2)\n",
    "fig, axes = plt.subplots(figsize=(13, 10))\n",
    "sns.heatmap(results, ax=axes, annot=True, fmt=\".2f\", xticklabels=(deltas), yticklabels=deltas)\n",
    "axes.set_title(f\"XorDiff as function of rotation\\n Initial orientation {init_pos}\")\n",
    "axes.set_xlabel(\"angel change (radians)\")\n",
    "axes.set_ylabel(\"angel change (radians)\")\n",
    "\n",
    "axes.tick_params(axis=\"x\", rotation=90)\n",
    "axes.tick_params(axis=\"y\", rotation=0)\n",
    "axes.autoscale()\n",
    "fig.tight_layout()"
   ]
  },
  {
   "cell_type": "code",
   "execution_count": null,
   "metadata": {},
   "outputs": [],
   "source": [
    "heatmap(results, range(len(uni_positions)), range(len(uni_positions)))"
   ]
  },
  {
   "cell_type": "code",
   "execution_count": null,
   "metadata": {},
   "outputs": [],
   "source": [
    "import seaborn as sns\n",
    "\n",
    "fig, ax = plt.subplots()\n",
    "sns.lineplot(x=delta, y=results[0])\n",
    "\n",
    "ax.set_title(\"XorDiff as function of rotation\")\n",
    "ax.set_xlabel(\"angel change (radians)\")\n",
    "ax.set_ylabel(\"XorDiff value\")"
   ]
  },
  {
   "cell_type": "code",
   "execution_count": 10,
   "metadata": {},
   "outputs": [],
   "source": [
    "N = 200\n",
    "positions1 = generate_positions(N)\n",
    "positions2 = generate_positions(N)"
   ]
  },
  {
   "cell_type": "code",
   "execution_count": 11,
   "metadata": {},
   "outputs": [
    {
     "data": {
      "application/vnd.jupyter.widget-view+json": {
       "model_id": "a886c6e70e3b4c338651105984625734",
       "version_major": 2,
       "version_minor": 0
      },
      "text/plain": [
       "  0%|          | 0/9 [00:00<?, ?it/s]"
      ]
     },
     "metadata": {},
     "output_type": "display_data"
    },
    {
     "ename": "KeyError",
     "evalue": "'android'",
     "output_type": "error",
     "traceback": [
      "\u001b[0;31m---------------------------------------------------------------------------\u001b[0m",
      "\u001b[0;31mKeyError\u001b[0m                                  Traceback (most recent call last)",
      "Cell \u001b[0;32mIn[11], line 9\u001b[0m\n\u001b[1;32m      7\u001b[0m eval_results \u001b[38;5;241m=\u001b[39m []\n\u001b[1;32m      8\u001b[0m \u001b[38;5;28;01mfor\u001b[39;00m obj_name \u001b[38;5;129;01min\u001b[39;00m tqdm(OBJECTS):\n\u001b[0;32m----> 9\u001b[0m     eval_func \u001b[38;5;241m=\u001b[39m eval_funcs\u001b[38;5;241m.\u001b[39mXorDiff(\u001b[43mconfig\u001b[49m\u001b[38;5;241;43m.\u001b[39;49m\u001b[43mXORDIFF_PENALTY\u001b[49m\u001b[43m[\u001b[49m\u001b[43mobj_name\u001b[49m\u001b[43m]\u001b[49m)\n\u001b[1;32m     10\u001b[0m     \u001b[38;5;28;01mwith\u001b[39;00m create_viewer(obj_name) \u001b[38;5;28;01mas\u001b[39;00m sim_viewer:\n\u001b[1;32m     11\u001b[0m         \u001b[38;5;28;01mfor\u001b[39;00m pos1, pos2 \u001b[38;5;129;01min\u001b[39;00m tqdm(\u001b[38;5;28mzip\u001b[39m(positions1, positions2), total\u001b[38;5;241m=\u001b[39mN):\n",
      "\u001b[0;31mKeyError\u001b[0m: 'android'"
     ]
    }
   ],
   "source": [
    "from evaluate import eval_funcs\n",
    "import config\n",
    "import pandas as pd\n",
    "\n",
    "\n",
    "eval_data = defaultdict(list)\n",
    "eval_results = []\n",
    "for obj_name in tqdm(OBJECTS):\n",
    "    eval_func = eval_funcs.XorDiff(config.XORDIFF_PENALTY[obj_name])\n",
    "    with create_viewer(obj_name) as sim_viewer:\n",
    "        for pos1, pos2 in tqdm(zip(positions1, positions2), total=N):\n",
    "            img1, img2 = get_views(sim_viewer, pos1, pos2, depth=True)\n",
    "            result = eval_func(img1, img2)\n",
    "            eval_results.append(result)\n",
    "            # objects_list.append(obj_name)\n",
    "            eval_data['object'].append(obj_name)\n",
    "            eval_data['xordiff_val'].append(result)\n",
    "            \n",
    "            "
   ]
  },
  {
   "cell_type": "code",
   "execution_count": 12,
   "metadata": {},
   "outputs": [
    {
     "data": {
      "application/vnd.jupyter.widget-view+json": {
       "model_id": "4cbe8440470741f391f1bf87704c6155",
       "version_major": 2,
       "version_minor": 0
      },
      "text/plain": [
       "  0%|          | 0/9 [00:00<?, ?it/s]"
      ]
     },
     "metadata": {},
     "output_type": "display_data"
    },
    {
     "data": {
      "application/vnd.jupyter.widget-view+json": {
       "model_id": "87719bcda6a74c3cabf74c3dbc1a88af",
       "version_major": 2,
       "version_minor": 0
      },
      "text/plain": [
       "  0%|          | 0/200 [00:00<?, ?it/s]"
      ]
     },
     "metadata": {},
     "output_type": "display_data"
    },
    {
     "data": {
      "application/vnd.jupyter.widget-view+json": {
       "model_id": "cc2419fbf2584afa993cce38d6de52ac",
       "version_major": 2,
       "version_minor": 0
      },
      "text/plain": [
       "  0%|          | 0/200 [00:00<?, ?it/s]"
      ]
     },
     "metadata": {},
     "output_type": "display_data"
    }
   ],
   "source": [
    "loss_results = defaultdict(list)\n",
    "\n",
    "for obj_name in tqdm(OBJECTS):\n",
    "    with create_viewer(obj_name) as sim_viewer:\n",
    "        for pos1, pos2 in tqdm(zip(positions1, positions2), total=N):\n",
    "            img1, img2 = get_views(sim_viewer, pos1, pos2, depth=False)\n",
    "            for loss_func in LOSS_FUNCTIONS:\n",
    "                result = loss_func(img1, img2)\n",
    "                loss_results[loss_func.get_name()].append(result)"
   ]
  },
  {
   "cell_type": "code",
   "execution_count": null,
   "metadata": {},
   "outputs": [],
   "source": [
    "import seaborn as sns \n",
    "from matplotlib import pyplot as plt\n",
    "%matplotlib inline\n",
    "font = {\"weight\": \"normal\", \"size\": 10}\n",
    "\n",
    "plt.rc(\"font\", **font)\n",
    "plt.rcParams[\"text.usetex\"] = False\n",
    "\n",
    "plt.cla()\n",
    "fig, axes = plt.subplots(4, 3, sharex=False, figsize=(20, 20))\n",
    "\n",
    "\n",
    "for i, (loss, values) in enumerate(loss_results.items()):\n",
    "    ax = axes[i // 3, i % 3]\n",
    "    ax.set_xlabel(\"Eval Error\")\n",
    "    ax.set_ylabel(loss)\n",
    "    ax.set_title(f\"{loss} Objective Function\", fontweight=\"bold\")\n",
    "\n",
    "    x = eval_results\n",
    "    y = np.polyval(np.polyfit(x, values, 1), x)\n",
    "    data = eval_data\n",
    "    data[loss] = values\n",
    "    sns.scatterplot(data=data, x='xordiff_val', y=loss, hue='object', ax=ax)\n",
    "    # ax.plot(x, values, \".\", label=loss, markersize=6)\n",
    "    # ax.plot(x, y, \":\", linewidth=5)\n",
    "plt.show()"
   ]
  },
  {
   "cell_type": "code",
   "execution_count": null,
   "metadata": {},
   "outputs": [],
   "source": [
    "import config\n",
    "from evaluate.dataset import Dataset\n",
    "from view_sampler import ViewSampler\n",
    "\n",
    "ds = Dataset.create_random(config.OBJ_LOCATION, 100)\n",
    "viewer - ViewSampler('data/sofa/world.xml', camera_config=config.CAMERA_CONFIG)\n",
    "\n",
    "ds.visualize(viewer)"
   ]
  },
  {
   "cell_type": "code",
   "execution_count": null,
   "metadata": {},
   "outputs": [],
   "source": [
    "# pearsons correlation\n",
    "for k, loss_vals in loss_results.items():\n",
    "    eval_vals = np.asanyarray(eval_results)\n",
    "    loss_vals = np.asanyarray(loss_vals)\n",
    "    print(k, np.corrcoef(eval_vals, loss_vals)[0, 1])"
   ]
  },
  {
   "cell_type": "code",
   "execution_count": null,
   "metadata": {},
   "outputs": [],
   "source": [
    "from scipy.stats import spearmanr, kendalltau\n",
    "\n",
    "# spearmanr correlation\n",
    "for k, loss_vals in loss_results.items():\n",
    "    eval_vals = np.asanyarray(eval_results)\n",
    "    loss_vals = np.asanyarray(loss_vals)\n",
    "    print(f\"{k}: spearman: {spearmanr(eval_vals, loss_vals).statistic} kendall: {kendalltau(eval_vals, loss_vals).statistic}\")"
   ]
  },
  {
   "cell_type": "code",
   "execution_count": null,
   "metadata": {},
   "outputs": [],
   "source": [
    "print(loss_results)"
   ]
  },
  {
   "cell_type": "code",
   "execution_count": null,
   "metadata": {},
   "outputs": [],
   "source": [
    "from matplotlib import pyplot as plt\n",
    "%matplotlib inline\n",
    "font = {\"weight\": \"normal\", \"size\": 10}\n",
    "\n",
    "plt.rc(\"font\", **font)\n",
    "plt.rcParams[\"text.usetex\"] = False\n",
    "\n",
    "plt.cla()\n",
    "fig, axes = plt.subplots(4, 3, sharex=False, figsize=(20, 20))\n",
    "\n",
    "\n",
    "for i, (loss, values) in enumerate(loss_results.items()):\n",
    "    ax = axes[i // 3, i % 3]\n",
    "    ax.set_xlabel(\"Eval Error\")\n",
    "    ax.set_ylabel(loss)\n",
    "    ax.set_title(f\"{loss} Objective Function\", fontweight=\"bold\")\n",
    "\n",
    "    x = eval_results\n",
    "    y = np.polyval(np.polyfit(x, values, 1), x)\n",
    "\n",
    "    ax.plot(x, values, \".\", label=loss, markersize=6)\n",
    "    ax.plot(x, y, \":\", linewidth=5)\n",
    "plt.show()"
   ]
  },
  {
   "cell_type": "code",
   "execution_count": null,
   "metadata": {},
   "outputs": [],
   "source": [
    "from algs.algorithm import RunConfig\n",
    "from algs.uniform_sampling import UniformSampling\n",
    "from evaluate import eval_funcs\n",
    "\n",
    "run_config = RunConfig(max_time=1000, silent=True)\n",
    "\n",
    "eval_positions = generate_positions(100)\n",
    "\n",
    "results = defaultdict(lambda: defaultdict(list))\n",
    "\n",
    "SELECTED_LOSSES = [\n",
    "    loss_funcs.IOU(),\n",
    "    loss_funcs.RMSE(),\n",
    "    loss_funcs.WeightedSum(loss_funcs.IOU(), loss_funcs.RMSE()),\n",
    "    loss_funcs.NMI(50),\n",
    "    loss_funcs.Hausdorff(),\n",
    "]\n",
    "\n",
    "LOSS_NAMES = [l.get_name() for l in SELECTED_LOSSES]\n",
    "\n",
    "for obj_name in tqdm(OBJECTS):\n",
    "    with create_viewer(obj_name, True) as sim_viewer, create_viewer(obj_name, False) as world_viewer:\n",
    "        for loss_func, loss_name in zip(SELECTED_LOSSES, LOSS_NAMES):\n",
    "            alg = UniformSampling(sim_viewer, loss_func=loss_func, num_samples=512)\n",
    "            evaluator = Evaluator(world_viewer, sim_viewer, eval_func=eval_funcs.XorDiff(0.1))\n",
    "            losses = evaluator.evaluate(alg, run_config, eval_positions)\n",
    "            results[obj_name][loss_name].extend(losses)"
   ]
  },
  {
   "cell_type": "code",
   "execution_count": null,
   "metadata": {},
   "outputs": [],
   "source": [
    "from utils.io import save_pickle\n",
    "\n",
    "res_dict = dict()\n",
    "\n",
    "for k, v in results.items():\n",
    "    res_dict[k] = dict(v)\n",
    "\n",
    "# save_pickle(\"plots/loss_eval_results.pkl\", results)"
   ]
  },
  {
   "cell_type": "code",
   "execution_count": null,
   "metadata": {},
   "outputs": [],
   "source": [
    "from matplotlib import pyplot as plt\n",
    "\n",
    "font = {\"weight\": \"bold\", \"size\": 10}\n",
    "\n",
    "plt.rc(\"font\", **font)\n",
    "\n",
    "fig, axes = plt.subplots(3, 3, sharex=False, figsize=(30, 30))\n",
    "\n",
    "for i, object_name in enumerate(OBJECTS):\n",
    "    ax = axes[i // 3, i % 3]\n",
    "    ax.set_title(object_name.upper(), fontweight=\"bold\", fontsize=15)\n",
    "\n",
    "    ax.boxplot(results[object_name].values(), labels=LOSS_NAMES, sym=\"\", patch_artist=False, autorange=True)\n",
    "    # ax.set_ylabel(\"Eval Error\")"
   ]
  },
  {
   "cell_type": "code",
   "execution_count": null,
   "metadata": {},
   "outputs": [],
   "source": [
    "from matplotlib import pyplot as plt\n",
    "\n",
    "font = {\"weight\": \"bold\", \"size\": 10}\n",
    "\n",
    "plt.rc(\"font\", **font)\n",
    "\n",
    "labels = [l.get_name() for l in SELECTED_LOSSES]\n",
    "\n",
    "fig, axes = plt.subplots(3, 3, sharex=False, figsize=(30, 30))\n",
    "\n",
    "medianprops = dict(linestyle=None, linewidth=0)\n",
    "whiskerprops = dict(linewidth=0)\n",
    "capprops = dict(linewidth=0)\n",
    "\n",
    "for i, object_name in enumerate(OBJECTS):\n",
    "    ax = axes[i // 3, i % 3]\n",
    "    ax.set_title(object_name.upper(), fontweight=\"bold\", fontsize=15)\n",
    "    bp = ax.boxplot(\n",
    "        results[object_name].values(),\n",
    "        widths=0.1,\n",
    "        sym=\"\",\n",
    "        patch_artist=True,\n",
    "        # whis=[5, 95],\n",
    "        # bootstrap=10000,\n",
    "        medianprops=medianprops,\n",
    "        whiskerprops=whiskerprops,\n",
    "        capprops=capprops,\n",
    "    )\n",
    "\n",
    "    violin = ax.violinplot(results[object_name].values(), showmeans=False)\n",
    "    ax.set_xticks([y + 1 for y in range(len(labels))], labels=LOSS_NAMES)"
   ]
  }
 ],
 "metadata": {
  "kernelspec": {
   "display_name": "Python 3 (ipykernel)",
   "language": "python",
   "name": "python3"
  },
  "language_info": {
   "codemirror_mode": {
    "name": "ipython",
    "version": 3
   },
   "file_extension": ".py",
   "mimetype": "text/x-python",
   "name": "python",
   "nbconvert_exporter": "python",
   "pygments_lexer": "ipython3",
   "version": "3.12.2"
  }
 },
 "nbformat": 4,
 "nbformat_minor": 2
}
