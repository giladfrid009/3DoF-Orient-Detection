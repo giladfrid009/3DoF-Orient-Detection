{
 "cells": [
  {
   "cell_type": "code",
   "execution_count": 1,
   "metadata": {},
   "outputs": [],
   "source": [
    "import cv2 as cv\n",
    "import numpy as np"
   ]
  },
  {
   "cell_type": "code",
   "execution_count": 2,
   "metadata": {},
   "outputs": [
    {
     "name": "stderr",
     "output_type": "stream",
     "text": [
      "QStandardPaths: wrong permissions on runtime directory /run/user/1000/, 0755 instead of 0700\n"
     ]
    },
    {
     "ename": "KeyboardInterrupt",
     "evalue": "",
     "output_type": "error",
     "traceback": [
      "\u001b[0;31m---------------------------------------------------------------------------\u001b[0m",
      "\u001b[0;31mKeyboardInterrupt\u001b[0m                         Traceback (most recent call last)",
      "Cell \u001b[0;32mIn[2], line 31\u001b[0m\n\u001b[1;32m     29\u001b[0m cv\u001b[38;5;241m.\u001b[39mimshow(\u001b[38;5;124m\"\u001b[39m\u001b[38;5;124msim_img\u001b[39m\u001b[38;5;124m\"\u001b[39m, im_sim)\n\u001b[1;32m     30\u001b[0m cv\u001b[38;5;241m.\u001b[39mimshow(\u001b[38;5;124m\"\u001b[39m\u001b[38;5;124mdiff\u001b[39m\u001b[38;5;124m\"\u001b[39m, diff)\n\u001b[0;32m---> 31\u001b[0m \u001b[43mcv\u001b[49m\u001b[38;5;241;43m.\u001b[39;49m\u001b[43mwaitKey\u001b[49m\u001b[43m(\u001b[49m\u001b[38;5;241;43m0\u001b[39;49m\u001b[43m)\u001b[49m\n",
      "\u001b[0;31mKeyboardInterrupt\u001b[0m: "
     ]
    }
   ],
   "source": [
    "from camera_utils import xy_axes_to_rotation\n",
    "from image_sampler import ImageSampler, ImageHelpers\n",
    "from camera_simulator import CameraConfig\n",
    "from manipulated_object import ObjectConfig\n",
    "\n",
    "cam_config = CameraConfig(position=(0, 0, 0.1), rotation=xy_axes_to_rotation([1, 0, 0], [0, 0, 1]), fov=60)\n",
    "\n",
    "world_viewer = ImageSampler(\"data/world_mug.xml\", cam_config, simulation_time=3)\n",
    "sim_viewer = ImageSampler(\"data/world_mug_sim.xml\", cam_config)\n",
    "\n",
    "object_init_position = (0, 1.3, 0.3)\n",
    "\n",
    "random_orientations = np.random.uniform(0, 2 * np.pi, size=(100, 3))\n",
    "for orient in random_orientations:\n",
    "    im_world, obj_config = world_viewer.get_view_cropped(ObjectConfig(orient, object_init_position))\n",
    "    im_sim, _ = sim_viewer.get_view_cropped(obj_config)\n",
    "\n",
    "    mask1 = ImageHelpers.calc_mask(im_world, orig_dims=True)\n",
    "    mask2 = ImageHelpers.calc_mask(im_sim, orig_dims=True)\n",
    "\n",
    "    shape = (200, 200, 3)\n",
    "    mask1 = ImageHelpers.pad_to_shape(mask1, shape)\n",
    "    mask2 = ImageHelpers.pad_to_shape(mask2, shape)\n",
    "\n",
    "    diff = diff = np.logical_xor(mask1, mask2)\n",
    "    diff = diff.astype(np.uint8) * 255\n",
    "\n",
    "    cv.imshow(\"real_img\", im_world)\n",
    "    cv.imshow(\"sim_img\", im_sim)\n",
    "    cv.imshow(\"diff\", diff)\n",
    "    cv.waitKey(0)"
   ]
  },
  {
   "cell_type": "code",
   "execution_count": null,
   "metadata": {},
   "outputs": [],
   "source": [
    "cv.destroyAllWindows()"
   ]
  }
 ],
 "metadata": {
  "kernelspec": {
   "display_name": "robo-proj",
   "language": "python",
   "name": "python3"
  },
  "language_info": {
   "codemirror_mode": {
    "name": "ipython",
    "version": 3
   },
   "file_extension": ".py",
   "mimetype": "text/x-python",
   "name": "python",
   "nbconvert_exporter": "python",
   "pygments_lexer": "ipython3",
   "version": "3.11.7"
  }
 },
 "nbformat": 4,
 "nbformat_minor": 2
}
