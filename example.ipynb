{
 "cells": [
  {
   "cell_type": "code",
   "execution_count": 1,
   "metadata": {},
   "outputs": [],
   "source": [
    "import cv2 as cv\n",
    "import numpy as np\n",
    "import torch\n",
    "from camera_simulator import CameraSimulator"
   ]
  },
  {
   "cell_type": "code",
   "execution_count": 2,
   "metadata": {},
   "outputs": [],
   "source": [
    "class ImageManipulator:\n",
    "    \"\"\"\n",
    "    Image manipulation functions that work both on batched data and single images.\n",
    "    Image batch dim is assumed to be [N, W, H, 3]\n",
    "    Single image dim is assumed to be [W, H, 3]\n",
    "    \"\"\"\n",
    "    @staticmethod\n",
    "    def calc_mask(images: np.ndarray, bg_value: int = 0, orig_dims: bool = False) -> np.ndarray:\n",
    "        mask = np.any(images != bg_value, axis=-1)\n",
    "        if orig_dims:\n",
    "            mask = np.broadcast_to(np.expand_dims(mask, axis=-1), images.shape)\n",
    "        return mask\n",
    "\n",
    "    @staticmethod\n",
    "    def calc_bboxes(mask_batch: np.ndarray, margin_factor: float = 1.2) -> np.ndarray:\n",
    "        x = np.any(mask_batch, axis=-1)\n",
    "        y = np.any(mask_batch, axis=-2)\n",
    "\n",
    "        def argmin_argmax(arr: np.ndarray) -> tuple[np.ndarray, np.ndarray]:\n",
    "            # find smallest and largest indices\n",
    "            imin = np.argmax(arr, axis=-1)\n",
    "            arr = np.flip(arr, axis=-1)\n",
    "            length = arr.shape[-1]\n",
    "            imax = length - np.argmax(arr, axis=-1)\n",
    "\n",
    "            # add margin to the indices\n",
    "            diff = imax - imin\n",
    "            margin = (diff * (margin_factor - 1)).astype(imin.dtype)\n",
    "            imin = imin - margin\n",
    "            imax = imax + margin\n",
    "\n",
    "            # make sure we're within bounds\n",
    "            imin = np.maximum(imin, 0)\n",
    "            imax = np.minimum(imax, length - 1)\n",
    "            return imin, imax\n",
    "\n",
    "        xmin, xmax = argmin_argmax(x)\n",
    "        ymin, ymax = argmin_argmax(y)\n",
    "\n",
    "        return np.stack((xmin, ymin, xmax, ymax), axis=-1)"
   ]
  },
  {
   "cell_type": "code",
   "execution_count": 3,
   "metadata": {},
   "outputs": [],
   "source": [
    "class ViewProvider:\n",
    "    def __init__(\n",
    "        self,\n",
    "        world_file: str,\n",
    "        camera_resolution: tuple[int, int] = (300, 300),\n",
    "        camera_fov: int = 45,\n",
    "        camera_height: float = 0.75,\n",
    "        object_position: tuple[int, int, int] = (0, 0, 0),\n",
    "        render_depth: bool = False,\n",
    "    ):\n",
    "        self._camera = CameraSimulator(resolution=camera_resolution, fovy=camera_fov, world_file=world_file)\n",
    "        self._camera.set_object_position(object_position)\n",
    "\n",
    "        self._camera_height = camera_height\n",
    "        self._camera_position = [0, 0, camera_height]\n",
    "        self._object_position = object_position\n",
    "        self._render_depth = render_depth\n",
    "\n",
    "    def _render_image(self):\n",
    "        if self._render_depth:\n",
    "            return self._camera.render_depth(torch.eye(3), self._camera_position)\n",
    "        return self._camera.render(torch.eye(3), self._camera_position)\n",
    "\n",
    "    def get_view(self, orient: tuple[float, float, float]) -> np.ndarray:\n",
    "        self._camera.set_object_orientation_euler(orient)\n",
    "        image = self._render_image()\n",
    "        return image\n",
    "\n",
    "    def get_view_batch(self, orient_list: list[tuple[float, float, float]]):\n",
    "        image_list = []\n",
    "        for orient in orient_list:\n",
    "            self._camera.set_object_orientation_euler(orient)\n",
    "            image = self._render_image()\n",
    "            image_list.append(image)\n",
    "        return image_list\n",
    "\n",
    "    def get_view_cropped(self, orient: tuple[float, float, float], margin_factor: float = 1.2) -> np.ndarray:\n",
    "        self._camera.set_object_orientation_euler(orient)\n",
    "        image = self._render_image()\n",
    "        mask = ImageManipulator.calc_mask(image, bg_value=0, orig_dims=False)\n",
    "        x1, y1, x2, y2 = ImageManipulator.calc_bboxes(mask, margin_factor)\n",
    "        cropped = image[x1:x2, y1:y2, :]\n",
    "        return cropped"
   ]
  },
  {
   "cell_type": "code",
   "execution_count": 10,
   "metadata": {},
   "outputs": [
    {
     "data": {
      "text/plain": [
       "32"
      ]
     },
     "execution_count": 10,
     "metadata": {},
     "output_type": "execute_result"
    }
   ],
   "source": [
    "viewer = ViewProvider(world_file=\"data/world_mug_sim.xml\", render_depth=False, object_position=(0.3, 0.3, -1))\n",
    "\n",
    "img = viewer.get_view([0, 0, 0])\n",
    "cv.imshow(\"img\", img)\n",
    "cv.waitKey(0)\n",
    "img = viewer.get_view([0, 0, 1])\n",
    "cv.imshow(\"img\", img)\n",
    "cv.waitKey(0)\n",
    "img = viewer.get_view([0, 0, 2])\n",
    "cv.imshow(\"img\", img)\n",
    "cv.waitKey(0)"
   ]
  },
  {
   "cell_type": "code",
   "execution_count": 5,
   "metadata": {},
   "outputs": [
    {
     "data": {
      "text/plain": [
       "<__main__.ViewProvider at 0x7f4416ca9750>"
      ]
     },
     "execution_count": 5,
     "metadata": {},
     "output_type": "execute_result"
    }
   ],
   "source": [
    "viewer"
   ]
  },
  {
   "cell_type": "code",
   "execution_count": 6,
   "metadata": {},
   "outputs": [],
   "source": [
    "viewer = ViewProvider(world_file=\"data/world_mug_sim.xml\")\n",
    "\n",
    "random_orientations = np.random.uniform(0, 2 * np.pi, size=(1000, 3))\n",
    "for orient in random_orientations:\n",
    "    im = viewer.get_view(orient)\n",
    "    \"\"\" cv.imshow(\"img\", im)\n",
    "    cv.waitKey(0) \"\"\""
   ]
  },
  {
   "cell_type": "code",
   "execution_count": 7,
   "metadata": {},
   "outputs": [],
   "source": [
    "cv.destroyAllWindows()"
   ]
  }
 ],
 "metadata": {
  "kernelspec": {
   "display_name": "robo-proj",
   "language": "python",
   "name": "python3"
  },
  "language_info": {
   "codemirror_mode": {
    "name": "ipython",
    "version": 3
   },
   "file_extension": ".py",
   "mimetype": "text/x-python",
   "name": "python",
   "nbconvert_exporter": "python",
   "pygments_lexer": "ipython3",
   "version": "3.11.7"
  }
 },
 "nbformat": 4,
 "nbformat_minor": 2
}
